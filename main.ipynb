{
 "cells": [
  {
   "cell_type": "code",
   "execution_count": 1,
   "metadata": {},
   "outputs": [
    {
     "name": "stdout",
     "output_type": "stream",
     "text": [
      "\n",
      "===================================BUG REPORT===================================\n",
      "Welcome to bitsandbytes. For bug reports, please run\n",
      "\n",
      "python -m bitsandbytes\n",
      "\n",
      " and submit this information together with your error trace to: https://github.com/TimDettmers/bitsandbytes/issues\n",
      "================================================================================\n",
      "bin /home/intern/anaconda3/lib/python3.10/site-packages/bitsandbytes/libbitsandbytes_cuda117.so\n",
      "CUDA SETUP: CUDA runtime path found: /home/intern/anaconda3/lib/libcudart.so.11.0\n",
      "CUDA SETUP: Highest compute capability among GPUs detected: 8.6\n",
      "CUDA SETUP: Detected CUDA version 117\n",
      "CUDA SETUP: Loading binary /home/intern/anaconda3/lib/python3.10/site-packages/bitsandbytes/libbitsandbytes_cuda117.so...\n"
     ]
    },
    {
     "name": "stderr",
     "output_type": "stream",
     "text": [
      "/home/intern/anaconda3/lib/python3.10/site-packages/bitsandbytes/cuda_setup/main.py:149: UserWarning: Found duplicate ['libcudart.so', 'libcudart.so.11.0', 'libcudart.so.12.0'] files: {PosixPath('/home/intern/anaconda3/lib/libcudart.so.11.0'), PosixPath('/home/intern/anaconda3/lib/libcudart.so')}.. We'll flip a coin and try one of these, in order to fail forward.\n",
      "Either way, this might cause trouble in the future:\n",
      "If you get `CUDA error: invalid device function` errors, the above might be the cause and the solution is to make sure only one ['libcudart.so', 'libcudart.so.11.0', 'libcudart.so.12.0'] in the paths that we search based on your env.\n",
      "  warn(msg)\n"
     ]
    }
   ],
   "source": [
    "from transformers import pipeline, AutoTokenizer, AutoModelForCausalLM\n",
    "import torch\n",
    "from tqdm import tqdm\n",
    "import pandas as pd\n",
    "import time\n",
    "import wandb\n",
    "tqdm.pandas()\n",
    "from datasets import load_dataset\n",
    "\n",
    "# 使用lora进行微调\n",
    "from peft import LoraConfig, PeftConfig, PeftModel, get_peft_model, prepare_model_for_int8_training\n",
    "\n",
    "# trl-transformer reinforcement learning\n",
    "from trl import PPOTrainer, PPOConfig, AutoModelForCausalLMWithValueHead\n",
    "from trl.core import LengthSampler"
   ]
  },
  {
   "cell_type": "code",
   "execution_count": 2,
   "metadata": {},
   "outputs": [
    {
     "name": "stderr",
     "output_type": "stream",
     "text": [
      "/home/intern/anaconda3/lib/python3.10/site-packages/trl/trainer/ppo_config.py:112: UserWarning: Note that using `forward_batch_size` is deprecated, use `mini_batch_size` instead. By setting it you overwrite `mini_batch_size` which affects both the batch size during forward passes and also the mini batch size for PPO optimization.\n",
      "  warnings.warn(\n",
      "Failed to detect the name of this notebook, you can set it manually with the WANDB_NOTEBOOK_NAME environment variable to enable code saving.\n",
      "\u001b[34m\u001b[1mwandb\u001b[0m: Currently logged in as: \u001b[33mgaowenxuan101\u001b[0m. Use \u001b[1m`wandb login --relogin`\u001b[0m to force relogin\n"
     ]
    },
    {
     "data": {
      "text/html": [
       "wandb version 0.15.4 is available!  To upgrade, please run:\n",
       " $ pip install wandb --upgrade"
      ],
      "text/plain": [
       "<IPython.core.display.HTML object>"
      ]
     },
     "metadata": {},
     "output_type": "display_data"
    },
    {
     "data": {
      "text/html": [
       "Tracking run with wandb version 0.15.3"
      ],
      "text/plain": [
       "<IPython.core.display.HTML object>"
      ]
     },
     "metadata": {},
     "output_type": "display_data"
    },
    {
     "data": {
      "text/html": [
       "Run data is saved locally in <code>/data/wenxuan.gao/work2/wandb/run-20230620_150516-tyl9lt4t</code>"
      ],
      "text/plain": [
       "<IPython.core.display.HTML object>"
      ]
     },
     "metadata": {},
     "output_type": "display_data"
    },
    {
     "data": {
      "text/html": [
       "Syncing run <strong><a href='https://wandb.ai/gaowenxuan101/gpt2-test/runs/tyl9lt4t' target=\"_blank\">run-imdb</a></strong> to <a href='https://wandb.ai/gaowenxuan101/gpt2-test' target=\"_blank\">Weights & Biases</a> (<a href='https://wandb.me/run' target=\"_blank\">docs</a>)<br/>"
      ],
      "text/plain": [
       "<IPython.core.display.HTML object>"
      ]
     },
     "metadata": {},
     "output_type": "display_data"
    },
    {
     "data": {
      "text/html": [
       " View project at <a href='https://wandb.ai/gaowenxuan101/gpt2-test' target=\"_blank\">https://wandb.ai/gaowenxuan101/gpt2-test</a>"
      ],
      "text/plain": [
       "<IPython.core.display.HTML object>"
      ]
     },
     "metadata": {},
     "output_type": "display_data"
    },
    {
     "data": {
      "text/html": [
       " View run at <a href='https://wandb.ai/gaowenxuan101/gpt2-test/runs/tyl9lt4t' target=\"_blank\">https://wandb.ai/gaowenxuan101/gpt2-test/runs/tyl9lt4t</a>"
      ],
      "text/plain": [
       "<IPython.core.display.HTML object>"
      ]
     },
     "metadata": {},
     "output_type": "display_data"
    }
   ],
   "source": [
    "# configuration\n",
    "config = PPOConfig(\n",
    "    model_name=\"lvwerra/gpt2-imdb\", # Huggingface中利用imdb数据集对gpt2微调的模型 相当于SFT步骤\n",
    "    learning_rate=1.4e-5, \n",
    "    steps=20000,\n",
    "    batch_size=256,\n",
    "    forward_batch_size=16,\n",
    "    ppo_epochs=4,\n",
    "    init_kl_coef=0.2,\n",
    "    target=6, # Target KL value for adaptive KL control\n",
    "    log_with=\"wandb\", # 使用wandb监视训练过程，也可以使用tensorboard\n",
    ")\n",
    "#    log_with=\"tensorboard\", # 使用wandb监视训练过程，也可以使用tensorboard\n",
    "#    accelerator_kwargs={\"logging_dir\": \"./tb_logger\"} # 使用tensorboard加上这一行\n",
    "\n",
    "wandb.init(name='run-imdb', project='gpt2-test', config=config, )\n",
    "\n",
    "device = torch.device(\"cuda\" if torch.cuda.is_available() else \"cpu\")\n",
    "pipe_device = 0 if torch.cuda.is_available() else -1"
   ]
  },
  {
   "cell_type": "code",
   "execution_count": 3,
   "metadata": {},
   "outputs": [
    {
     "name": "stderr",
     "output_type": "stream",
     "text": [
      "/home/intern/anaconda3/lib/python3.10/site-packages/peft/tuners/lora.py:240: UserWarning: fan_in_fan_out is set to False but the target module is `Conv1D`. Setting fan_in_fan_out to True.\n",
      "  warnings.warn(\n"
     ]
    }
   ],
   "source": [
    "# step 1: 加载模型\n",
    "\n",
    "pretrained_model = AutoModelForCausalLM.from_pretrained(config.model_name)\n",
    "\n",
    "tokenizer = AutoTokenizer.from_pretrained(config.model_name)\n",
    "tokenizer.pad_token = tokenizer.eos_token # 设置pad_token和eos_token相同\n",
    "\n",
    "# 设置目标模块名称\n",
    "target_modules = None\n",
    "target_modules = [\"c_attn\"]  # workaround to use 8bit training on this model\n",
    "\n",
    "# 设置lora配置参数\n",
    "lora_config = LoraConfig(\n",
    "    r=16,\n",
    "    lora_alpha=32,\n",
    "    target_modules=target_modules,  # handled automatically by peft\n",
    "    lora_dropout=0.05,\n",
    "    bias=\"none\",\n",
    "    task_type=\"CAUSAL_LM\",\n",
    ")\n",
    "# step 2: 设置8bit训练\n",
    "pretrained_model = prepare_model_for_int8_training(pretrained_model)\n",
    "\n",
    "# step 3: 设置lora模型。做instruction learning，到这里就好了。如果要做RLHF，还要做第四步。\n",
    "pretrained_model = get_peft_model(pretrained_model, lora_config)\n",
    "\n",
    "# step 4: 将lora模型加载入trl模型，加上value head。\n",
    "model = AutoModelForCausalLMWithValueHead.from_pretrained(pretrained_model)\n",
    "\n",
    "# 做必要的设置，梯度检查。\n",
    "model.gradient_checkpointing_disable = model.pretrained_model.gradient_checkpointing_disable\n",
    "model.gradient_checkpointing_enable = model.pretrained_model.gradient_checkpointing_enable"
   ]
  },
  {
   "cell_type": "code",
   "execution_count": 4,
   "metadata": {},
   "outputs": [
    {
     "data": {
      "text/plain": [
       "AutoModelForCausalLMWithValueHead(\n",
       "  (pretrained_model): GPT2LMHeadModel(\n",
       "    (transformer): GPT2Model(\n",
       "      (wte): Embedding(50257, 768)\n",
       "      (wpe): Embedding(1024, 768)\n",
       "      (drop): Dropout(p=0.1, inplace=False)\n",
       "      (h): ModuleList(\n",
       "        (0-11): 12 x GPT2Block(\n",
       "          (ln_1): LayerNorm((768,), eps=1e-05, elementwise_affine=True)\n",
       "          (attn): GPT2Attention(\n",
       "            (c_attn): Conv1D()\n",
       "            (c_proj): Conv1D()\n",
       "            (attn_dropout): Dropout(p=0.1, inplace=False)\n",
       "            (resid_dropout): Dropout(p=0.1, inplace=False)\n",
       "          )\n",
       "          (ln_2): LayerNorm((768,), eps=1e-05, elementwise_affine=True)\n",
       "          (mlp): GPT2MLP(\n",
       "            (c_fc): Conv1D()\n",
       "            (c_proj): Conv1D()\n",
       "            (act): NewGELUActivation()\n",
       "            (dropout): Dropout(p=0.1, inplace=False)\n",
       "          )\n",
       "        )\n",
       "      )\n",
       "      (ln_f): LayerNorm((768,), eps=1e-05, elementwise_affine=True)\n",
       "    )\n",
       "    (lm_head): Linear(in_features=768, out_features=50257, bias=False)\n",
       "  )\n",
       "  (v_head): ValueHead(\n",
       "    (dropout): Dropout(p=0.1, inplace=False)\n",
       "    (summary): Linear(in_features=768, out_features=1, bias=True)\n",
       "    (flatten): Flatten(start_dim=1, end_dim=-1)\n",
       "  )\n",
       ")"
      ]
     },
     "execution_count": 4,
     "metadata": {},
     "output_type": "execute_result"
    }
   ],
   "source": [
    "# 加载了两次模型：第一次加载的模型用来进行强化学习，调整参数；第二次加载的模型作为参考模型。\n",
    "# 计算两个模型的KL散度，用来作为PPO训练的额外奖励信号，来保证我们的模型不会太偏离原始模型（即防止灾难性遗忘情况的发生）。\n",
    "ref_model = AutoModelForCausalLMWithValueHead.from_pretrained(config.model_name)\n",
    "\n",
    "wandb.watch(model, log='all') #观察模型\n",
    "\n",
    "model.to(device)\n",
    "ref_model.to(device)"
   ]
  },
  {
   "cell_type": "code",
   "execution_count": 5,
   "metadata": {},
   "outputs": [
    {
     "name": "stdout",
     "output_type": "stream",
     "text": [
      "trainable params: 590593 || all params: 125030401 || trainable%: 0.47235951838625234\n"
     ]
    }
   ],
   "source": [
    "def print_trainable_parameters(model):\n",
    "    \"\"\"\n",
    "    Prints the number of trainable parameters in the model.\n",
    "    \"\"\"\n",
    "    trainable_params = 0\n",
    "    all_param = 0\n",
    "    for _, param in model.named_parameters():\n",
    "        all_param += param.numel()\n",
    "        if param.requires_grad:\n",
    "            trainable_params += param.numel()\n",
    "    print(\n",
    "        f\"trainable params: {trainable_params} || all params: {all_param} || trainable%: {100 * trainable_params / all_param}\"\n",
    "    )\n",
    "    \n",
    "print_trainable_parameters(model)"
   ]
  },
  {
   "cell_type": "code",
   "execution_count": 6,
   "metadata": {},
   "outputs": [
    {
     "name": "stderr",
     "output_type": "stream",
     "text": [
      "Using the latest cached version of the module from /home/intern/.cache/huggingface/modules/datasets_modules/datasets/imdb/d613c88cf8fa3bab83b4ded3713f1f74830d1100e171db75bbddb80b3345c9c0 (last modified on Tue Jun 20 11:59:49 2023) since it couldn't be found locally at imdb., or remotely on the Hugging Face Hub.\n",
      "Found cached dataset imdb (/home/intern/.cache/huggingface/datasets/imdb/plain_text/1.0.0/d613c88cf8fa3bab83b4ded3713f1f74830d1100e171db75bbddb80b3345c9c0)\n",
      "Loading cached processed dataset at /home/intern/.cache/huggingface/datasets/imdb/plain_text/1.0.0/d613c88cf8fa3bab83b4ded3713f1f74830d1100e171db75bbddb80b3345c9c0/cache-cd96d6dda9f74d63.arrow\n",
      "Loading cached processed dataset at /home/intern/.cache/huggingface/datasets/imdb/plain_text/1.0.0/d613c88cf8fa3bab83b4ded3713f1f74830d1100e171db75bbddb80b3345c9c0/cache-f92685a40095315f.arrow\n"
     ]
    }
   ],
   "source": [
    "# 加载IMDB数据集 \n",
    "def build_dataset(tokenizer, dataset_name='imdb', input_min_text_length=2, input_max_text_length=8):\n",
    "    \"\"\" \n",
    "    Args:\n",
    "        dataset_name (`str`): \n",
    "            数据集名称\n",
    "    \n",
    "    Returns:\n",
    "        dataloader (`torch.utils.data.DataLoader`):\n",
    "            返回dataloader\n",
    "    \"\"\"\n",
    "    # 加载IMDB数据集，从huggingface的hub上下载数据，当然也可以下载其他数据\n",
    "    ds = load_dataset(dataset_name, split='train') # 加载后是DataFrame格式\n",
    "    ds = ds.rename_columns({'text': 'review'})\n",
    "    ds = ds.filter(lambda x: len(x[\"review\"])>200, batched=False) # filter指len(x[\"review\"])>200都过滤掉\n",
    "\n",
    "    # 对batch_size进行裁剪，缩小到2到8之间。（2和8是函数中的默认参数）\n",
    "    # 在tokenize之前，随机截断输入数据作为待续写的prompt，即query的token长度控制在2到8之间\n",
    "    input_size = LengthSampler(input_min_text_length, input_max_text_length)\n",
    "    def tokenize(sample):\n",
    "        sample[\"input_ids\"] = tokenizer.encode(sample[\"review\"])[:input_size()] # 后面设置batched=False,每次input_size都不同\n",
    "        sample[\"query\"] = tokenizer.decode(sample[\"input_ids\"])\n",
    "        return sample\n",
    "\n",
    "    ds = ds.map(tokenize, batched=False)\n",
    "    # 将数值型变量设置为torch的tensor格式，并且输出所有的列数据，在RL截断需要使用！一定要注意设置output_all_columns=True\n",
    "    ds.set_format(type='torch', columns=[\"input_ids\", \"label\"], output_all_columns=True)\n",
    "    return ds\n",
    "\n",
    "dataset = build_dataset(tokenizer)\n",
    "def collator(data):\n",
    "    return dict((key, [d[key] for d in data]) for key in data[0])\n"
   ]
  },
  {
   "cell_type": "code",
   "execution_count": 7,
   "metadata": {},
   "outputs": [
    {
     "name": "stderr",
     "output_type": "stream",
     "text": [
      "/home/intern/anaconda3/lib/python3.10/site-packages/transformers/pipelines/text_classification.py:104: UserWarning: `return_all_scores` is now deprecated,  if want a similar funcionality use `top_k=None` instead of `return_all_scores=True` or `top_k=1` instead of `return_all_scores=False`.\n",
      "  warnings.warn(\n"
     ]
    },
    {
     "data": {
      "text/plain": [
       "[[{'label': 'NEGATIVE', 'score': 2.3350486755371094},\n",
       "  {'label': 'POSITIVE', 'score': -2.726576566696167}]]"
      ]
     },
     "execution_count": 7,
     "metadata": {},
     "output_type": "execute_result"
    }
   ],
   "source": [
    "# load一个pipeline影评分类器\n",
    "sent_kwargs = {\n",
    "    \"return_all_scores\": True, # 文本生成的参数，这里设置为True，表示生成文本时返回得分\n",
    "    \"function_to_apply\": \"none\", \n",
    "    \"batch_size\": config.forward_batch_size \n",
    "}\n",
    "\n",
    "# 加载在IMDB数据集上微调过的BERT分类器来得到拼接后文本的得分\n",
    "\n",
    "\n",
    "sentiment_pipe = pipeline(\"sentiment-analysis\", model=\"lvwerra/distilbert-imdb\", device=pipe_device)\n",
    "\n",
    "# eg:\n",
    "text = 'this movie was really bad!!'\n",
    "sentiment_pipe(text, **sent_kwargs)"
   ]
  },
  {
   "cell_type": "code",
   "execution_count": 24,
   "metadata": {},
   "outputs": [
    {
     "name": "stderr",
     "output_type": "stream",
     "text": [
      "/home/intern/anaconda3/lib/python3.10/site-packages/transformers/pipelines/base.py:1070: UserWarning: You seem to be using the pipelines sequentially on GPU. In order to maximize efficiency please use a dataset\n",
      "  warnings.warn(\n"
     ]
    },
    {
     "data": {
      "text/plain": [
       "tensor(-2.7266)"
      ]
     },
     "execution_count": 24,
     "metadata": {},
     "output_type": "execute_result"
    }
   ],
   "source": [
    "pipe_outputs = sentiment_pipe(text, **sent_kwargs)\n",
    "[torch.tensor(output[1][\"score\"]) for output in pipe_outputs]\n",
    "#torch.tensor([output[1][\"score\"] for output in pipe_outputs])"
   ]
  },
  {
   "cell_type": "code",
   "execution_count": 15,
   "metadata": {},
   "outputs": [
    {
     "data": {
      "text/html": [
       "Finishing last run (ID:qbf3l53j) before initializing another..."
      ],
      "text/plain": [
       "<IPython.core.display.HTML object>"
      ]
     },
     "metadata": {},
     "output_type": "display_data"
    },
    {
     "data": {
      "text/html": [
       "Waiting for W&B process to finish... <strong style=\"color:green\">(success).</strong>"
      ],
      "text/plain": [
       "<IPython.core.display.HTML object>"
      ]
     },
     "metadata": {},
     "output_type": "display_data"
    },
    {
     "data": {
      "text/html": [
       " View run <strong style=\"color:#cdcd00\">earthy-pine-2</strong> at: <a href='https://wandb.ai/gaowenxuan101/trl/runs/qbf3l53j' target=\"_blank\">https://wandb.ai/gaowenxuan101/trl/runs/qbf3l53j</a><br/>Synced 6 W&B file(s), 0 media file(s), 0 artifact file(s) and 0 other file(s)"
      ],
      "text/plain": [
       "<IPython.core.display.HTML object>"
      ]
     },
     "metadata": {},
     "output_type": "display_data"
    },
    {
     "data": {
      "text/html": [
       "Find logs at: <code>./wandb/run-20230620_150724-qbf3l53j/logs</code>"
      ],
      "text/plain": [
       "<IPython.core.display.HTML object>"
      ]
     },
     "metadata": {},
     "output_type": "display_data"
    },
    {
     "data": {
      "text/html": [
       "Successfully finished last run (ID:qbf3l53j). Initializing new run:<br/>"
      ],
      "text/plain": [
       "<IPython.core.display.HTML object>"
      ]
     },
     "metadata": {},
     "output_type": "display_data"
    },
    {
     "data": {
      "application/vnd.jupyter.widget-view+json": {
       "model_id": "92d24321d58a4452a92b4e7af53123bb",
       "version_major": 2,
       "version_minor": 0
      },
      "text/plain": [
       "VBox(children=(Label(value='Waiting for wandb.init()...\\r'), FloatProgress(value=0.016672908149970075, max=1.0…"
      ]
     },
     "metadata": {},
     "output_type": "display_data"
    },
    {
     "data": {
      "text/html": [
       "wandb version 0.15.4 is available!  To upgrade, please run:\n",
       " $ pip install wandb --upgrade"
      ],
      "text/plain": [
       "<IPython.core.display.HTML object>"
      ]
     },
     "metadata": {},
     "output_type": "display_data"
    },
    {
     "data": {
      "text/html": [
       "Tracking run with wandb version 0.15.3"
      ],
      "text/plain": [
       "<IPython.core.display.HTML object>"
      ]
     },
     "metadata": {},
     "output_type": "display_data"
    },
    {
     "data": {
      "text/html": [
       "Run data is saved locally in <code>/data/wenxuan.gao/work2/wandb/run-20230620_152217-6xro9bko</code>"
      ],
      "text/plain": [
       "<IPython.core.display.HTML object>"
      ]
     },
     "metadata": {},
     "output_type": "display_data"
    },
    {
     "data": {
      "text/html": [
       "Syncing run <strong><a href='https://wandb.ai/gaowenxuan101/trl/runs/6xro9bko' target=\"_blank\">dulcet-armadillo-3</a></strong> to <a href='https://wandb.ai/gaowenxuan101/trl' target=\"_blank\">Weights & Biases</a> (<a href='https://wandb.me/run' target=\"_blank\">docs</a>)<br/>"
      ],
      "text/plain": [
       "<IPython.core.display.HTML object>"
      ]
     },
     "metadata": {},
     "output_type": "display_data"
    },
    {
     "data": {
      "text/html": [
       " View project at <a href='https://wandb.ai/gaowenxuan101/trl' target=\"_blank\">https://wandb.ai/gaowenxuan101/trl</a>"
      ],
      "text/plain": [
       "<IPython.core.display.HTML object>"
      ]
     },
     "metadata": {},
     "output_type": "display_data"
    },
    {
     "data": {
      "text/html": [
       " View run at <a href='https://wandb.ai/gaowenxuan101/trl/runs/6xro9bko' target=\"_blank\">https://wandb.ai/gaowenxuan101/trl/runs/6xro9bko</a>"
      ],
      "text/plain": [
       "<IPython.core.display.HTML object>"
      ]
     },
     "metadata": {},
     "output_type": "display_data"
    }
   ],
   "source": [
    "# 配置PPO强化学习训练对象\n",
    "ppo_trainer = PPOTrainer(config, model, ref_model=ref_model, \n",
    "                         tokenizer=tokenizer, dataset=dataset, \n",
    "                         data_collator=collator)\n",
    "\n",
    "# 根据query生成response，这里的配置使用top_p和随机采样来生成文本。\n",
    "generation_kwargs = {\n",
    "    \"min_length\":-1,\n",
    "    \"top_k\": 0.0,\n",
    "    \"top_p\": 1.0,\n",
    "    \"do_sample\": True,\n",
    "    \"pad_token_id\": tokenizer.eos_token_id\n",
    "}\n",
    "\n",
    "if ppo_trainer.accelerator.num_processes == 1:\n",
    "    device = 0 if torch.cuda.is_available() else \"cpu\" # to avoid a `pipeline` bug"
   ]
  },
  {
   "attachments": {},
   "cell_type": "markdown",
   "metadata": {},
   "source": [
    "训练循环主要包含三个步骤：\n",
    "\n",
    "- 根据query，基于GPT2生成response\n",
    "- 拼接query和response，使用BERT来得到拼接后文本的得分\n",
    "- 基于(query, response, reward)三元组，基于PPO算法来优化模型"
   ]
  },
  {
   "cell_type": "code",
   "execution_count": 26,
   "metadata": {},
   "outputs": [
    {
     "name": "stderr",
     "output_type": "stream",
     "text": [
      "0it [00:00, ?it/s]"
     ]
    },
    {
     "name": "stderr",
     "output_type": "stream",
     "text": [
      "/home/intern/anaconda3/lib/python3.10/site-packages/transformers/pipelines/text_classification.py:104: UserWarning: `return_all_scores` is now deprecated,  if want a similar funcionality use `top_k=None` instead of `return_all_scores=True` or `top_k=1` instead of `return_all_scores=False`.\n",
      "  warnings.warn(\n",
      "/home/intern/anaconda3/lib/python3.10/site-packages/transformers/pipelines/base.py:1070: UserWarning: You seem to be using the pipelines sequentially on GPU. In order to maximize efficiency please use a dataset\n",
      "  warnings.warn(\n"
     ]
    },
    {
     "name": "stdout",
     "output_type": "stream",
     "text": [
      "[tensor(-0.8935), tensor(0.0518), tensor(2.9085), tensor(2.7588), tensor(1.9201), tensor(-0.1189), tensor(-0.2987), tensor(-1.6148), tensor(0.1520), tensor(0.4257), tensor(1.7670), tensor(1.5775), tensor(1.7510), tensor(-2.8840), tensor(0.6436), tensor(2.5403), tensor(-0.1962), tensor(0.5489), tensor(-0.7597), tensor(0.1947), tensor(-0.9156), tensor(0.7241), tensor(1.8682), tensor(1.0769), tensor(-1.9187), tensor(-0.4945), tensor(-1.4293), tensor(2.4175), tensor(1.9236), tensor(-1.3548), tensor(-2.0223), tensor(1.0798), tensor(1.8283), tensor(1.3926), tensor(-1.0926), tensor(-2.0928), tensor(2.2884), tensor(2.5798), tensor(0.7998), tensor(1.0777), tensor(-0.0826), tensor(0.5947), tensor(2.7151), tensor(-0.4463), tensor(2.2430), tensor(-1.7067), tensor(1.2143), tensor(2.2621), tensor(0.6188), tensor(2.3022), tensor(-0.4652), tensor(2.3229), tensor(0.5158), tensor(-1.0989), tensor(-1.8274), tensor(0.9576), tensor(-1.2952), tensor(2.5903), tensor(-0.1840), tensor(1.6222), tensor(0.6544), tensor(0.3783), tensor(1.8575), tensor(-0.2310), tensor(-0.0311), tensor(1.0789), tensor(-1.7380), tensor(-1.4632), tensor(2.1830), tensor(2.7900), tensor(1.8386), tensor(1.3185), tensor(2.7568), tensor(-0.5555), tensor(1.9256), tensor(-0.0186), tensor(1.7218), tensor(0.8547), tensor(0.6642), tensor(2.0242), tensor(2.3716), tensor(2.1083), tensor(2.6783), tensor(2.7993), tensor(0.7213), tensor(-2.3689), tensor(1.6375), tensor(0.4386), tensor(2.3568), tensor(-0.8723), tensor(-2.4867), tensor(1.9003), tensor(-1.7958), tensor(2.1552), tensor(1.4123), tensor(1.7638), tensor(0.5542), tensor(0.8542), tensor(2.0019), tensor(-1.7195), tensor(-1.5516), tensor(2.0737), tensor(0.8234), tensor(-0.2837), tensor(-2.9656), tensor(0.5640), tensor(-0.4442), tensor(-1.0281), tensor(1.8487), tensor(1.1288), tensor(1.9049), tensor(2.8195), tensor(0.3913), tensor(2.1660), tensor(0.8099), tensor(1.6733), tensor(-0.4097), tensor(0.7376), tensor(-1.2182), tensor(-0.7629), tensor(-0.9149), tensor(-2.0478), tensor(0.1801), tensor(-1.8038), tensor(1.2504), tensor(0.4391), tensor(0.3168), tensor(1.8923), tensor(1.5491), tensor(-2.8362), tensor(0.6302), tensor(1.6225), tensor(-0.3591), tensor(-2.2511), tensor(-1.1750), tensor(0.2766), tensor(-2.7955), tensor(0.7715), tensor(-1.7460), tensor(1.0288), tensor(2.5366), tensor(0.5009), tensor(1.4736), tensor(0.2424), tensor(-0.4588), tensor(1.7739), tensor(1.7972), tensor(1.6331), tensor(0.5020), tensor(0.9580), tensor(1.3903), tensor(2.4633), tensor(1.3712), tensor(-1.0439), tensor(0.9010), tensor(0.2144), tensor(-0.7433), tensor(-1.8772), tensor(-0.6105), tensor(-0.8278), tensor(-0.3900), tensor(0.7986), tensor(2.4819), tensor(1.8650), tensor(-1.7815), tensor(-0.4019), tensor(-0.1958), tensor(2.8240), tensor(-0.6707), tensor(0.5224), tensor(-0.8304), tensor(-1.1440), tensor(-2.5834), tensor(-0.9559), tensor(-1.0522), tensor(-0.5576), tensor(-0.3532), tensor(-2.6354), tensor(-2.0283), tensor(0.3438), tensor(-0.3848), tensor(0.4152), tensor(-0.2421), tensor(-2.9457), tensor(-2.0497), tensor(1.5849), tensor(0.2216), tensor(-2.9256), tensor(-0.7759), tensor(-1.6822), tensor(0.1544), tensor(-0.2913), tensor(-0.8764), tensor(-1.2193), tensor(2.1315), tensor(1.6867), tensor(0.4641), tensor(0.2939), tensor(-1.1964), tensor(-0.9546), tensor(0.7080), tensor(-1.6221), tensor(1.1142), tensor(2.8327), tensor(1.9422), tensor(-1.8614), tensor(-1.3145), tensor(2.6266), tensor(0.3907), tensor(1.9558), tensor(2.4650), tensor(-2.6657), tensor(0.3065), tensor(1.0953), tensor(-0.8961), tensor(-0.7943), tensor(0.8997), tensor(-0.7848), tensor(-1.6923), tensor(-1.3862), tensor(-2.4511), tensor(2.4389), tensor(2.3690), tensor(-0.9865), tensor(0.0574), tensor(-0.8035), tensor(-0.0628), tensor(0.3141), tensor(1.1484), tensor(1.4733), tensor(1.8015), tensor(2.3874), tensor(1.5077), tensor(0.6114), tensor(2.6723), tensor(-0.1061), tensor(-2.6557), tensor(0.4491), tensor(2.3349), tensor(-1.5479), tensor(2.5029), tensor(2.7931), tensor(1.6959), tensor(0.1267), tensor(1.4073), tensor(-2.8780), tensor(2.8137), tensor(-2.3781), tensor(1.4472), tensor(-1.2827), tensor(-2.9707), tensor(-1.9496), tensor(2.1845), tensor(2.1731), tensor(2.5570), tensor(-2.6141)]\n"
     ]
    },
    {
     "name": "stderr",
     "output_type": "stream",
     "text": [
      "1it [02:15, 135.19s/it]"
     ]
    },
    {
     "name": "stdout",
     "output_type": "stream",
     "text": [
      "[tensor(-0.2435), tensor(1.0555), tensor(0.9231), tensor(1.5857), tensor(1.2387), tensor(-2.1317), tensor(-0.5956), tensor(0.1178), tensor(-2.2543), tensor(0.6694), tensor(-0.4683), tensor(-2.1079), tensor(1.2001), tensor(0.0794), tensor(2.6437), tensor(1.5276), tensor(-1.2377), tensor(0.1957), tensor(-2.8269), tensor(-0.8206), tensor(-0.8448), tensor(0.0493), tensor(1.9695), tensor(-0.6049), tensor(-0.9513), tensor(1.0887), tensor(0.9312), tensor(2.6901), tensor(-2.3310), tensor(1.5136), tensor(-0.0299), tensor(-1.7451), tensor(0.4410), tensor(-1.8486), tensor(1.5220), tensor(1.5010), tensor(-0.3027), tensor(0.8738), tensor(2.3072), tensor(1.9156), tensor(-0.3063), tensor(-0.7687), tensor(-1.3102), tensor(1.0039), tensor(0.0438), tensor(-0.8101), tensor(2.3237), tensor(2.6204), tensor(2.6550), tensor(-0.8812), tensor(0.1363), tensor(1.1081), tensor(0.0830), tensor(-0.0125), tensor(-1.9874), tensor(2.7879), tensor(2.6820), tensor(2.6530), tensor(1.9648), tensor(0.7160), tensor(-0.9871), tensor(2.0397), tensor(1.5714), tensor(-1.2825), tensor(0.3678), tensor(2.3498), tensor(-2.2732), tensor(1.4758), tensor(-1.0885), tensor(1.7520), tensor(-1.9429), tensor(1.7619), tensor(0.7220), tensor(1.2299), tensor(0.6779), tensor(-1.6540), tensor(2.0985), tensor(2.3052), tensor(0.0456), tensor(2.8029), tensor(2.0025), tensor(0.7438), tensor(-1.6009), tensor(1.8449), tensor(0.1028), tensor(1.7819), tensor(-0.1814), tensor(1.0896), tensor(-2.9168), tensor(-0.5131), tensor(-2.4433), tensor(1.7859), tensor(-2.8831), tensor(0.9883), tensor(0.0418), tensor(1.5622), tensor(0.1925), tensor(2.3741), tensor(1.7636), tensor(0.7176), tensor(0.8358), tensor(1.9792), tensor(1.3892), tensor(-2.6498), tensor(0.5805), tensor(1.6204), tensor(-1.3568), tensor(0.8968), tensor(-2.4859), tensor(-2.4387), tensor(-1.0022), tensor(1.7104), tensor(0.8497), tensor(1.9950), tensor(1.0157), tensor(-0.0189), tensor(-1.6287), tensor(1.0618), tensor(2.4831), tensor(-1.0607), tensor(2.5039), tensor(-1.9507), tensor(-0.8901), tensor(0.9688), tensor(-0.3660), tensor(2.6728), tensor(-0.5216), tensor(0.8102), tensor(-2.7200), tensor(1.3768), tensor(2.1093), tensor(0.5209), tensor(1.7668), tensor(0.6061), tensor(2.3973), tensor(1.2452), tensor(2.0075), tensor(-1.9362), tensor(0.9252), tensor(2.0716), tensor(-2.7653), tensor(2.1068), tensor(2.4157), tensor(1.8577), tensor(0.8202), tensor(1.4464), tensor(-1.7660), tensor(0.0926), tensor(1.7473), tensor(0.5499), tensor(1.4536), tensor(0.2874), tensor(0.9139), tensor(-2.5246), tensor(0.2439), tensor(-0.1899), tensor(-1.5287), tensor(2.6397), tensor(2.0789), tensor(1.4552), tensor(2.4529), tensor(0.7670), tensor(-1.1031), tensor(1.4410), tensor(1.4774), tensor(-2.5381), tensor(2.2040), tensor(-1.2214), tensor(-2.8642), tensor(-1.8841), tensor(1.4188), tensor(0.5755), tensor(1.1014), tensor(2.2200), tensor(-1.8843), tensor(1.2085), tensor(-1.4514), tensor(-2.1755), tensor(1.8699), tensor(0.6822), tensor(-0.0958), tensor(1.6080), tensor(1.8983), tensor(2.3306), tensor(2.0116), tensor(-1.7049), tensor(0.5773), tensor(2.2258), tensor(1.0605), tensor(1.7356), tensor(2.3408), tensor(1.6800), tensor(2.7031), tensor(0.9821), tensor(2.2210), tensor(-2.3957), tensor(-0.9592), tensor(-0.4719), tensor(-2.6896), tensor(1.3235), tensor(-2.6988), tensor(-1.8705), tensor(-0.9440), tensor(1.8720), tensor(1.7919), tensor(2.5864), tensor(-1.4598), tensor(-0.1938), tensor(0.3223), tensor(-1.0435), tensor(0.0373), tensor(-1.1877), tensor(1.2832), tensor(0.8785), tensor(2.1979), tensor(-0.0385), tensor(-1.1504), tensor(-0.3944), tensor(1.0358), tensor(-2.6966), tensor(-2.5685), tensor(1.7062), tensor(-0.2205), tensor(1.2376), tensor(1.9791), tensor(-0.0189), tensor(0.4263), tensor(2.1347), tensor(-0.1961), tensor(-0.5096), tensor(-0.4179), tensor(2.8332), tensor(-0.9857), tensor(2.2704), tensor(1.9671), tensor(0.3947), tensor(0.6351), tensor(2.0531), tensor(1.7720), tensor(-0.2232), tensor(-1.9596), tensor(2.3621), tensor(0.9831), tensor(1.1481), tensor(-0.8160), tensor(2.0262), tensor(-0.3142), tensor(2.5658), tensor(2.3982), tensor(0.4398), tensor(2.6937), tensor(0.8981), tensor(2.2077), tensor(1.7355), tensor(0.7960), tensor(-0.0163)]\n"
     ]
    },
    {
     "name": "stderr",
     "output_type": "stream",
     "text": [
      "2it [04:20, 129.41s/it]"
     ]
    },
    {
     "name": "stdout",
     "output_type": "stream",
     "text": [
      "[tensor(0.5347), tensor(-0.1433), tensor(-1.4278), tensor(-1.3721), tensor(0.2312), tensor(0.1329), tensor(-1.7217), tensor(1.4043), tensor(-2.1096), tensor(-2.0424), tensor(1.6855), tensor(1.6892), tensor(2.5018), tensor(1.7231), tensor(0.3737), tensor(2.7497), tensor(1.3313), tensor(0.2871), tensor(1.0046), tensor(1.6100), tensor(0.1113), tensor(1.2892), tensor(0.8390), tensor(1.7330), tensor(2.7637), tensor(-0.6901), tensor(1.5507), tensor(1.7818), tensor(-1.3273), tensor(1.4197), tensor(-1.9305), tensor(-0.8407), tensor(-1.3969), tensor(2.3990), tensor(-0.7700), tensor(2.8349), tensor(2.5209), tensor(-2.6038), tensor(1.8039), tensor(2.8231), tensor(0.4382), tensor(1.5592), tensor(2.1722), tensor(1.9899), tensor(-2.8642), tensor(-1.7041), tensor(-1.0819), tensor(-0.7201), tensor(0.5813), tensor(1.5605), tensor(0.7197), tensor(0.8249), tensor(2.6677), tensor(0.1214), tensor(0.0649), tensor(0.0440), tensor(2.6343), tensor(0.1454), tensor(0.0905), tensor(-0.7685), tensor(1.2594), tensor(0.4227), tensor(0.6983), tensor(0.3406), tensor(0.6407), tensor(-1.2297), tensor(0.6207), tensor(-0.5914), tensor(0.4352), tensor(0.8825), tensor(-1.9981), tensor(-1.4010), tensor(-2.1783), tensor(0.6878), tensor(-0.2154), tensor(0.0464), tensor(1.4520), tensor(2.3076), tensor(-0.0056), tensor(-0.3046), tensor(1.8866), tensor(0.3229), tensor(1.1093), tensor(1.9614), tensor(-0.9819), tensor(2.7520), tensor(2.7274), tensor(0.6744), tensor(-2.1444), tensor(-0.1798), tensor(1.8948), tensor(0.9174), tensor(0.8111), tensor(-1.3057), tensor(1.3823), tensor(1.5065), tensor(-2.2047), tensor(0.9129), tensor(1.7843), tensor(1.0837), tensor(-0.0372), tensor(2.3482), tensor(1.5104), tensor(1.1735), tensor(2.3751), tensor(0.8238), tensor(0.3816), tensor(0.8768), tensor(0.6810), tensor(1.1505), tensor(1.1523), tensor(2.7356), tensor(-3.0237), tensor(1.5864), tensor(-0.0272), tensor(0.9651), tensor(1.0027), tensor(2.1595), tensor(-0.2056), tensor(-0.8154), tensor(-0.9853), tensor(2.7853), tensor(1.6731), tensor(-0.2350), tensor(0.7450), tensor(0.3638), tensor(2.2655), tensor(2.2575), tensor(2.1954), tensor(0.3200), tensor(2.1587), tensor(1.0535), tensor(-1.0707), tensor(2.5463), tensor(1.8543), tensor(1.7235), tensor(-0.7509), tensor(-1.3198), tensor(2.5311), tensor(2.7875), tensor(-1.9762), tensor(2.5727), tensor(0.2285), tensor(-0.5598), tensor(-0.6505), tensor(2.3919), tensor(2.7441), tensor(0.7493), tensor(-1.7880), tensor(1.9763), tensor(1.6531), tensor(0.6463), tensor(1.1818), tensor(1.8730), tensor(-0.4902), tensor(2.0471), tensor(0.2030), tensor(0.9778), tensor(1.9110), tensor(-1.0852), tensor(-0.9214), tensor(-2.6228), tensor(2.7865), tensor(1.4145), tensor(0.4694), tensor(1.7440), tensor(0.6276), tensor(0.4515), tensor(2.2395), tensor(0.2388), tensor(0.2076), tensor(-2.3844), tensor(-1.6434), tensor(2.6017), tensor(-0.5645), tensor(0.7248), tensor(-1.6222), tensor(2.2333), tensor(2.1355), tensor(2.3951), tensor(1.5555), tensor(0.1963), tensor(2.8195), tensor(0.9919), tensor(1.6987), tensor(-0.6193), tensor(-0.6734), tensor(-2.0491), tensor(0.9603), tensor(1.9261), tensor(-1.7065), tensor(2.2811), tensor(0.5536), tensor(1.7303), tensor(1.1104), tensor(-0.6866), tensor(-1.4287), tensor(1.1738), tensor(0.2849), tensor(-0.2564), tensor(1.1643), tensor(-1.9301), tensor(-0.6564), tensor(1.2000), tensor(-1.7813), tensor(0.8534), tensor(-0.5536), tensor(2.4224), tensor(-1.3897), tensor(-0.4625), tensor(0.5912), tensor(-1.3967), tensor(2.4755), tensor(-1.6757), tensor(2.3790), tensor(-1.4267), tensor(1.1992), tensor(1.1337), tensor(2.1658), tensor(1.1218), tensor(1.3005), tensor(-1.3194), tensor(-0.5384), tensor(-1.9314), tensor(-0.6388), tensor(0.9861), tensor(-1.5966), tensor(1.2033), tensor(-0.7621), tensor(-1.6283), tensor(2.0655), tensor(0.3430), tensor(1.8347), tensor(-0.9117), tensor(2.2054), tensor(1.2463), tensor(-0.1219), tensor(1.1900), tensor(1.9158), tensor(-2.1625), tensor(2.5675), tensor(0.4810), tensor(-0.8824), tensor(0.7134), tensor(-1.8464), tensor(0.5636), tensor(2.6557), tensor(2.7624), tensor(2.6601), tensor(1.0066), tensor(-0.0427), tensor(-2.8565), tensor(2.3419), tensor(2.5166), tensor(2.0715), tensor(1.1543)]\n"
     ]
    },
    {
     "name": "stderr",
     "output_type": "stream",
     "text": [
      "3it [06:54, 140.60s/it]"
     ]
    },
    {
     "name": "stdout",
     "output_type": "stream",
     "text": [
      "[tensor(-0.1475), tensor(-2.0561), tensor(1.8918), tensor(2.0499), tensor(-0.3536), tensor(2.0506), tensor(2.9012), tensor(2.7936), tensor(0.6483), tensor(2.8917), tensor(2.6278), tensor(-1.0101), tensor(0.7621), tensor(0.5104), tensor(-2.6491), tensor(-0.6175), tensor(2.2299), tensor(1.8554), tensor(-2.1533), tensor(2.1960), tensor(2.2695), tensor(2.2293), tensor(2.1341), tensor(1.5627), tensor(2.9248), tensor(2.2803), tensor(0.1279), tensor(-1.2190), tensor(1.1317), tensor(2.2561), tensor(2.8619), tensor(1.1069), tensor(1.4211), tensor(2.3429), tensor(1.1929), tensor(2.5107), tensor(-0.2906), tensor(-1.5879), tensor(0.9283), tensor(-3.0136), tensor(-1.8667), tensor(1.3645), tensor(1.2053), tensor(1.6924), tensor(-1.5075), tensor(-0.2634), tensor(0.4378), tensor(1.4382), tensor(2.4389), tensor(-0.7000), tensor(-2.4523), tensor(2.6513), tensor(-2.5432), tensor(-2.7762), tensor(2.2971), tensor(-3.0043), tensor(-1.1350), tensor(2.2157), tensor(2.2089), tensor(2.6285), tensor(2.6783), tensor(-1.0802), tensor(2.1333), tensor(0.0200), tensor(0.8051), tensor(0.3110), tensor(0.0924), tensor(-1.9422), tensor(2.0619), tensor(1.7609), tensor(-1.0719), tensor(-0.7226), tensor(-0.7644), tensor(1.6486), tensor(0.8265), tensor(0.7773), tensor(0.0479), tensor(-1.7550), tensor(1.6373), tensor(-2.4552), tensor(-2.8429), tensor(1.3841), tensor(1.6693), tensor(0.2449), tensor(-0.0831), tensor(2.8884), tensor(-0.2457), tensor(1.7935), tensor(1.1000), tensor(0.3090), tensor(-0.8450), tensor(-0.3014), tensor(-1.4049), tensor(1.3038), tensor(-1.8316), tensor(-0.9420), tensor(-0.0070), tensor(1.5051), tensor(2.5138), tensor(2.6744), tensor(2.5561), tensor(-0.2910), tensor(1.9750), tensor(2.2290), tensor(-2.9747), tensor(2.3434), tensor(-0.2981), tensor(-2.5552), tensor(-2.6221), tensor(2.0286), tensor(1.7791), tensor(0.3459), tensor(1.8385), tensor(0.3664), tensor(0.3644), tensor(1.5719), tensor(-0.7337), tensor(1.2708), tensor(-2.7019), tensor(-1.2139), tensor(1.1929), tensor(2.0433), tensor(2.1366), tensor(0.1137), tensor(2.4568), tensor(-1.7357), tensor(1.3986), tensor(-1.7663), tensor(1.8002), tensor(-1.2738), tensor(-0.7791), tensor(1.1713), tensor(-1.1653), tensor(0.5635), tensor(1.0736), tensor(2.8157), tensor(0.0251), tensor(1.7699), tensor(0.9337), tensor(-0.0538), tensor(-0.6249), tensor(0.7004), tensor(-1.4667), tensor(0.3032), tensor(1.2125), tensor(2.7319), tensor(-1.2728), tensor(1.7997), tensor(-2.6435), tensor(-1.4543), tensor(-1.1135), tensor(0.7336), tensor(0.2776), tensor(-1.9379), tensor(0.4846), tensor(1.2891), tensor(-0.0165), tensor(0.3931), tensor(1.3924), tensor(-1.5529), tensor(-0.6455), tensor(0.8193), tensor(-0.8325), tensor(-2.3951), tensor(1.3265), tensor(-2.4277), tensor(1.6191), tensor(2.0547), tensor(-0.1031), tensor(-0.8017), tensor(-2.0443), tensor(0.8584), tensor(1.7568), tensor(0.2191), tensor(-1.4775), tensor(0.3020), tensor(-1.4956), tensor(-2.1662), tensor(0.1383), tensor(0.4875), tensor(0.9608), tensor(0.9323), tensor(-0.8030), tensor(-2.1508), tensor(2.7638), tensor(2.8618), tensor(1.7897), tensor(0.6748), tensor(-0.0342), tensor(0.9471), tensor(1.2206), tensor(0.2137), tensor(-0.2668), tensor(2.3043), tensor(2.5923), tensor(2.8884), tensor(-2.7423), tensor(2.3892), tensor(2.3085), tensor(1.2313), tensor(-1.4421), tensor(0.9665), tensor(1.8799), tensor(-2.8322), tensor(-1.2694), tensor(1.1779), tensor(2.8787), tensor(-1.4117), tensor(2.6013), tensor(2.0589), tensor(2.7623), tensor(-1.6521), tensor(0.3082), tensor(2.6054), tensor(2.1608), tensor(2.6449), tensor(1.0499), tensor(-2.6889), tensor(-1.5103), tensor(1.8324), tensor(-2.9340), tensor(2.8717), tensor(-1.0420), tensor(0.2468), tensor(0.1955), tensor(1.4744), tensor(2.4713), tensor(1.1582), tensor(-1.5888), tensor(2.4156), tensor(2.7551), tensor(1.8234), tensor(-2.7595), tensor(2.6116), tensor(2.1388), tensor(-0.4428), tensor(-1.3230), tensor(0.6033), tensor(0.5454), tensor(-1.3743), tensor(1.8168), tensor(1.1649), tensor(-2.8390), tensor(0.4292), tensor(1.0865), tensor(0.4884), tensor(1.1906), tensor(-2.6505), tensor(1.1561), tensor(-1.2533), tensor(-2.8675), tensor(0.3465), tensor(0.3012), tensor(1.5406), tensor(-1.2012), tensor(-1.0894)]\n"
     ]
    },
    {
     "name": "stderr",
     "output_type": "stream",
     "text": [
      "4it [09:01, 135.06s/it]"
     ]
    },
    {
     "name": "stdout",
     "output_type": "stream",
     "text": [
      "[tensor(1.0989), tensor(0.3365), tensor(0.7976), tensor(1.0608), tensor(-1.7887), tensor(-2.0695), tensor(1.8990), tensor(1.8401), tensor(1.4938), tensor(1.8407), tensor(-1.6789), tensor(2.9148), tensor(2.8592), tensor(-1.8025), tensor(0.7161), tensor(-0.3089), tensor(2.4633), tensor(0.6505), tensor(0.1316), tensor(0.5866), tensor(-0.5868), tensor(2.2492), tensor(-1.8992), tensor(0.4108), tensor(0.2729), tensor(-2.4859), tensor(0.5100), tensor(-0.5863), tensor(0.1542), tensor(-0.1393), tensor(1.8196), tensor(2.6984), tensor(-2.4034), tensor(1.0347), tensor(-0.7058), tensor(-1.1953), tensor(2.6148), tensor(2.0272), tensor(2.1405), tensor(1.1056), tensor(-2.1759), tensor(0.0883), tensor(2.3131), tensor(2.5689), tensor(2.1288), tensor(-0.1038), tensor(1.4713), tensor(1.0526), tensor(-2.4662), tensor(2.6551), tensor(2.4957), tensor(1.9764), tensor(1.3952), tensor(-2.7191), tensor(0.4301), tensor(-1.5524), tensor(-2.0076), tensor(0.7664), tensor(0.5124), tensor(1.0822), tensor(1.9450), tensor(2.5331), tensor(0.2443), tensor(-0.0443), tensor(2.6750), tensor(0.1699), tensor(-1.5194), tensor(-0.1912), tensor(1.6669), tensor(-0.0895), tensor(-2.3576), tensor(-0.2258), tensor(-2.1114), tensor(0.2038), tensor(2.1222), tensor(-2.0100), tensor(0.3155), tensor(2.2459), tensor(-2.0334), tensor(-0.7939), tensor(2.2487), tensor(0.3172), tensor(0.0840), tensor(1.1293), tensor(-1.7141), tensor(0.6607), tensor(2.3116), tensor(1.6402), tensor(1.4464), tensor(0.8943), tensor(2.7086), tensor(-0.7038), tensor(1.4479), tensor(0.6060), tensor(-0.9256), tensor(0.9629), tensor(-2.9815), tensor(-1.6637), tensor(0.0458), tensor(-1.0756), tensor(2.0031), tensor(-0.4508), tensor(-0.1404), tensor(2.7951), tensor(-1.3379), tensor(0.5900), tensor(-0.2079), tensor(0.6278), tensor(1.2951), tensor(0.2270), tensor(-2.3843), tensor(0.0806), tensor(1.7024), tensor(-0.8070), tensor(0.2216), tensor(0.1920), tensor(1.1470), tensor(1.9460), tensor(-0.5647), tensor(2.6179), tensor(0.0200), tensor(0.0245), tensor(0.4088), tensor(-2.6623), tensor(-1.2435), tensor(1.5426), tensor(2.7892), tensor(2.2853), tensor(2.6796), tensor(-0.2858), tensor(0.3585), tensor(1.6124), tensor(0.2936), tensor(0.0366), tensor(2.4604), tensor(0.4024), tensor(0.4947), tensor(-1.7267), tensor(0.1825), tensor(1.2136), tensor(-1.5917), tensor(-0.2971), tensor(-0.6948), tensor(0.7066), tensor(-1.6849), tensor(-1.1122), tensor(2.7239), tensor(-1.1166), tensor(1.8968), tensor(-1.4393), tensor(0.5148), tensor(-0.2980), tensor(1.5910), tensor(1.4683), tensor(-0.5207), tensor(-0.8396), tensor(-2.9532), tensor(-0.8171), tensor(2.4465), tensor(1.9484), tensor(-1.5387), tensor(0.0995), tensor(0.6198), tensor(-0.8868), tensor(0.2166), tensor(-0.4319), tensor(-1.2869), tensor(1.6766), tensor(0.8892), tensor(-0.6384), tensor(0.5116), tensor(-1.9423), tensor(-0.4821), tensor(0.6189), tensor(-1.0870), tensor(0.3758), tensor(2.4447), tensor(2.7919), tensor(0.8381), tensor(-1.1028), tensor(1.8528), tensor(-0.2707), tensor(-1.0406), tensor(1.1631), tensor(-0.1339), tensor(-0.3022), tensor(0.9778), tensor(2.1213), tensor(1.7262), tensor(2.4969), tensor(1.9018), tensor(-2.6596), tensor(1.1831), tensor(-0.3659), tensor(-2.9834), tensor(-1.2146), tensor(1.9875), tensor(2.7754), tensor(1.3229), tensor(0.8385), tensor(-0.2641), tensor(-1.9746), tensor(2.7302), tensor(-1.1169), tensor(0.6950), tensor(-0.6728), tensor(0.1515), tensor(0.6668), tensor(2.0816), tensor(0.0814), tensor(1.9345), tensor(-2.5924), tensor(0.5027), tensor(-0.7733), tensor(-1.0682), tensor(-2.5365), tensor(0.8332), tensor(0.3748), tensor(-1.4657), tensor(-1.8517), tensor(-2.8486), tensor(-2.8788), tensor(2.8257), tensor(2.3982), tensor(2.6956), tensor(0.0746), tensor(0.6291), tensor(0.8851), tensor(-1.2298), tensor(-1.0592), tensor(1.0829), tensor(2.0069), tensor(1.9230), tensor(0.5450), tensor(2.4085), tensor(1.8123), tensor(2.4727), tensor(-2.2764), tensor(0.1951), tensor(-0.4887), tensor(0.6273), tensor(1.6360), tensor(-2.9774), tensor(-0.5494), tensor(1.7209), tensor(0.8247), tensor(-3.0254), tensor(2.6202), tensor(0.8537), tensor(1.2937), tensor(1.0110), tensor(-0.7025), tensor(1.5879), tensor(1.2086), tensor(-1.1689), tensor(-0.3105)]\n"
     ]
    },
    {
     "name": "stderr",
     "output_type": "stream",
     "text": [
      "5it [11:05, 131.19s/it]"
     ]
    },
    {
     "name": "stdout",
     "output_type": "stream",
     "text": [
      "[tensor(-1.8046), tensor(-1.2494), tensor(0.1546), tensor(2.3466), tensor(1.4291), tensor(2.6391), tensor(0.4597), tensor(-2.0927), tensor(0.3048), tensor(0.7590), tensor(0.0326), tensor(-0.5128), tensor(0.7335), tensor(2.8075), tensor(-1.2223), tensor(-1.5434), tensor(-2.8072), tensor(-0.6553), tensor(-0.8556), tensor(-0.5304), tensor(-0.5336), tensor(2.2986), tensor(2.1706), tensor(1.6917), tensor(-0.9347), tensor(0.4952), tensor(-1.2936), tensor(0.4463), tensor(-2.1330), tensor(0.0280), tensor(2.6315), tensor(2.6076), tensor(0.7660), tensor(-2.0863), tensor(-1.3779), tensor(0.9218), tensor(1.9228), tensor(-0.9679), tensor(0.9563), tensor(1.3921), tensor(-2.4997), tensor(2.7843), tensor(1.7201), tensor(2.5581), tensor(-1.0081), tensor(-0.7290), tensor(1.6356), tensor(-0.0786), tensor(0.6796), tensor(-0.7958), tensor(1.6616), tensor(0.4985), tensor(1.4136), tensor(-0.0459), tensor(-1.1058), tensor(2.6578), tensor(-0.3986), tensor(0.0377), tensor(-2.8310), tensor(2.1137), tensor(0.3343), tensor(-1.0712), tensor(2.3783), tensor(0.7708), tensor(1.3659), tensor(1.3869), tensor(-0.9815), tensor(0.8962), tensor(0.5405), tensor(1.2745), tensor(-2.8760), tensor(2.4854), tensor(0.0678), tensor(-0.3612), tensor(2.3518), tensor(0.5051), tensor(2.4540), tensor(2.2009), tensor(-1.1799), tensor(-0.1947), tensor(2.4157), tensor(0.4611), tensor(1.2257), tensor(2.7091), tensor(-0.0225), tensor(-2.7683), tensor(2.1459), tensor(0.3265), tensor(-1.1872), tensor(0.8387), tensor(1.5840), tensor(2.4308), tensor(-2.0551), tensor(0.6818), tensor(0.4408), tensor(2.7332), tensor(-0.7881), tensor(0.2063), tensor(0.3298), tensor(1.6209), tensor(-0.9488), tensor(1.2165), tensor(1.6674), tensor(1.5787), tensor(1.1089), tensor(1.2902), tensor(-0.3939), tensor(1.0982), tensor(1.9516), tensor(-2.4424), tensor(1.4016), tensor(-0.1272), tensor(1.9858), tensor(-0.4522), tensor(-1.5921), tensor(0.7492), tensor(2.5984), tensor(1.3524), tensor(2.8822), tensor(2.1312), tensor(-0.2082), tensor(-2.3989), tensor(0.9411), tensor(0.6138), tensor(-1.8320), tensor(-0.6443), tensor(-0.4139), tensor(-2.2403), tensor(0.2413), tensor(0.1671), tensor(-2.2692), tensor(1.2364), tensor(0.5953), tensor(1.5727), tensor(-0.9181), tensor(2.4137), tensor(-1.7683), tensor(-1.8279), tensor(-0.8626), tensor(2.7193), tensor(1.9793), tensor(-0.0260), tensor(-1.8117), tensor(2.5394), tensor(-0.4178), tensor(0.5677), tensor(-1.9101), tensor(1.2405), tensor(1.4208), tensor(1.3202), tensor(-2.4288), tensor(-0.6037), tensor(1.6765), tensor(2.0058), tensor(2.2151), tensor(0.3537), tensor(1.8465), tensor(0.2965), tensor(-0.1397), tensor(-1.6407), tensor(0.5488), tensor(-1.4233), tensor(1.7352), tensor(2.2365), tensor(2.2937), tensor(2.6118), tensor(-0.7368), tensor(-1.9994), tensor(1.2265), tensor(1.3773), tensor(0.0728), tensor(1.9645), tensor(2.2861), tensor(0.9892), tensor(2.8922), tensor(1.7284), tensor(2.2930), tensor(0.1955), tensor(1.6369), tensor(0.0246), tensor(2.3050), tensor(-1.3122), tensor(1.2112), tensor(1.8048), tensor(0.6805), tensor(2.3052), tensor(2.4415), tensor(0.7411), tensor(1.5093), tensor(-1.6480), tensor(0.0869), tensor(-0.7422), tensor(2.8362), tensor(-2.7747), tensor(2.1925), tensor(-2.5778), tensor(2.5968), tensor(2.1198), tensor(0.4954), tensor(-2.6661), tensor(0.8790), tensor(0.2604), tensor(-2.0515), tensor(-2.1568), tensor(0.7941), tensor(-1.9988), tensor(1.4221), tensor(0.2526), tensor(0.0983), tensor(0.2023), tensor(1.7057), tensor(0.6949), tensor(-0.4875), tensor(-1.6280), tensor(-1.2217), tensor(1.5922), tensor(1.2328), tensor(2.6462), tensor(0.9375), tensor(1.2525), tensor(2.2354), tensor(0.7938), tensor(1.2320), tensor(-1.8489), tensor(1.2552), tensor(-0.5522), tensor(1.4646), tensor(-2.3383), tensor(-1.2812), tensor(1.8071), tensor(-1.0983), tensor(1.2765), tensor(1.5554), tensor(-2.2540), tensor(2.7967), tensor(-0.9122), tensor(-0.9186), tensor(-1.8541), tensor(0.6852), tensor(1.9919), tensor(-2.0811), tensor(-0.4945), tensor(-1.0770), tensor(0.2995), tensor(-0.6137), tensor(0.0022), tensor(-1.4526), tensor(0.9671), tensor(2.5182), tensor(1.0828), tensor(0.4263), tensor(2.7973), tensor(1.2527), tensor(2.2208), tensor(1.0497), tensor(2.8476)]\n"
     ]
    },
    {
     "name": "stderr",
     "output_type": "stream",
     "text": [
      "6it [13:33, 136.91s/it]"
     ]
    },
    {
     "name": "stdout",
     "output_type": "stream",
     "text": [
      "[tensor(1.1139), tensor(2.6458), tensor(-0.5090), tensor(0.3727), tensor(0.1867), tensor(-0.3821), tensor(1.0957), tensor(0.1912), tensor(1.2646), tensor(0.3917), tensor(2.1918), tensor(0.9275), tensor(-1.7696), tensor(1.8441), tensor(1.4334), tensor(2.6622), tensor(1.6468), tensor(0.7032), tensor(-2.5607), tensor(1.3233), tensor(0.7589), tensor(-1.6150), tensor(2.1352), tensor(-0.1874), tensor(2.0083), tensor(2.5509), tensor(1.7868), tensor(0.7518), tensor(-0.5122), tensor(2.1923), tensor(-1.0740), tensor(1.6544), tensor(0.6393), tensor(0.2194), tensor(0.7511), tensor(-0.1883), tensor(-0.4433), tensor(2.6291), tensor(1.8357), tensor(2.2732), tensor(0.2731), tensor(-1.0079), tensor(2.3820), tensor(1.5358), tensor(-2.8987), tensor(2.0096), tensor(-1.8658), tensor(0.1809), tensor(-0.2477), tensor(2.3913), tensor(-0.1265), tensor(-1.7043), tensor(1.7659), tensor(-0.0426), tensor(-1.1183), tensor(1.0052), tensor(-0.0154), tensor(-2.0865), tensor(2.8707), tensor(2.4409), tensor(-0.6298), tensor(-0.5331), tensor(2.4527), tensor(-0.0317), tensor(2.6749), tensor(-0.2306), tensor(1.8025), tensor(-2.3436), tensor(-2.5951), tensor(-0.2327), tensor(0.2293), tensor(1.4486), tensor(1.6832), tensor(2.4208), tensor(-1.4942), tensor(0.0224), tensor(1.7060), tensor(2.5537), tensor(2.7563), tensor(0.5383), tensor(2.4475), tensor(1.2221), tensor(1.5288), tensor(1.7855), tensor(-2.0956), tensor(-0.9030), tensor(0.7367), tensor(1.0428), tensor(-1.4010), tensor(1.2762), tensor(0.4374), tensor(2.2789), tensor(0.6019), tensor(1.5390), tensor(-1.3671), tensor(-0.4668), tensor(-2.1770), tensor(0.4019), tensor(2.6950), tensor(-2.5841), tensor(1.0188), tensor(2.6851), tensor(-1.8868), tensor(1.0000), tensor(2.0306), tensor(1.7997), tensor(2.3712), tensor(-0.8521), tensor(2.4086), tensor(1.3157), tensor(-2.1703), tensor(0.0699), tensor(2.7947), tensor(2.4678), tensor(1.8149), tensor(1.9596), tensor(0.9357), tensor(2.0470), tensor(-2.4958), tensor(-1.0793), tensor(-0.0714), tensor(1.7791), tensor(2.4983), tensor(2.0821), tensor(1.7174), tensor(-2.6525), tensor(1.8293), tensor(-0.0722), tensor(-0.0032), tensor(1.9833), tensor(-1.0487), tensor(0.2909), tensor(1.9806), tensor(1.6881), tensor(0.9544), tensor(1.6151), tensor(1.0817), tensor(0.3343), tensor(1.0986), tensor(1.0958), tensor(1.6330), tensor(1.8363), tensor(2.8925), tensor(1.5111), tensor(0.6875), tensor(1.9252), tensor(-0.7537), tensor(-2.1212), tensor(1.7691), tensor(-1.2535), tensor(1.2503), tensor(-0.9778), tensor(-2.8452), tensor(-0.6501), tensor(0.4552), tensor(1.1140), tensor(-0.7904), tensor(0.0268), tensor(2.2833), tensor(-2.6247), tensor(2.7678), tensor(1.0006), tensor(0.6612), tensor(2.2888), tensor(-2.5537), tensor(-1.1763), tensor(-0.8311), tensor(1.4768), tensor(1.5496), tensor(-0.1828), tensor(1.0411), tensor(0.2359), tensor(-2.4415), tensor(2.4395), tensor(2.0268), tensor(0.0663), tensor(-1.0526), tensor(1.5360), tensor(0.3968), tensor(-2.4053), tensor(2.2664), tensor(-1.9609), tensor(2.7156), tensor(1.9122), tensor(1.6954), tensor(2.6264), tensor(1.6894), tensor(1.7797), tensor(1.5236), tensor(2.7330), tensor(1.0566), tensor(0.9629), tensor(-0.5140), tensor(-0.3297), tensor(1.2202), tensor(-0.0505), tensor(1.3425), tensor(-2.8579), tensor(1.3328), tensor(1.2885), tensor(0.9443), tensor(2.5205), tensor(0.5436), tensor(1.1893), tensor(2.8011), tensor(0.3026), tensor(2.6448), tensor(1.2696), tensor(2.0181), tensor(-2.3939), tensor(1.6826), tensor(-1.2478), tensor(1.1629), tensor(1.8112), tensor(-0.6731), tensor(2.3012), tensor(-0.8502), tensor(-1.2398), tensor(1.8258), tensor(0.7278), tensor(1.2795), tensor(1.1545), tensor(2.6794), tensor(2.4250), tensor(-0.6460), tensor(2.6225), tensor(0.7393), tensor(2.7916), tensor(-0.2757), tensor(1.2336), tensor(0.0422), tensor(-0.7618), tensor(-0.2702), tensor(0.3654), tensor(-1.7826), tensor(-1.0243), tensor(0.7355), tensor(1.4204), tensor(2.7521), tensor(2.3743), tensor(2.5189), tensor(0.3253), tensor(0.3979), tensor(-1.2507), tensor(1.1148), tensor(2.7376), tensor(2.0622), tensor(2.5169), tensor(-2.6577), tensor(0.3131), tensor(1.5357), tensor(-0.3309), tensor(-0.8466), tensor(-2.8691), tensor(2.4684), tensor(-0.8952)]\n"
     ]
    },
    {
     "name": "stderr",
     "output_type": "stream",
     "text": [
      "7it [15:56, 138.93s/it]"
     ]
    },
    {
     "name": "stdout",
     "output_type": "stream",
     "text": [
      "[tensor(0.0534), tensor(-2.8917), tensor(2.8332), tensor(0.8658), tensor(-2.4677), tensor(2.6619), tensor(1.5461), tensor(2.7078), tensor(-2.9400), tensor(0.7389), tensor(-0.3540), tensor(-2.8307), tensor(1.1912), tensor(1.2234), tensor(2.4152), tensor(-0.9928), tensor(-2.8225), tensor(0.3682), tensor(-1.0933), tensor(-0.6645), tensor(2.6380), tensor(-2.8856), tensor(-0.7789), tensor(1.1718), tensor(1.0217), tensor(-2.9033), tensor(-2.9806), tensor(1.3203), tensor(2.6445), tensor(1.0724), tensor(0.1204), tensor(-0.0498), tensor(-2.7973), tensor(-1.2223), tensor(0.0321), tensor(0.9534), tensor(-1.0254), tensor(2.2505), tensor(2.0292), tensor(2.6580), tensor(0.4257), tensor(0.9458), tensor(0.1485), tensor(0.0642), tensor(0.8107), tensor(2.4107), tensor(1.6213), tensor(-1.9355), tensor(1.3903), tensor(-0.5623), tensor(1.8054), tensor(-0.4044), tensor(1.9273), tensor(-0.6053), tensor(-2.0387), tensor(0.1761), tensor(2.2440), tensor(1.0905), tensor(-2.9116), tensor(2.7891), tensor(0.7380), tensor(2.4397), tensor(0.8023), tensor(-0.6340), tensor(0.3003), tensor(-2.6983), tensor(1.7168), tensor(2.5909), tensor(1.2984), tensor(1.1410), tensor(2.7407), tensor(-1.2894), tensor(1.5519), tensor(2.5255), tensor(-1.3263), tensor(-3.0160), tensor(0.8780), tensor(-1.0527), tensor(2.1955), tensor(-2.8780), tensor(0.7880), tensor(2.7946), tensor(-1.6948), tensor(-2.2852), tensor(0.7631), tensor(-0.9392), tensor(-0.2746), tensor(1.0943), tensor(2.6056), tensor(1.2342), tensor(-1.0381), tensor(1.9841), tensor(1.6960), tensor(-0.6261), tensor(0.3695), tensor(1.7179), tensor(2.7862), tensor(2.1694), tensor(1.8162), tensor(-0.6539), tensor(2.5197), tensor(2.0025), tensor(0.7360), tensor(0.8152), tensor(0.2168), tensor(-1.5972), tensor(-0.0954), tensor(1.4027), tensor(2.0127), tensor(-0.5269), tensor(2.5697), tensor(1.5709), tensor(0.2892), tensor(-0.0223), tensor(0.6870), tensor(1.0745), tensor(0.7843), tensor(-1.4572), tensor(0.6623), tensor(0.7412), tensor(2.1699), tensor(0.9356), tensor(-2.1720), tensor(2.4287), tensor(-0.7242), tensor(0.6189), tensor(2.2039), tensor(2.6360), tensor(1.1519), tensor(0.4318), tensor(2.2615), tensor(0.6787), tensor(-1.9759), tensor(1.0648), tensor(1.6201), tensor(1.9167), tensor(0.3006), tensor(2.5467), tensor(1.0054), tensor(2.6028), tensor(0.6031), tensor(-0.5811), tensor(0.4939), tensor(2.5450), tensor(2.6988), tensor(2.7426), tensor(-2.4067), tensor(2.6121), tensor(-1.3671), tensor(2.6958), tensor(-1.3157), tensor(2.7987), tensor(-1.1342), tensor(1.3056), tensor(2.2036), tensor(2.6629), tensor(2.5003), tensor(-0.1072), tensor(2.4644), tensor(0.1213), tensor(-0.5123), tensor(-2.3142), tensor(2.1878), tensor(-2.2928), tensor(0.5025), tensor(-0.8191), tensor(2.5084), tensor(2.7698), tensor(2.7194), tensor(-0.7531), tensor(-2.4698), tensor(2.3354), tensor(-0.0501), tensor(0.4552), tensor(1.9884), tensor(1.0276), tensor(2.6409), tensor(-0.2824), tensor(-0.6714), tensor(0.6559), tensor(2.1932), tensor(-2.2188), tensor(2.5225), tensor(-0.3244), tensor(1.2342), tensor(2.3723), tensor(1.9411), tensor(2.5174), tensor(-2.0344), tensor(0.8716), tensor(-1.1833), tensor(2.2135), tensor(2.7283), tensor(0.3842), tensor(-0.9065), tensor(-1.5040), tensor(-1.8941), tensor(-0.5864), tensor(1.1774), tensor(-1.5521), tensor(1.4361), tensor(-2.2531), tensor(-1.8394), tensor(2.4606), tensor(-0.4339), tensor(2.4681), tensor(-0.0407), tensor(-0.6951), tensor(2.0405), tensor(0.8016), tensor(-0.4830), tensor(2.6548), tensor(-1.1617), tensor(1.3358), tensor(0.6651), tensor(-1.5102), tensor(0.4759), tensor(-1.9446), tensor(1.8350), tensor(-0.7959), tensor(2.6352), tensor(2.5844), tensor(0.9501), tensor(2.6529), tensor(1.3226), tensor(0.4442), tensor(1.0182), tensor(2.7868), tensor(2.4898), tensor(-2.8083), tensor(2.3590), tensor(1.3741), tensor(-0.7857), tensor(2.8712), tensor(2.4405), tensor(1.2232), tensor(2.5053), tensor(1.5581), tensor(-0.0146), tensor(1.9152), tensor(0.7478), tensor(2.2091), tensor(1.7948), tensor(2.7132), tensor(2.5736), tensor(1.6296), tensor(-0.7093), tensor(-0.5216), tensor(-2.6400), tensor(-1.4357), tensor(-2.2324), tensor(-1.9001), tensor(2.3768), tensor(-0.4027), tensor(0.0859), tensor(0.0440)]\n"
     ]
    },
    {
     "name": "stderr",
     "output_type": "stream",
     "text": [
      "8it [17:55, 132.53s/it]"
     ]
    },
    {
     "name": "stdout",
     "output_type": "stream",
     "text": [
      "[tensor(1.0355), tensor(1.7564), tensor(1.4966), tensor(1.0674), tensor(0.4698), tensor(1.1873), tensor(0.1053), tensor(-1.6654), tensor(2.0594), tensor(0.9360), tensor(1.4187), tensor(2.5346), tensor(-1.8884), tensor(1.5032), tensor(1.2879), tensor(-2.2484), tensor(1.1243), tensor(0.4006), tensor(0.6973), tensor(0.6807), tensor(-0.3615), tensor(0.1165), tensor(-0.7426), tensor(0.7781), tensor(2.1387), tensor(2.6917), tensor(0.3479), tensor(2.7545), tensor(0.8129), tensor(-0.0153), tensor(2.4325), tensor(-1.7220), tensor(-0.4190), tensor(2.0803), tensor(0.1475), tensor(-0.8977), tensor(1.4944), tensor(0.3217), tensor(0.2296), tensor(1.2164), tensor(0.5723), tensor(-2.1930), tensor(0.3526), tensor(2.5382), tensor(1.0928), tensor(-1.4663), tensor(1.0560), tensor(0.4365), tensor(-0.6953), tensor(1.6573), tensor(0.9093), tensor(2.0534), tensor(0.6414), tensor(1.5734), tensor(2.8436), tensor(0.0439), tensor(2.5765), tensor(1.5296), tensor(0.7767), tensor(-0.4138), tensor(1.9827), tensor(1.3046), tensor(2.8130), tensor(2.4550), tensor(1.1914), tensor(2.8102), tensor(0.3946), tensor(2.5475), tensor(2.4825), tensor(2.1865), tensor(-0.7040), tensor(-0.4222), tensor(2.4074), tensor(1.5469), tensor(-1.8055), tensor(-2.1148), tensor(0.1453), tensor(-1.1869), tensor(-1.3662), tensor(-2.7238), tensor(1.8891), tensor(-0.0868), tensor(0.5167), tensor(-0.2918), tensor(1.1328), tensor(1.3372), tensor(-0.8575), tensor(0.8978), tensor(0.2922), tensor(0.9135), tensor(0.6847), tensor(0.5629), tensor(-0.4832), tensor(2.4580), tensor(2.5672), tensor(-2.9823), tensor(-1.5765), tensor(2.0677), tensor(1.8541), tensor(0.3708), tensor(-1.3877), tensor(-1.4961), tensor(0.6959), tensor(-0.7792), tensor(0.4442), tensor(1.0463), tensor(2.3322), tensor(1.1596), tensor(1.7062), tensor(2.8521), tensor(1.5753), tensor(-1.1122), tensor(0.2706), tensor(-2.8351), tensor(-0.1129), tensor(1.8783), tensor(0.9678), tensor(1.5346), tensor(1.1926), tensor(0.8293), tensor(1.3197), tensor(1.8987), tensor(2.7176), tensor(1.6308), tensor(0.0706), tensor(-1.7801), tensor(0.3778), tensor(-1.6477), tensor(1.0243), tensor(1.9077), tensor(-1.4519), tensor(1.1344), tensor(-1.3620), tensor(1.6623), tensor(2.5920), tensor(2.5706), tensor(0.5447), tensor(1.5176), tensor(-0.3513), tensor(1.0224), tensor(1.1966), tensor(0.5488), tensor(2.5966), tensor(1.9168), tensor(0.2417), tensor(2.6626), tensor(0.6848), tensor(-0.7568), tensor(1.9308), tensor(1.4038), tensor(2.8050), tensor(-1.7573), tensor(1.9753), tensor(0.3964), tensor(0.4257), tensor(2.5239), tensor(2.7005), tensor(1.0177), tensor(-0.5678), tensor(1.7634), tensor(0.2881), tensor(1.9309), tensor(2.3202), tensor(2.0658), tensor(-0.9447), tensor(-2.7022), tensor(-1.2161), tensor(0.9058), tensor(0.0886), tensor(-0.2800), tensor(-1.4247), tensor(1.5312), tensor(1.6774), tensor(0.8373), tensor(-0.1035), tensor(2.6916), tensor(-2.7999), tensor(-0.1155), tensor(2.8506), tensor(1.7204), tensor(1.7983), tensor(1.5219), tensor(1.3855), tensor(-0.9792), tensor(1.5831), tensor(2.6795), tensor(1.5725), tensor(-1.4468), tensor(2.5377), tensor(-0.2054), tensor(-0.7215), tensor(-1.7588), tensor(1.3694), tensor(2.7357), tensor(1.3894), tensor(2.3624), tensor(0.3174), tensor(2.5645), tensor(-0.1791), tensor(2.1180), tensor(0.6550), tensor(0.8665), tensor(0.7434), tensor(1.6585), tensor(0.8907), tensor(0.4268), tensor(2.3034), tensor(0.5887), tensor(1.2238), tensor(-1.3375), tensor(2.4923), tensor(-1.4094), tensor(-0.5286), tensor(-0.6491), tensor(2.6807), tensor(1.7777), tensor(0.7523), tensor(0.4450), tensor(0.7343), tensor(2.4427), tensor(-0.5636), tensor(-1.2683), tensor(2.5142), tensor(0.0811), tensor(2.8522), tensor(2.8334), tensor(0.0699), tensor(1.0689), tensor(2.6947), tensor(0.7484), tensor(-0.0758), tensor(0.8622), tensor(2.1185), tensor(2.6257), tensor(-0.3799), tensor(2.1685), tensor(1.9990), tensor(-1.4859), tensor(2.5645), tensor(0.3253), tensor(2.0281), tensor(0.6435), tensor(0.7874), tensor(-0.6131), tensor(0.0597), tensor(-0.6202), tensor(-1.4735), tensor(1.2759), tensor(2.4034), tensor(-1.6650), tensor(2.4910), tensor(1.0227), tensor(-1.8194), tensor(-0.2096), tensor(0.2387), tensor(1.2400)]\n"
     ]
    },
    {
     "name": "stderr",
     "output_type": "stream",
     "text": [
      "9it [20:12, 133.90s/it]"
     ]
    },
    {
     "name": "stdout",
     "output_type": "stream",
     "text": [
      "[tensor(2.7108), tensor(0.3870), tensor(1.5566), tensor(1.6509), tensor(-2.3850), tensor(0.4956), tensor(1.2518), tensor(1.9406), tensor(2.6491), tensor(-0.0272), tensor(-0.6985), tensor(0.1784), tensor(2.5886), tensor(-0.4271), tensor(-0.5328), tensor(2.2527), tensor(-0.1447), tensor(2.7336), tensor(2.5021), tensor(1.0057), tensor(0.6345), tensor(0.2926), tensor(2.4038), tensor(-0.1960), tensor(1.5186), tensor(1.5001), tensor(-0.9744), tensor(2.0184), tensor(0.6522), tensor(-0.9462), tensor(-1.1526), tensor(1.5245), tensor(1.6473), tensor(2.0753), tensor(2.1468), tensor(-0.3119), tensor(0.2871), tensor(-0.1465), tensor(-0.1894), tensor(2.5893), tensor(-0.1447), tensor(1.7533), tensor(2.9035), tensor(-0.3121), tensor(1.0083), tensor(1.3772), tensor(1.9635), tensor(1.0408), tensor(1.9984), tensor(-1.7918), tensor(2.2146), tensor(1.1048), tensor(-1.6299), tensor(0.5494), tensor(-2.5417), tensor(1.4681), tensor(0.1556), tensor(2.4326), tensor(0.4917), tensor(-0.9654), tensor(-0.0493), tensor(2.5238), tensor(0.8267), tensor(0.2134), tensor(0.5510), tensor(-0.2470), tensor(-2.4090), tensor(-2.0281), tensor(-3.0194), tensor(1.9175), tensor(-0.6750), tensor(1.9304), tensor(0.5619), tensor(1.8982), tensor(-0.6246), tensor(-1.2700), tensor(1.5491), tensor(0.6562), tensor(1.6176), tensor(-1.7407), tensor(0.9936), tensor(-0.5563), tensor(0.2087), tensor(2.1041), tensor(-1.3576), tensor(-0.6699), tensor(-0.1732), tensor(-0.9391), tensor(0.3459), tensor(1.8528), tensor(-0.9427), tensor(-0.8573), tensor(1.2507), tensor(-1.2627), tensor(0.3553), tensor(1.8162), tensor(-2.3766), tensor(2.7297), tensor(1.4717), tensor(-0.6508), tensor(1.3195), tensor(0.3411), tensor(-0.6888), tensor(-1.1823), tensor(-0.7231), tensor(0.9499), tensor(-0.1328), tensor(0.8036), tensor(0.5085), tensor(0.7717), tensor(0.3929), tensor(-0.8633), tensor(2.4364), tensor(2.5373), tensor(1.7041), tensor(-0.8886), tensor(1.7530), tensor(0.1602), tensor(-1.7584), tensor(1.3530), tensor(-2.4757), tensor(2.7637), tensor(-0.2786), tensor(0.7433), tensor(-0.4675), tensor(0.7741), tensor(2.3376), tensor(2.3633), tensor(-1.9501), tensor(-2.7815), tensor(1.5575), tensor(0.9847), tensor(1.0818), tensor(1.3599), tensor(1.3827), tensor(2.5092), tensor(0.3445), tensor(2.0685), tensor(-1.9855), tensor(1.3845), tensor(1.0312), tensor(1.5362), tensor(2.6691), tensor(1.5115), tensor(0.0950), tensor(1.3332), tensor(-2.5351), tensor(1.2932), tensor(1.3810), tensor(1.8357), tensor(-1.2863), tensor(-1.2217), tensor(0.5092), tensor(0.5005), tensor(1.5212), tensor(-3.0640), tensor(2.7236), tensor(-2.0009), tensor(-0.1203), tensor(2.9526), tensor(1.4438), tensor(0.4800), tensor(0.1946), tensor(-1.9971), tensor(2.5365), tensor(2.0430), tensor(1.9771), tensor(2.5776), tensor(1.6547), tensor(-1.3709), tensor(1.6402), tensor(-1.6009), tensor(0.3880), tensor(-1.0206), tensor(2.0474), tensor(2.7199), tensor(0.2489), tensor(0.9978), tensor(-0.9567), tensor(-1.1419), tensor(2.8535), tensor(2.1801), tensor(-1.1039), tensor(-0.8979), tensor(1.9839), tensor(0.0783), tensor(-2.5670), tensor(1.4198), tensor(1.8407), tensor(1.2048), tensor(0.3900), tensor(1.7610), tensor(1.4573), tensor(2.2940), tensor(-0.2831), tensor(-0.4740), tensor(2.1586), tensor(2.1328), tensor(2.3759), tensor(1.9759), tensor(0.5761), tensor(2.7088), tensor(0.5656), tensor(-1.0141), tensor(2.3576), tensor(-0.4700), tensor(1.9923), tensor(-1.2167), tensor(-2.9271), tensor(2.1695), tensor(-1.7254), tensor(1.2787), tensor(-1.6488), tensor(1.4179), tensor(0.5435), tensor(-1.6915), tensor(0.5875), tensor(2.7353), tensor(-0.9709), tensor(-2.6689), tensor(0.1938), tensor(1.8626), tensor(2.1244), tensor(1.6643), tensor(1.3626), tensor(1.2966), tensor(-1.6618), tensor(2.5701), tensor(1.3805), tensor(-1.5552), tensor(-1.3527), tensor(2.5533), tensor(2.7185), tensor(0.5925), tensor(2.7707), tensor(-0.0803), tensor(2.5328), tensor(-0.0863), tensor(-0.3678), tensor(0.1947), tensor(-0.3479), tensor(1.3942), tensor(-0.4827), tensor(0.1945), tensor(2.5989), tensor(0.7110), tensor(1.2582), tensor(-1.8942), tensor(0.9235), tensor(2.7837), tensor(0.1379), tensor(1.7299), tensor(-1.8477), tensor(1.8273), tensor(1.4711), tensor(1.5459)]\n"
     ]
    },
    {
     "name": "stderr",
     "output_type": "stream",
     "text": [
      "10it [22:38, 137.64s/it]"
     ]
    },
    {
     "name": "stdout",
     "output_type": "stream",
     "text": [
      "[tensor(1.6037), tensor(0.3144), tensor(-0.6056), tensor(-2.7266), tensor(-1.0571), tensor(1.3939), tensor(0.2439), tensor(-0.6927), tensor(0.7320), tensor(0.5964), tensor(0.6759), tensor(2.2905), tensor(0.7615), tensor(2.6386), tensor(-2.7044), tensor(-1.1560), tensor(2.0411), tensor(1.2176), tensor(0.4175), tensor(2.6735), tensor(-0.8809), tensor(-0.5392), tensor(1.7669), tensor(-1.6496), tensor(-0.1141), tensor(0.7296), tensor(-0.6064), tensor(1.8352), tensor(-1.1613), tensor(-1.4444), tensor(1.1470), tensor(0.7628), tensor(0.5747), tensor(-0.5779), tensor(1.4493), tensor(0.8607), tensor(-0.4433), tensor(2.7031), tensor(0.0132), tensor(1.6946), tensor(1.6903), tensor(-0.9204), tensor(2.2716), tensor(-0.4105), tensor(1.2992), tensor(-0.3888), tensor(0.9757), tensor(-1.9167), tensor(2.6714), tensor(1.6788), tensor(2.2946), tensor(1.3284), tensor(1.1281), tensor(2.6151), tensor(-1.6759), tensor(0.0228), tensor(2.7455), tensor(2.2153), tensor(1.5457), tensor(-0.6011), tensor(2.1630), tensor(0.8975), tensor(0.2481), tensor(1.0659), tensor(-0.3588), tensor(0.9141), tensor(1.7685), tensor(-1.6074), tensor(2.8391), tensor(0.3977), tensor(1.6093), tensor(0.3419), tensor(-0.4340), tensor(-1.6109), tensor(0.5821), tensor(2.5457), tensor(-1.0632), tensor(1.4183), tensor(2.0630), tensor(2.8300), tensor(-1.5691), tensor(1.6524), tensor(1.3080), tensor(0.4330), tensor(2.9003), tensor(-1.8034), tensor(0.5311), tensor(0.6996), tensor(2.0232), tensor(2.5543), tensor(1.9345), tensor(1.4322), tensor(-1.9979), tensor(2.2822), tensor(0.7351), tensor(1.9840), tensor(-1.2931), tensor(1.1763), tensor(1.8931), tensor(1.6383), tensor(2.5683), tensor(1.5964), tensor(0.0481), tensor(1.0962), tensor(0.7967), tensor(2.4437), tensor(2.8392), tensor(1.0967), tensor(0.7793), tensor(-1.1059), tensor(2.2477), tensor(-1.1383), tensor(0.9164), tensor(0.7874), tensor(1.3572), tensor(0.7084), tensor(2.7959), tensor(0.1218), tensor(0.9507), tensor(0.6534), tensor(2.2383), tensor(1.1744), tensor(0.2097), tensor(2.1376), tensor(2.3931), tensor(2.4058), tensor(-1.1628), tensor(2.0186), tensor(-2.1451), tensor(2.3067), tensor(1.6710), tensor(0.0074), tensor(1.1775), tensor(-2.3879), tensor(1.7789), tensor(-0.7814), tensor(1.2361), tensor(-1.4852), tensor(-1.1233), tensor(2.2366), tensor(1.7489), tensor(1.5833), tensor(-2.2711), tensor(2.4419), tensor(2.4462), tensor(0.5293), tensor(-1.1600), tensor(-0.5872), tensor(2.5188), tensor(2.4660), tensor(2.8069), tensor(2.7872), tensor(1.6436), tensor(1.4924), tensor(2.5403), tensor(2.5050), tensor(2.6240), tensor(-0.9261), tensor(0.1427), tensor(-0.2200), tensor(1.8023), tensor(1.8144), tensor(-0.4667), tensor(-0.7942), tensor(1.8849), tensor(0.6832), tensor(1.6040), tensor(-0.1451), tensor(2.8364), tensor(2.0626), tensor(2.3556), tensor(0.4669), tensor(1.7875), tensor(0.0218), tensor(0.4964), tensor(-2.7070), tensor(-2.9270), tensor(0.1160), tensor(-1.1478), tensor(1.9541), tensor(1.4618), tensor(2.3620), tensor(2.4316), tensor(0.3166), tensor(1.4555), tensor(1.5762), tensor(-1.7892), tensor(-0.2786), tensor(2.4468), tensor(-1.6644), tensor(2.5632), tensor(2.7366), tensor(-0.1930), tensor(-1.8995), tensor(0.8336), tensor(0.8875), tensor(1.0743), tensor(2.3641), tensor(-0.4435), tensor(1.3510), tensor(1.1795), tensor(2.7390), tensor(1.4684), tensor(2.0619), tensor(-0.3747), tensor(-1.1861), tensor(0.3867), tensor(-2.2181), tensor(1.3373), tensor(2.8372), tensor(-0.2217), tensor(-2.1009), tensor(0.4128), tensor(0.6843), tensor(2.2572), tensor(-0.5468), tensor(2.0311), tensor(2.1978), tensor(0.8787), tensor(1.3310), tensor(-0.7908), tensor(1.4111), tensor(-1.8905), tensor(0.2690), tensor(0.7691), tensor(2.4066), tensor(1.5827), tensor(1.6123), tensor(-0.5055), tensor(1.2883), tensor(2.8616), tensor(0.7242), tensor(0.4126), tensor(0.7795), tensor(2.7970), tensor(2.8347), tensor(1.6532), tensor(2.4849), tensor(1.4277), tensor(-0.4739), tensor(1.9358), tensor(1.1967), tensor(-1.6870), tensor(-1.2040), tensor(-0.0190), tensor(2.8315), tensor(-2.2112), tensor(0.7933), tensor(0.9473), tensor(1.0650), tensor(-0.0257), tensor(-2.7744), tensor(0.2459), tensor(1.3353), tensor(-2.7169), tensor(-2.1394)]\n"
     ]
    },
    {
     "name": "stderr",
     "output_type": "stream",
     "text": [
      "11it [24:51, 136.45s/it]"
     ]
    },
    {
     "name": "stdout",
     "output_type": "stream",
     "text": [
      "[tensor(-1.2695), tensor(0.8823), tensor(2.0913), tensor(2.0063), tensor(1.2183), tensor(2.1013), tensor(0.8153), tensor(0.3074), tensor(-2.0125), tensor(-0.8755), tensor(0.1439), tensor(2.5695), tensor(1.2724), tensor(1.7852), tensor(2.7647), tensor(-2.0448), tensor(2.6865), tensor(2.1321), tensor(1.9653), tensor(-2.0886), tensor(0.9920), tensor(-0.4380), tensor(1.8243), tensor(2.3971), tensor(2.8417), tensor(2.1902), tensor(-0.6667), tensor(-2.7477), tensor(-2.8339), tensor(-0.9179), tensor(1.7498), tensor(0.0627), tensor(0.0127), tensor(0.9929), tensor(-0.9986), tensor(2.1438), tensor(1.1502), tensor(-1.0271), tensor(0.7408), tensor(1.6459), tensor(-0.2232), tensor(1.0226), tensor(1.7705), tensor(1.2205), tensor(1.2800), tensor(2.3309), tensor(1.9368), tensor(0.6452), tensor(0.0789), tensor(1.0899), tensor(2.5525), tensor(2.8745), tensor(2.6497), tensor(2.6421), tensor(1.5543), tensor(1.5973), tensor(2.7307), tensor(0.7711), tensor(0.9960), tensor(0.2999), tensor(1.2632), tensor(2.7143), tensor(2.6750), tensor(0.9225), tensor(-0.5136), tensor(1.3618), tensor(2.6458), tensor(2.0059), tensor(2.7016), tensor(2.2086), tensor(-0.6055), tensor(2.1439), tensor(1.5487), tensor(0.3988), tensor(2.7220), tensor(0.3836), tensor(1.8172), tensor(0.7249), tensor(2.2211), tensor(1.2136), tensor(0.5476), tensor(0.7886), tensor(2.2721), tensor(1.4369), tensor(1.8129), tensor(2.4521), tensor(0.9356), tensor(-1.0203), tensor(-1.5548), tensor(0.9922), tensor(-0.0652), tensor(1.6733), tensor(0.9462), tensor(-1.3801), tensor(2.3921), tensor(-1.9818), tensor(2.3569), tensor(1.1780), tensor(1.7701), tensor(2.1622), tensor(0.8101), tensor(2.6028), tensor(0.5490), tensor(0.9473), tensor(2.3232), tensor(2.4151), tensor(1.0304), tensor(0.0699), tensor(1.5127), tensor(2.8684), tensor(-0.1231), tensor(1.6126), tensor(-2.3763), tensor(0.8856), tensor(1.8218), tensor(2.0112), tensor(2.7147), tensor(2.1368), tensor(2.8887), tensor(2.2332), tensor(0.6308), tensor(2.8386), tensor(2.6859), tensor(2.5172), tensor(2.3746), tensor(0.3964), tensor(1.2992), tensor(2.6259), tensor(-2.3523), tensor(2.7115), tensor(2.0887), tensor(1.9479), tensor(1.5578), tensor(1.7873), tensor(-0.1214), tensor(2.5521), tensor(2.8493), tensor(-0.2839), tensor(-1.5529), tensor(0.3467), tensor(-1.5864), tensor(2.8790), tensor(2.7945), tensor(0.5203), tensor(0.4571), tensor(-0.0233), tensor(2.6036), tensor(2.0894), tensor(0.9286), tensor(2.1653), tensor(2.8761), tensor(1.7173), tensor(0.4904), tensor(1.0992), tensor(-1.8985), tensor(2.7953), tensor(2.8253), tensor(0.5482), tensor(1.8518), tensor(2.3411), tensor(-0.5195), tensor(-0.0778), tensor(0.0470), tensor(-0.6543), tensor(0.6022), tensor(2.5169), tensor(-2.8777), tensor(2.0330), tensor(0.6084), tensor(2.0988), tensor(2.5157), tensor(2.1697), tensor(2.4418), tensor(-1.4491), tensor(-0.0727), tensor(2.7609), tensor(2.5906), tensor(0.9403), tensor(0.6937), tensor(2.8190), tensor(-1.2681), tensor(1.2124), tensor(2.7993), tensor(2.7598), tensor(2.6363), tensor(-0.0366), tensor(-1.2609), tensor(-1.0678), tensor(1.3702), tensor(2.2141), tensor(2.8546), tensor(2.1398), tensor(2.0244), tensor(-0.5137), tensor(-0.3885), tensor(2.6987), tensor(-0.9562), tensor(1.2613), tensor(2.6953), tensor(1.0355), tensor(2.3156), tensor(2.4116), tensor(0.8899), tensor(1.8677), tensor(1.8725), tensor(2.0664), tensor(-0.4933), tensor(1.0168), tensor(-0.5671), tensor(1.6555), tensor(2.9204), tensor(-0.4669), tensor(0.8807), tensor(1.1964), tensor(0.5672), tensor(-1.5442), tensor(2.2513), tensor(2.5486), tensor(-1.8525), tensor(2.5305), tensor(2.4257), tensor(1.9044), tensor(2.5589), tensor(1.4111), tensor(2.5273), tensor(-2.7931), tensor(-2.1597), tensor(-1.4035), tensor(-1.8152), tensor(-2.7729), tensor(1.3486), tensor(-2.7001), tensor(0.3500), tensor(-1.2478), tensor(-0.5652), tensor(2.7591), tensor(0.2866), tensor(-1.8841), tensor(0.5431), tensor(-0.2622), tensor(-0.1934), tensor(1.7315), tensor(2.2139), tensor(0.3608), tensor(0.8302), tensor(-0.1368), tensor(0.0894), tensor(1.7474), tensor(0.1663), tensor(0.1737), tensor(0.3720), tensor(2.6926), tensor(0.6974), tensor(2.0448), tensor(-0.0351), tensor(0.8757)]\n"
     ]
    },
    {
     "name": "stderr",
     "output_type": "stream",
     "text": [
      "12it [27:27, 142.20s/it]"
     ]
    },
    {
     "name": "stdout",
     "output_type": "stream",
     "text": [
      "[tensor(1.4871), tensor(2.6463), tensor(1.6331), tensor(0.8925), tensor(2.4562), tensor(1.8255), tensor(1.5561), tensor(0.8147), tensor(1.3767), tensor(1.5379), tensor(0.7806), tensor(0.0811), tensor(2.3459), tensor(1.7037), tensor(2.7509), tensor(-1.0219), tensor(0.3010), tensor(1.0207), tensor(1.7092), tensor(-0.6981), tensor(2.6139), tensor(0.9637), tensor(-0.5379), tensor(-2.0553), tensor(-2.5295), tensor(1.2921), tensor(2.5255), tensor(1.6580), tensor(1.6332), tensor(-2.9807), tensor(-0.3557), tensor(-0.8333), tensor(1.0864), tensor(2.1694), tensor(-0.2204), tensor(2.6232), tensor(-1.8695), tensor(0.9726), tensor(2.1654), tensor(-0.1634), tensor(1.9602), tensor(2.7849), tensor(2.1737), tensor(1.6521), tensor(2.2436), tensor(0.9073), tensor(2.0962), tensor(2.3230), tensor(0.5137), tensor(-1.2959), tensor(0.6329), tensor(0.8016), tensor(2.6876), tensor(1.4814), tensor(-1.8322), tensor(-1.0958), tensor(-2.5108), tensor(2.6696), tensor(2.6004), tensor(2.7875), tensor(2.1742), tensor(1.6633), tensor(-0.2959), tensor(2.8477), tensor(1.0554), tensor(2.1693), tensor(0.4683), tensor(-0.9094), tensor(-1.6170), tensor(1.0347), tensor(2.8312), tensor(-1.1131), tensor(0.2169), tensor(1.6415), tensor(-0.0497), tensor(1.0815), tensor(2.5263), tensor(-0.4232), tensor(0.6456), tensor(-1.2977), tensor(-1.5830), tensor(2.5872), tensor(2.4481), tensor(-1.8609), tensor(2.5887), tensor(1.3703), tensor(1.2812), tensor(0.7938), tensor(-0.6239), tensor(2.3310), tensor(2.2150), tensor(-1.7270), tensor(-1.1074), tensor(-0.3572), tensor(2.5580), tensor(-1.3501), tensor(-1.1852), tensor(-2.0958), tensor(2.6845), tensor(2.5035), tensor(-1.6964), tensor(1.5516), tensor(2.7954), tensor(-0.8739), tensor(-2.5179), tensor(-1.7130), tensor(1.4450), tensor(1.4913), tensor(1.1511), tensor(-0.4105), tensor(-2.0117), tensor(2.8091), tensor(1.2950), tensor(-2.1280), tensor(-0.1170), tensor(0.4236), tensor(1.1496), tensor(1.5436), tensor(-2.6587), tensor(1.0237), tensor(2.0622), tensor(1.5138), tensor(-0.2686), tensor(2.1294), tensor(2.4778), tensor(2.4233), tensor(-2.6018), tensor(0.4600), tensor(1.5526), tensor(2.5750), tensor(2.4893), tensor(0.7683), tensor(1.7728), tensor(0.2342), tensor(-1.6233), tensor(2.2343), tensor(0.7029), tensor(0.1183), tensor(0.6525), tensor(2.5791), tensor(2.7993), tensor(2.7776), tensor(0.8609), tensor(0.5149), tensor(-0.2049), tensor(2.4324), tensor(1.1977), tensor(-0.1298), tensor(2.0076), tensor(-1.0659), tensor(-2.7906), tensor(2.7428), tensor(1.7892), tensor(2.2876), tensor(-2.4655), tensor(1.4630), tensor(0.0706), tensor(2.8384), tensor(0.3658), tensor(-2.1755), tensor(1.2669), tensor(2.3014), tensor(-1.3622), tensor(1.1555), tensor(1.7884), tensor(1.7263), tensor(2.3340), tensor(2.9111), tensor(2.8331), tensor(1.1681), tensor(2.5499), tensor(-2.1087), tensor(2.6351), tensor(2.1911), tensor(1.1055), tensor(0.6886), tensor(-1.1929), tensor(1.7404), tensor(2.6331), tensor(2.0176), tensor(-0.9698), tensor(0.8372), tensor(1.4587), tensor(1.3853), tensor(-1.0511), tensor(-0.9652), tensor(1.6982), tensor(2.6591), tensor(-0.3231), tensor(2.4370), tensor(0.5403), tensor(1.9008), tensor(1.2308), tensor(2.6749), tensor(-0.0985), tensor(0.5223), tensor(2.5151), tensor(1.2838), tensor(1.9624), tensor(2.4497), tensor(-0.1761), tensor(1.5352), tensor(2.7285), tensor(2.6616), tensor(2.5548), tensor(1.0930), tensor(1.2551), tensor(-1.2541), tensor(2.8233), tensor(2.1303), tensor(0.0175), tensor(1.9838), tensor(-0.4691), tensor(-1.3768), tensor(-2.6178), tensor(-0.5291), tensor(1.5954), tensor(-0.7289), tensor(2.4096), tensor(-2.7873), tensor(0.9309), tensor(-0.6313), tensor(2.2076), tensor(0.6573), tensor(2.3024), tensor(-0.0059), tensor(1.8062), tensor(1.3121), tensor(0.7388), tensor(0.6921), tensor(-0.1894), tensor(2.2538), tensor(1.5067), tensor(1.6403), tensor(2.7060), tensor(0.9316), tensor(0.4721), tensor(1.1384), tensor(0.1885), tensor(2.8175), tensor(-0.6517), tensor(1.7718), tensor(1.1813), tensor(1.2623), tensor(2.5351), tensor(-0.1975), tensor(1.8347), tensor(2.8929), tensor(2.6274), tensor(0.4305), tensor(1.5091), tensor(1.6567), tensor(2.0323), tensor(0.8356), tensor(-2.8960), tensor(1.5080)]\n"
     ]
    },
    {
     "name": "stderr",
     "output_type": "stream",
     "text": [
      "13it [29:23, 134.30s/it]"
     ]
    },
    {
     "name": "stdout",
     "output_type": "stream",
     "text": [
      "[tensor(2.1073), tensor(1.3217), tensor(2.1081), tensor(1.8048), tensor(-1.7670), tensor(1.6642), tensor(-1.8848), tensor(0.7798), tensor(1.9713), tensor(0.7068), tensor(2.7668), tensor(1.1000), tensor(2.4340), tensor(-0.9144), tensor(2.1610), tensor(-0.2232), tensor(2.1442), tensor(2.2229), tensor(0.6949), tensor(2.6270), tensor(1.1168), tensor(1.6174), tensor(2.6770), tensor(0.1628), tensor(2.6642), tensor(1.9571), tensor(2.0323), tensor(-0.7074), tensor(1.4745), tensor(2.1442), tensor(1.9623), tensor(1.6788), tensor(-2.0976), tensor(-0.8648), tensor(-1.0128), tensor(0.7804), tensor(1.2474), tensor(1.9963), tensor(0.9218), tensor(0.5855), tensor(-0.0668), tensor(1.4760), tensor(1.8818), tensor(1.2379), tensor(2.1760), tensor(2.4852), tensor(2.8626), tensor(0.3951), tensor(1.5060), tensor(1.7696), tensor(-0.1816), tensor(-1.6631), tensor(1.2671), tensor(1.7611), tensor(2.8776), tensor(-1.9046), tensor(1.6088), tensor(1.8613), tensor(1.0667), tensor(1.2334), tensor(-0.6224), tensor(2.7415), tensor(2.8406), tensor(2.0122), tensor(1.9966), tensor(2.6403), tensor(1.4415), tensor(1.9454), tensor(2.3595), tensor(2.3499), tensor(-0.5296), tensor(-0.5139), tensor(2.9083), tensor(1.0551), tensor(1.1460), tensor(2.0913), tensor(1.4597), tensor(2.7813), tensor(2.6597), tensor(1.7145), tensor(1.7526), tensor(2.3557), tensor(2.2750), tensor(0.7305), tensor(-1.9395), tensor(-1.9305), tensor(2.5173), tensor(0.9265), tensor(2.5015), tensor(1.2653), tensor(2.6523), tensor(-0.0074), tensor(0.8188), tensor(-0.0587), tensor(0.5532), tensor(1.3463), tensor(2.3217), tensor(0.6362), tensor(0.3866), tensor(1.7788), tensor(-2.7660), tensor(1.3021), tensor(0.4241), tensor(0.6529), tensor(2.2154), tensor(1.4828), tensor(0.3659), tensor(1.5209), tensor(1.5000), tensor(0.3092), tensor(-0.7976), tensor(-0.7197), tensor(-1.2421), tensor(0.6735), tensor(2.5759), tensor(2.8143), tensor(1.4445), tensor(-2.1097), tensor(0.0345), tensor(-2.1676), tensor(1.1457), tensor(1.2636), tensor(1.1844), tensor(1.6861), tensor(1.3074), tensor(1.4074), tensor(1.5837), tensor(2.4387), tensor(2.3591), tensor(1.9313), tensor(-1.5859), tensor(-0.6425), tensor(-2.8880), tensor(2.1589), tensor(1.3879), tensor(2.3388), tensor(2.6194), tensor(1.9538), tensor(0.7098), tensor(0.1757), tensor(0.1857), tensor(1.5204), tensor(-0.4639), tensor(-0.4164), tensor(2.8455), tensor(-0.1877), tensor(2.2385), tensor(2.1036), tensor(1.1924), tensor(0.6342), tensor(0.8891), tensor(1.7681), tensor(1.7087), tensor(-0.0728), tensor(2.8952), tensor(2.7253), tensor(2.0953), tensor(2.5836), tensor(-1.3226), tensor(2.6673), tensor(-0.0561), tensor(0.0353), tensor(0.0179), tensor(1.2540), tensor(1.1866), tensor(-0.8448), tensor(-1.3017), tensor(-2.3596), tensor(0.0827), tensor(0.6814), tensor(1.8814), tensor(-2.0897), tensor(-0.3310), tensor(1.2906), tensor(0.7401), tensor(-0.9363), tensor(1.7097), tensor(2.3360), tensor(2.4278), tensor(2.5258), tensor(1.1989), tensor(2.5923), tensor(2.2181), tensor(1.9655), tensor(2.1926), tensor(2.8090), tensor(-0.0224), tensor(2.0135), tensor(1.7916), tensor(-0.3797), tensor(-2.7046), tensor(0.6398), tensor(2.3908), tensor(1.6907), tensor(1.8810), tensor(1.9844), tensor(1.0914), tensor(2.4357), tensor(2.1733), tensor(2.2842), tensor(-0.8315), tensor(-2.0281), tensor(-1.5986), tensor(0.9160), tensor(-1.3095), tensor(-0.4676), tensor(1.5578), tensor(1.7888), tensor(2.0742), tensor(2.2396), tensor(1.2474), tensor(-1.5939), tensor(-1.9027), tensor(2.7895), tensor(-0.0228), tensor(2.7273), tensor(2.6125), tensor(2.4619), tensor(2.2881), tensor(0.4456), tensor(2.6200), tensor(0.1358), tensor(1.4870), tensor(1.2529), tensor(-1.0426), tensor(1.7599), tensor(1.7521), tensor(2.8932), tensor(2.7839), tensor(2.3614), tensor(0.1122), tensor(-0.8460), tensor(0.8663), tensor(1.9058), tensor(1.7273), tensor(-0.4818), tensor(2.4102), tensor(1.9118), tensor(2.7739), tensor(2.3399), tensor(-0.2385), tensor(1.1010), tensor(0.7042), tensor(1.7187), tensor(1.8760), tensor(1.0682), tensor(0.6190), tensor(0.2738), tensor(2.3982), tensor(2.5617), tensor(2.1579), tensor(0.3636), tensor(2.3512), tensor(1.9199), tensor(-2.5156), tensor(0.5436)]\n"
     ]
    },
    {
     "name": "stderr",
     "output_type": "stream",
     "text": [
      "14it [31:39, 134.84s/it]"
     ]
    },
    {
     "name": "stdout",
     "output_type": "stream",
     "text": [
      "[tensor(2.3186), tensor(-0.2156), tensor(2.3955), tensor(0.0376), tensor(0.1202), tensor(-2.9604), tensor(1.2502), tensor(2.3363), tensor(-2.7945), tensor(2.7927), tensor(2.1349), tensor(0.4385), tensor(-1.1804), tensor(-0.4886), tensor(1.5993), tensor(2.5878), tensor(1.1601), tensor(2.0765), tensor(1.3897), tensor(1.3928), tensor(2.4711), tensor(2.7525), tensor(1.3161), tensor(1.4234), tensor(1.2708), tensor(-1.3807), tensor(-0.3995), tensor(-0.4712), tensor(0.3511), tensor(2.6925), tensor(1.4576), tensor(-0.8757), tensor(2.4745), tensor(-0.9332), tensor(2.8669), tensor(1.7249), tensor(-1.8340), tensor(1.3246), tensor(1.5745), tensor(2.1426), tensor(2.2344), tensor(1.8909), tensor(0.4386), tensor(0.8570), tensor(-0.0941), tensor(1.6037), tensor(-1.2553), tensor(0.4315), tensor(2.3323), tensor(0.7390), tensor(1.7355), tensor(1.9022), tensor(2.7536), tensor(1.8148), tensor(2.4407), tensor(-0.3859), tensor(2.4393), tensor(2.4652), tensor(-1.4667), tensor(1.4100), tensor(2.8034), tensor(-0.0573), tensor(-1.7480), tensor(2.2475), tensor(2.1988), tensor(-1.2537), tensor(1.6502), tensor(2.7873), tensor(-1.7101), tensor(1.9499), tensor(1.1597), tensor(2.9154), tensor(-1.6629), tensor(2.1894), tensor(-1.1627), tensor(1.9867), tensor(2.0115), tensor(-0.7919), tensor(2.6224), tensor(2.7424), tensor(2.5220), tensor(1.1822), tensor(0.0935), tensor(0.5760), tensor(-0.9543), tensor(-0.1851), tensor(0.3802), tensor(0.7732), tensor(2.8833), tensor(2.1691), tensor(1.6970), tensor(2.4660), tensor(0.9924), tensor(-0.8632), tensor(-0.0391), tensor(2.5367), tensor(2.4838), tensor(-2.6207), tensor(2.7923), tensor(-0.0832), tensor(2.3971), tensor(-2.8710), tensor(2.8859), tensor(-0.3188), tensor(0.6730), tensor(1.7567), tensor(2.4572), tensor(-1.8912), tensor(1.7252), tensor(2.3939), tensor(1.4360), tensor(-0.6211), tensor(2.6537), tensor(2.4001), tensor(-0.4765), tensor(2.7357), tensor(2.8530), tensor(2.6539), tensor(1.3473), tensor(1.2402), tensor(-0.3987), tensor(-1.8680), tensor(2.7257), tensor(2.7381), tensor(1.6345), tensor(1.2121), tensor(1.5867), tensor(0.2482), tensor(1.5021), tensor(2.1510), tensor(-0.3012), tensor(0.0585), tensor(2.2789), tensor(-0.6444), tensor(-0.3119), tensor(0.8247), tensor(-0.0983), tensor(-0.2879), tensor(2.2449), tensor(2.8096), tensor(-1.9894), tensor(-2.2822), tensor(1.0092), tensor(2.3454), tensor(1.3871), tensor(0.5937), tensor(0.7430), tensor(0.9674), tensor(1.8942), tensor(1.3535), tensor(1.6891), tensor(1.2546), tensor(2.1250), tensor(1.2680), tensor(0.6606), tensor(2.3697), tensor(2.7706), tensor(-0.8710), tensor(1.7426), tensor(1.6576), tensor(-1.2826), tensor(1.7918), tensor(1.3175), tensor(-1.7955), tensor(0.5575), tensor(2.3122), tensor(0.8253), tensor(1.7301), tensor(2.7833), tensor(1.1978), tensor(-0.8976), tensor(2.5656), tensor(0.3772), tensor(2.7822), tensor(1.6455), tensor(2.7946), tensor(2.8196), tensor(2.0626), tensor(-0.6115), tensor(1.0725), tensor(1.3206), tensor(1.6817), tensor(1.2258), tensor(2.7201), tensor(2.1469), tensor(0.9798), tensor(-0.2514), tensor(0.2476), tensor(-0.5234), tensor(2.7669), tensor(0.7884), tensor(1.3248), tensor(0.3525), tensor(-1.2461), tensor(0.2111), tensor(-0.5016), tensor(-0.4313), tensor(1.9162), tensor(-1.8950), tensor(0.0602), tensor(1.8605), tensor(2.7519), tensor(1.0036), tensor(-2.1340), tensor(2.3656), tensor(2.7755), tensor(2.8208), tensor(-2.0496), tensor(1.4030), tensor(-1.9029), tensor(1.7110), tensor(0.0148), tensor(-0.2853), tensor(1.5289), tensor(-0.0923), tensor(2.7437), tensor(1.3891), tensor(1.6853), tensor(1.3741), tensor(-0.6265), tensor(2.3398), tensor(2.1429), tensor(-0.1540), tensor(0.0721), tensor(1.1066), tensor(-0.3090), tensor(1.6098), tensor(2.4384), tensor(-1.6485), tensor(-0.9226), tensor(1.5637), tensor(2.6881), tensor(2.2068), tensor(1.6435), tensor(2.3119), tensor(2.3601), tensor(2.4465), tensor(1.9234), tensor(1.7386), tensor(2.7435), tensor(1.5061), tensor(0.3178), tensor(1.2354), tensor(1.8284), tensor(2.9021), tensor(2.1883), tensor(2.1389), tensor(1.5652), tensor(2.4213), tensor(-1.9238), tensor(1.4697), tensor(0.9627), tensor(2.7969), tensor(0.1768), tensor(2.0850), tensor(2.2191)]\n"
     ]
    },
    {
     "name": "stderr",
     "output_type": "stream",
     "text": [
      "15it [34:03, 137.59s/it]"
     ]
    },
    {
     "name": "stdout",
     "output_type": "stream",
     "text": [
      "[tensor(2.2235), tensor(-0.0128), tensor(2.6589), tensor(-2.4549), tensor(1.2842), tensor(1.0739), tensor(0.8726), tensor(1.6692), tensor(1.1354), tensor(-0.4306), tensor(0.8056), tensor(0.1987), tensor(-0.0465), tensor(1.8022), tensor(0.7680), tensor(-0.8015), tensor(-2.1007), tensor(2.3454), tensor(2.0262), tensor(1.7533), tensor(-0.6863), tensor(1.1608), tensor(0.4510), tensor(-0.2147), tensor(2.4248), tensor(0.5149), tensor(2.2481), tensor(1.4699), tensor(2.6929), tensor(1.0824), tensor(1.6677), tensor(1.8660), tensor(2.7890), tensor(2.8282), tensor(2.5352), tensor(1.6592), tensor(0.2361), tensor(2.5037), tensor(2.7921), tensor(2.8147), tensor(1.0638), tensor(1.0261), tensor(2.1824), tensor(-1.7358), tensor(-1.0624), tensor(1.9284), tensor(2.5167), tensor(2.3064), tensor(0.5147), tensor(1.8787), tensor(0.3625), tensor(-2.1071), tensor(1.3238), tensor(1.4381), tensor(1.2768), tensor(2.3972), tensor(0.4256), tensor(1.8896), tensor(2.6921), tensor(-0.5765), tensor(0.0820), tensor(2.4223), tensor(-0.4516), tensor(1.2319), tensor(2.7661), tensor(0.9444), tensor(0.1855), tensor(-0.6040), tensor(1.6631), tensor(0.3911), tensor(-1.0802), tensor(-0.3643), tensor(2.4578), tensor(1.0620), tensor(2.5944), tensor(1.5963), tensor(2.0520), tensor(0.3041), tensor(0.1801), tensor(1.5112), tensor(0.9645), tensor(2.1889), tensor(2.3005), tensor(-1.4577), tensor(-0.7367), tensor(-2.1299), tensor(1.2058), tensor(-2.3119), tensor(2.5956), tensor(-1.2707), tensor(1.0686), tensor(2.8372), tensor(1.5817), tensor(2.4696), tensor(1.7859), tensor(-1.6214), tensor(1.1919), tensor(-0.3497), tensor(-1.0646), tensor(-1.0285), tensor(0.3359), tensor(1.5287), tensor(-0.0957), tensor(0.1284), tensor(1.3934), tensor(-1.3567), tensor(-0.9347), tensor(2.7401), tensor(1.3815), tensor(2.7894), tensor(2.0513), tensor(-0.2870), tensor(-1.1268), tensor(0.3677), tensor(1.9147), tensor(2.4161), tensor(-1.7778), tensor(0.8690), tensor(0.3931), tensor(-0.6383), tensor(-1.2722), tensor(2.5720), tensor(-1.4680), tensor(1.0591), tensor(-1.6908), tensor(1.5003), tensor(-0.0839), tensor(2.4172), tensor(-0.2045), tensor(1.9602), tensor(2.1916), tensor(-1.1059), tensor(-0.4452), tensor(2.2418), tensor(1.1011), tensor(0.4504), tensor(-1.2454), tensor(1.1917), tensor(2.2581), tensor(0.3715), tensor(1.8189), tensor(-1.9638), tensor(2.1648), tensor(-1.2123), tensor(-2.1100), tensor(0.9589), tensor(2.5835), tensor(0.3352), tensor(-0.9494), tensor(-2.1003), tensor(1.9522), tensor(1.3367), tensor(2.8011), tensor(0.6616), tensor(1.8276), tensor(2.4343), tensor(2.0404), tensor(2.4566), tensor(2.1899), tensor(2.5363), tensor(0.3387), tensor(0.1254), tensor(2.1817), tensor(2.3345), tensor(-1.2053), tensor(1.3458), tensor(2.5425), tensor(1.3801), tensor(-2.3488), tensor(0.2277), tensor(1.8833), tensor(2.6073), tensor(2.5539), tensor(-1.4723), tensor(0.0815), tensor(1.1584), tensor(2.0868), tensor(0.6227), tensor(2.2195), tensor(1.9777), tensor(2.5636), tensor(1.2943), tensor(0.9441), tensor(-2.8501), tensor(1.1188), tensor(0.5664), tensor(1.5153), tensor(1.8707), tensor(-2.8065), tensor(2.0162), tensor(0.0733), tensor(1.7442), tensor(-1.1281), tensor(1.8269), tensor(2.3377), tensor(2.1592), tensor(1.5982), tensor(-1.7480), tensor(2.6874), tensor(0.6479), tensor(0.6658), tensor(1.1665), tensor(2.9092), tensor(-1.4129), tensor(-0.0928), tensor(-0.5988), tensor(1.7268), tensor(-3.0160), tensor(0.5463), tensor(0.5283), tensor(1.9855), tensor(2.5660), tensor(1.2261), tensor(-0.4132), tensor(2.7888), tensor(2.2075), tensor(1.2358), tensor(-2.0757), tensor(2.7531), tensor(2.8262), tensor(-2.2209), tensor(1.5413), tensor(0.3563), tensor(2.8992), tensor(1.6348), tensor(0.8151), tensor(0.3863), tensor(2.2790), tensor(0.4544), tensor(-2.4123), tensor(2.8599), tensor(-0.2689), tensor(1.6639), tensor(2.1671), tensor(-0.5474), tensor(0.0470), tensor(2.5724), tensor(2.6876), tensor(0.5697), tensor(-0.5337), tensor(2.1293), tensor(2.5571), tensor(0.6036), tensor(1.9385), tensor(1.2176), tensor(1.2737), tensor(0.6135), tensor(1.3863), tensor(1.8118), tensor(0.0018), tensor(0.4341), tensor(1.0262), tensor(-1.3243), tensor(-0.1161), tensor(-0.6367), tensor(0.5955)]\n"
     ]
    },
    {
     "name": "stderr",
     "output_type": "stream",
     "text": [
      "16it [36:18, 136.75s/it]"
     ]
    },
    {
     "name": "stdout",
     "output_type": "stream",
     "text": [
      "[tensor(0.7009), tensor(1.0359), tensor(0.2589), tensor(0.0803), tensor(1.6782), tensor(2.7186), tensor(2.6782), tensor(-1.2226), tensor(0.2433), tensor(-0.0137), tensor(2.6552), tensor(1.5714), tensor(-1.3920), tensor(2.6999), tensor(2.3898), tensor(2.7857), tensor(-0.7414), tensor(-1.9577), tensor(-1.0039), tensor(0.8063), tensor(2.1562), tensor(-0.2399), tensor(1.8871), tensor(2.2184), tensor(-0.5247), tensor(2.6843), tensor(2.7774), tensor(-0.9527), tensor(2.8438), tensor(-0.5706), tensor(2.2843), tensor(1.8971), tensor(0.3829), tensor(1.9454), tensor(1.5223), tensor(-2.3274), tensor(0.9628), tensor(0.2501), tensor(-0.9481), tensor(1.7411), tensor(2.8030), tensor(2.0093), tensor(-2.3652), tensor(-1.8774), tensor(-3.0160), tensor(2.3535), tensor(0.2061), tensor(1.3723), tensor(-0.1959), tensor(2.6142), tensor(-1.7534), tensor(2.5792), tensor(2.7491), tensor(1.5291), tensor(0.2358), tensor(2.5083), tensor(2.2140), tensor(2.2498), tensor(2.5196), tensor(2.3219), tensor(-1.7606), tensor(2.2850), tensor(1.3823), tensor(0.5801), tensor(1.6854), tensor(1.6831), tensor(-0.5162), tensor(-0.7284), tensor(2.8396), tensor(2.4912), tensor(1.5113), tensor(0.4406), tensor(0.1418), tensor(2.5488), tensor(0.3806), tensor(1.8031), tensor(2.8634), tensor(1.0534), tensor(2.3236), tensor(1.2921), tensor(2.6493), tensor(2.6759), tensor(0.5958), tensor(2.8259), tensor(2.3528), tensor(0.8222), tensor(0.9051), tensor(-0.0849), tensor(2.6152), tensor(2.6223), tensor(0.9938), tensor(2.7841), tensor(0.3041), tensor(1.3820), tensor(2.6536), tensor(2.1305), tensor(1.7805), tensor(2.7445), tensor(2.2013), tensor(-1.2313), tensor(1.8637), tensor(2.6093), tensor(2.6128), tensor(-2.9281), tensor(2.7884), tensor(2.2861), tensor(1.0722), tensor(2.6224), tensor(1.7704), tensor(2.6396), tensor(1.2929), tensor(2.7395), tensor(-0.8913), tensor(0.6149), tensor(0.7412), tensor(1.4159), tensor(1.0925), tensor(2.7274), tensor(-2.8347), tensor(2.5484), tensor(2.6050), tensor(1.2631), tensor(1.9550), tensor(2.8438), tensor(2.7641), tensor(2.6380), tensor(-1.4778), tensor(1.4325), tensor(2.7191), tensor(1.4989), tensor(2.2584), tensor(1.0889), tensor(0.4742), tensor(2.7134), tensor(2.7344), tensor(2.6207), tensor(2.5216), tensor(2.5175), tensor(1.6094), tensor(0.4572), tensor(1.1273), tensor(-2.7807), tensor(-1.8582), tensor(0.5693), tensor(0.8629), tensor(2.8800), tensor(0.6303), tensor(2.0508), tensor(2.5027), tensor(1.2428), tensor(1.5957), tensor(1.6115), tensor(2.2799), tensor(-0.6454), tensor(-0.7952), tensor(2.8744), tensor(2.0622), tensor(2.8883), tensor(2.5916), tensor(-1.4952), tensor(1.2228), tensor(-2.5667), tensor(1.3434), tensor(-0.6065), tensor(1.4005), tensor(-1.0665), tensor(1.5715), tensor(-0.7904), tensor(2.6247), tensor(2.6387), tensor(2.5301), tensor(-2.0917), tensor(0.2214), tensor(1.3304), tensor(2.2913), tensor(2.4869), tensor(2.4090), tensor(2.4248), tensor(2.3483), tensor(2.5665), tensor(1.7242), tensor(2.1752), tensor(2.1038), tensor(1.4840), tensor(2.7761), tensor(1.1709), tensor(2.7055), tensor(-2.5551), tensor(2.3838), tensor(-2.3532), tensor(2.8725), tensor(1.5173), tensor(2.3236), tensor(1.2541), tensor(1.0992), tensor(-2.1550), tensor(1.5365), tensor(2.7361), tensor(2.3041), tensor(1.0917), tensor(0.5954), tensor(-1.3686), tensor(-0.3014), tensor(-2.8776), tensor(0.3814), tensor(2.2128), tensor(2.7896), tensor(2.1906), tensor(0.7657), tensor(0.3448), tensor(2.1396), tensor(2.7122), tensor(2.3342), tensor(2.7573), tensor(2.1334), tensor(2.3516), tensor(0.7737), tensor(-1.0567), tensor(1.6070), tensor(0.9831), tensor(2.7841), tensor(2.0057), tensor(0.3511), tensor(0.8180), tensor(2.4904), tensor(1.9769), tensor(-0.9432), tensor(2.3774), tensor(-2.9061), tensor(0.7965), tensor(2.7215), tensor(2.1808), tensor(1.1570), tensor(0.8938), tensor(-2.6030), tensor(0.8390), tensor(-1.1329), tensor(1.3447), tensor(2.0108), tensor(1.8520), tensor(2.5263), tensor(2.1347), tensor(2.0833), tensor(1.1078), tensor(2.2841), tensor(-2.6645), tensor(-2.8975), tensor(2.8832), tensor(0.9863), tensor(1.8885), tensor(0.3943), tensor(0.7057), tensor(2.6293), tensor(-1.7284), tensor(1.8464), tensor(-0.2597)]\n"
     ]
    },
    {
     "name": "stderr",
     "output_type": "stream",
     "text": [
      "17it [38:28, 134.72s/it]"
     ]
    },
    {
     "name": "stdout",
     "output_type": "stream",
     "text": [
      "[tensor(-0.4272), tensor(0.6712), tensor(0.6954), tensor(-1.2851), tensor(0.0846), tensor(0.6918), tensor(1.8330), tensor(2.3378), tensor(2.3497), tensor(1.0159), tensor(2.8191), tensor(2.4476), tensor(0.1329), tensor(-0.4087), tensor(2.8082), tensor(0.9287), tensor(2.2366), tensor(2.2764), tensor(-2.8881), tensor(0.5816), tensor(0.3266), tensor(2.6979), tensor(-0.7335), tensor(1.0685), tensor(-2.8722), tensor(2.7978), tensor(0.8798), tensor(0.3816), tensor(2.6442), tensor(-1.1556), tensor(2.7529), tensor(2.2917), tensor(2.3546), tensor(1.5850), tensor(-2.1925), tensor(-0.2963), tensor(2.1540), tensor(2.7998), tensor(0.1373), tensor(2.3946), tensor(1.7576), tensor(1.4404), tensor(2.5544), tensor(2.2874), tensor(1.1206), tensor(-1.0151), tensor(1.1683), tensor(0.4690), tensor(0.4010), tensor(2.3561), tensor(-1.1194), tensor(1.6684), tensor(2.2146), tensor(1.8756), tensor(-1.6193), tensor(-0.9911), tensor(2.4028), tensor(-0.3321), tensor(0.4437), tensor(-0.7126), tensor(1.4804), tensor(1.7391), tensor(1.6686), tensor(0.0915), tensor(-0.8116), tensor(0.5606), tensor(2.8139), tensor(-2.4066), tensor(1.6490), tensor(2.7309), tensor(-1.5790), tensor(0.5172), tensor(2.6278), tensor(2.0576), tensor(2.8646), tensor(-0.9747), tensor(0.3124), tensor(1.3423), tensor(-1.8612), tensor(2.5687), tensor(2.3684), tensor(2.8536), tensor(-1.7915), tensor(2.3482), tensor(-2.6953), tensor(0.0658), tensor(2.4228), tensor(2.0657), tensor(2.6730), tensor(2.6937), tensor(-0.2520), tensor(0.8288), tensor(2.6328), tensor(0.9902), tensor(0.8683), tensor(-3.0184), tensor(0.3707), tensor(1.7622), tensor(0.5511), tensor(-2.9719), tensor(-0.7813), tensor(1.6521), tensor(2.2221), tensor(1.5375), tensor(-0.5625), tensor(1.8703), tensor(2.2679), tensor(2.6418), tensor(2.8674), tensor(1.1553), tensor(2.1504), tensor(1.5996), tensor(2.5692), tensor(2.6568), tensor(2.2112), tensor(2.8737), tensor(0.5803), tensor(-0.0437), tensor(-0.7956), tensor(0.5260), tensor(2.5940), tensor(2.2215), tensor(1.9598), tensor(2.3565), tensor(1.0186), tensor(2.4670), tensor(1.5508), tensor(1.6330), tensor(1.8805), tensor(2.7562), tensor(0.6312), tensor(2.7667), tensor(-2.7680), tensor(-0.3731), tensor(-2.3947), tensor(2.6523), tensor(-1.8570), tensor(1.1532), tensor(2.6557), tensor(1.8141), tensor(2.1576), tensor(0.3430), tensor(1.6714), tensor(2.6373), tensor(2.8463), tensor(1.5465), tensor(2.6862), tensor(0.2092), tensor(2.7363), tensor(1.8156), tensor(2.0762), tensor(1.2322), tensor(1.4653), tensor(0.4157), tensor(-2.8716), tensor(2.4799), tensor(2.3619), tensor(-2.4556), tensor(-1.4864), tensor(0.2486), tensor(1.9148), tensor(2.2001), tensor(2.6103), tensor(2.2948), tensor(0.8604), tensor(1.5144), tensor(2.7945), tensor(-0.5986), tensor(2.8042), tensor(-2.6145), tensor(2.7867), tensor(0.9141), tensor(2.9010), tensor(0.6905), tensor(2.6924), tensor(-3.0110), tensor(0.4908), tensor(1.8076), tensor(0.5761), tensor(-1.4952), tensor(2.7294), tensor(2.7272), tensor(0.9546), tensor(0.0254), tensor(2.7899), tensor(-1.5031), tensor(-0.3225), tensor(2.7638), tensor(1.1404), tensor(2.8113), tensor(2.0386), tensor(2.9118), tensor(2.4420), tensor(2.1044), tensor(2.0895), tensor(2.8278), tensor(0.4811), tensor(1.5438), tensor(2.1239), tensor(-1.8033), tensor(2.6000), tensor(1.9665), tensor(0.2337), tensor(2.6637), tensor(2.7264), tensor(0.7994), tensor(1.0362), tensor(2.8862), tensor(1.5609), tensor(1.7338), tensor(0.4177), tensor(2.5889), tensor(2.4020), tensor(1.5009), tensor(2.0107), tensor(0.0192), tensor(2.1197), tensor(1.7093), tensor(2.6076), tensor(-0.1653), tensor(1.9869), tensor(-0.9678), tensor(-0.9406), tensor(0.6657), tensor(1.2956), tensor(-0.3818), tensor(2.0962), tensor(1.7039), tensor(-2.0613), tensor(2.1491), tensor(-1.9622), tensor(0.9218), tensor(0.4532), tensor(2.1970), tensor(1.6588), tensor(1.7925), tensor(-0.1031), tensor(0.8669), tensor(2.7835), tensor(-2.0588), tensor(1.3210), tensor(2.7099), tensor(2.7615), tensor(0.2249), tensor(1.2791), tensor(2.6451), tensor(1.0809), tensor(2.1748), tensor(2.7036), tensor(2.4701), tensor(1.6980), tensor(1.9425), tensor(1.8308), tensor(1.3479), tensor(2.1340), tensor(2.6818)]\n"
     ]
    },
    {
     "name": "stderr",
     "output_type": "stream",
     "text": [
      "18it [40:39, 133.81s/it]"
     ]
    },
    {
     "name": "stdout",
     "output_type": "stream",
     "text": [
      "[tensor(1.4564), tensor(1.5567), tensor(0.3652), tensor(-0.3291), tensor(2.7006), tensor(1.2991), tensor(-3.0370), tensor(-0.0447), tensor(2.7548), tensor(2.7866), tensor(1.8484), tensor(-0.5444), tensor(0.5683), tensor(1.3130), tensor(2.5628), tensor(-0.5724), tensor(1.4359), tensor(2.7494), tensor(-1.0505), tensor(-0.1882), tensor(2.4306), tensor(0.9075), tensor(0.9530), tensor(-0.7501), tensor(-1.5684), tensor(0.3137), tensor(-1.7874), tensor(0.0206), tensor(1.8389), tensor(2.8809), tensor(-1.3707), tensor(1.1617), tensor(1.4992), tensor(2.4116), tensor(1.9806), tensor(2.9197), tensor(2.3125), tensor(2.2405), tensor(0.7942), tensor(2.5884), tensor(2.1786), tensor(1.3487), tensor(-0.0650), tensor(1.7062), tensor(2.1755), tensor(2.6691), tensor(2.1524), tensor(-0.5215), tensor(0.3388), tensor(-1.2370), tensor(2.1963), tensor(1.2345), tensor(2.8402), tensor(-0.3792), tensor(2.7938), tensor(-0.2936), tensor(-2.3415), tensor(1.3084), tensor(2.2911), tensor(2.7373), tensor(1.9689), tensor(-0.0717), tensor(-0.1789), tensor(1.4366), tensor(-1.6464), tensor(1.4811), tensor(0.5742), tensor(2.7986), tensor(2.4401), tensor(0.0819), tensor(0.6738), tensor(1.0505), tensor(-0.0332), tensor(2.7064), tensor(-2.7513), tensor(-0.4566), tensor(1.6838), tensor(2.8502), tensor(-2.7160), tensor(2.5893), tensor(2.3681), tensor(2.5038), tensor(2.8973), tensor(2.3223), tensor(0.9094), tensor(2.8911), tensor(-3.0114), tensor(2.8775), tensor(1.2502), tensor(-1.4182), tensor(-0.9714), tensor(1.6389), tensor(-1.8441), tensor(2.7262), tensor(2.7988), tensor(2.6928), tensor(1.4489), tensor(-2.5979), tensor(2.2469), tensor(-2.9273), tensor(1.7860), tensor(-0.5289), tensor(-1.3382), tensor(2.0530), tensor(1.1070), tensor(1.2854), tensor(0.5242), tensor(2.5890), tensor(1.6802), tensor(2.3023), tensor(2.3342), tensor(1.5142), tensor(2.7851), tensor(2.7445), tensor(1.7758), tensor(-2.7350), tensor(-2.2959), tensor(1.7916), tensor(0.8870), tensor(-2.0005), tensor(2.3986), tensor(2.3341), tensor(0.3253), tensor(2.0601), tensor(2.0333), tensor(2.7626), tensor(2.3065), tensor(0.3663), tensor(0.3942), tensor(2.4937), tensor(2.3630), tensor(0.7588), tensor(-2.1699), tensor(2.7349), tensor(1.9318), tensor(1.3433), tensor(2.3619), tensor(2.6045), tensor(2.6379), tensor(0.6705), tensor(2.3528), tensor(1.4850), tensor(2.2676), tensor(2.8711), tensor(-1.1945), tensor(2.1573), tensor(1.4608), tensor(-2.1862), tensor(2.3885), tensor(-0.2649), tensor(0.1516), tensor(1.3763), tensor(2.1765), tensor(2.3310), tensor(-0.0204), tensor(0.0386), tensor(1.7140), tensor(0.1708), tensor(2.4467), tensor(2.7066), tensor(1.1661), tensor(1.0289), tensor(-1.0961), tensor(2.4442), tensor(-1.1087), tensor(2.7555), tensor(2.4447), tensor(-1.8241), tensor(2.4069), tensor(2.7772), tensor(1.6777), tensor(1.7032), tensor(1.5270), tensor(-0.9479), tensor(0.8385), tensor(2.3722), tensor(2.6625), tensor(2.8077), tensor(1.6996), tensor(2.4755), tensor(1.9097), tensor(2.3462), tensor(-0.5778), tensor(1.7218), tensor(1.0347), tensor(2.7813), tensor(-1.1527), tensor(1.5351), tensor(1.3232), tensor(1.1476), tensor(2.6136), tensor(-0.3541), tensor(-1.0912), tensor(2.7854), tensor(2.2425), tensor(-1.9331), tensor(2.4481), tensor(-0.1208), tensor(-0.1386), tensor(0.2931), tensor(2.7498), tensor(1.6161), tensor(-0.4077), tensor(0.4995), tensor(2.5156), tensor(1.8180), tensor(1.6572), tensor(1.8965), tensor(1.9544), tensor(-2.1133), tensor(2.2909), tensor(1.3747), tensor(1.7194), tensor(1.0768), tensor(2.7357), tensor(-0.8228), tensor(1.7661), tensor(2.0441), tensor(-0.3629), tensor(-1.6843), tensor(1.0253), tensor(2.5912), tensor(1.4596), tensor(2.5243), tensor(2.6059), tensor(1.6731), tensor(2.6622), tensor(-0.2403), tensor(1.6098), tensor(2.8504), tensor(2.6792), tensor(2.6129), tensor(1.3145), tensor(1.9548), tensor(2.2877), tensor(0.1891), tensor(1.3396), tensor(2.6135), tensor(1.7243), tensor(-0.2464), tensor(1.5165), tensor(2.8709), tensor(0.8724), tensor(2.8597), tensor(2.2466), tensor(2.3925), tensor(1.1401), tensor(-0.6097), tensor(1.6680), tensor(2.8410), tensor(2.7133), tensor(2.6026), tensor(2.2559), tensor(-1.2288), tensor(-0.6599), tensor(2.6758)]\n"
     ]
    },
    {
     "name": "stderr",
     "output_type": "stream",
     "text": [
      "19it [42:48, 132.13s/it]"
     ]
    },
    {
     "name": "stdout",
     "output_type": "stream",
     "text": [
      "[tensor(-1.2892), tensor(2.4184), tensor(2.7688), tensor(2.9256), tensor(2.6865), tensor(-0.1069), tensor(2.5903), tensor(0.1993), tensor(2.4319), tensor(1.4428), tensor(2.0722), tensor(1.3134), tensor(1.4452), tensor(2.5426), tensor(1.8956), tensor(2.0789), tensor(-0.4714), tensor(-1.9727), tensor(2.7658), tensor(2.1697), tensor(2.2053), tensor(-1.1226), tensor(1.5318), tensor(2.5882), tensor(2.5841), tensor(0.4719), tensor(2.5977), tensor(1.0540), tensor(2.1037), tensor(2.7070), tensor(1.8545), tensor(1.2146), tensor(1.7609), tensor(2.1198), tensor(0.3695), tensor(2.7349), tensor(-1.1382), tensor(2.6586), tensor(2.8139), tensor(2.7496), tensor(0.3202), tensor(2.0913), tensor(0.7333), tensor(1.6756), tensor(2.1636), tensor(2.8847), tensor(-1.6882), tensor(1.6386), tensor(-1.2030), tensor(-1.1395), tensor(1.7938), tensor(2.2814), tensor(2.6684), tensor(-0.5062), tensor(1.0740), tensor(2.5828), tensor(1.3069), tensor(2.8597), tensor(2.3336), tensor(2.7521), tensor(2.8428), tensor(1.6742), tensor(0.9804), tensor(2.6927), tensor(2.5091), tensor(-1.3787), tensor(-0.3253), tensor(-1.4157), tensor(2.7727), tensor(-0.2027), tensor(1.1656), tensor(-0.4341), tensor(1.1666), tensor(2.4320), tensor(2.8519), tensor(1.9998), tensor(0.9342), tensor(0.5531), tensor(-0.5419), tensor(1.3543), tensor(2.7819), tensor(2.5565), tensor(-2.9012), tensor(2.8545), tensor(2.5988), tensor(-0.8435), tensor(0.7922), tensor(2.5163), tensor(0.0021), tensor(2.8701), tensor(2.4701), tensor(1.4933), tensor(0.2252), tensor(-2.6712), tensor(0.1610), tensor(1.2726), tensor(1.8118), tensor(2.5209), tensor(1.9822), tensor(2.3121), tensor(-2.7700), tensor(2.7498), tensor(1.7464), tensor(0.5666), tensor(2.6334), tensor(2.3098), tensor(2.6772), tensor(2.4571), tensor(1.7975), tensor(1.1842), tensor(0.3239), tensor(2.5210), tensor(2.4720), tensor(-0.4713), tensor(2.0544), tensor(0.7734), tensor(1.9239), tensor(0.6974), tensor(1.0605), tensor(-0.4782), tensor(2.2661), tensor(0.7374), tensor(0.9979), tensor(2.4657), tensor(1.3156), tensor(2.4352), tensor(2.7837), tensor(2.6897), tensor(1.3863), tensor(0.6261), tensor(2.0202), tensor(2.8196), tensor(-0.1367), tensor(2.3521), tensor(2.8264), tensor(0.9324), tensor(2.2078), tensor(2.8007), tensor(-0.5707), tensor(-0.5207), tensor(0.3707), tensor(1.9974), tensor(2.4108), tensor(1.7090), tensor(1.7940), tensor(1.7504), tensor(2.3290), tensor(2.0616), tensor(-1.5227), tensor(1.6952), tensor(1.6749), tensor(2.6744), tensor(2.6256), tensor(2.1358), tensor(1.7663), tensor(-2.9384), tensor(-1.4590), tensor(2.6886), tensor(1.9339), tensor(2.8320), tensor(1.1011), tensor(-0.1260), tensor(1.3197), tensor(-1.7674), tensor(2.0849), tensor(-0.9322), tensor(2.7624), tensor(2.4565), tensor(0.6543), tensor(0.7956), tensor(2.8411), tensor(2.6489), tensor(1.8114), tensor(0.8556), tensor(2.7488), tensor(1.9839), tensor(1.5736), tensor(1.5518), tensor(2.5448), tensor(2.7998), tensor(0.1523), tensor(1.6340), tensor(2.5757), tensor(1.6903), tensor(1.7147), tensor(1.2037), tensor(2.7656), tensor(1.8854), tensor(1.8425), tensor(2.6889), tensor(2.2918), tensor(1.0070), tensor(2.7160), tensor(1.5160), tensor(-1.4654), tensor(2.4800), tensor(-2.9707), tensor(2.8979), tensor(2.0348), tensor(1.0039), tensor(2.1944), tensor(1.0662), tensor(2.9007), tensor(2.4040), tensor(2.8698), tensor(2.3635), tensor(2.7413), tensor(2.3878), tensor(2.7150), tensor(2.1703), tensor(1.6343), tensor(2.0683), tensor(2.1456), tensor(2.8096), tensor(0.7439), tensor(0.8179), tensor(2.7522), tensor(2.5351), tensor(-1.9876), tensor(1.5985), tensor(2.4016), tensor(1.4292), tensor(2.6291), tensor(-0.3969), tensor(1.7214), tensor(-0.6719), tensor(2.2536), tensor(1.6968), tensor(-1.9826), tensor(1.9043), tensor(2.3331), tensor(2.6882), tensor(1.1952), tensor(2.1366), tensor(2.7417), tensor(0.9771), tensor(-0.3342), tensor(2.6135), tensor(2.6229), tensor(2.2200), tensor(0.1454), tensor(1.4701), tensor(-1.0495), tensor(0.2332), tensor(0.5576), tensor(1.1989), tensor(-0.1239), tensor(2.4658), tensor(-0.9713), tensor(1.9406), tensor(-2.5132), tensor(2.7874), tensor(-2.3618), tensor(0.0877), tensor(0.6898), tensor(2.5571)]\n"
     ]
    },
    {
     "name": "stderr",
     "output_type": "stream",
     "text": [
      "20it [44:57, 131.34s/it]"
     ]
    },
    {
     "name": "stdout",
     "output_type": "stream",
     "text": [
      "[tensor(0.5342), tensor(2.2710), tensor(2.6521), tensor(1.6412), tensor(-0.5458), tensor(1.7391), tensor(2.8588), tensor(2.2045), tensor(-0.6149), tensor(2.0580), tensor(1.2994), tensor(-3.0084), tensor(1.5725), tensor(1.5468), tensor(2.7459), tensor(2.1519), tensor(-0.2208), tensor(0.8812), tensor(1.1034), tensor(2.4539), tensor(2.7085), tensor(2.7390), tensor(2.4679), tensor(1.0478), tensor(-0.7224), tensor(0.3644), tensor(2.4549), tensor(-0.8194), tensor(2.9209), tensor(2.0021), tensor(1.7462), tensor(2.6894), tensor(-0.0839), tensor(-0.2040), tensor(-0.6177), tensor(0.5486), tensor(2.6760), tensor(1.1091), tensor(1.9591), tensor(1.7846), tensor(-1.1841), tensor(2.8134), tensor(2.3312), tensor(2.5510), tensor(2.5988), tensor(2.5578), tensor(1.4518), tensor(2.3069), tensor(2.5188), tensor(1.2428), tensor(2.6344), tensor(2.7553), tensor(-1.6836), tensor(1.3782), tensor(-0.5407), tensor(1.9549), tensor(1.1820), tensor(2.1909), tensor(2.8712), tensor(1.4769), tensor(1.6377), tensor(2.0615), tensor(1.4399), tensor(-1.2379), tensor(-0.9193), tensor(2.8281), tensor(2.5685), tensor(1.6970), tensor(2.3019), tensor(0.5248), tensor(1.6312), tensor(0.4767), tensor(2.3436), tensor(0.2261), tensor(1.1256), tensor(-2.8079), tensor(-0.3674), tensor(1.2084), tensor(-0.0457), tensor(2.7849), tensor(1.0931), tensor(2.6208), tensor(2.0149), tensor(2.6401), tensor(2.7289), tensor(2.5792), tensor(1.0203), tensor(2.6830), tensor(1.5027), tensor(1.1816), tensor(-1.2381), tensor(2.7389), tensor(0.6597), tensor(2.1985), tensor(0.3405), tensor(0.3870), tensor(-0.4333), tensor(2.6383), tensor(1.5610), tensor(1.7442), tensor(2.7567), tensor(2.7921), tensor(2.5230), tensor(1.4155), tensor(0.2826), tensor(2.7046), tensor(2.4497), tensor(2.8263), tensor(2.6736), tensor(2.5298), tensor(-1.6690), tensor(0.6186), tensor(1.5161), tensor(-0.4792), tensor(1.8478), tensor(0.4667), tensor(-0.0105), tensor(1.9016), tensor(1.2791), tensor(1.7344), tensor(2.8478), tensor(2.4875), tensor(2.4117), tensor(0.9809), tensor(-0.3772), tensor(1.3736), tensor(-0.7406), tensor(2.6900), tensor(1.9149), tensor(1.1582), tensor(2.4901), tensor(2.6912), tensor(1.8417), tensor(1.2575), tensor(2.4148), tensor(-1.5441), tensor(0.4239), tensor(1.4577), tensor(2.5193), tensor(2.7856), tensor(0.8902), tensor(-1.1974), tensor(-0.3349), tensor(1.8455), tensor(1.4006), tensor(-0.0947), tensor(1.0067), tensor(1.0449), tensor(2.5780), tensor(1.7395), tensor(-0.6600), tensor(2.7346), tensor(2.3643), tensor(2.5295), tensor(2.1500), tensor(-1.7484), tensor(2.7503), tensor(2.8424), tensor(2.7767), tensor(1.9613), tensor(1.4515), tensor(2.7436), tensor(2.1009), tensor(2.7636), tensor(2.6225), tensor(1.0887), tensor(-1.4208), tensor(0.8796), tensor(1.4835), tensor(2.2103), tensor(2.7233), tensor(2.7812), tensor(2.6818), tensor(1.5224), tensor(2.0473), tensor(2.5646), tensor(2.8974), tensor(1.1750), tensor(1.0877), tensor(2.7750), tensor(0.6468), tensor(1.7344), tensor(0.9512), tensor(0.1074), tensor(1.5485), tensor(0.3003), tensor(0.7954), tensor(2.0519), tensor(0.1155), tensor(2.1327), tensor(2.0102), tensor(-1.2134), tensor(2.5551), tensor(0.5708), tensor(1.2495), tensor(1.3318), tensor(2.8567), tensor(2.7473), tensor(2.3097), tensor(-1.0035), tensor(2.3184), tensor(2.8687), tensor(-0.0440), tensor(0.7979), tensor(0.0608), tensor(1.4773), tensor(-0.9808), tensor(2.2085), tensor(-1.2912), tensor(2.0642), tensor(-2.9646), tensor(-0.0415), tensor(2.4289), tensor(2.8356), tensor(2.7622), tensor(1.9430), tensor(2.7619), tensor(2.0963), tensor(2.8717), tensor(2.2097), tensor(0.8270), tensor(2.6786), tensor(0.9757), tensor(2.9110), tensor(2.6695), tensor(2.7931), tensor(2.1593), tensor(-2.4586), tensor(-2.0229), tensor(2.5930), tensor(1.2028), tensor(0.9598), tensor(2.0571), tensor(-2.5487), tensor(1.7243), tensor(2.4950), tensor(-1.3785), tensor(0.1991), tensor(2.4568), tensor(0.6152), tensor(2.0332), tensor(2.2531), tensor(1.8103), tensor(-0.2501), tensor(1.4039), tensor(-0.4058), tensor(-2.1683), tensor(2.4740), tensor(2.8458), tensor(2.8059), tensor(2.8369), tensor(0.5645), tensor(2.3581), tensor(1.8315), tensor(-0.7397), tensor(2.1830)]\n"
     ]
    },
    {
     "name": "stderr",
     "output_type": "stream",
     "text": [
      "21it [46:58, 128.32s/it]"
     ]
    },
    {
     "name": "stdout",
     "output_type": "stream",
     "text": [
      "[tensor(1.0384), tensor(-0.4122), tensor(2.5435), tensor(0.8620), tensor(2.0894), tensor(2.7732), tensor(1.4907), tensor(2.7631), tensor(2.0044), tensor(0.0923), tensor(2.7322), tensor(-1.0103), tensor(2.6287), tensor(0.1046), tensor(1.4147), tensor(2.6415), tensor(2.4076), tensor(-2.7479), tensor(2.3384), tensor(2.4110), tensor(2.3212), tensor(-0.6494), tensor(2.5145), tensor(2.3391), tensor(-2.3048), tensor(1.7463), tensor(2.3734), tensor(1.7975), tensor(-2.6383), tensor(2.6905), tensor(1.3684), tensor(1.8641), tensor(-2.4065), tensor(1.5112), tensor(-1.1156), tensor(1.2395), tensor(2.2413), tensor(2.5341), tensor(1.9338), tensor(2.5684), tensor(0.2632), tensor(2.6327), tensor(1.8403), tensor(0.8643), tensor(2.3008), tensor(1.9918), tensor(2.3100), tensor(1.7285), tensor(2.6844), tensor(2.4503), tensor(-1.2176), tensor(2.6688), tensor(1.9561), tensor(2.1729), tensor(2.6090), tensor(2.6286), tensor(2.0611), tensor(0.4618), tensor(0.7308), tensor(1.9800), tensor(2.1395), tensor(-2.1434), tensor(1.5620), tensor(-0.8417), tensor(2.2176), tensor(2.3389), tensor(1.2863), tensor(2.4280), tensor(2.7646), tensor(0.4823), tensor(2.0451), tensor(0.4722), tensor(-2.6989), tensor(-2.8343), tensor(2.5857), tensor(2.7439), tensor(2.0699), tensor(0.8981), tensor(2.1474), tensor(2.6354), tensor(2.5116), tensor(1.3269), tensor(0.2067), tensor(2.3921), tensor(2.0859), tensor(1.6229), tensor(-0.2858), tensor(0.5864), tensor(2.8699), tensor(2.6721), tensor(-1.9723), tensor(2.2508), tensor(2.0357), tensor(2.1923), tensor(2.5906), tensor(2.5240), tensor(1.2801), tensor(2.4929), tensor(0.6495), tensor(1.9673), tensor(-1.1848), tensor(-1.3922), tensor(-0.2852), tensor(-1.5902), tensor(0.8531), tensor(2.7731), tensor(2.1968), tensor(2.8880), tensor(1.5662), tensor(2.6191), tensor(2.7415), tensor(2.2048), tensor(0.0905), tensor(-0.8040), tensor(2.4599), tensor(2.2254), tensor(2.1394), tensor(2.5723), tensor(2.8462), tensor(2.2021), tensor(0.5665), tensor(2.7921), tensor(-0.7860), tensor(2.5722), tensor(2.7415), tensor(-0.0185), tensor(2.7926), tensor(2.1089), tensor(2.2269), tensor(2.7250), tensor(-1.3009), tensor(2.8416), tensor(-1.3665), tensor(2.7029), tensor(0.3450), tensor(2.7664), tensor(2.8818), tensor(1.4305), tensor(2.5017), tensor(2.7833), tensor(2.7896), tensor(2.8862), tensor(0.1959), tensor(0.7223), tensor(1.2876), tensor(-0.6686), tensor(1.9687), tensor(2.5120), tensor(2.7356), tensor(0.7667), tensor(2.2481), tensor(2.1842), tensor(2.5969), tensor(2.6487), tensor(0.2426), tensor(2.8091), tensor(-2.8356), tensor(2.9571), tensor(2.5984), tensor(-2.0319), tensor(2.7231), tensor(0.7407), tensor(2.7465), tensor(2.8742), tensor(-1.7807), tensor(2.0902), tensor(-1.4746), tensor(1.5213), tensor(0.4659), tensor(-2.5317), tensor(2.3678), tensor(2.6961), tensor(0.8806), tensor(2.5009), tensor(2.5706), tensor(2.0371), tensor(1.2901), tensor(2.8272), tensor(2.5732), tensor(-1.0977), tensor(1.9935), tensor(2.6523), tensor(2.6865), tensor(-0.9482), tensor(1.4982), tensor(2.3200), tensor(2.7486), tensor(2.8395), tensor(2.1854), tensor(1.0839), tensor(-0.2190), tensor(2.6567), tensor(-0.4106), tensor(2.7392), tensor(1.4693), tensor(2.7959), tensor(1.2361), tensor(0.3922), tensor(2.7089), tensor(2.7480), tensor(2.5831), tensor(2.0341), tensor(2.7215), tensor(1.7289), tensor(2.3091), tensor(1.8820), tensor(-0.7283), tensor(2.1670), tensor(1.3386), tensor(2.8674), tensor(1.3282), tensor(2.8029), tensor(-0.0994), tensor(2.8035), tensor(2.6727), tensor(-2.7400), tensor(1.9417), tensor(2.6042), tensor(2.5063), tensor(-0.2279), tensor(2.1170), tensor(1.5510), tensor(2.7048), tensor(2.2091), tensor(2.8599), tensor(2.3389), tensor(0.0018), tensor(2.8037), tensor(1.9335), tensor(2.5855), tensor(2.8123), tensor(2.6874), tensor(0.0714), tensor(1.8928), tensor(-1.8218), tensor(0.8173), tensor(2.7781), tensor(1.2809), tensor(2.5501), tensor(2.7028), tensor(2.8358), tensor(2.4796), tensor(1.2305), tensor(2.6795), tensor(0.4633), tensor(2.6340), tensor(2.8353), tensor(-1.2506), tensor(2.4832), tensor(1.5631), tensor(1.8083), tensor(2.6713), tensor(2.8344), tensor(1.3610), tensor(2.7338), tensor(0.1754)]\n"
     ]
    },
    {
     "name": "stderr",
     "output_type": "stream",
     "text": [
      "22it [49:13, 130.19s/it]"
     ]
    },
    {
     "name": "stdout",
     "output_type": "stream",
     "text": [
      "[tensor(-1.2035), tensor(-0.4546), tensor(-0.2031), tensor(2.3848), tensor(1.9314), tensor(-2.3143), tensor(2.7397), tensor(1.5729), tensor(2.7241), tensor(-2.3440), tensor(2.2886), tensor(2.6304), tensor(2.7530), tensor(2.1348), tensor(1.7628), tensor(2.7896), tensor(1.2010), tensor(-1.2919), tensor(2.8415), tensor(2.8316), tensor(-0.0344), tensor(2.6668), tensor(-0.6090), tensor(2.6308), tensor(1.1659), tensor(2.7093), tensor(2.6960), tensor(2.2486), tensor(2.3405), tensor(2.5370), tensor(2.3357), tensor(1.6730), tensor(-2.1332), tensor(-1.0329), tensor(2.1473), tensor(2.7880), tensor(2.8594), tensor(-0.0958), tensor(-0.8943), tensor(2.5963), tensor(2.0576), tensor(2.7512), tensor(2.7397), tensor(2.4289), tensor(2.7133), tensor(2.8941), tensor(2.6088), tensor(2.8495), tensor(2.7367), tensor(1.1528), tensor(0.9902), tensor(0.5129), tensor(2.4141), tensor(1.1384), tensor(2.7309), tensor(1.3107), tensor(0.6107), tensor(2.4963), tensor(2.4388), tensor(2.6905), tensor(1.2358), tensor(2.7144), tensor(2.4290), tensor(1.1765), tensor(1.3726), tensor(-1.2238), tensor(1.8038), tensor(1.2656), tensor(1.0097), tensor(-0.5593), tensor(-2.2290), tensor(2.6989), tensor(1.3003), tensor(2.2075), tensor(1.8440), tensor(1.9911), tensor(1.8091), tensor(2.1378), tensor(2.4978), tensor(2.0637), tensor(2.7057), tensor(0.1544), tensor(2.7079), tensor(2.2582), tensor(2.7733), tensor(-1.0158), tensor(0.6058), tensor(2.5263), tensor(1.3944), tensor(-0.6427), tensor(1.5156), tensor(1.1611), tensor(-0.7719), tensor(2.8127), tensor(2.4838), tensor(0.4165), tensor(1.9561), tensor(0.1074), tensor(-2.1950), tensor(2.7325), tensor(1.8255), tensor(0.6572), tensor(2.9497), tensor(-0.0444), tensor(1.7368), tensor(2.5929), tensor(2.8955), tensor(0.3990), tensor(2.4529), tensor(1.7252), tensor(2.5853), tensor(-0.4731), tensor(2.5088), tensor(2.4929), tensor(2.2913), tensor(2.3179), tensor(0.3201), tensor(2.6302), tensor(0.0530), tensor(0.0928), tensor(1.8978), tensor(2.6161), tensor(0.1997), tensor(1.8853), tensor(1.7267), tensor(2.2815), tensor(2.6210), tensor(1.3892), tensor(2.2875), tensor(0.0427), tensor(2.8893), tensor(2.7820), tensor(-2.2374), tensor(2.0264), tensor(2.8036), tensor(-0.5343), tensor(2.8359), tensor(2.7834), tensor(2.7315), tensor(0.8315), tensor(-1.3429), tensor(0.5532), tensor(2.4399), tensor(2.6419), tensor(-1.0411), tensor(1.2206), tensor(2.5428), tensor(-0.1109), tensor(2.0813), tensor(1.9118), tensor(2.5259), tensor(2.8652), tensor(2.8688), tensor(-0.0760), tensor(2.1275), tensor(2.6642), tensor(2.3105), tensor(2.8931), tensor(-1.1451), tensor(1.8811), tensor(2.6061), tensor(2.1250), tensor(0.5125), tensor(2.6708), tensor(2.4048), tensor(2.8394), tensor(2.4680), tensor(2.0237), tensor(-2.9774), tensor(2.3558), tensor(2.5652), tensor(2.8267), tensor(-0.7299), tensor(-1.2389), tensor(-0.2813), tensor(2.3258), tensor(0.4839), tensor(-0.2873), tensor(1.3126), tensor(2.8407), tensor(0.6546), tensor(0.1716), tensor(2.3744), tensor(2.2886), tensor(1.9892), tensor(-0.5279), tensor(2.8510), tensor(-1.5398), tensor(1.1246), tensor(2.4114), tensor(2.6268), tensor(1.1052), tensor(2.5579), tensor(1.4277), tensor(1.3877), tensor(2.6428), tensor(2.5661), tensor(2.8973), tensor(2.4266), tensor(-2.4443), tensor(2.6161), tensor(2.0313), tensor(2.7867), tensor(2.1569), tensor(1.3761), tensor(1.5932), tensor(2.5044), tensor(0.1357), tensor(-0.5887), tensor(2.2418), tensor(2.1064), tensor(2.3209), tensor(2.8036), tensor(0.7583), tensor(0.1516), tensor(-0.0522), tensor(2.1490), tensor(2.5264), tensor(2.5923), tensor(2.7208), tensor(2.7287), tensor(2.4288), tensor(2.3954), tensor(2.4150), tensor(2.6037), tensor(2.4805), tensor(1.7453), tensor(0.6017), tensor(2.6624), tensor(2.6343), tensor(1.2472), tensor(-1.1665), tensor(2.4854), tensor(2.5774), tensor(1.4484), tensor(2.7354), tensor(0.1030), tensor(1.5675), tensor(2.8694), tensor(2.6736), tensor(1.8922), tensor(2.5862), tensor(2.3438), tensor(1.4498), tensor(2.5490), tensor(1.8669), tensor(2.7945), tensor(2.5906), tensor(2.6750), tensor(2.7787), tensor(2.8489), tensor(0.8242), tensor(2.5041), tensor(2.7633), tensor(2.6744), tensor(-0.4672)]\n"
     ]
    },
    {
     "name": "stderr",
     "output_type": "stream",
     "text": [
      "23it [51:33, 133.17s/it]"
     ]
    },
    {
     "name": "stdout",
     "output_type": "stream",
     "text": [
      "[tensor(1.2228), tensor(2.4562), tensor(-2.0157), tensor(2.7781), tensor(2.8660), tensor(1.0401), tensor(2.4199), tensor(-0.0564), tensor(2.4649), tensor(1.2699), tensor(2.3404), tensor(1.6448), tensor(-2.7323), tensor(1.6506), tensor(1.9621), tensor(-1.7581), tensor(2.8058), tensor(0.5932), tensor(2.8886), tensor(2.4993), tensor(2.0221), tensor(-1.2262), tensor(2.7461), tensor(2.3351), tensor(2.0487), tensor(0.9110), tensor(2.5240), tensor(1.3237), tensor(2.8781), tensor(2.7754), tensor(2.0991), tensor(1.4116), tensor(2.5123), tensor(2.8439), tensor(2.7486), tensor(0.5775), tensor(0.6711), tensor(2.0430), tensor(1.2569), tensor(0.1603), tensor(2.0365), tensor(2.8356), tensor(2.7536), tensor(1.4327), tensor(0.4361), tensor(0.8793), tensor(-0.3404), tensor(-0.1766), tensor(2.6691), tensor(2.7864), tensor(2.7956), tensor(2.6611), tensor(1.9475), tensor(2.1855), tensor(2.8886), tensor(0.4909), tensor(1.1022), tensor(2.7761), tensor(-1.6504), tensor(0.2949), tensor(-0.0928), tensor(2.5182), tensor(2.2324), tensor(2.6940), tensor(2.6358), tensor(1.8965), tensor(2.8345), tensor(1.7926), tensor(-0.2202), tensor(2.7248), tensor(-2.3487), tensor(2.3362), tensor(2.8138), tensor(1.7200), tensor(-2.7240), tensor(-2.4906), tensor(-1.6197), tensor(0.8858), tensor(2.5869), tensor(2.5255), tensor(2.4675), tensor(1.0430), tensor(2.8286), tensor(2.8286), tensor(0.3550), tensor(2.2938), tensor(0.7339), tensor(-0.0498), tensor(1.7836), tensor(2.9432), tensor(0.7716), tensor(-1.6115), tensor(2.1705), tensor(-0.7751), tensor(1.7452), tensor(2.5317), tensor(0.9265), tensor(2.7094), tensor(-2.5992), tensor(-2.4609), tensor(2.4644), tensor(2.0825), tensor(-0.3121), tensor(2.7978), tensor(2.4404), tensor(0.6347), tensor(1.7556), tensor(1.9794), tensor(2.5298), tensor(2.7327), tensor(1.6845), tensor(2.6078), tensor(-0.5483), tensor(1.0132), tensor(2.8586), tensor(0.8751), tensor(2.5162), tensor(1.3919), tensor(-1.7220), tensor(2.7984), tensor(2.5033), tensor(1.3101), tensor(2.3668), tensor(1.9426), tensor(-2.0900), tensor(-1.0034), tensor(0.2139), tensor(1.3372), tensor(1.6010), tensor(2.8640), tensor(2.7452), tensor(2.6323), tensor(-0.3240), tensor(-1.0909), tensor(2.6665), tensor(0.8021), tensor(2.8034), tensor(2.8074), tensor(1.1625), tensor(1.6691), tensor(2.4424), tensor(2.4734), tensor(-1.3529), tensor(2.8267), tensor(2.6328), tensor(2.0561), tensor(0.7162), tensor(1.3926), tensor(2.3007), tensor(1.7180), tensor(1.0373), tensor(0.9107), tensor(2.6092), tensor(2.6892), tensor(2.3169), tensor(0.6132), tensor(2.2300), tensor(2.5345), tensor(-1.8590), tensor(0.7850), tensor(2.4380), tensor(2.6708), tensor(2.6848), tensor(0.0291), tensor(2.0053), tensor(2.8685), tensor(2.3200), tensor(2.4702), tensor(2.4945), tensor(2.6831), tensor(2.7003), tensor(2.7513), tensor(-0.9280), tensor(0.0056), tensor(1.1052), tensor(2.7505), tensor(0.9353), tensor(-0.1229), tensor(2.8282), tensor(1.9312), tensor(1.7830), tensor(2.0750), tensor(2.3725), tensor(1.4955), tensor(2.6094), tensor(2.0816), tensor(2.1450), tensor(1.7867), tensor(1.1746), tensor(2.9004), tensor(0.5975), tensor(1.8263), tensor(2.5430), tensor(2.6940), tensor(-0.9028), tensor(2.4954), tensor(2.1155), tensor(2.3957), tensor(2.2040), tensor(-1.2596), tensor(1.3071), tensor(1.6850), tensor(0.0098), tensor(0.9813), tensor(-1.4484), tensor(0.3888), tensor(0.3154), tensor(0.2151), tensor(2.7902), tensor(-1.7951), tensor(2.7543), tensor(-0.7515), tensor(1.6730), tensor(1.5035), tensor(2.7583), tensor(2.8176), tensor(2.0347), tensor(-1.2376), tensor(1.8835), tensor(2.0782), tensor(2.6444), tensor(2.2655), tensor(2.7042), tensor(1.1467), tensor(1.4026), tensor(1.3134), tensor(1.2018), tensor(2.8528), tensor(0.0135), tensor(1.8825), tensor(-2.9337), tensor(2.6358), tensor(2.3446), tensor(1.6028), tensor(2.1014), tensor(-1.0816), tensor(2.7108), tensor(-0.0514), tensor(1.9253), tensor(2.3688), tensor(-0.1517), tensor(2.3844), tensor(2.4159), tensor(0.4353), tensor(1.0050), tensor(2.9236), tensor(2.0542), tensor(2.5181), tensor(0.6411), tensor(2.7623), tensor(2.2585), tensor(-1.0674), tensor(0.8803), tensor(1.3464), tensor(1.5144), tensor(2.2306)]\n"
     ]
    },
    {
     "name": "stderr",
     "output_type": "stream",
     "text": [
      "24it [53:53, 135.18s/it]"
     ]
    },
    {
     "name": "stdout",
     "output_type": "stream",
     "text": [
      "[tensor(1.9291), tensor(2.8572), tensor(2.7764), tensor(-1.7083), tensor(1.1469), tensor(0.9419), tensor(1.9490), tensor(1.7620), tensor(2.7208), tensor(0.3534), tensor(2.4455), tensor(2.8794), tensor(2.7418), tensor(2.3791), tensor(-1.6288), tensor(2.4891), tensor(1.9769), tensor(2.9108), tensor(1.4171), tensor(-1.2894), tensor(2.4895), tensor(0.0597), tensor(1.3932), tensor(2.7641), tensor(-0.8054), tensor(2.6898), tensor(2.8282), tensor(1.0925), tensor(2.5808), tensor(1.9364), tensor(2.6791), tensor(1.1354), tensor(0.2758), tensor(1.1511), tensor(2.7975), tensor(2.7765), tensor(1.6374), tensor(1.9982), tensor(2.5569), tensor(-2.5369), tensor(-0.7541), tensor(1.8906), tensor(-0.0462), tensor(-0.4210), tensor(-1.4878), tensor(0.3390), tensor(0.8211), tensor(1.2165), tensor(2.7865), tensor(2.7486), tensor(1.7967), tensor(1.8360), tensor(1.9403), tensor(2.1266), tensor(-1.0899), tensor(2.1684), tensor(1.0885), tensor(1.5137), tensor(2.2775), tensor(-1.6918), tensor(2.0263), tensor(-2.2584), tensor(2.6724), tensor(-1.7829), tensor(-0.7735), tensor(-0.3789), tensor(2.7640), tensor(1.6704), tensor(2.5384), tensor(1.0918), tensor(1.7563), tensor(1.8743), tensor(2.5180), tensor(1.3464), tensor(-0.8393), tensor(2.8283), tensor(1.3510), tensor(2.6849), tensor(-1.8408), tensor(2.2166), tensor(2.0849), tensor(2.7766), tensor(2.7787), tensor(2.5477), tensor(1.8199), tensor(-1.7162), tensor(2.5348), tensor(2.8140), tensor(1.2616), tensor(2.3749), tensor(2.3500), tensor(2.8402), tensor(2.0246), tensor(2.8130), tensor(-1.5198), tensor(2.5977), tensor(1.8874), tensor(2.7081), tensor(2.3489), tensor(2.8714), tensor(1.8349), tensor(2.8013), tensor(1.6090), tensor(2.0225), tensor(2.2687), tensor(2.0771), tensor(2.1335), tensor(1.1803), tensor(2.4502), tensor(1.4136), tensor(1.7755), tensor(2.4708), tensor(-0.4675), tensor(2.3087), tensor(2.0651), tensor(2.6068), tensor(2.5736), tensor(-2.9562), tensor(2.6678), tensor(-0.1265), tensor(-1.2705), tensor(-1.0027), tensor(1.1280), tensor(-1.0140), tensor(2.9161), tensor(1.2578), tensor(2.7309), tensor(2.6744), tensor(-0.2969), tensor(-0.7486), tensor(-2.6562), tensor(-0.0783), tensor(2.8001), tensor(1.4069), tensor(2.1461), tensor(1.5453), tensor(1.1245), tensor(2.4879), tensor(2.5528), tensor(1.8785), tensor(2.6520), tensor(0.4978), tensor(2.6468), tensor(2.4611), tensor(1.9796), tensor(2.1297), tensor(1.8113), tensor(0.6451), tensor(2.7840), tensor(2.4739), tensor(2.7031), tensor(2.8138), tensor(2.4565), tensor(-0.4056), tensor(2.4433), tensor(2.2421), tensor(1.2142), tensor(2.1468), tensor(2.7384), tensor(2.6868), tensor(2.8914), tensor(2.0632), tensor(2.8311), tensor(2.4582), tensor(1.6960), tensor(1.1350), tensor(1.2167), tensor(2.3405), tensor(1.6940), tensor(2.8592), tensor(2.3058), tensor(-0.9004), tensor(2.5817), tensor(2.8613), tensor(-0.7010), tensor(2.3799), tensor(1.2419), tensor(2.2636), tensor(-0.9984), tensor(0.3635), tensor(2.4828), tensor(2.7737), tensor(2.7714), tensor(2.7514), tensor(1.4796), tensor(-1.8699), tensor(2.8904), tensor(-1.8706), tensor(2.6201), tensor(1.6837), tensor(2.1589), tensor(2.6440), tensor(2.3004), tensor(2.5895), tensor(2.5601), tensor(-1.3761), tensor(2.6628), tensor(1.6323), tensor(0.8384), tensor(-1.4983), tensor(2.2754), tensor(2.3867), tensor(-0.4550), tensor(0.5261), tensor(2.6677), tensor(2.4331), tensor(0.6018), tensor(1.9212), tensor(1.0679), tensor(2.6566), tensor(2.7748), tensor(2.7342), tensor(2.7311), tensor(2.2671), tensor(1.2974), tensor(2.7592), tensor(-2.5141), tensor(2.2150), tensor(1.0718), tensor(0.3473), tensor(2.7267), tensor(0.8217), tensor(2.3749), tensor(1.4312), tensor(2.9205), tensor(-0.5975), tensor(0.9254), tensor(2.3395), tensor(0.9318), tensor(-2.7148), tensor(2.7540), tensor(1.9296), tensor(2.8886), tensor(2.7933), tensor(2.7951), tensor(2.4103), tensor(-0.1728), tensor(2.6026), tensor(2.6684), tensor(1.3536), tensor(2.9258), tensor(2.8480), tensor(-0.8369), tensor(1.1320), tensor(2.7640), tensor(-1.3253), tensor(0.5112), tensor(0.9279), tensor(1.1268), tensor(1.9964), tensor(1.2297), tensor(-2.1564), tensor(-1.6986), tensor(0.0558), tensor(-1.1917), tensor(2.3558)]\n"
     ]
    },
    {
     "name": "stderr",
     "output_type": "stream",
     "text": [
      "25it [56:05, 134.23s/it]"
     ]
    },
    {
     "name": "stdout",
     "output_type": "stream",
     "text": [
      "[tensor(1.4114), tensor(2.7941), tensor(1.7900), tensor(2.5915), tensor(2.8977), tensor(1.0146), tensor(2.4790), tensor(2.7734), tensor(2.3150), tensor(-1.2137), tensor(-1.4613), tensor(1.1807), tensor(2.4118), tensor(1.4093), tensor(2.6273), tensor(1.2997), tensor(-0.6403), tensor(-1.0445), tensor(1.6871), tensor(2.8506), tensor(2.8120), tensor(-0.3355), tensor(1.7839), tensor(2.0959), tensor(0.7052), tensor(2.6551), tensor(0.2548), tensor(0.8613), tensor(0.9469), tensor(0.2758), tensor(1.5329), tensor(1.5672), tensor(2.6792), tensor(2.4569), tensor(1.8058), tensor(-2.4551), tensor(-2.1302), tensor(2.7790), tensor(0.8703), tensor(1.8451), tensor(1.4456), tensor(2.7736), tensor(2.2812), tensor(1.4609), tensor(1.8175), tensor(1.4828), tensor(1.9741), tensor(1.3451), tensor(-0.2707), tensor(1.3756), tensor(2.2783), tensor(2.4213), tensor(2.4601), tensor(2.1395), tensor(2.4318), tensor(2.5480), tensor(2.7921), tensor(-0.7605), tensor(2.3621), tensor(2.8118), tensor(2.8880), tensor(2.8081), tensor(1.8362), tensor(1.9370), tensor(0.5414), tensor(2.8591), tensor(2.7880), tensor(2.7251), tensor(2.6030), tensor(2.3820), tensor(2.8130), tensor(0.0360), tensor(2.2956), tensor(1.1559), tensor(-1.4180), tensor(0.0325), tensor(1.0272), tensor(1.1738), tensor(2.6310), tensor(1.8506), tensor(2.8276), tensor(0.9723), tensor(1.0149), tensor(-1.2621), tensor(1.2934), tensor(0.3840), tensor(2.6905), tensor(2.6246), tensor(0.9818), tensor(2.7929), tensor(0.7646), tensor(1.3828), tensor(2.7249), tensor(-0.1071), tensor(2.2830), tensor(2.3364), tensor(0.8988), tensor(1.3825), tensor(2.8516), tensor(2.3707), tensor(-0.7586), tensor(1.7605), tensor(2.7914), tensor(2.1661), tensor(2.0030), tensor(2.8760), tensor(2.7975), tensor(-1.2583), tensor(0.8609), tensor(1.8633), tensor(2.6033), tensor(2.5210), tensor(2.8787), tensor(-0.7379), tensor(2.5732), tensor(2.0944), tensor(2.4664), tensor(2.6404), tensor(-0.5006), tensor(2.0736), tensor(2.6488), tensor(0.9701), tensor(1.5315), tensor(0.7550), tensor(2.0646), tensor(0.3555), tensor(-0.4384), tensor(2.2930), tensor(-2.5930), tensor(2.4507), tensor(2.3737), tensor(2.1408), tensor(2.8211), tensor(-2.2326), tensor(2.3772), tensor(1.5027), tensor(2.4622), tensor(2.6818), tensor(2.7145), tensor(0.9810), tensor(2.6830), tensor(1.3942), tensor(2.5124), tensor(-1.3725), tensor(2.3654), tensor(1.4585), tensor(2.4972), tensor(-1.1451), tensor(-0.7909), tensor(-1.2006), tensor(2.2739), tensor(1.2446), tensor(1.5513), tensor(-0.7585), tensor(2.6115), tensor(2.8058), tensor(0.3244), tensor(2.8263), tensor(2.6796), tensor(1.0109), tensor(2.7198), tensor(1.5227), tensor(1.4133), tensor(2.2335), tensor(2.8545), tensor(0.6021), tensor(2.7765), tensor(1.4161), tensor(2.7037), tensor(2.4647), tensor(2.6513), tensor(2.6713), tensor(2.0829), tensor(2.2519), tensor(-2.0935), tensor(2.7209), tensor(2.9112), tensor(2.1090), tensor(2.2225), tensor(1.9816), tensor(2.5149), tensor(2.5487), tensor(2.8619), tensor(0.1008), tensor(1.5279), tensor(2.2569), tensor(-1.9066), tensor(0.8970), tensor(-1.0907), tensor(2.4862), tensor(2.5931), tensor(-0.2908), tensor(1.3083), tensor(-0.7772), tensor(2.0705), tensor(2.1640), tensor(0.3631), tensor(1.3415), tensor(2.0469), tensor(0.0704), tensor(2.2252), tensor(2.5593), tensor(2.6676), tensor(1.9716), tensor(1.9580), tensor(-2.7201), tensor(0.7690), tensor(1.8161), tensor(2.8513), tensor(2.7566), tensor(1.3141), tensor(-1.3048), tensor(2.8607), tensor(-1.5664), tensor(2.3400), tensor(2.0912), tensor(-0.1689), tensor(1.0965), tensor(1.0932), tensor(0.5100), tensor(2.4835), tensor(1.8089), tensor(-1.1988), tensor(2.7480), tensor(0.9528), tensor(1.8885), tensor(1.3953), tensor(1.7617), tensor(-1.2096), tensor(2.0665), tensor(1.4370), tensor(2.5691), tensor(2.6560), tensor(1.6114), tensor(2.5130), tensor(1.3934), tensor(1.0046), tensor(2.5821), tensor(2.7105), tensor(-1.0592), tensor(-1.0191), tensor(2.4922), tensor(0.4255), tensor(2.5154), tensor(2.6881), tensor(2.4529), tensor(2.4978), tensor(1.6698), tensor(2.8788), tensor(2.3207), tensor(2.2803), tensor(1.9596), tensor(0.6353), tensor(2.5328), tensor(2.4175), tensor(2.5838)]\n"
     ]
    },
    {
     "name": "stderr",
     "output_type": "stream",
     "text": [
      "26it [58:09, 131.23s/it]"
     ]
    },
    {
     "name": "stdout",
     "output_type": "stream",
     "text": [
      "[tensor(-0.7068), tensor(0.2267), tensor(2.8064), tensor(2.8495), tensor(-0.0456), tensor(1.8172), tensor(2.3918), tensor(2.7561), tensor(2.0908), tensor(2.1637), tensor(2.7681), tensor(0.1982), tensor(-1.2208), tensor(-1.0681), tensor(2.6809), tensor(2.6198), tensor(1.2227), tensor(2.7963), tensor(2.8413), tensor(2.6611), tensor(2.5558), tensor(-2.0909), tensor(2.6122), tensor(2.5396), tensor(2.1477), tensor(1.1144), tensor(2.7822), tensor(2.4344), tensor(2.6542), tensor(0.2742), tensor(1.8956), tensor(0.8164), tensor(2.7572), tensor(0.0288), tensor(2.1964), tensor(-0.3988), tensor(2.7701), tensor(1.7689), tensor(1.4774), tensor(2.9278), tensor(2.8776), tensor(2.8570), tensor(1.2305), tensor(2.4588), tensor(2.4466), tensor(-1.7178), tensor(0.3529), tensor(2.4668), tensor(2.5018), tensor(-1.1883), tensor(2.4404), tensor(2.8577), tensor(2.4792), tensor(1.3323), tensor(2.5018), tensor(2.7210), tensor(2.8068), tensor(2.5789), tensor(2.8162), tensor(2.3472), tensor(2.6738), tensor(-0.7352), tensor(2.5687), tensor(1.9686), tensor(0.8228), tensor(2.8257), tensor(1.8031), tensor(2.8465), tensor(2.6520), tensor(1.6471), tensor(-0.6299), tensor(-1.3510), tensor(2.6630), tensor(2.0066), tensor(-0.6594), tensor(2.1639), tensor(2.1098), tensor(2.3303), tensor(2.7000), tensor(2.8786), tensor(1.4287), tensor(2.7260), tensor(2.2739), tensor(-1.9134), tensor(-0.6673), tensor(2.2917), tensor(1.7260), tensor(0.2160), tensor(2.6531), tensor(2.3641), tensor(-0.3556), tensor(2.8541), tensor(1.5033), tensor(1.9207), tensor(0.4368), tensor(2.2676), tensor(2.6480), tensor(0.5308), tensor(2.5354), tensor(1.1298), tensor(1.7135), tensor(1.4685), tensor(2.8659), tensor(1.1278), tensor(2.6516), tensor(-1.8382), tensor(2.3083), tensor(2.4344), tensor(2.6628), tensor(1.0735), tensor(1.3328), tensor(2.5957), tensor(2.4353), tensor(-0.3317), tensor(2.6949), tensor(1.3546), tensor(-1.5907), tensor(0.9938), tensor(2.0576), tensor(2.1924), tensor(2.5117), tensor(0.8730), tensor(2.6466), tensor(-0.1368), tensor(2.7804), tensor(0.5379), tensor(2.6880), tensor(2.5392), tensor(2.7670), tensor(2.0257), tensor(2.0576), tensor(2.3308), tensor(0.4419), tensor(2.3952), tensor(-2.3368), tensor(2.8991), tensor(2.1699), tensor(2.6126), tensor(2.9430), tensor(1.8650), tensor(2.6900), tensor(1.7612), tensor(2.2672), tensor(2.0620), tensor(-0.0599), tensor(1.4425), tensor(1.8613), tensor(0.1046), tensor(1.5290), tensor(2.8085), tensor(2.5921), tensor(2.8302), tensor(2.7592), tensor(2.5997), tensor(2.5297), tensor(2.1949), tensor(0.0586), tensor(-0.3787), tensor(1.8406), tensor(2.8289), tensor(-1.7578), tensor(0.4853), tensor(2.2618), tensor(2.9112), tensor(1.0736), tensor(2.4800), tensor(1.0792), tensor(1.2306), tensor(2.5698), tensor(2.5067), tensor(0.8793), tensor(2.0891), tensor(2.6029), tensor(2.9124), tensor(2.6172), tensor(2.1204), tensor(0.8718), tensor(2.4467), tensor(1.2812), tensor(2.7881), tensor(2.6368), tensor(-0.3210), tensor(-0.8008), tensor(1.1208), tensor(2.0816), tensor(2.0311), tensor(-2.7396), tensor(2.3984), tensor(0.9582), tensor(2.6228), tensor(0.8101), tensor(2.7551), tensor(2.9035), tensor(2.0770), tensor(2.5092), tensor(2.4131), tensor(2.9037), tensor(-0.8469), tensor(-0.8790), tensor(2.7687), tensor(2.8358), tensor(2.6874), tensor(2.5785), tensor(1.9330), tensor(2.7386), tensor(0.6480), tensor(0.7736), tensor(2.1684), tensor(2.5560), tensor(1.0712), tensor(-2.3639), tensor(2.7628), tensor(-2.9168), tensor(1.7750), tensor(2.6576), tensor(-1.9246), tensor(-1.0074), tensor(-0.0097), tensor(2.8098), tensor(2.8082), tensor(2.6646), tensor(-2.9124), tensor(1.6199), tensor(-0.2616), tensor(2.5645), tensor(0.1267), tensor(2.7180), tensor(2.6205), tensor(2.8151), tensor(-2.3315), tensor(2.7431), tensor(1.5403), tensor(1.6820), tensor(1.0580), tensor(2.0443), tensor(1.8632), tensor(2.8132), tensor(0.9074), tensor(1.5276), tensor(-0.4641), tensor(1.5985), tensor(-0.1586), tensor(1.8140), tensor(2.7473), tensor(2.3116), tensor(2.7034), tensor(0.2310), tensor(1.8699), tensor(2.7248), tensor(1.9946), tensor(1.2796), tensor(1.6108), tensor(2.8676), tensor(2.5231), tensor(1.7220), tensor(-2.3554)]\n"
     ]
    },
    {
     "name": "stderr",
     "output_type": "stream",
     "text": [
      "27it [1:00:36, 135.83s/it]"
     ]
    },
    {
     "name": "stdout",
     "output_type": "stream",
     "text": [
      "[tensor(2.8344), tensor(2.7700), tensor(2.6685), tensor(2.3988), tensor(1.7295), tensor(0.6940), tensor(2.7566), tensor(-1.6607), tensor(2.5481), tensor(1.2367), tensor(2.6624), tensor(2.6151), tensor(1.9556), tensor(2.7963), tensor(1.7206), tensor(2.6904), tensor(0.4512), tensor(2.2808), tensor(1.0203), tensor(2.3770), tensor(-2.4994), tensor(1.7016), tensor(1.8354), tensor(2.4694), tensor(1.5962), tensor(2.7010), tensor(-1.0810), tensor(2.6242), tensor(2.4050), tensor(-0.3901), tensor(1.9906), tensor(2.6397), tensor(1.7471), tensor(2.8590), tensor(2.7416), tensor(-1.7332), tensor(2.8025), tensor(2.2094), tensor(0.5241), tensor(1.6186), tensor(2.4622), tensor(1.5379), tensor(2.3511), tensor(2.2948), tensor(-2.3985), tensor(-2.8146), tensor(-0.4019), tensor(0.5947), tensor(2.1306), tensor(1.9757), tensor(2.6938), tensor(2.4865), tensor(2.0818), tensor(2.0429), tensor(1.3714), tensor(2.8874), tensor(0.8228), tensor(-1.4026), tensor(2.3523), tensor(2.3470), tensor(1.7696), tensor(2.7779), tensor(0.5776), tensor(0.3840), tensor(2.8102), tensor(1.6009), tensor(2.0918), tensor(1.7968), tensor(2.5637), tensor(2.2488), tensor(0.1651), tensor(2.4871), tensor(-1.4466), tensor(2.6404), tensor(2.7783), tensor(1.2484), tensor(1.7574), tensor(2.6102), tensor(0.7722), tensor(2.8207), tensor(2.3543), tensor(1.5230), tensor(2.4744), tensor(2.5723), tensor(0.6526), tensor(1.5370), tensor(2.6446), tensor(2.4006), tensor(2.0842), tensor(2.4715), tensor(1.4702), tensor(1.2827), tensor(2.4979), tensor(0.4514), tensor(1.9593), tensor(-0.1511), tensor(2.4973), tensor(0.4359), tensor(-2.5725), tensor(2.8226), tensor(0.8183), tensor(2.6208), tensor(2.4206), tensor(2.9262), tensor(1.6554), tensor(0.2907), tensor(2.2453), tensor(1.8563), tensor(0.6483), tensor(0.9933), tensor(2.5263), tensor(2.5928), tensor(2.5715), tensor(-1.0696), tensor(2.0083), tensor(2.6734), tensor(2.4789), tensor(0.8643), tensor(2.9252), tensor(-2.9579), tensor(0.1132), tensor(0.6848), tensor(2.8048), tensor(2.7890), tensor(2.7877), tensor(2.7473), tensor(2.8884), tensor(2.6173), tensor(2.4469), tensor(2.6293), tensor(2.3919), tensor(1.1905), tensor(2.5801), tensor(1.6662), tensor(-0.4209), tensor(-1.1453), tensor(1.8679), tensor(1.2330), tensor(2.5948), tensor(2.8245), tensor(0.9932), tensor(-0.7853), tensor(2.9093), tensor(2.8970), tensor(-0.2031), tensor(2.6088), tensor(1.3207), tensor(2.2405), tensor(2.9009), tensor(1.9565), tensor(2.8973), tensor(2.5287), tensor(2.8139), tensor(2.4997), tensor(2.8363), tensor(1.7727), tensor(1.2149), tensor(1.8412), tensor(0.4882), tensor(1.1827), tensor(2.7355), tensor(1.7004), tensor(-2.4130), tensor(2.0384), tensor(1.8167), tensor(2.7367), tensor(1.5979), tensor(2.7178), tensor(2.6934), tensor(2.8020), tensor(0.5608), tensor(0.9671), tensor(0.8582), tensor(1.2405), tensor(1.6641), tensor(-0.4755), tensor(2.0142), tensor(2.5906), tensor(-2.7868), tensor(-0.0199), tensor(2.4693), tensor(2.3104), tensor(0.9869), tensor(1.8351), tensor(1.3362), tensor(2.3372), tensor(2.7546), tensor(2.8755), tensor(-0.1101), tensor(-2.8844), tensor(2.5800), tensor(1.8534), tensor(2.8366), tensor(2.3259), tensor(0.3227), tensor(2.2424), tensor(2.2982), tensor(2.6808), tensor(2.7319), tensor(1.8943), tensor(-1.1697), tensor(2.3935), tensor(2.9023), tensor(2.5603), tensor(0.6552), tensor(2.5918), tensor(0.0260), tensor(2.6364), tensor(2.7252), tensor(-0.9154), tensor(2.6521), tensor(2.6979), tensor(2.2203), tensor(-1.0411), tensor(2.6913), tensor(1.5582), tensor(2.9382), tensor(2.3341), tensor(2.1658), tensor(1.7465), tensor(2.8450), tensor(2.3848), tensor(2.3804), tensor(2.7402), tensor(1.5046), tensor(2.8355), tensor(0.9374), tensor(2.2224), tensor(-1.9367), tensor(2.7111), tensor(2.4146), tensor(2.6026), tensor(2.7417), tensor(0.0729), tensor(2.8966), tensor(1.6610), tensor(0.9736), tensor(2.5839), tensor(1.9765), tensor(0.1867), tensor(0.8583), tensor(1.5774), tensor(2.7930), tensor(0.5026), tensor(2.4005), tensor(1.1179), tensor(2.8561), tensor(2.1739), tensor(2.8593), tensor(2.0042), tensor(2.7038), tensor(2.3136), tensor(-0.2145), tensor(1.9759), tensor(0.4445), tensor(2.7764)]\n"
     ]
    },
    {
     "name": "stderr",
     "output_type": "stream",
     "text": [
      "28it [1:02:59, 137.95s/it]"
     ]
    },
    {
     "name": "stdout",
     "output_type": "stream",
     "text": [
      "[tensor(2.5840), tensor(1.4915), tensor(-0.3504), tensor(2.3529), tensor(2.3272), tensor(-2.2036), tensor(2.7218), tensor(2.3090), tensor(1.5529), tensor(2.8029), tensor(2.4852), tensor(-0.2117), tensor(1.2975), tensor(2.6863), tensor(1.9854), tensor(2.0570), tensor(0.8602), tensor(0.5908), tensor(2.7433), tensor(2.1047), tensor(-2.5670), tensor(2.6276), tensor(1.3770), tensor(2.5173), tensor(2.8982), tensor(1.8039), tensor(2.8235), tensor(-0.1058), tensor(2.8829), tensor(1.8751), tensor(1.8840), tensor(1.3052), tensor(1.7613), tensor(0.9528), tensor(-1.6093), tensor(2.3992), tensor(-2.4393), tensor(-0.6862), tensor(1.5807), tensor(2.9026), tensor(2.2090), tensor(2.6346), tensor(1.5557), tensor(2.3998), tensor(2.3676), tensor(2.8396), tensor(-0.3931), tensor(2.6631), tensor(2.2054), tensor(2.5756), tensor(2.7124), tensor(1.0816), tensor(1.5081), tensor(2.5844), tensor(-0.2093), tensor(-0.0636), tensor(-0.3383), tensor(2.4940), tensor(2.1903), tensor(2.0015), tensor(2.6859), tensor(2.2069), tensor(1.3365), tensor(1.0280), tensor(1.0340), tensor(2.7805), tensor(2.6844), tensor(-2.7316), tensor(2.6007), tensor(2.4952), tensor(-2.1901), tensor(0.6552), tensor(2.6212), tensor(2.6951), tensor(1.2807), tensor(2.6841), tensor(0.7855), tensor(-1.9110), tensor(2.1021), tensor(1.7499), tensor(-1.1797), tensor(2.6684), tensor(2.4760), tensor(0.9693), tensor(0.2991), tensor(2.8177), tensor(0.9670), tensor(0.4998), tensor(2.4868), tensor(0.3152), tensor(1.7087), tensor(1.7707), tensor(1.5265), tensor(2.4700), tensor(1.8345), tensor(2.2766), tensor(2.1365), tensor(2.3819), tensor(2.8590), tensor(2.1718), tensor(2.7953), tensor(2.7549), tensor(2.4312), tensor(1.8333), tensor(1.5062), tensor(2.8475), tensor(2.6590), tensor(1.7690), tensor(0.8743), tensor(1.8590), tensor(1.3477), tensor(1.2974), tensor(-1.5654), tensor(-0.7017), tensor(2.7784), tensor(2.6567), tensor(0.8495), tensor(1.2574), tensor(-1.3368), tensor(2.5608), tensor(2.8101), tensor(2.5273), tensor(2.7455), tensor(1.7360), tensor(-1.4587), tensor(2.5049), tensor(2.7556), tensor(-0.7259), tensor(0.0129), tensor(2.8624), tensor(1.8169), tensor(2.8079), tensor(-1.1679), tensor(1.0449), tensor(2.6384), tensor(2.0083), tensor(-0.8442), tensor(0.2516), tensor(2.7130), tensor(2.8543), tensor(-1.3063), tensor(-0.4110), tensor(2.3257), tensor(1.7471), tensor(0.0676), tensor(2.4171), tensor(2.4204), tensor(2.4714), tensor(2.0461), tensor(1.8755), tensor(0.8618), tensor(-0.5179), tensor(1.4574), tensor(0.4597), tensor(-0.3728), tensor(0.0698), tensor(1.3793), tensor(0.1291), tensor(1.0932), tensor(1.9275), tensor(0.6684), tensor(-1.1354), tensor(2.3655), tensor(-1.2366), tensor(1.7790), tensor(2.4596), tensor(2.0273), tensor(-1.3938), tensor(2.8733), tensor(-0.5298), tensor(2.7840), tensor(2.8883), tensor(0.8298), tensor(1.3305), tensor(1.8978), tensor(2.7264), tensor(2.8492), tensor(2.7798), tensor(-1.0235), tensor(0.1027), tensor(2.6623), tensor(2.7332), tensor(1.5974), tensor(0.9912), tensor(2.5953), tensor(2.5966), tensor(1.8733), tensor(2.8828), tensor(2.8396), tensor(-0.3349), tensor(-0.1968), tensor(2.3535), tensor(2.8317), tensor(1.3005), tensor(2.4893), tensor(1.9007), tensor(2.8723), tensor(0.4402), tensor(-0.8705), tensor(-2.5853), tensor(2.4324), tensor(1.6897), tensor(-3.0244), tensor(1.4199), tensor(0.5966), tensor(2.5109), tensor(2.3119), tensor(2.1842), tensor(0.8721), tensor(1.3494), tensor(2.7986), tensor(1.2960), tensor(2.6749), tensor(2.5923), tensor(-1.6741), tensor(2.2996), tensor(0.7055), tensor(2.6127), tensor(0.6773), tensor(2.3912), tensor(1.5374), tensor(0.6866), tensor(2.2205), tensor(2.8477), tensor(1.8596), tensor(1.4518), tensor(0.2367), tensor(2.8235), tensor(2.3828), tensor(2.6140), tensor(0.1654), tensor(2.8042), tensor(1.7490), tensor(-0.4033), tensor(1.1228), tensor(-0.1653), tensor(1.5040), tensor(2.5546), tensor(-0.0674), tensor(2.6926), tensor(0.2833), tensor(2.7857), tensor(2.4341), tensor(2.3795), tensor(2.5970), tensor(2.8281), tensor(2.7689), tensor(2.6939), tensor(2.8637), tensor(-0.1010), tensor(1.1646), tensor(2.5196), tensor(2.9277), tensor(2.7513), tensor(2.7149), tensor(2.0935)]\n"
     ]
    },
    {
     "name": "stderr",
     "output_type": "stream",
     "text": [
      "29it [1:05:18, 138.28s/it]"
     ]
    },
    {
     "name": "stdout",
     "output_type": "stream",
     "text": [
      "[tensor(2.6148), tensor(-1.2894), tensor(2.7216), tensor(2.1429), tensor(2.4770), tensor(2.5125), tensor(0.8414), tensor(0.5460), tensor(-1.0325), tensor(2.8803), tensor(1.7359), tensor(0.3766), tensor(2.5941), tensor(2.7149), tensor(1.5590), tensor(2.8139), tensor(1.8285), tensor(1.6967), tensor(2.7624), tensor(1.8947), tensor(2.7521), tensor(2.9111), tensor(2.2240), tensor(0.9866), tensor(2.8645), tensor(-1.9822), tensor(1.8608), tensor(2.6850), tensor(2.3019), tensor(2.0005), tensor(2.7619), tensor(2.6259), tensor(2.4909), tensor(2.8143), tensor(1.9587), tensor(-0.4441), tensor(1.1950), tensor(2.8390), tensor(0.6714), tensor(1.7931), tensor(0.1646), tensor(2.8248), tensor(2.0357), tensor(-0.0320), tensor(2.6680), tensor(-0.2782), tensor(2.8967), tensor(2.5635), tensor(2.2483), tensor(2.8093), tensor(-1.0352), tensor(2.4505), tensor(2.7168), tensor(1.8196), tensor(1.5923), tensor(1.2414), tensor(0.9440), tensor(1.3802), tensor(2.5713), tensor(1.3887), tensor(2.7531), tensor(2.2306), tensor(0.3327), tensor(1.2307), tensor(-0.2630), tensor(1.2579), tensor(-0.8379), tensor(2.4734), tensor(0.0566), tensor(-2.8792), tensor(1.0358), tensor(2.6082), tensor(1.2005), tensor(0.0823), tensor(2.7471), tensor(-0.7942), tensor(2.6684), tensor(2.8000), tensor(2.5206), tensor(0.8415), tensor(2.8894), tensor(2.1770), tensor(1.9523), tensor(2.8882), tensor(2.7975), tensor(2.3548), tensor(2.3168), tensor(0.4243), tensor(2.6555), tensor(1.2650), tensor(-1.9098), tensor(2.7878), tensor(1.5268), tensor(2.3423), tensor(2.4960), tensor(2.9188), tensor(2.8294), tensor(2.2321), tensor(2.0366), tensor(1.2157), tensor(2.9032), tensor(0.2197), tensor(2.5763), tensor(-1.7742), tensor(-1.8329), tensor(-2.0616), tensor(2.7538), tensor(2.5968), tensor(2.5667), tensor(1.8026), tensor(2.6487), tensor(2.7818), tensor(-0.4645), tensor(2.7901), tensor(-1.3298), tensor(2.7258), tensor(-0.0988), tensor(2.0362), tensor(2.6707), tensor(-1.1144), tensor(-1.4689), tensor(2.6664), tensor(2.6003), tensor(-0.3181), tensor(2.5438), tensor(1.2492), tensor(1.8311), tensor(2.3372), tensor(-0.8584), tensor(2.4705), tensor(2.0783), tensor(2.8656), tensor(1.2124), tensor(0.8974), tensor(2.6157), tensor(2.6141), tensor(2.3970), tensor(0.9539), tensor(-2.3793), tensor(2.5695), tensor(1.4023), tensor(0.4498), tensor(2.0617), tensor(2.8056), tensor(2.7411), tensor(1.1662), tensor(2.7337), tensor(0.4217), tensor(-0.1379), tensor(-0.6442), tensor(2.3697), tensor(2.0587), tensor(2.8367), tensor(1.0125), tensor(1.6012), tensor(0.8010), tensor(2.5008), tensor(-1.7928), tensor(1.5939), tensor(0.4946), tensor(1.1270), tensor(2.8167), tensor(2.7452), tensor(1.6960), tensor(-0.8510), tensor(2.7571), tensor(2.5332), tensor(2.3221), tensor(2.7868), tensor(2.8346), tensor(2.8207), tensor(-2.9569), tensor(2.7673), tensor(2.6631), tensor(2.4825), tensor(1.9037), tensor(2.1872), tensor(0.5349), tensor(2.7594), tensor(-0.7471), tensor(-1.4567), tensor(2.0333), tensor(2.6083), tensor(2.3730), tensor(1.6042), tensor(2.5907), tensor(2.8822), tensor(2.6934), tensor(2.8432), tensor(1.2891), tensor(0.9308), tensor(2.2405), tensor(-1.2683), tensor(-1.3040), tensor(2.8116), tensor(2.6407), tensor(2.8922), tensor(2.7719), tensor(1.9193), tensor(1.2355), tensor(2.8509), tensor(2.8531), tensor(0.3646), tensor(1.2849), tensor(1.2928), tensor(2.7205), tensor(0.6530), tensor(-0.0953), tensor(2.6757), tensor(2.4654), tensor(1.2367), tensor(2.1441), tensor(1.0637), tensor(2.4684), tensor(2.6681), tensor(2.8765), tensor(-0.8305), tensor(2.7360), tensor(-0.2567), tensor(0.8663), tensor(2.8109), tensor(2.3917), tensor(2.6496), tensor(2.7102), tensor(-2.1963), tensor(1.1824), tensor(1.9899), tensor(1.7610), tensor(2.9002), tensor(-0.3236), tensor(2.5105), tensor(2.1330), tensor(2.6314), tensor(2.6355), tensor(2.2820), tensor(1.1373), tensor(2.8836), tensor(2.6866), tensor(1.7756), tensor(2.6098), tensor(2.1569), tensor(2.8797), tensor(2.7938), tensor(1.2114), tensor(-0.6062), tensor(2.7824), tensor(-2.8740), tensor(2.6109), tensor(2.8689), tensor(1.9741), tensor(2.4561), tensor(2.8171), tensor(0.7672), tensor(1.8941), tensor(2.8541), tensor(-0.8412)]\n"
     ]
    },
    {
     "name": "stderr",
     "output_type": "stream",
     "text": [
      "30it [1:07:27, 135.62s/it]"
     ]
    },
    {
     "name": "stdout",
     "output_type": "stream",
     "text": [
      "[tensor(2.5641), tensor(2.6788), tensor(2.7280), tensor(2.2128), tensor(2.1543), tensor(2.6034), tensor(-0.1496), tensor(0.9788), tensor(2.2146), tensor(2.9039), tensor(1.7378), tensor(1.4896), tensor(2.8102), tensor(2.7140), tensor(1.5387), tensor(-0.3378), tensor(2.8438), tensor(2.5071), tensor(-1.8955), tensor(2.6577), tensor(2.2915), tensor(2.6325), tensor(1.5694), tensor(2.7433), tensor(2.1749), tensor(2.6159), tensor(0.5129), tensor(1.8596), tensor(1.6950), tensor(2.3316), tensor(2.1000), tensor(1.9836), tensor(2.6903), tensor(1.8820), tensor(2.7062), tensor(2.3961), tensor(-0.5866), tensor(1.8888), tensor(2.6477), tensor(-2.2610), tensor(2.6905), tensor(0.7278), tensor(2.1609), tensor(2.8322), tensor(2.7226), tensor(1.4138), tensor(-1.1657), tensor(2.4467), tensor(2.2410), tensor(2.4426), tensor(1.7687), tensor(2.5660), tensor(0.5622), tensor(2.1007), tensor(0.2927), tensor(-1.4520), tensor(0.4084), tensor(0.8402), tensor(2.3908), tensor(0.5515), tensor(2.7127), tensor(0.9014), tensor(2.8732), tensor(-2.8778), tensor(2.0656), tensor(1.8239), tensor(-1.7893), tensor(2.8010), tensor(0.4201), tensor(2.5332), tensor(2.7497), tensor(2.5014), tensor(1.5450), tensor(2.6272), tensor(1.2318), tensor(1.0421), tensor(1.4401), tensor(2.4876), tensor(-0.1671), tensor(-1.2953), tensor(-1.8542), tensor(1.3737), tensor(2.8274), tensor(2.7692), tensor(-1.0083), tensor(2.6192), tensor(0.7761), tensor(2.5413), tensor(-2.2746), tensor(2.4963), tensor(2.4875), tensor(2.6824), tensor(2.6360), tensor(-2.1174), tensor(1.3746), tensor(2.2594), tensor(2.3511), tensor(-2.9173), tensor(2.7873), tensor(1.8384), tensor(2.8320), tensor(2.6085), tensor(0.9961), tensor(1.5920), tensor(2.2580), tensor(0.8316), tensor(2.8020), tensor(1.8939), tensor(2.5909), tensor(2.3122), tensor(-1.2663), tensor(2.3262), tensor(1.2595), tensor(2.7519), tensor(2.8470), tensor(-0.5510), tensor(2.4111), tensor(1.4758), tensor(2.4107), tensor(2.9202), tensor(0.1094), tensor(2.5488), tensor(-0.2860), tensor(-1.4211), tensor(-0.0526), tensor(-0.0048), tensor(2.7924), tensor(2.6300), tensor(2.6352), tensor(2.4401), tensor(0.2464), tensor(-2.7364), tensor(1.8010), tensor(2.2922), tensor(2.2127), tensor(2.6021), tensor(1.4947), tensor(1.9502), tensor(-0.4290), tensor(0.9540), tensor(2.7919), tensor(2.5697), tensor(1.9795), tensor(1.5524), tensor(2.6183), tensor(2.3581), tensor(0.8653), tensor(2.8495), tensor(2.5324), tensor(2.7295), tensor(2.2103), tensor(-0.0583), tensor(0.8888), tensor(-2.6591), tensor(0.8012), tensor(-1.0599), tensor(2.7642), tensor(1.8053), tensor(2.6715), tensor(2.3759), tensor(0.1932), tensor(2.7955), tensor(0.6550), tensor(2.2768), tensor(1.6046), tensor(1.7890), tensor(2.7124), tensor(2.5449), tensor(2.4163), tensor(2.1901), tensor(2.7965), tensor(2.4936), tensor(2.2118), tensor(-0.2264), tensor(2.5701), tensor(2.2010), tensor(1.8721), tensor(2.8864), tensor(1.7998), tensor(1.7219), tensor(2.4844), tensor(2.6399), tensor(2.8420), tensor(0.6844), tensor(0.9604), tensor(2.7604), tensor(0.2507), tensor(2.5054), tensor(-2.3154), tensor(1.3165), tensor(1.8291), tensor(2.1537), tensor(2.6968), tensor(2.7410), tensor(2.8407), tensor(2.5647), tensor(2.1697), tensor(2.1118), tensor(2.1206), tensor(1.4640), tensor(2.8086), tensor(2.4465), tensor(1.5319), tensor(2.5352), tensor(0.6479), tensor(2.6657), tensor(-0.2532), tensor(2.3652), tensor(2.7409), tensor(2.6915), tensor(-0.1802), tensor(2.8354), tensor(2.0196), tensor(-1.2856), tensor(0.8001), tensor(0.0664), tensor(1.3907), tensor(1.7922), tensor(1.6525), tensor(-0.8111), tensor(2.6746), tensor(2.1100), tensor(-0.1573), tensor(2.4981), tensor(1.9447), tensor(2.6061), tensor(2.7444), tensor(2.5721), tensor(1.4527), tensor(0.9797), tensor(0.3418), tensor(2.8538), tensor(2.5832), tensor(-0.9366), tensor(2.7614), tensor(2.4569), tensor(2.3499), tensor(1.7317), tensor(2.7666), tensor(0.0566), tensor(1.3267), tensor(0.9788), tensor(2.8253), tensor(2.6838), tensor(2.6938), tensor(2.7463), tensor(2.6934), tensor(0.8722), tensor(2.7787), tensor(2.8862), tensor(-0.9093), tensor(0.2800), tensor(2.6832), tensor(1.2191), tensor(-2.8488), tensor(2.4725)]\n"
     ]
    },
    {
     "name": "stderr",
     "output_type": "stream",
     "text": [
      "31it [1:09:20, 128.64s/it]"
     ]
    },
    {
     "name": "stdout",
     "output_type": "stream",
     "text": [
      "[tensor(2.1741), tensor(2.6984), tensor(1.3576), tensor(2.2705), tensor(1.8272), tensor(1.3385), tensor(2.6650), tensor(0.2879), tensor(-0.3595), tensor(2.8794), tensor(-0.8842), tensor(0.1778), tensor(2.6821), tensor(2.9062), tensor(1.8468), tensor(0.7593), tensor(2.0510), tensor(2.3521), tensor(0.1577), tensor(2.5631), tensor(2.7998), tensor(2.7334), tensor(2.6942), tensor(2.0648), tensor(2.5486), tensor(-0.4023), tensor(0.0616), tensor(1.9098), tensor(-1.8706), tensor(1.7541), tensor(2.1497), tensor(2.4470), tensor(-0.3012), tensor(2.7679), tensor(2.7362), tensor(1.4963), tensor(1.3275), tensor(0.9899), tensor(-0.4672), tensor(-2.0184), tensor(2.8061), tensor(2.5907), tensor(2.6184), tensor(-0.5882), tensor(1.2076), tensor(2.8400), tensor(2.8884), tensor(2.7912), tensor(1.9543), tensor(-2.1480), tensor(2.9117), tensor(2.8371), tensor(1.9607), tensor(1.7874), tensor(2.2348), tensor(2.7789), tensor(1.8123), tensor(2.1631), tensor(2.2604), tensor(2.6614), tensor(-0.4039), tensor(0.8239), tensor(-0.5814), tensor(1.2565), tensor(2.1458), tensor(0.6614), tensor(2.6325), tensor(2.3152), tensor(2.7949), tensor(2.7683), tensor(2.2916), tensor(1.7233), tensor(-2.1469), tensor(1.9190), tensor(2.7217), tensor(2.7856), tensor(0.7350), tensor(1.5885), tensor(2.1336), tensor(2.8015), tensor(2.2705), tensor(-0.9508), tensor(2.4196), tensor(0.5397), tensor(0.9446), tensor(2.6579), tensor(2.1272), tensor(2.7053), tensor(2.0631), tensor(2.0888), tensor(2.6662), tensor(2.8127), tensor(2.0697), tensor(0.4130), tensor(0.0489), tensor(2.3812), tensor(-0.9734), tensor(2.3524), tensor(2.6961), tensor(1.7883), tensor(1.3077), tensor(0.7437), tensor(2.8197), tensor(1.2551), tensor(1.6576), tensor(2.2498), tensor(1.9918), tensor(1.4479), tensor(1.6704), tensor(2.7619), tensor(0.9995), tensor(2.0943), tensor(0.1638), tensor(2.8616), tensor(-1.6253), tensor(-2.5129), tensor(2.8641), tensor(2.7728), tensor(2.5996), tensor(-0.2621), tensor(1.1444), tensor(2.8633), tensor(2.5220), tensor(2.8236), tensor(2.5890), tensor(1.8523), tensor(2.4506), tensor(2.4555), tensor(2.2589), tensor(-1.6354), tensor(-1.0551), tensor(0.8830), tensor(1.9649), tensor(0.9688), tensor(2.4701), tensor(2.6976), tensor(2.3874), tensor(2.8911), tensor(2.0447), tensor(1.9084), tensor(1.0007), tensor(0.6478), tensor(-0.5953), tensor(1.8888), tensor(1.9057), tensor(1.8417), tensor(2.5500), tensor(1.1312), tensor(2.5150), tensor(2.6167), tensor(-1.4339), tensor(0.4838), tensor(2.7364), tensor(2.6624), tensor(2.4957), tensor(2.1050), tensor(2.1436), tensor(-0.4368), tensor(2.2192), tensor(2.7807), tensor(0.9461), tensor(-1.7583), tensor(2.2422), tensor(0.8368), tensor(2.1809), tensor(2.8023), tensor(2.0699), tensor(2.8681), tensor(2.7367), tensor(0.8286), tensor(2.6218), tensor(2.0375), tensor(2.2937), tensor(2.3295), tensor(1.2223), tensor(2.4853), tensor(2.3471), tensor(1.6451), tensor(2.9082), tensor(0.9255), tensor(2.2045), tensor(0.1808), tensor(1.6133), tensor(0.6336), tensor(2.5343), tensor(2.0380), tensor(2.9181), tensor(1.1661), tensor(2.7012), tensor(2.8124), tensor(2.3534), tensor(-1.2749), tensor(2.5596), tensor(-1.9456), tensor(2.3147), tensor(2.8044), tensor(2.7311), tensor(2.7178), tensor(-2.0806), tensor(-0.3656), tensor(2.5110), tensor(-1.3217), tensor(-2.0150), tensor(-1.0896), tensor(0.1374), tensor(2.4125), tensor(-1.9142), tensor(2.8267), tensor(1.0244), tensor(2.7875), tensor(-1.7819), tensor(2.7551), tensor(2.8535), tensor(2.7649), tensor(2.8312), tensor(2.6769), tensor(2.6522), tensor(2.5122), tensor(2.7142), tensor(2.8222), tensor(2.8417), tensor(2.7599), tensor(0.0363), tensor(-0.2572), tensor(1.5117), tensor(2.7999), tensor(2.4867), tensor(0.0736), tensor(2.3597), tensor(2.7887), tensor(2.4254), tensor(-0.5321), tensor(1.4866), tensor(2.7946), tensor(2.7670), tensor(2.7438), tensor(0.9687), tensor(-0.5572), tensor(1.4789), tensor(2.6967), tensor(2.8666), tensor(2.8531), tensor(2.3774), tensor(1.6508), tensor(-0.3944), tensor(-0.4360), tensor(1.3632), tensor(-1.6739), tensor(0.0652), tensor(2.5571), tensor(2.4213), tensor(1.9773), tensor(2.8063), tensor(-2.3224), tensor(2.7409), tensor(2.8663)]\n"
     ]
    },
    {
     "name": "stderr",
     "output_type": "stream",
     "text": [
      "32it [1:11:34, 130.31s/it]"
     ]
    },
    {
     "name": "stdout",
     "output_type": "stream",
     "text": [
      "[tensor(0.4107), tensor(2.7948), tensor(2.9032), tensor(1.2614), tensor(0.9282), tensor(2.0749), tensor(1.6227), tensor(0.7936), tensor(1.9851), tensor(1.8194), tensor(0.4979), tensor(0.5268), tensor(2.6785), tensor(2.0684), tensor(2.4546), tensor(1.3988), tensor(2.5619), tensor(2.6545), tensor(-2.7380), tensor(0.9630), tensor(1.3076), tensor(2.1370), tensor(-1.5637), tensor(1.3648), tensor(0.8942), tensor(1.9618), tensor(0.3890), tensor(2.6734), tensor(0.6509), tensor(-0.9994), tensor(2.4123), tensor(2.1755), tensor(2.8315), tensor(2.7673), tensor(2.7931), tensor(1.1477), tensor(2.5151), tensor(2.7594), tensor(2.7507), tensor(2.0463), tensor(1.4390), tensor(1.4944), tensor(2.6693), tensor(-1.0361), tensor(2.8145), tensor(2.5845), tensor(1.6658), tensor(1.5610), tensor(2.7449), tensor(2.4488), tensor(0.2248), tensor(2.5848), tensor(2.8429), tensor(2.8132), tensor(-0.9407), tensor(2.8777), tensor(2.7307), tensor(-0.9758), tensor(1.8625), tensor(2.8060), tensor(2.5563), tensor(2.1288), tensor(2.7021), tensor(1.1385), tensor(2.6743), tensor(2.6112), tensor(2.6693), tensor(2.2161), tensor(0.7564), tensor(2.7601), tensor(0.6024), tensor(2.5882), tensor(1.5088), tensor(1.6713), tensor(1.7061), tensor(2.9041), tensor(2.6083), tensor(1.3200), tensor(0.1316), tensor(2.6859), tensor(1.8799), tensor(1.6781), tensor(2.5993), tensor(2.6489), tensor(2.4382), tensor(1.5023), tensor(2.7273), tensor(1.9008), tensor(2.1741), tensor(1.1684), tensor(1.6105), tensor(0.5051), tensor(1.7805), tensor(2.6833), tensor(1.2492), tensor(2.7067), tensor(1.2367), tensor(-0.0713), tensor(2.1019), tensor(2.4861), tensor(2.0789), tensor(2.3925), tensor(1.8691), tensor(0.7632), tensor(-1.9689), tensor(2.6798), tensor(2.3944), tensor(1.9577), tensor(2.2091), tensor(1.8189), tensor(-1.9889), tensor(2.2534), tensor(2.2425), tensor(1.9233), tensor(2.6151), tensor(2.1479), tensor(2.2879), tensor(2.2867), tensor(0.8850), tensor(-0.1120), tensor(2.9294), tensor(1.9336), tensor(1.7259), tensor(-0.3296), tensor(2.2988), tensor(2.8469), tensor(2.3526), tensor(2.6460), tensor(2.4960), tensor(2.2046), tensor(0.2386), tensor(-0.7231), tensor(1.8341), tensor(2.7567), tensor(1.6737), tensor(2.6522), tensor(1.6773), tensor(2.6395), tensor(-0.4909), tensor(2.8422), tensor(2.7727), tensor(0.9669), tensor(2.2596), tensor(2.4599), tensor(0.9568), tensor(2.1410), tensor(2.7131), tensor(1.9824), tensor(-0.0742), tensor(1.8643), tensor(-1.7204), tensor(2.5461), tensor(1.9141), tensor(2.7311), tensor(-1.6306), tensor(2.7650), tensor(2.4024), tensor(2.3236), tensor(2.7182), tensor(1.8464), tensor(1.5812), tensor(1.9741), tensor(0.0891), tensor(-1.8856), tensor(-0.1099), tensor(2.8181), tensor(2.8722), tensor(2.7521), tensor(2.8177), tensor(2.1484), tensor(2.7021), tensor(1.8237), tensor(1.5079), tensor(2.9096), tensor(2.1773), tensor(2.8028), tensor(-1.5469), tensor(2.3571), tensor(-1.4933), tensor(-2.8449), tensor(1.4525), tensor(0.5553), tensor(1.1228), tensor(2.6983), tensor(2.0170), tensor(2.4058), tensor(2.8041), tensor(1.2348), tensor(2.8569), tensor(1.8793), tensor(1.5755), tensor(-0.3888), tensor(1.8668), tensor(2.0601), tensor(2.3652), tensor(0.4139), tensor(1.9592), tensor(2.0819), tensor(2.7164), tensor(-2.2615), tensor(1.3931), tensor(2.8740), tensor(2.1384), tensor(2.5166), tensor(2.3275), tensor(2.8604), tensor(1.9981), tensor(1.0092), tensor(0.6272), tensor(1.7929), tensor(1.3530), tensor(1.9421), tensor(-1.4488), tensor(0.1783), tensor(-1.0567), tensor(0.3260), tensor(2.5947), tensor(1.8439), tensor(2.0631), tensor(1.6799), tensor(-2.7520), tensor(2.7057), tensor(1.5104), tensor(2.0599), tensor(1.6117), tensor(1.5960), tensor(2.5960), tensor(1.6948), tensor(2.8173), tensor(0.2081), tensor(-0.8487), tensor(1.6718), tensor(0.4049), tensor(2.4939), tensor(2.5219), tensor(2.4194), tensor(2.4668), tensor(2.2487), tensor(2.4923), tensor(0.5186), tensor(2.2627), tensor(1.9963), tensor(1.8646), tensor(0.8870), tensor(1.9876), tensor(0.6017), tensor(2.7230), tensor(1.8988), tensor(2.0588), tensor(2.4277), tensor(1.3937), tensor(1.6829), tensor(0.1188), tensor(0.1821), tensor(0.2777), tensor(2.7264)]\n"
     ]
    },
    {
     "name": "stderr",
     "output_type": "stream",
     "text": [
      "33it [1:13:37, 128.08s/it]"
     ]
    },
    {
     "name": "stdout",
     "output_type": "stream",
     "text": [
      "[tensor(2.8345), tensor(1.5929), tensor(0.7399), tensor(0.7345), tensor(2.8390), tensor(1.4616), tensor(-2.0524), tensor(2.6666), tensor(2.8827), tensor(0.6133), tensor(2.9301), tensor(2.9333), tensor(2.7422), tensor(1.5704), tensor(2.1780), tensor(2.6824), tensor(-1.3267), tensor(2.6816), tensor(0.7749), tensor(2.8756), tensor(1.8703), tensor(-2.0893), tensor(2.7271), tensor(2.8334), tensor(-2.4823), tensor(2.9195), tensor(2.8457), tensor(1.9806), tensor(2.4828), tensor(1.0831), tensor(0.8012), tensor(1.8942), tensor(2.5203), tensor(2.5591), tensor(1.0294), tensor(1.6143), tensor(2.4608), tensor(-1.4933), tensor(1.1619), tensor(1.1798), tensor(2.0045), tensor(2.8445), tensor(2.5029), tensor(2.5483), tensor(-0.7216), tensor(2.2597), tensor(2.7615), tensor(2.6008), tensor(1.9663), tensor(2.6775), tensor(2.7000), tensor(2.3446), tensor(-1.7812), tensor(2.7393), tensor(1.4782), tensor(2.0430), tensor(-1.1272), tensor(1.5423), tensor(2.8754), tensor(2.6954), tensor(2.8113), tensor(2.5573), tensor(-0.0722), tensor(1.5709), tensor(1.1947), tensor(2.3343), tensor(2.7620), tensor(-1.7017), tensor(2.9204), tensor(-0.5232), tensor(2.0002), tensor(1.2697), tensor(2.7563), tensor(0.5028), tensor(2.1120), tensor(-2.9296), tensor(0.7780), tensor(2.8595), tensor(2.8447), tensor(2.5887), tensor(2.5288), tensor(2.7325), tensor(2.8486), tensor(2.8952), tensor(-0.1578), tensor(2.1271), tensor(1.5160), tensor(-0.2138), tensor(2.0699), tensor(-0.2583), tensor(-2.0751), tensor(2.2213), tensor(2.5272), tensor(1.2539), tensor(2.5506), tensor(2.6685), tensor(1.9308), tensor(2.1348), tensor(0.7630), tensor(2.5855), tensor(2.2625), tensor(-0.6384), tensor(2.1347), tensor(0.5396), tensor(1.2882), tensor(2.5948), tensor(1.1075), tensor(0.4525), tensor(2.8759), tensor(2.3802), tensor(0.0091), tensor(-2.1312), tensor(0.7863), tensor(-1.8872), tensor(1.6572), tensor(1.7951), tensor(2.7611), tensor(2.6494), tensor(0.7401), tensor(2.7701), tensor(2.5945), tensor(2.2313), tensor(1.4974), tensor(2.8010), tensor(2.4134), tensor(2.8505), tensor(1.8625), tensor(2.0000), tensor(2.7938), tensor(2.3159), tensor(2.0193), tensor(2.9303), tensor(0.1313), tensor(0.9548), tensor(1.4434), tensor(2.0201), tensor(0.2121), tensor(2.7321), tensor(2.7328), tensor(2.3539), tensor(1.0635), tensor(0.5682), tensor(2.8698), tensor(2.4430), tensor(1.8331), tensor(-0.2220), tensor(1.7274), tensor(2.5739), tensor(-1.0969), tensor(2.4100), tensor(2.3936), tensor(0.8746), tensor(2.0796), tensor(0.6781), tensor(2.2456), tensor(-2.8412), tensor(2.7159), tensor(-1.0962), tensor(2.6049), tensor(2.5877), tensor(1.8502), tensor(2.4552), tensor(2.5142), tensor(-0.1203), tensor(1.9382), tensor(2.8241), tensor(0.0865), tensor(2.8250), tensor(1.2803), tensor(0.9814), tensor(2.3637), tensor(2.7801), tensor(2.0951), tensor(0.2576), tensor(0.8678), tensor(2.4887), tensor(2.8511), tensor(0.2319), tensor(1.4017), tensor(2.8459), tensor(2.6568), tensor(1.9967), tensor(2.5095), tensor(1.0248), tensor(0.7075), tensor(0.7873), tensor(2.6666), tensor(2.5628), tensor(2.7692), tensor(-1.8829), tensor(2.8317), tensor(0.9642), tensor(2.2793), tensor(0.9467), tensor(-1.9852), tensor(0.8571), tensor(2.4727), tensor(2.8838), tensor(1.3180), tensor(2.8387), tensor(1.5404), tensor(1.6766), tensor(0.7986), tensor(2.6750), tensor(2.8836), tensor(1.7696), tensor(2.7930), tensor(-0.5432), tensor(-1.2736), tensor(2.4736), tensor(1.1141), tensor(0.2178), tensor(2.7732), tensor(-2.1785), tensor(2.7545), tensor(1.8911), tensor(2.1387), tensor(2.7780), tensor(0.0810), tensor(0.7041), tensor(2.4739), tensor(-0.8447), tensor(2.7370), tensor(0.2537), tensor(2.7896), tensor(2.6117), tensor(1.2528), tensor(2.8613), tensor(-2.5899), tensor(1.0528), tensor(2.8140), tensor(1.2699), tensor(2.0492), tensor(1.2092), tensor(0.2153), tensor(2.5262), tensor(2.7870), tensor(0.0537), tensor(2.4642), tensor(2.8901), tensor(0.0117), tensor(1.5809), tensor(2.8228), tensor(1.6308), tensor(2.1832), tensor(2.5595), tensor(2.6523), tensor(0.6710), tensor(1.7355), tensor(0.2724), tensor(2.6913), tensor(2.6677), tensor(1.9987), tensor(2.7785), tensor(2.7796), tensor(0.7298)]\n"
     ]
    },
    {
     "name": "stderr",
     "output_type": "stream",
     "text": [
      "34it [1:15:52, 130.25s/it]"
     ]
    },
    {
     "name": "stdout",
     "output_type": "stream",
     "text": [
      "[tensor(2.8263), tensor(1.0197), tensor(2.1949), tensor(2.5816), tensor(2.7202), tensor(2.1758), tensor(2.7280), tensor(-2.4400), tensor(2.8438), tensor(1.2659), tensor(2.3656), tensor(2.6013), tensor(2.9080), tensor(2.7344), tensor(2.8439), tensor(2.5093), tensor(2.7704), tensor(1.2530), tensor(2.6436), tensor(2.3722), tensor(2.3881), tensor(2.1932), tensor(1.6121), tensor(2.7069), tensor(2.5960), tensor(2.4931), tensor(2.4382), tensor(2.8809), tensor(2.6221), tensor(2.5781), tensor(2.6893), tensor(-2.3355), tensor(0.3364), tensor(1.4142), tensor(2.3700), tensor(2.5065), tensor(2.8387), tensor(2.7640), tensor(2.7368), tensor(2.7147), tensor(2.7468), tensor(1.9279), tensor(-0.5964), tensor(0.7644), tensor(2.6977), tensor(2.8515), tensor(2.8838), tensor(1.0451), tensor(1.5663), tensor(0.0613), tensor(2.7946), tensor(1.4423), tensor(2.7561), tensor(-1.5608), tensor(2.7143), tensor(2.4682), tensor(2.7767), tensor(1.8815), tensor(2.6387), tensor(-0.7892), tensor(2.8615), tensor(2.6010), tensor(-2.2782), tensor(2.7581), tensor(0.5454), tensor(2.2566), tensor(1.3304), tensor(2.4455), tensor(-2.2261), tensor(-0.2855), tensor(1.6826), tensor(2.2391), tensor(2.7990), tensor(2.4664), tensor(2.8123), tensor(-2.6632), tensor(0.7463), tensor(-0.2414), tensor(2.5218), tensor(2.9095), tensor(2.6292), tensor(2.8427), tensor(2.3496), tensor(1.5574), tensor(2.4635), tensor(2.9495), tensor(2.5590), tensor(2.3821), tensor(2.8214), tensor(1.6229), tensor(1.7171), tensor(-2.5500), tensor(0.4031), tensor(2.6201), tensor(2.0391), tensor(2.1283), tensor(1.9606), tensor(2.6074), tensor(0.9171), tensor(1.6758), tensor(1.8591), tensor(2.5350), tensor(1.9527), tensor(1.1542), tensor(1.0709), tensor(2.4766), tensor(1.6478), tensor(2.5896), tensor(2.0792), tensor(2.7353), tensor(2.0539), tensor(2.5797), tensor(2.1308), tensor(2.8569), tensor(1.9410), tensor(2.4831), tensor(2.7627), tensor(2.6542), tensor(0.1999), tensor(2.6389), tensor(2.8388), tensor(2.7273), tensor(2.9127), tensor(2.5880), tensor(-0.8741), tensor(2.8457), tensor(2.8619), tensor(2.5901), tensor(-1.4049), tensor(-0.2193), tensor(-0.1018), tensor(2.2724), tensor(2.1912), tensor(-0.8745), tensor(-2.0267), tensor(1.7357), tensor(0.5457), tensor(2.3513), tensor(2.7156), tensor(0.1121), tensor(2.8171), tensor(0.0593), tensor(1.7373), tensor(1.4908), tensor(2.3691), tensor(-1.1599), tensor(2.7566), tensor(1.6114), tensor(2.8312), tensor(-1.3673), tensor(2.8441), tensor(2.4825), tensor(0.4079), tensor(-1.1046), tensor(2.5811), tensor(1.3160), tensor(0.6534), tensor(1.3411), tensor(1.5585), tensor(2.7983), tensor(2.6740), tensor(2.6291), tensor(2.5211), tensor(0.9306), tensor(0.3035), tensor(2.4726), tensor(2.7437), tensor(2.6496), tensor(0.9987), tensor(2.6580), tensor(-2.7895), tensor(-1.0809), tensor(2.6473), tensor(-0.8067), tensor(2.0765), tensor(-1.0421), tensor(-0.1614), tensor(1.9050), tensor(2.4659), tensor(-0.6614), tensor(1.5583), tensor(2.7856), tensor(2.2283), tensor(-1.3252), tensor(2.7303), tensor(2.7380), tensor(2.1554), tensor(2.7972), tensor(1.9981), tensor(2.7306), tensor(2.2119), tensor(1.2385), tensor(2.0322), tensor(2.8327), tensor(2.2679), tensor(2.6304), tensor(2.8370), tensor(1.2098), tensor(1.0010), tensor(2.3930), tensor(2.8760), tensor(0.8220), tensor(1.4990), tensor(2.7477), tensor(-0.1253), tensor(2.5958), tensor(1.5306), tensor(-0.2587), tensor(-2.1537), tensor(2.0088), tensor(-0.7381), tensor(2.8144), tensor(2.3798), tensor(1.0323), tensor(1.8556), tensor(2.3683), tensor(0.7077), tensor(2.1472), tensor(-0.1417), tensor(2.7700), tensor(2.6263), tensor(1.5402), tensor(2.7969), tensor(2.5392), tensor(1.6829), tensor(2.9100), tensor(-1.7990), tensor(1.9350), tensor(2.6983), tensor(0.5066), tensor(2.8384), tensor(-0.1855), tensor(2.5000), tensor(-1.4661), tensor(2.3508), tensor(2.7936), tensor(2.0102), tensor(1.4091), tensor(2.6806), tensor(-0.2128), tensor(1.4706), tensor(-0.4580), tensor(0.8027), tensor(2.5397), tensor(1.2267), tensor(2.5257), tensor(1.6621), tensor(2.8703), tensor(1.9002), tensor(2.7881), tensor(2.5480), tensor(-0.7108), tensor(1.5198), tensor(2.2669), tensor(2.7387), tensor(2.6722)]\n"
     ]
    },
    {
     "name": "stderr",
     "output_type": "stream",
     "text": [
      "35it [1:17:55, 128.24s/it]"
     ]
    },
    {
     "name": "stdout",
     "output_type": "stream",
     "text": [
      "[tensor(1.8420), tensor(2.6753), tensor(0.2387), tensor(-0.8443), tensor(2.9169), tensor(2.8123), tensor(1.0765), tensor(0.2227), tensor(2.6764), tensor(1.1551), tensor(2.9110), tensor(-0.7657), tensor(2.6991), tensor(2.6914), tensor(2.8572), tensor(2.6175), tensor(2.7630), tensor(2.8458), tensor(2.8009), tensor(2.7240), tensor(2.7553), tensor(2.4617), tensor(2.7823), tensor(2.2062), tensor(0.7688), tensor(2.4070), tensor(2.8659), tensor(-0.6841), tensor(2.6820), tensor(2.8157), tensor(0.4145), tensor(1.9428), tensor(1.7197), tensor(1.1949), tensor(2.5808), tensor(2.7422), tensor(1.3931), tensor(2.2286), tensor(1.3917), tensor(2.4787), tensor(2.6275), tensor(0.8744), tensor(0.3176), tensor(1.9939), tensor(2.7872), tensor(1.9696), tensor(2.4016), tensor(0.5939), tensor(2.8553), tensor(2.4849), tensor(2.3974), tensor(2.6390), tensor(2.5923), tensor(2.4489), tensor(2.7187), tensor(1.2658), tensor(2.7944), tensor(2.7278), tensor(2.5380), tensor(1.9750), tensor(-2.2877), tensor(2.7064), tensor(-1.2432), tensor(0.4971), tensor(2.3802), tensor(2.2284), tensor(-1.1918), tensor(2.7249), tensor(1.6770), tensor(2.6825), tensor(2.8139), tensor(1.5221), tensor(1.9731), tensor(2.5972), tensor(2.4119), tensor(2.6393), tensor(2.4304), tensor(1.0783), tensor(2.0351), tensor(2.7705), tensor(2.0805), tensor(1.9615), tensor(2.7040), tensor(-0.4172), tensor(2.4363), tensor(2.8168), tensor(2.3746), tensor(2.4633), tensor(0.9278), tensor(1.6514), tensor(2.5533), tensor(2.8947), tensor(0.2817), tensor(2.5944), tensor(2.9023), tensor(0.8067), tensor(2.3873), tensor(2.7188), tensor(2.7073), tensor(2.7617), tensor(2.7393), tensor(2.9064), tensor(0.7451), tensor(1.2887), tensor(2.8935), tensor(1.5401), tensor(1.3328), tensor(2.3433), tensor(2.8663), tensor(2.8962), tensor(2.9253), tensor(2.0087), tensor(2.6760), tensor(-0.9234), tensor(0.6869), tensor(2.8371), tensor(-0.5697), tensor(-2.2907), tensor(-0.1996), tensor(2.4726), tensor(2.8219), tensor(2.6467), tensor(2.7150), tensor(1.6481), tensor(2.8622), tensor(2.1770), tensor(0.5875), tensor(0.9354), tensor(2.1119), tensor(1.3389), tensor(-1.2751), tensor(2.1510), tensor(2.0964), tensor(1.7231), tensor(2.7216), tensor(1.4192), tensor(2.5153), tensor(0.4915), tensor(2.7337), tensor(2.8054), tensor(2.3035), tensor(2.6883), tensor(2.4024), tensor(2.8041), tensor(-1.2937), tensor(-1.0627), tensor(2.6791), tensor(2.4051), tensor(2.4125), tensor(2.4192), tensor(2.1595), tensor(2.0160), tensor(1.5941), tensor(-1.6983), tensor(2.6030), tensor(2.5701), tensor(2.8294), tensor(2.1247), tensor(2.0360), tensor(-2.9324), tensor(0.7569), tensor(2.8865), tensor(2.7360), tensor(2.7920), tensor(0.6014), tensor(1.3500), tensor(-0.5631), tensor(0.8346), tensor(0.2766), tensor(2.5323), tensor(2.6153), tensor(2.3205), tensor(-2.3699), tensor(2.7791), tensor(-1.2422), tensor(2.5436), tensor(2.8512), tensor(2.5457), tensor(2.6014), tensor(1.9189), tensor(2.2909), tensor(1.3520), tensor(1.2325), tensor(2.5159), tensor(2.3883), tensor(-1.5492), tensor(1.3345), tensor(1.5566), tensor(2.8574), tensor(1.3609), tensor(2.7256), tensor(0.8106), tensor(2.8339), tensor(-0.1871), tensor(2.0099), tensor(1.9420), tensor(0.7379), tensor(2.8991), tensor(2.7062), tensor(1.9483), tensor(-2.0237), tensor(-0.1896), tensor(2.5540), tensor(0.7962), tensor(2.4782), tensor(0.7473), tensor(2.4360), tensor(-2.2424), tensor(0.1190), tensor(2.7042), tensor(2.7928), tensor(-1.3700), tensor(2.6967), tensor(2.2337), tensor(2.7479), tensor(2.6907), tensor(2.7886), tensor(2.0859), tensor(2.6202), tensor(2.6617), tensor(1.8330), tensor(2.5242), tensor(2.5763), tensor(2.1194), tensor(2.7417), tensor(2.8495), tensor(2.8939), tensor(2.8136), tensor(1.7501), tensor(2.6011), tensor(2.6245), tensor(2.6927), tensor(2.8874), tensor(1.4597), tensor(2.7640), tensor(1.4677), tensor(2.4326), tensor(1.9087), tensor(2.8292), tensor(2.8070), tensor(2.4705), tensor(2.8290), tensor(2.6806), tensor(2.8709), tensor(0.8173), tensor(2.6751), tensor(2.5445), tensor(0.9219), tensor(1.4370), tensor(1.6437), tensor(-0.3491), tensor(1.9229), tensor(-1.4754), tensor(-0.3825), tensor(-1.9307), tensor(2.7870)]\n"
     ]
    },
    {
     "name": "stderr",
     "output_type": "stream",
     "text": [
      "36it [1:20:21, 133.53s/it]"
     ]
    },
    {
     "name": "stdout",
     "output_type": "stream",
     "text": [
      "[tensor(2.1331), tensor(1.2352), tensor(0.1791), tensor(2.8553), tensor(1.7131), tensor(0.3048), tensor(2.7256), tensor(2.8491), tensor(2.6797), tensor(2.3621), tensor(1.6495), tensor(2.3931), tensor(2.5007), tensor(0.7722), tensor(2.6494), tensor(2.5768), tensor(-1.2525), tensor(-0.2529), tensor(1.2957), tensor(-2.7309), tensor(2.7338), tensor(2.3129), tensor(0.3516), tensor(2.9054), tensor(2.8266), tensor(2.0111), tensor(0.6867), tensor(1.3195), tensor(2.5244), tensor(2.7159), tensor(1.4544), tensor(2.7951), tensor(2.9330), tensor(2.1514), tensor(2.7371), tensor(2.9084), tensor(2.9700), tensor(2.5866), tensor(0.2525), tensor(2.8549), tensor(-0.5863), tensor(2.7073), tensor(2.4343), tensor(2.7206), tensor(-0.2635), tensor(2.8653), tensor(1.3683), tensor(0.4223), tensor(2.5484), tensor(2.7086), tensor(2.2012), tensor(1.8032), tensor(2.3886), tensor(-0.3589), tensor(2.4823), tensor(2.6265), tensor(2.4369), tensor(-0.2251), tensor(2.8420), tensor(0.0200), tensor(2.8851), tensor(1.2292), tensor(2.4975), tensor(2.8996), tensor(1.9265), tensor(2.7987), tensor(1.3279), tensor(2.7920), tensor(2.6501), tensor(2.6437), tensor(0.6872), tensor(2.7709), tensor(1.8796), tensor(2.8858), tensor(2.7006), tensor(-1.0641), tensor(2.5471), tensor(2.3014), tensor(1.9956), tensor(2.7372), tensor(2.3554), tensor(-1.4595), tensor(2.4730), tensor(2.8763), tensor(2.7955), tensor(2.6927), tensor(1.2326), tensor(2.5910), tensor(1.6645), tensor(1.0803), tensor(1.7781), tensor(1.3938), tensor(1.6521), tensor(0.1950), tensor(2.6546), tensor(2.6710), tensor(0.7851), tensor(2.8509), tensor(2.4496), tensor(2.7115), tensor(1.9955), tensor(0.8056), tensor(2.6615), tensor(2.6189), tensor(1.5621), tensor(2.0587), tensor(2.8008), tensor(-1.1050), tensor(1.5412), tensor(2.7210), tensor(2.5386), tensor(2.8160), tensor(2.9280), tensor(-0.9378), tensor(-0.0217), tensor(-0.8076), tensor(1.3999), tensor(-0.0733), tensor(2.1761), tensor(-1.6654), tensor(2.4894), tensor(2.7964), tensor(-0.6732), tensor(2.7968), tensor(-0.8442), tensor(2.8366), tensor(2.7064), tensor(1.9142), tensor(0.4737), tensor(2.6315), tensor(2.8870), tensor(2.5463), tensor(-1.1792), tensor(1.0171), tensor(2.1344), tensor(1.2317), tensor(-0.0572), tensor(2.4616), tensor(1.6139), tensor(-0.8598), tensor(2.3378), tensor(1.4642), tensor(2.6950), tensor(1.2632), tensor(2.7690), tensor(2.7824), tensor(1.8309), tensor(2.7583), tensor(2.4522), tensor(2.1007), tensor(-0.9813), tensor(2.1681), tensor(2.8814), tensor(2.8988), tensor(2.6646), tensor(2.9068), tensor(1.9347), tensor(1.0718), tensor(1.6945), tensor(1.6570), tensor(2.7377), tensor(1.2946), tensor(1.8961), tensor(1.7253), tensor(2.6632), tensor(2.6679), tensor(2.6641), tensor(2.8252), tensor(2.6588), tensor(2.7154), tensor(1.9205), tensor(2.5852), tensor(2.7890), tensor(2.2617), tensor(2.8543), tensor(2.5457), tensor(2.4776), tensor(-2.2274), tensor(2.5639), tensor(2.5658), tensor(2.8804), tensor(1.8403), tensor(2.0316), tensor(2.0378), tensor(2.7906), tensor(2.3981), tensor(2.7293), tensor(-2.8552), tensor(2.5903), tensor(2.2516), tensor(2.1674), tensor(2.7877), tensor(2.5723), tensor(-0.0299), tensor(-0.8134), tensor(1.8239), tensor(1.7458), tensor(2.7127), tensor(2.8529), tensor(2.1277), tensor(2.2652), tensor(2.7004), tensor(1.8282), tensor(2.7921), tensor(2.5726), tensor(-2.8040), tensor(2.8875), tensor(2.7956), tensor(2.7533), tensor(2.7749), tensor(2.6507), tensor(1.6456), tensor(2.1620), tensor(2.7385), tensor(2.1301), tensor(2.3380), tensor(2.3569), tensor(-2.5869), tensor(2.4255), tensor(0.8385), tensor(-1.7547), tensor(2.5439), tensor(2.0572), tensor(-0.1499), tensor(2.7943), tensor(1.7384), tensor(0.7205), tensor(1.2951), tensor(2.8353), tensor(2.4619), tensor(2.7406), tensor(2.2739), tensor(1.2790), tensor(2.8356), tensor(-1.0854), tensor(1.1096), tensor(2.7983), tensor(2.8303), tensor(1.4213), tensor(2.6442), tensor(2.2920), tensor(2.7568), tensor(0.2418), tensor(2.6554), tensor(2.4091), tensor(2.1779), tensor(0.2929), tensor(2.8927), tensor(2.1042), tensor(1.7416), tensor(2.4928), tensor(1.3694), tensor(0.3433), tensor(-0.9447), tensor(0.1060), tensor(-0.7933)]\n"
     ]
    },
    {
     "name": "stderr",
     "output_type": "stream",
     "text": [
      "37it [1:22:34, 133.22s/it]"
     ]
    },
    {
     "name": "stdout",
     "output_type": "stream",
     "text": [
      "[tensor(2.1198), tensor(2.4249), tensor(2.6633), tensor(2.8407), tensor(1.3131), tensor(2.3550), tensor(1.0057), tensor(2.5805), tensor(-2.8433), tensor(2.8856), tensor(1.0576), tensor(0.9627), tensor(2.2595), tensor(2.3898), tensor(2.6109), tensor(2.5066), tensor(2.1074), tensor(2.4478), tensor(2.8063), tensor(2.5061), tensor(2.8708), tensor(0.5915), tensor(2.1992), tensor(2.6195), tensor(2.7912), tensor(0.1595), tensor(2.3448), tensor(2.2875), tensor(2.8794), tensor(-0.6253), tensor(2.7141), tensor(2.5624), tensor(-1.6504), tensor(-2.7657), tensor(1.8508), tensor(2.4759), tensor(2.0904), tensor(1.3279), tensor(2.5815), tensor(2.9213), tensor(2.8074), tensor(1.8050), tensor(2.6157), tensor(2.1351), tensor(2.7582), tensor(2.3052), tensor(0.5174), tensor(2.9188), tensor(2.9053), tensor(2.5203), tensor(2.5087), tensor(2.2926), tensor(1.7701), tensor(0.8612), tensor(0.8980), tensor(2.6378), tensor(-0.8922), tensor(2.8953), tensor(2.7452), tensor(2.7954), tensor(-0.2655), tensor(-2.7469), tensor(1.3754), tensor(2.6870), tensor(-1.2148), tensor(2.9103), tensor(2.5287), tensor(1.2607), tensor(2.3049), tensor(2.7438), tensor(2.2143), tensor(2.2389), tensor(1.4975), tensor(2.8657), tensor(2.6686), tensor(0.2180), tensor(-1.2398), tensor(2.7274), tensor(-1.3167), tensor(2.5726), tensor(2.5615), tensor(1.1735), tensor(2.7542), tensor(2.6088), tensor(2.5777), tensor(2.8687), tensor(1.0585), tensor(2.6059), tensor(0.7300), tensor(-0.8419), tensor(2.3072), tensor(-2.3809), tensor(2.4121), tensor(1.7454), tensor(2.8524), tensor(2.8248), tensor(2.3438), tensor(2.7877), tensor(2.8921), tensor(2.6667), tensor(1.4214), tensor(2.8783), tensor(2.3248), tensor(1.0281), tensor(-0.1410), tensor(2.8314), tensor(2.4996), tensor(1.4530), tensor(2.7214), tensor(2.8070), tensor(-0.1496), tensor(2.6267), tensor(2.3246), tensor(2.0641), tensor(2.8956), tensor(-0.2567), tensor(1.4502), tensor(1.6165), tensor(2.5892), tensor(2.7174), tensor(1.9184), tensor(2.6372), tensor(1.1721), tensor(2.0238), tensor(-2.9842), tensor(2.7470), tensor(2.8441), tensor(2.6705), tensor(-2.4747), tensor(-1.0523), tensor(1.5942), tensor(2.8262), tensor(2.5291), tensor(2.0320), tensor(-1.7490), tensor(1.8024), tensor(1.3969), tensor(2.4980), tensor(-0.3860), tensor(1.8124), tensor(2.8077), tensor(2.7501), tensor(2.1333), tensor(2.1668), tensor(2.6123), tensor(2.6164), tensor(1.1531), tensor(-1.5970), tensor(2.8337), tensor(-1.6235), tensor(2.3353), tensor(1.9759), tensor(1.6860), tensor(2.8592), tensor(2.4698), tensor(1.0666), tensor(2.7606), tensor(-1.8145), tensor(-2.0738), tensor(-0.3652), tensor(1.8337), tensor(2.5551), tensor(-0.7827), tensor(2.4465), tensor(0.7846), tensor(2.7727), tensor(1.0585), tensor(2.4981), tensor(2.9076), tensor(2.9455), tensor(2.8766), tensor(2.5132), tensor(2.6289), tensor(2.8354), tensor(2.7286), tensor(1.5392), tensor(1.3706), tensor(2.7132), tensor(2.1036), tensor(2.8599), tensor(2.7775), tensor(2.5731), tensor(2.2338), tensor(2.7313), tensor(2.8327), tensor(1.8704), tensor(1.3847), tensor(2.4670), tensor(-0.4460), tensor(1.7753), tensor(2.0054), tensor(-2.0612), tensor(2.8420), tensor(2.8576), tensor(0.6131), tensor(1.6857), tensor(2.6176), tensor(2.3613), tensor(-1.7715), tensor(2.4841), tensor(0.8708), tensor(2.6002), tensor(2.6672), tensor(2.3810), tensor(0.7762), tensor(1.1134), tensor(1.8746), tensor(2.8055), tensor(2.7577), tensor(2.4564), tensor(2.0048), tensor(1.8379), tensor(2.4127), tensor(0.7599), tensor(-2.2831), tensor(2.6663), tensor(2.6989), tensor(2.7735), tensor(2.8144), tensor(2.6015), tensor(2.5556), tensor(2.8677), tensor(2.8750), tensor(2.9014), tensor(2.5219), tensor(2.7952), tensor(2.1168), tensor(2.3600), tensor(0.2012), tensor(1.0539), tensor(1.9245), tensor(0.5187), tensor(1.5316), tensor(2.1214), tensor(2.9378), tensor(1.3758), tensor(2.7900), tensor(2.7005), tensor(1.6870), tensor(2.4625), tensor(1.4996), tensor(2.8161), tensor(0.4468), tensor(2.7322), tensor(0.7310), tensor(2.2739), tensor(2.9352), tensor(1.3142), tensor(2.8088), tensor(2.1969), tensor(0.8911), tensor(2.3394), tensor(2.8225), tensor(2.3557), tensor(2.2640), tensor(2.6498)]\n"
     ]
    },
    {
     "name": "stderr",
     "output_type": "stream",
     "text": [
      "38it [1:24:55, 135.71s/it]"
     ]
    },
    {
     "name": "stdout",
     "output_type": "stream",
     "text": [
      "[tensor(2.5135), tensor(0.3552), tensor(2.7169), tensor(-1.5235), tensor(0.2363), tensor(2.3808), tensor(2.7994), tensor(2.7384), tensor(1.7575), tensor(0.4452), tensor(2.8017), tensor(2.5257), tensor(2.6028), tensor(1.4704), tensor(2.4320), tensor(1.3599), tensor(2.7134), tensor(2.5407), tensor(1.9365), tensor(2.7567), tensor(1.1483), tensor(2.6153), tensor(2.8180), tensor(2.3573), tensor(1.0043), tensor(2.3141), tensor(-2.0491), tensor(2.2222), tensor(2.0299), tensor(1.0405), tensor(2.9348), tensor(0.7023), tensor(-0.5970), tensor(1.7349), tensor(1.9115), tensor(2.7589), tensor(2.8301), tensor(2.8998), tensor(2.7365), tensor(2.6793), tensor(2.0530), tensor(-2.1955), tensor(2.0329), tensor(2.3310), tensor(-1.3144), tensor(1.2980), tensor(2.7380), tensor(2.8572), tensor(2.8123), tensor(2.7903), tensor(-1.0978), tensor(0.9053), tensor(0.9880), tensor(2.6234), tensor(0.3391), tensor(2.8559), tensor(0.2731), tensor(2.7501), tensor(1.1427), tensor(2.5601), tensor(0.3054), tensor(2.7523), tensor(2.6254), tensor(2.0311), tensor(2.5826), tensor(1.9651), tensor(0.4687), tensor(2.8162), tensor(2.6957), tensor(1.5964), tensor(-2.9469), tensor(2.9515), tensor(1.2246), tensor(2.6677), tensor(1.8429), tensor(-1.1807), tensor(2.7266), tensor(2.5197), tensor(2.8559), tensor(2.2826), tensor(0.7119), tensor(2.1856), tensor(-0.3020), tensor(0.9466), tensor(2.4957), tensor(2.3972), tensor(2.6287), tensor(0.3057), tensor(-1.1328), tensor(-1.3511), tensor(2.1071), tensor(1.8339), tensor(1.6326), tensor(1.4862), tensor(2.6730), tensor(0.3416), tensor(2.7093), tensor(2.6575), tensor(1.6952), tensor(-0.7002), tensor(1.5820), tensor(2.1123), tensor(2.4062), tensor(0.6396), tensor(2.3670), tensor(-1.2217), tensor(2.8947), tensor(2.7219), tensor(-0.4779), tensor(-1.6558), tensor(0.5072), tensor(2.6904), tensor(1.6837), tensor(1.9261), tensor(2.5286), tensor(2.8918), tensor(2.2916), tensor(-1.8708), tensor(2.4834), tensor(0.7479), tensor(2.7839), tensor(0.7976), tensor(2.7222), tensor(2.5705), tensor(2.1423), tensor(2.4600), tensor(2.7695), tensor(1.8616), tensor(2.6775), tensor(1.2712), tensor(2.6797), tensor(-2.8977), tensor(0.0381), tensor(2.4783), tensor(2.7326), tensor(2.7234), tensor(2.4170), tensor(1.9294), tensor(2.5128), tensor(1.7738), tensor(1.7695), tensor(2.5193), tensor(-1.7461), tensor(2.5925), tensor(0.3205), tensor(-2.0395), tensor(2.7628), tensor(2.1538), tensor(2.8718), tensor(0.4564), tensor(1.0089), tensor(0.1611), tensor(1.5107), tensor(2.2312), tensor(2.7056), tensor(0.1032), tensor(1.7733), tensor(2.2530), tensor(2.3850), tensor(2.9074), tensor(-2.1085), tensor(1.7780), tensor(2.6460), tensor(2.2722), tensor(1.8750), tensor(0.5055), tensor(2.7696), tensor(2.4699), tensor(2.5202), tensor(2.4986), tensor(0.4744), tensor(1.8959), tensor(0.9382), tensor(2.5631), tensor(2.7229), tensor(2.5375), tensor(2.0983), tensor(2.6255), tensor(-0.7391), tensor(2.1440), tensor(1.8254), tensor(2.7441), tensor(2.6604), tensor(2.0158), tensor(1.1274), tensor(2.6983), tensor(2.1919), tensor(0.4566), tensor(1.5773), tensor(0.4434), tensor(2.7769), tensor(1.9610), tensor(2.7662), tensor(2.6147), tensor(2.7883), tensor(2.3128), tensor(2.9140), tensor(2.6517), tensor(2.1282), tensor(2.1204), tensor(1.2546), tensor(2.3197), tensor(-2.7238), tensor(1.5406), tensor(1.0396), tensor(2.8260), tensor(2.5566), tensor(1.8820), tensor(1.6087), tensor(1.3588), tensor(2.8351), tensor(2.0945), tensor(0.6729), tensor(2.4923), tensor(1.1045), tensor(2.6843), tensor(2.6947), tensor(2.8576), tensor(1.5120), tensor(2.6605), tensor(1.6463), tensor(1.7601), tensor(2.9238), tensor(-0.2757), tensor(2.7502), tensor(2.6906), tensor(2.7568), tensor(2.3562), tensor(2.6749), tensor(-2.9188), tensor(0.1071), tensor(2.3910), tensor(1.7013), tensor(2.5785), tensor(1.8699), tensor(2.4695), tensor(2.8305), tensor(2.4463), tensor(1.0734), tensor(2.8354), tensor(0.9125), tensor(0.9269), tensor(1.6084), tensor(2.7953), tensor(2.6927), tensor(2.7479), tensor(2.4015), tensor(2.7168), tensor(2.2193), tensor(0.9780), tensor(2.2237), tensor(2.5037), tensor(2.7445), tensor(-2.7638), tensor(2.7812), tensor(0.3966)]\n"
     ]
    },
    {
     "name": "stderr",
     "output_type": "stream",
     "text": [
      "39it [1:26:56, 131.32s/it]"
     ]
    },
    {
     "name": "stdout",
     "output_type": "stream",
     "text": [
      "[tensor(2.3353), tensor(2.5422), tensor(2.3678), tensor(2.4983), tensor(0.7390), tensor(2.8222), tensor(0.0639), tensor(0.0759), tensor(2.6050), tensor(1.6799), tensor(2.4298), tensor(-1.9886), tensor(2.7929), tensor(1.8448), tensor(2.7101), tensor(2.7741), tensor(2.7035), tensor(2.4990), tensor(0.2890), tensor(0.4629), tensor(-1.5150), tensor(2.8902), tensor(2.8836), tensor(2.3216), tensor(2.7340), tensor(2.1055), tensor(2.7215), tensor(2.4385), tensor(2.8928), tensor(-0.0626), tensor(2.6389), tensor(2.4921), tensor(1.8168), tensor(1.4105), tensor(2.8100), tensor(2.1021), tensor(2.6019), tensor(2.5738), tensor(1.9114), tensor(1.2603), tensor(2.6558), tensor(0.4343), tensor(2.7720), tensor(0.5248), tensor(2.3477), tensor(2.6628), tensor(2.6471), tensor(2.2095), tensor(1.8815), tensor(2.6225), tensor(1.1319), tensor(2.5674), tensor(1.9706), tensor(0.0899), tensor(2.6627), tensor(2.8585), tensor(1.5712), tensor(2.8119), tensor(2.2629), tensor(2.8085), tensor(2.6938), tensor(2.4513), tensor(0.2005), tensor(2.0370), tensor(0.8659), tensor(2.5403), tensor(2.5661), tensor(2.2967), tensor(2.5184), tensor(2.8962), tensor(2.7706), tensor(1.9399), tensor(1.3928), tensor(2.4130), tensor(1.3344), tensor(1.9944), tensor(1.7583), tensor(1.1460), tensor(2.7272), tensor(2.1964), tensor(1.9166), tensor(2.2601), tensor(1.8541), tensor(2.2587), tensor(0.8196), tensor(2.9055), tensor(-0.0630), tensor(-1.3690), tensor(1.3162), tensor(2.7548), tensor(2.4705), tensor(2.4515), tensor(-1.8694), tensor(2.6193), tensor(2.0839), tensor(2.7005), tensor(2.5453), tensor(2.7839), tensor(2.7224), tensor(2.6783), tensor(2.6583), tensor(1.5903), tensor(-0.9012), tensor(2.6162), tensor(2.3634), tensor(2.6565), tensor(2.4504), tensor(2.3311), tensor(2.8507), tensor(0.1195), tensor(-2.1377), tensor(2.0696), tensor(1.4230), tensor(-0.6959), tensor(2.3696), tensor(0.1080), tensor(0.3274), tensor(0.8999), tensor(2.8736), tensor(2.8233), tensor(2.1321), tensor(2.6570), tensor(2.5541), tensor(1.1467), tensor(0.9726), tensor(2.0072), tensor(2.7858), tensor(1.7957), tensor(0.7227), tensor(1.9466), tensor(2.8389), tensor(2.6671), tensor(0.2450), tensor(2.2427), tensor(1.7535), tensor(2.9191), tensor(0.1283), tensor(2.8827), tensor(2.0341), tensor(1.3400), tensor(1.3379), tensor(1.0310), tensor(2.8527), tensor(2.7565), tensor(-2.7444), tensor(2.7194), tensor(1.9811), tensor(2.6372), tensor(1.9276), tensor(1.0932), tensor(2.7991), tensor(-0.1023), tensor(-1.6070), tensor(2.8393), tensor(2.8124), tensor(2.9292), tensor(2.7562), tensor(2.3332), tensor(1.5613), tensor(0.2255), tensor(0.4344), tensor(1.2501), tensor(2.8059), tensor(1.5837), tensor(2.6921), tensor(-0.9592), tensor(2.7249), tensor(2.8592), tensor(2.8510), tensor(0.3831), tensor(2.1738), tensor(2.7748), tensor(2.5631), tensor(2.8147), tensor(-0.7886), tensor(2.8479), tensor(2.8262), tensor(2.4276), tensor(2.7607), tensor(2.6083), tensor(2.7562), tensor(2.6476), tensor(1.0690), tensor(2.6154), tensor(2.8934), tensor(1.2458), tensor(1.1606), tensor(2.7446), tensor(1.7239), tensor(2.3318), tensor(0.3064), tensor(1.6448), tensor(1.0104), tensor(2.7581), tensor(-1.9932), tensor(2.8596), tensor(2.0536), tensor(2.1975), tensor(2.1211), tensor(0.4706), tensor(2.6590), tensor(-2.0301), tensor(-1.1497), tensor(2.8794), tensor(-0.2587), tensor(2.7678), tensor(2.3980), tensor(2.6603), tensor(2.7807), tensor(2.6679), tensor(2.7410), tensor(0.4516), tensor(1.3064), tensor(2.5948), tensor(1.5806), tensor(2.8552), tensor(2.8290), tensor(2.7051), tensor(1.7297), tensor(1.2813), tensor(-1.3135), tensor(0.8134), tensor(2.0082), tensor(2.8393), tensor(1.7107), tensor(1.1077), tensor(0.4022), tensor(2.1017), tensor(-2.7519), tensor(2.6614), tensor(2.5624), tensor(1.2192), tensor(-1.7308), tensor(2.8851), tensor(1.4473), tensor(2.3365), tensor(0.2717), tensor(1.8916), tensor(2.7817), tensor(1.6192), tensor(2.6963), tensor(2.1993), tensor(2.8266), tensor(2.6996), tensor(0.0197), tensor(2.7453), tensor(2.8265), tensor(1.5824), tensor(2.4283), tensor(2.3558), tensor(2.4484), tensor(1.2082), tensor(2.8478), tensor(1.6793), tensor(2.8495), tensor(-1.0465)]\n"
     ]
    },
    {
     "name": "stderr",
     "output_type": "stream",
     "text": [
      "40it [1:29:07, 131.02s/it]"
     ]
    },
    {
     "name": "stdout",
     "output_type": "stream",
     "text": [
      "[tensor(0.2049), tensor(2.8752), tensor(2.8469), tensor(2.8512), tensor(2.9061), tensor(-1.8742), tensor(2.7975), tensor(1.3273), tensor(2.6806), tensor(2.7205), tensor(2.8762), tensor(2.8040), tensor(2.5099), tensor(2.7715), tensor(1.9894), tensor(2.6551), tensor(2.3056), tensor(2.5743), tensor(2.4658), tensor(1.1855), tensor(0.8337), tensor(2.1346), tensor(2.6440), tensor(2.7764), tensor(2.8494), tensor(1.5922), tensor(2.4484), tensor(2.8518), tensor(2.6300), tensor(1.3585), tensor(2.8432), tensor(0.1751), tensor(2.8010), tensor(-0.0914), tensor(2.8169), tensor(0.7424), tensor(2.5787), tensor(1.9286), tensor(1.0908), tensor(2.4611), tensor(2.0878), tensor(1.0751), tensor(2.3566), tensor(2.4403), tensor(2.7950), tensor(2.7482), tensor(1.2421), tensor(2.8317), tensor(2.2731), tensor(2.6655), tensor(2.1133), tensor(0.2600), tensor(2.5182), tensor(2.6473), tensor(2.8168), tensor(2.6992), tensor(2.2207), tensor(2.7641), tensor(2.5070), tensor(2.7172), tensor(1.6082), tensor(2.3701), tensor(2.8763), tensor(1.1805), tensor(2.2951), tensor(1.9230), tensor(2.5834), tensor(2.7748), tensor(1.9977), tensor(2.5669), tensor(2.8620), tensor(1.9898), tensor(-1.4019), tensor(2.5605), tensor(0.6386), tensor(2.8608), tensor(0.7635), tensor(1.2184), tensor(-0.2898), tensor(2.4411), tensor(-1.8626), tensor(2.6019), tensor(2.4736), tensor(2.5176), tensor(1.3332), tensor(1.9690), tensor(1.2827), tensor(2.6126), tensor(-0.5460), tensor(2.3157), tensor(2.8399), tensor(2.7967), tensor(1.9014), tensor(1.0245), tensor(0.7066), tensor(-2.2467), tensor(-0.2265), tensor(2.7867), tensor(2.7232), tensor(0.7596), tensor(2.8903), tensor(2.9091), tensor(2.6153), tensor(2.4774), tensor(2.7370), tensor(2.6227), tensor(2.8564), tensor(2.5206), tensor(0.6621), tensor(1.6337), tensor(2.6979), tensor(2.3069), tensor(2.7063), tensor(2.1572), tensor(1.4692), tensor(-2.6212), tensor(1.9724), tensor(2.7599), tensor(2.6321), tensor(2.1142), tensor(1.6702), tensor(2.6739), tensor(2.8028), tensor(1.3732), tensor(0.0052), tensor(2.2420), tensor(2.0107), tensor(0.2746), tensor(2.6264), tensor(1.4256), tensor(0.6412), tensor(1.9324), tensor(2.4205), tensor(2.4542), tensor(-0.8195), tensor(2.7463), tensor(-1.1326), tensor(1.6917), tensor(2.6921), tensor(2.1276), tensor(2.8391), tensor(1.9656), tensor(1.7147), tensor(2.9373), tensor(2.2864), tensor(1.3046), tensor(2.6127), tensor(2.6601), tensor(0.8246), tensor(2.9412), tensor(1.1995), tensor(1.3416), tensor(2.5868), tensor(2.6688), tensor(1.6777), tensor(2.0751), tensor(0.3446), tensor(2.7045), tensor(1.3690), tensor(-2.7494), tensor(2.7614), tensor(-0.5007), tensor(1.6361), tensor(2.8702), tensor(2.2502), tensor(2.7395), tensor(2.7783), tensor(1.5103), tensor(2.5398), tensor(2.5072), tensor(2.5003), tensor(-1.9862), tensor(2.5171), tensor(2.0476), tensor(1.8472), tensor(-0.1028), tensor(2.8320), tensor(2.6174), tensor(-0.1405), tensor(1.0074), tensor(2.5781), tensor(2.5871), tensor(1.6612), tensor(2.8753), tensor(2.2915), tensor(2.8540), tensor(1.5279), tensor(2.7885), tensor(1.0076), tensor(2.1732), tensor(-0.0785), tensor(0.9626), tensor(1.3181), tensor(2.8983), tensor(2.6736), tensor(1.1366), tensor(-1.6298), tensor(2.8397), tensor(2.8260), tensor(2.8363), tensor(2.7537), tensor(2.0537), tensor(2.6853), tensor(2.2874), tensor(2.9110), tensor(1.1375), tensor(2.4661), tensor(-0.6773), tensor(2.1768), tensor(2.4802), tensor(2.4118), tensor(2.3522), tensor(0.2670), tensor(2.8022), tensor(2.5986), tensor(1.2835), tensor(-2.7654), tensor(2.6779), tensor(2.8318), tensor(2.6300), tensor(2.8867), tensor(2.0397), tensor(2.4688), tensor(2.1220), tensor(0.8657), tensor(2.6796), tensor(1.3229), tensor(1.8123), tensor(2.2399), tensor(2.5170), tensor(2.0910), tensor(2.6420), tensor(2.7720), tensor(1.6977), tensor(2.7936), tensor(2.6209), tensor(2.6964), tensor(2.8528), tensor(2.4591), tensor(2.8856), tensor(0.6730), tensor(1.5126), tensor(2.0845), tensor(0.6804), tensor(2.7264), tensor(2.6810), tensor(-2.3694), tensor(-1.1848), tensor(2.7875), tensor(2.5440), tensor(2.5537), tensor(-0.0864), tensor(1.6099), tensor(1.9000), tensor(2.6437), tensor(2.3166)]\n"
     ]
    },
    {
     "name": "stderr",
     "output_type": "stream",
     "text": [
      "41it [1:31:14, 129.78s/it]"
     ]
    },
    {
     "name": "stdout",
     "output_type": "stream",
     "text": [
      "[tensor(0.2510), tensor(2.7876), tensor(2.8487), tensor(2.8112), tensor(1.9169), tensor(2.4051), tensor(1.5048), tensor(2.7668), tensor(2.8595), tensor(2.7083), tensor(2.7171), tensor(-0.0008), tensor(2.8347), tensor(1.1682), tensor(2.3891), tensor(-1.5154), tensor(0.1146), tensor(2.0239), tensor(2.6717), tensor(-0.8282), tensor(2.8906), tensor(1.1220), tensor(-1.2986), tensor(2.7835), tensor(1.3047), tensor(2.0526), tensor(0.2672), tensor(-2.4851), tensor(1.5125), tensor(2.4333), tensor(2.4882), tensor(2.2321), tensor(2.6167), tensor(-0.7047), tensor(2.6751), tensor(1.0817), tensor(2.7550), tensor(2.8229), tensor(2.9011), tensor(2.6207), tensor(2.3775), tensor(2.5003), tensor(-2.9466), tensor(2.1242), tensor(2.7544), tensor(2.4783), tensor(1.4633), tensor(2.3436), tensor(1.2612), tensor(-2.2502), tensor(2.9050), tensor(-1.7873), tensor(1.5922), tensor(1.8619), tensor(2.6509), tensor(2.4021), tensor(-0.1405), tensor(1.9922), tensor(1.4924), tensor(2.3770), tensor(2.8847), tensor(1.9796), tensor(-0.3510), tensor(2.2904), tensor(1.7660), tensor(2.8914), tensor(2.1264), tensor(2.0959), tensor(2.5298), tensor(2.7121), tensor(2.7860), tensor(1.4689), tensor(1.2024), tensor(0.9810), tensor(1.4036), tensor(-2.8408), tensor(2.9095), tensor(2.8083), tensor(2.3789), tensor(2.0797), tensor(-0.2148), tensor(1.3543), tensor(2.6510), tensor(2.4283), tensor(1.7931), tensor(2.8478), tensor(2.8751), tensor(2.3474), tensor(2.3804), tensor(2.7706), tensor(1.2122), tensor(-0.7243), tensor(-1.7984), tensor(2.2162), tensor(2.5527), tensor(1.9669), tensor(2.5473), tensor(2.8531), tensor(0.0179), tensor(-0.7296), tensor(2.4149), tensor(2.3823), tensor(2.2262), tensor(1.9365), tensor(2.5743), tensor(2.3637), tensor(1.4762), tensor(2.0838), tensor(2.4018), tensor(2.7881), tensor(2.8229), tensor(-0.1954), tensor(1.1159), tensor(2.7803), tensor(1.3811), tensor(1.3825), tensor(-1.9188), tensor(0.7818), tensor(2.6010), tensor(2.0741), tensor(2.6105), tensor(2.7076), tensor(2.5744), tensor(0.0624), tensor(2.8392), tensor(2.7822), tensor(2.7072), tensor(2.7233), tensor(-2.5711), tensor(-0.3458), tensor(0.7523), tensor(0.2848), tensor(0.2929), tensor(1.5035), tensor(2.6822), tensor(1.7346), tensor(1.7968), tensor(2.8238), tensor(1.3289), tensor(1.8059), tensor(2.8322), tensor(1.6554), tensor(2.5931), tensor(2.3741), tensor(2.1926), tensor(-0.3943), tensor(2.7377), tensor(-0.5262), tensor(-0.2387), tensor(2.6534), tensor(2.7277), tensor(1.6430), tensor(0.2185), tensor(2.7117), tensor(1.8786), tensor(1.4995), tensor(1.1214), tensor(2.5470), tensor(-2.6718), tensor(2.5813), tensor(2.7742), tensor(2.7145), tensor(1.5838), tensor(1.3250), tensor(-1.1116), tensor(2.5470), tensor(2.8246), tensor(2.6670), tensor(2.4345), tensor(2.6943), tensor(2.8156), tensor(2.1874), tensor(-0.7277), tensor(-2.0808), tensor(1.9060), tensor(2.6478), tensor(2.8434), tensor(0.8279), tensor(2.8239), tensor(2.6987), tensor(2.3706), tensor(2.7978), tensor(0.2361), tensor(2.7279), tensor(2.2512), tensor(2.3128), tensor(-0.2092), tensor(1.8048), tensor(2.3996), tensor(2.7181), tensor(1.7875), tensor(2.4600), tensor(2.6863), tensor(2.0014), tensor(0.3484), tensor(2.8246), tensor(2.8889), tensor(1.2475), tensor(-2.8340), tensor(2.5813), tensor(2.7636), tensor(1.8496), tensor(1.5858), tensor(1.5784), tensor(-2.1917), tensor(2.8335), tensor(1.0225), tensor(2.5998), tensor(1.4744), tensor(0.3052), tensor(2.8074), tensor(2.8444), tensor(2.6928), tensor(2.8194), tensor(2.2919), tensor(1.4433), tensor(2.2031), tensor(2.1345), tensor(2.5323), tensor(0.6078), tensor(2.5257), tensor(2.8073), tensor(2.8752), tensor(2.9049), tensor(2.5998), tensor(-0.8312), tensor(1.9851), tensor(-0.9774), tensor(-2.5141), tensor(1.4524), tensor(2.8996), tensor(0.2020), tensor(1.1319), tensor(2.0747), tensor(2.6777), tensor(1.8412), tensor(-2.6207), tensor(0.5842), tensor(1.0332), tensor(2.8902), tensor(2.2457), tensor(-0.6833), tensor(1.6366), tensor(2.5591), tensor(2.7927), tensor(2.7531), tensor(2.7663), tensor(1.7358), tensor(1.4442), tensor(2.4268), tensor(-1.0439), tensor(2.7704), tensor(2.6771), tensor(-0.7988), tensor(2.6582), tensor(2.3004)]\n"
     ]
    },
    {
     "name": "stderr",
     "output_type": "stream",
     "text": [
      "42it [1:33:18, 128.06s/it]"
     ]
    },
    {
     "name": "stdout",
     "output_type": "stream",
     "text": [
      "[tensor(1.7024), tensor(2.8932), tensor(2.5583), tensor(-2.5703), tensor(2.5221), tensor(2.8495), tensor(2.6444), tensor(2.2606), tensor(2.3808), tensor(2.4381), tensor(0.7728), tensor(2.5224), tensor(2.7463), tensor(2.7173), tensor(1.1618), tensor(2.8024), tensor(1.8797), tensor(0.9878), tensor(1.9249), tensor(2.7747), tensor(2.0356), tensor(0.8155), tensor(2.8591), tensor(2.6450), tensor(2.6845), tensor(2.3473), tensor(2.7329), tensor(2.4409), tensor(-2.8610), tensor(2.6791), tensor(2.0026), tensor(1.9913), tensor(-2.9512), tensor(2.0653), tensor(0.9379), tensor(2.3321), tensor(1.8808), tensor(2.8159), tensor(2.6967), tensor(2.8236), tensor(1.3691), tensor(2.2221), tensor(2.4001), tensor(2.0647), tensor(2.8407), tensor(2.3235), tensor(1.6036), tensor(1.8397), tensor(2.8400), tensor(2.5646), tensor(-2.9752), tensor(2.8858), tensor(2.3108), tensor(2.0936), tensor(1.5597), tensor(0.4857), tensor(2.5649), tensor(2.2251), tensor(2.7579), tensor(1.8630), tensor(2.5553), tensor(2.7232), tensor(-1.1314), tensor(-1.8210), tensor(1.0053), tensor(2.5836), tensor(2.1904), tensor(1.3061), tensor(2.6795), tensor(2.8552), tensor(2.3970), tensor(0.3047), tensor(0.8969), tensor(1.3731), tensor(1.6179), tensor(1.8361), tensor(2.2672), tensor(2.8601), tensor(-0.6602), tensor(-2.1445), tensor(2.8287), tensor(2.7844), tensor(2.6463), tensor(2.3824), tensor(2.4493), tensor(2.4582), tensor(-0.2686), tensor(2.1320), tensor(2.8851), tensor(0.9262), tensor(0.2096), tensor(2.4365), tensor(2.6801), tensor(-2.1810), tensor(1.3836), tensor(2.8013), tensor(0.1297), tensor(2.8615), tensor(2.5374), tensor(1.9132), tensor(2.4402), tensor(2.7916), tensor(2.6265), tensor(1.7215), tensor(2.8116), tensor(1.5904), tensor(2.8930), tensor(1.9629), tensor(0.6138), tensor(2.4547), tensor(-0.8974), tensor(1.0752), tensor(1.9235), tensor(-0.2468), tensor(-1.1137), tensor(2.4775), tensor(-0.2032), tensor(2.6061), tensor(2.5651), tensor(1.9703), tensor(2.8952), tensor(2.5769), tensor(2.7650), tensor(2.8153), tensor(1.6210), tensor(2.2547), tensor(2.7409), tensor(0.9616), tensor(2.7177), tensor(2.5967), tensor(-1.2251), tensor(2.4300), tensor(2.7127), tensor(0.4541), tensor(1.9779), tensor(2.5997), tensor(2.6446), tensor(2.7382), tensor(2.7539), tensor(2.6487), tensor(2.4371), tensor(0.1233), tensor(-2.4435), tensor(2.0162), tensor(2.3538), tensor(2.2252), tensor(2.8712), tensor(2.7583), tensor(2.4525), tensor(2.5629), tensor(-1.0794), tensor(-0.1589), tensor(2.4504), tensor(2.7140), tensor(2.8207), tensor(0.2323), tensor(-0.1217), tensor(0.8926), tensor(2.8251), tensor(2.8867), tensor(2.7848), tensor(0.5618), tensor(2.6331), tensor(-0.5750), tensor(2.5715), tensor(2.3878), tensor(2.8608), tensor(1.1542), tensor(2.8876), tensor(2.4668), tensor(2.8418), tensor(2.4547), tensor(2.8380), tensor(-0.3167), tensor(2.7569), tensor(2.6176), tensor(2.0840), tensor(0.7866), tensor(2.8061), tensor(2.5169), tensor(-1.0425), tensor(1.2295), tensor(0.6999), tensor(2.7942), tensor(-0.3098), tensor(1.1242), tensor(1.3171), tensor(-0.2175), tensor(0.2651), tensor(1.5095), tensor(0.2594), tensor(2.4748), tensor(2.6204), tensor(2.5190), tensor(2.1095), tensor(2.7409), tensor(1.7740), tensor(2.7305), tensor(2.7606), tensor(2.7053), tensor(1.4226), tensor(2.9014), tensor(-0.7496), tensor(2.3589), tensor(2.8981), tensor(2.3454), tensor(2.9133), tensor(2.7384), tensor(2.7884), tensor(2.8454), tensor(2.9314), tensor(-2.3973), tensor(1.4916), tensor(2.5081), tensor(2.6886), tensor(2.6758), tensor(2.8363), tensor(-1.2922), tensor(2.2890), tensor(2.7450), tensor(2.7373), tensor(2.5348), tensor(2.8604), tensor(2.6872), tensor(2.5940), tensor(-1.7996), tensor(2.4155), tensor(2.6896), tensor(2.6710), tensor(0.9945), tensor(0.8190), tensor(2.5368), tensor(2.6883), tensor(2.8406), tensor(2.6814), tensor(2.5345), tensor(0.1595), tensor(2.7510), tensor(1.4919), tensor(2.2597), tensor(2.6754), tensor(2.6239), tensor(1.7248), tensor(0.4292), tensor(2.5632), tensor(2.8124), tensor(0.9838), tensor(2.6119), tensor(0.9041), tensor(2.7802), tensor(1.9065), tensor(2.4637), tensor(2.8089), tensor(2.8522), tensor(-1.0436), tensor(2.7256)]\n"
     ]
    },
    {
     "name": "stderr",
     "output_type": "stream",
     "text": [
      "43it [1:35:31, 129.77s/it]"
     ]
    },
    {
     "name": "stdout",
     "output_type": "stream",
     "text": [
      "[tensor(2.8058), tensor(2.8356), tensor(2.6021), tensor(2.7027), tensor(1.0858), tensor(2.7906), tensor(2.0970), tensor(0.5201), tensor(2.8682), tensor(1.4565), tensor(2.9190), tensor(2.6471), tensor(2.3906), tensor(1.4066), tensor(1.7882), tensor(2.5501), tensor(2.6586), tensor(2.6387), tensor(2.7841), tensor(1.6887), tensor(-1.8273), tensor(2.7157), tensor(1.3211), tensor(0.7856), tensor(2.4928), tensor(2.8668), tensor(2.5217), tensor(2.2950), tensor(0.7632), tensor(2.4677), tensor(2.6853), tensor(-1.9745), tensor(1.7662), tensor(2.7218), tensor(1.3074), tensor(1.7251), tensor(1.4922), tensor(2.6944), tensor(2.2302), tensor(2.1310), tensor(0.4241), tensor(2.9485), tensor(2.8144), tensor(2.8613), tensor(0.5788), tensor(0.4299), tensor(2.8707), tensor(2.8300), tensor(2.8905), tensor(2.4256), tensor(2.4319), tensor(1.8527), tensor(2.8798), tensor(2.8156), tensor(2.8245), tensor(2.9097), tensor(2.3958), tensor(2.2637), tensor(-0.3580), tensor(-1.7929), tensor(2.0319), tensor(2.6636), tensor(2.7773), tensor(0.4053), tensor(2.0488), tensor(2.5038), tensor(2.6937), tensor(0.7360), tensor(2.3349), tensor(2.3945), tensor(2.5044), tensor(2.3490), tensor(2.3654), tensor(2.7608), tensor(0.0811), tensor(2.7471), tensor(2.7147), tensor(1.4094), tensor(0.3037), tensor(2.6681), tensor(2.5515), tensor(2.4963), tensor(1.6319), tensor(2.7896), tensor(2.7342), tensor(1.7044), tensor(0.0861), tensor(1.9349), tensor(2.8947), tensor(-0.7990), tensor(-1.5489), tensor(2.8813), tensor(0.8630), tensor(2.5091), tensor(2.5163), tensor(1.3106), tensor(-1.1023), tensor(2.6307), tensor(0.3033), tensor(2.4132), tensor(2.8449), tensor(1.3436), tensor(2.9034), tensor(1.8620), tensor(2.6915), tensor(-0.3443), tensor(2.1371), tensor(1.4384), tensor(1.3137), tensor(2.5954), tensor(2.8834), tensor(0.9877), tensor(2.7218), tensor(1.0228), tensor(1.5450), tensor(2.3410), tensor(2.6940), tensor(2.7014), tensor(-1.1018), tensor(2.6288), tensor(2.6381), tensor(2.7233), tensor(1.9571), tensor(2.5789), tensor(2.4237), tensor(2.8833), tensor(2.0991), tensor(2.4774), tensor(2.7275), tensor(2.4358), tensor(2.8401), tensor(2.6760), tensor(2.7939), tensor(1.8171), tensor(2.2435), tensor(0.0934), tensor(1.2736), tensor(2.4878), tensor(2.7864), tensor(2.7270), tensor(2.4440), tensor(1.9547), tensor(2.9076), tensor(2.6223), tensor(2.0397), tensor(2.8290), tensor(2.8537), tensor(-1.5905), tensor(2.2763), tensor(-0.0798), tensor(-0.1503), tensor(2.5758), tensor(2.5342), tensor(2.8322), tensor(0.1469), tensor(2.2716), tensor(-1.4582), tensor(1.1466), tensor(2.0445), tensor(1.2880), tensor(2.7172), tensor(2.4498), tensor(2.8225), tensor(1.5705), tensor(2.6310), tensor(2.5680), tensor(1.4180), tensor(1.2712), tensor(2.7728), tensor(2.0828), tensor(0.7952), tensor(1.6860), tensor(0.3881), tensor(2.7963), tensor(2.7640), tensor(-0.2594), tensor(2.1664), tensor(2.6930), tensor(2.3648), tensor(2.6291), tensor(1.9482), tensor(1.9885), tensor(2.5639), tensor(2.2760), tensor(2.8203), tensor(2.4774), tensor(0.3417), tensor(0.9369), tensor(-1.6936), tensor(0.4838), tensor(2.8651), tensor(2.8284), tensor(2.8848), tensor(1.6072), tensor(2.2806), tensor(2.2201), tensor(2.7432), tensor(2.0828), tensor(2.8248), tensor(1.4059), tensor(2.5652), tensor(2.6320), tensor(2.1222), tensor(2.0499), tensor(1.2539), tensor(1.4076), tensor(2.0775), tensor(1.5709), tensor(2.7828), tensor(2.4386), tensor(2.6922), tensor(1.6493), tensor(2.7012), tensor(1.5638), tensor(2.2322), tensor(1.5864), tensor(2.0923), tensor(1.8991), tensor(1.6971), tensor(-0.8799), tensor(2.6269), tensor(1.2536), tensor(2.8999), tensor(2.1420), tensor(2.7385), tensor(2.7502), tensor(2.4637), tensor(2.7137), tensor(2.0995), tensor(2.6557), tensor(2.7426), tensor(2.3964), tensor(2.6045), tensor(2.5003), tensor(2.5182), tensor(-0.4582), tensor(2.7433), tensor(2.6399), tensor(2.8638), tensor(1.9190), tensor(2.7790), tensor(0.9206), tensor(2.6795), tensor(2.6453), tensor(-0.6177), tensor(1.7439), tensor(1.1009), tensor(-2.5451), tensor(2.1882), tensor(2.5309), tensor(2.6120), tensor(2.0010), tensor(2.8974), tensor(1.4030), tensor(0.8317), tensor(2.6084)]\n"
     ]
    },
    {
     "name": "stderr",
     "output_type": "stream",
     "text": [
      "44it [1:37:43, 130.18s/it]"
     ]
    },
    {
     "name": "stdout",
     "output_type": "stream",
     "text": [
      "[tensor(0.6621), tensor(1.3653), tensor(2.2859), tensor(2.6783), tensor(2.0914), tensor(2.1456), tensor(2.1654), tensor(2.8384), tensor(2.7207), tensor(2.3932), tensor(2.0944), tensor(2.6043), tensor(1.2981), tensor(1.7737), tensor(2.6075), tensor(-2.8501), tensor(1.8452), tensor(2.4542), tensor(2.5844), tensor(2.5181), tensor(1.5549), tensor(2.3586), tensor(-0.0278), tensor(2.7942), tensor(2.8235), tensor(1.8988), tensor(1.9363), tensor(2.6190), tensor(2.8813), tensor(2.8477), tensor(-1.6436), tensor(0.5947), tensor(0.3770), tensor(1.5050), tensor(0.7348), tensor(2.6916), tensor(1.1634), tensor(2.7704), tensor(2.3746), tensor(2.2225), tensor(2.8229), tensor(0.9555), tensor(2.5373), tensor(2.3197), tensor(-0.6240), tensor(2.3314), tensor(2.8546), tensor(2.7876), tensor(1.0648), tensor(2.5834), tensor(2.0959), tensor(2.7611), tensor(2.3698), tensor(2.8857), tensor(-1.2043), tensor(2.8749), tensor(2.6950), tensor(0.2504), tensor(2.9410), tensor(2.6795), tensor(2.1711), tensor(2.4272), tensor(-2.9141), tensor(2.2965), tensor(2.6916), tensor(1.6038), tensor(2.7970), tensor(2.8196), tensor(2.6184), tensor(2.7520), tensor(2.7072), tensor(-2.9758), tensor(2.9140), tensor(2.6035), tensor(2.3960), tensor(2.3263), tensor(2.8016), tensor(2.7506), tensor(2.7281), tensor(1.6650), tensor(2.7934), tensor(2.2562), tensor(1.5526), tensor(2.0934), tensor(1.6706), tensor(2.6002), tensor(1.4921), tensor(2.8680), tensor(2.6751), tensor(1.8290), tensor(1.1362), tensor(2.7057), tensor(2.5441), tensor(2.7362), tensor(1.5748), tensor(2.7320), tensor(2.9053), tensor(2.5152), tensor(1.4546), tensor(0.2460), tensor(2.7368), tensor(2.8904), tensor(2.5864), tensor(2.9124), tensor(1.6696), tensor(2.5435), tensor(2.3263), tensor(-1.2497), tensor(2.8790), tensor(2.5932), tensor(1.6356), tensor(2.8250), tensor(2.2939), tensor(2.8263), tensor(1.6957), tensor(2.5529), tensor(2.8174), tensor(1.5339), tensor(2.6804), tensor(0.4602), tensor(2.1797), tensor(2.7852), tensor(1.1409), tensor(2.6712), tensor(1.6847), tensor(2.5168), tensor(2.5189), tensor(2.5559), tensor(2.5532), tensor(2.8314), tensor(2.6811), tensor(2.7832), tensor(2.7575), tensor(2.5519), tensor(0.4950), tensor(2.8109), tensor(2.3707), tensor(2.9054), tensor(2.8333), tensor(2.7439), tensor(2.6232), tensor(2.6743), tensor(2.8230), tensor(2.8193), tensor(2.8473), tensor(1.8134), tensor(2.8240), tensor(2.8750), tensor(2.4068), tensor(1.8862), tensor(0.8599), tensor(2.6481), tensor(2.6652), tensor(2.7168), tensor(2.7142), tensor(2.5140), tensor(2.7301), tensor(2.3599), tensor(2.5709), tensor(0.9705), tensor(2.8079), tensor(2.3787), tensor(1.9565), tensor(2.1459), tensor(2.7904), tensor(2.4102), tensor(2.1893), tensor(2.6530), tensor(2.1783), tensor(2.4184), tensor(-1.4671), tensor(-0.8773), tensor(2.2966), tensor(2.5455), tensor(0.9917), tensor(1.3399), tensor(2.4425), tensor(2.8375), tensor(2.4438), tensor(2.8870), tensor(2.8102), tensor(1.6685), tensor(2.7017), tensor(2.7346), tensor(2.0698), tensor(2.7435), tensor(0.9893), tensor(-1.0181), tensor(2.7817), tensor(-2.3118), tensor(2.8891), tensor(1.4078), tensor(1.5915), tensor(2.6268), tensor(0.9753), tensor(-0.0432), tensor(2.8574), tensor(-0.0358), tensor(2.8181), tensor(2.8159), tensor(2.7501), tensor(2.7354), tensor(2.7661), tensor(-2.7314), tensor(2.6580), tensor(2.5520), tensor(2.1470), tensor(2.2014), tensor(1.6408), tensor(1.8181), tensor(2.6937), tensor(2.8170), tensor(0.8850), tensor(-1.5879), tensor(2.7985), tensor(1.8124), tensor(2.7370), tensor(2.2205), tensor(0.5340), tensor(2.6079), tensor(2.8073), tensor(1.6006), tensor(2.8027), tensor(1.3232), tensor(2.5477), tensor(0.4601), tensor(2.7592), tensor(2.4715), tensor(2.4999), tensor(1.9720), tensor(2.6986), tensor(-2.6562), tensor(2.7021), tensor(1.9994), tensor(-2.1603), tensor(2.0794), tensor(0.0524), tensor(2.0408), tensor(2.7981), tensor(2.5794), tensor(2.3983), tensor(2.0816), tensor(0.0970), tensor(-1.0469), tensor(2.3293), tensor(2.1665), tensor(0.6669), tensor(2.0046), tensor(1.9819), tensor(-1.7774), tensor(2.9240), tensor(2.3714), tensor(2.8962), tensor(-2.8543), tensor(2.3364), tensor(2.4432)]\n"
     ]
    },
    {
     "name": "stderr",
     "output_type": "stream",
     "text": [
      "45it [1:40:06, 134.28s/it]"
     ]
    },
    {
     "name": "stdout",
     "output_type": "stream",
     "text": [
      "[tensor(2.2911), tensor(2.7950), tensor(2.5125), tensor(2.3866), tensor(2.7321), tensor(0.9003), tensor(0.6006), tensor(0.9686), tensor(2.5742), tensor(2.0877), tensor(2.7643), tensor(1.3792), tensor(1.8535), tensor(1.4507), tensor(2.5193), tensor(2.7253), tensor(2.1273), tensor(2.5530), tensor(1.6021), tensor(-2.1590), tensor(1.2378), tensor(2.7535), tensor(0.5453), tensor(2.8944), tensor(2.6270), tensor(2.8709), tensor(2.7941), tensor(2.2035), tensor(2.7214), tensor(2.1412), tensor(2.8538), tensor(1.8094), tensor(2.9177), tensor(2.4999), tensor(2.3533), tensor(0.9936), tensor(2.2108), tensor(2.7996), tensor(2.7692), tensor(2.7217), tensor(2.5128), tensor(0.8897), tensor(2.8848), tensor(2.2965), tensor(-1.5907), tensor(2.4569), tensor(2.6387), tensor(2.6391), tensor(2.8101), tensor(1.5112), tensor(2.6697), tensor(2.6350), tensor(2.8734), tensor(2.4775), tensor(1.9695), tensor(0.9548), tensor(1.9621), tensor(1.5933), tensor(2.3519), tensor(-0.4773), tensor(2.8284), tensor(2.8451), tensor(2.5905), tensor(2.7084), tensor(2.3750), tensor(0.7984), tensor(0.7625), tensor(2.5899), tensor(-2.4550), tensor(2.3888), tensor(2.6796), tensor(2.6740), tensor(2.2331), tensor(2.7962), tensor(2.8700), tensor(2.6308), tensor(-0.3443), tensor(2.4768), tensor(2.7661), tensor(2.8595), tensor(2.7572), tensor(-0.9453), tensor(2.8707), tensor(2.7591), tensor(2.4697), tensor(2.0358), tensor(1.7606), tensor(2.1611), tensor(1.8026), tensor(2.4748), tensor(1.8485), tensor(1.4172), tensor(2.6466), tensor(2.6652), tensor(2.1079), tensor(0.7398), tensor(-0.6163), tensor(1.2962), tensor(2.4751), tensor(2.7774), tensor(2.0201), tensor(1.9449), tensor(2.7740), tensor(1.5359), tensor(0.9932), tensor(1.4451), tensor(2.6548), tensor(2.6335), tensor(2.7111), tensor(2.8270), tensor(2.1556), tensor(2.8969), tensor(2.5165), tensor(1.4368), tensor(2.8866), tensor(2.5032), tensor(2.1558), tensor(1.4512), tensor(0.5830), tensor(-1.3381), tensor(2.4001), tensor(2.3283), tensor(2.8839), tensor(2.1331), tensor(2.3361), tensor(0.5674), tensor(0.1638), tensor(2.8233), tensor(2.5726), tensor(2.8122), tensor(2.7534), tensor(-0.4819), tensor(0.9721), tensor(2.7920), tensor(2.6684), tensor(2.1734), tensor(2.8195), tensor(-2.9119), tensor(1.8310), tensor(2.3633), tensor(2.7870), tensor(2.2322), tensor(2.7518), tensor(1.5678), tensor(-1.1486), tensor(2.2384), tensor(-0.5280), tensor(2.3580), tensor(2.8342), tensor(2.8639), tensor(1.3779), tensor(-1.6849), tensor(2.3051), tensor(-0.1083), tensor(2.4723), tensor(0.8308), tensor(2.7736), tensor(2.8598), tensor(-0.4339), tensor(2.6461), tensor(1.8334), tensor(2.3619), tensor(2.2924), tensor(2.8616), tensor(0.5682), tensor(2.8155), tensor(-1.8159), tensor(2.1001), tensor(0.9614), tensor(2.7498), tensor(2.5512), tensor(2.7172), tensor(-0.6292), tensor(-0.5617), tensor(2.8927), tensor(2.6302), tensor(1.3167), tensor(2.8470), tensor(2.8694), tensor(0.8715), tensor(2.2982), tensor(1.9183), tensor(2.2815), tensor(2.6459), tensor(2.0990), tensor(2.0995), tensor(2.5192), tensor(2.4984), tensor(2.7626), tensor(2.8284), tensor(1.3004), tensor(0.3860), tensor(2.3007), tensor(2.4917), tensor(2.6027), tensor(2.4499), tensor(2.6764), tensor(2.7232), tensor(2.6889), tensor(2.7358), tensor(2.7966), tensor(2.7086), tensor(2.3847), tensor(2.1117), tensor(2.5031), tensor(2.6048), tensor(-0.0112), tensor(2.8201), tensor(2.7563), tensor(2.3787), tensor(2.1830), tensor(2.8026), tensor(0.3394), tensor(2.3945), tensor(2.1688), tensor(2.7336), tensor(1.2456), tensor(2.7066), tensor(2.5997), tensor(2.5481), tensor(2.8153), tensor(0.0998), tensor(2.4804), tensor(1.4907), tensor(2.8754), tensor(2.7308), tensor(0.3608), tensor(0.1116), tensor(-0.9494), tensor(2.7253), tensor(2.7589), tensor(2.7934), tensor(-2.2566), tensor(-2.7801), tensor(2.6826), tensor(2.7917), tensor(0.7057), tensor(2.2873), tensor(0.6524), tensor(1.5879), tensor(2.9364), tensor(-1.7144), tensor(1.8791), tensor(0.2636), tensor(1.8858), tensor(2.3151), tensor(2.6441), tensor(1.3169), tensor(2.4859), tensor(2.8507), tensor(-0.7877), tensor(1.9424), tensor(2.7418), tensor(2.7322), tensor(2.4873), tensor(1.1732)]\n"
     ]
    },
    {
     "name": "stderr",
     "output_type": "stream",
     "text": [
      "46it [1:42:26, 135.82s/it]"
     ]
    },
    {
     "name": "stdout",
     "output_type": "stream",
     "text": [
      "[tensor(2.0599), tensor(2.6058), tensor(1.1764), tensor(2.8023), tensor(2.7720), tensor(2.8407), tensor(-1.0239), tensor(-1.4406), tensor(-0.2300), tensor(2.6678), tensor(1.4918), tensor(-0.3903), tensor(2.7641), tensor(2.5300), tensor(-1.3953), tensor(0.2193), tensor(2.7754), tensor(2.8902), tensor(2.4018), tensor(-1.6869), tensor(2.8358), tensor(2.6624), tensor(1.8454), tensor(-2.9049), tensor(-1.7099), tensor(-0.7234), tensor(1.6402), tensor(1.2920), tensor(-2.6722), tensor(2.3757), tensor(2.7267), tensor(2.5232), tensor(2.1973), tensor(0.5477), tensor(1.3213), tensor(1.4952), tensor(2.6076), tensor(2.4788), tensor(2.7582), tensor(-1.7022), tensor(2.8574), tensor(2.6995), tensor(1.9371), tensor(0.6860), tensor(2.7533), tensor(2.0915), tensor(2.0763), tensor(2.8352), tensor(2.3141), tensor(0.7815), tensor(2.2925), tensor(0.4524), tensor(2.3855), tensor(2.9388), tensor(0.1066), tensor(1.6605), tensor(-1.0787), tensor(2.6115), tensor(2.6798), tensor(2.4238), tensor(2.7973), tensor(2.2377), tensor(2.7271), tensor(-1.5535), tensor(-2.4571), tensor(2.8460), tensor(2.0086), tensor(-1.2979), tensor(1.6029), tensor(2.5969), tensor(2.4600), tensor(2.6410), tensor(2.6161), tensor(2.2159), tensor(2.7212), tensor(2.3795), tensor(2.2510), tensor(2.5066), tensor(2.6877), tensor(2.7946), tensor(0.1764), tensor(1.4716), tensor(0.9870), tensor(2.6139), tensor(0.9340), tensor(0.5952), tensor(1.1687), tensor(2.4891), tensor(2.7918), tensor(2.3803), tensor(-2.8462), tensor(1.0791), tensor(1.9852), tensor(2.8270), tensor(2.7200), tensor(2.2115), tensor(2.7364), tensor(-0.8761), tensor(2.1523), tensor(1.2208), tensor(2.8623), tensor(2.5267), tensor(-0.7936), tensor(2.7962), tensor(2.8329), tensor(1.6108), tensor(2.2494), tensor(0.2137), tensor(1.3657), tensor(1.2067), tensor(2.8201), tensor(2.9045), tensor(2.5848), tensor(2.6617), tensor(0.2807), tensor(1.6370), tensor(1.6774), tensor(2.1080), tensor(1.4691), tensor(2.1798), tensor(1.9420), tensor(0.5209), tensor(0.1036), tensor(2.6182), tensor(2.1907), tensor(2.8920), tensor(1.4594), tensor(2.3106), tensor(1.7142), tensor(1.4798), tensor(2.2752), tensor(2.6812), tensor(1.5780), tensor(2.8821), tensor(2.4521), tensor(-0.8587), tensor(2.8976), tensor(-1.8284), tensor(1.1605), tensor(2.6543), tensor(-1.6041), tensor(-0.0305), tensor(1.7522), tensor(0.4634), tensor(-1.7020), tensor(2.5988), tensor(2.3871), tensor(2.8723), tensor(1.6161), tensor(2.7963), tensor(2.5627), tensor(2.2768), tensor(1.6216), tensor(1.7804), tensor(-0.6433), tensor(2.5865), tensor(2.7354), tensor(2.8117), tensor(0.1004), tensor(2.9236), tensor(2.6281), tensor(1.0941), tensor(2.6657), tensor(1.2710), tensor(2.3667), tensor(2.5120), tensor(2.6478), tensor(-2.5404), tensor(0.8408), tensor(0.1017), tensor(1.8688), tensor(2.2608), tensor(0.9840), tensor(1.2991), tensor(2.6312), tensor(0.7420), tensor(2.3567), tensor(2.4773), tensor(2.9409), tensor(2.8782), tensor(2.7169), tensor(2.8293), tensor(2.9093), tensor(0.6584), tensor(2.8202), tensor(0.6212), tensor(0.1509), tensor(2.4636), tensor(2.3515), tensor(2.7912), tensor(2.7337), tensor(2.6753), tensor(1.6032), tensor(-0.2593), tensor(2.6351), tensor(2.8498), tensor(2.8218), tensor(2.0254), tensor(2.6864), tensor(2.5030), tensor(2.8984), tensor(2.7047), tensor(1.9486), tensor(2.6271), tensor(1.1132), tensor(2.7394), tensor(2.4953), tensor(2.6374), tensor(2.0620), tensor(1.7376), tensor(1.1377), tensor(2.8099), tensor(1.7024), tensor(0.9772), tensor(2.8442), tensor(-0.2431), tensor(2.9423), tensor(2.2527), tensor(0.7063), tensor(2.8953), tensor(2.3105), tensor(2.7314), tensor(2.5830), tensor(2.4589), tensor(2.7015), tensor(1.4920), tensor(2.8013), tensor(1.4901), tensor(2.8024), tensor(2.5485), tensor(-2.9493), tensor(-2.7217), tensor(-0.4815), tensor(2.2645), tensor(2.6058), tensor(2.8303), tensor(1.0448), tensor(-0.2816), tensor(2.7920), tensor(0.0222), tensor(2.7637), tensor(2.7777), tensor(2.7120), tensor(-2.6111), tensor(2.8493), tensor(0.8328), tensor(2.5876), tensor(2.8888), tensor(2.8819), tensor(-1.5245), tensor(-0.5325), tensor(2.5429), tensor(2.6216), tensor(2.1710), tensor(2.5355), tensor(1.7659)]\n"
     ]
    },
    {
     "name": "stderr",
     "output_type": "stream",
     "text": [
      "47it [1:44:44, 136.56s/it]"
     ]
    },
    {
     "name": "stdout",
     "output_type": "stream",
     "text": [
      "[tensor(2.8659), tensor(2.7195), tensor(2.5602), tensor(1.6923), tensor(2.9124), tensor(2.8557), tensor(2.4782), tensor(2.5583), tensor(1.8024), tensor(0.4737), tensor(2.8437), tensor(-1.3473), tensor(0.9613), tensor(2.5232), tensor(2.6628), tensor(2.2772), tensor(-0.1940), tensor(-2.2107), tensor(2.7528), tensor(2.5957), tensor(2.8492), tensor(2.6042), tensor(2.8102), tensor(2.8037), tensor(2.8531), tensor(2.7492), tensor(-1.5325), tensor(2.1869), tensor(0.8650), tensor(1.3119), tensor(1.6011), tensor(1.0913), tensor(2.8499), tensor(2.5657), tensor(2.5987), tensor(0.6322), tensor(2.6782), tensor(2.6543), tensor(0.0407), tensor(2.1397), tensor(2.2827), tensor(2.8930), tensor(-1.3406), tensor(2.7956), tensor(2.7052), tensor(0.8459), tensor(0.2565), tensor(2.4662), tensor(1.6366), tensor(2.8128), tensor(1.8379), tensor(2.3666), tensor(2.3053), tensor(-1.6424), tensor(-0.4578), tensor(2.6669), tensor(-0.1784), tensor(0.2225), tensor(1.1227), tensor(-2.3142), tensor(2.4420), tensor(2.0969), tensor(2.7749), tensor(2.5067), tensor(1.7918), tensor(-1.2832), tensor(2.9204), tensor(2.9181), tensor(0.9177), tensor(2.0874), tensor(2.7311), tensor(2.4718), tensor(2.5950), tensor(2.6709), tensor(1.5144), tensor(-1.0901), tensor(-0.9494), tensor(2.6947), tensor(2.4853), tensor(-0.5423), tensor(2.3781), tensor(1.6663), tensor(2.2298), tensor(2.6322), tensor(-1.2996), tensor(2.5492), tensor(1.3317), tensor(2.4318), tensor(2.9411), tensor(2.7036), tensor(2.0442), tensor(2.6273), tensor(2.8511), tensor(0.7252), tensor(2.4541), tensor(1.3874), tensor(2.6416), tensor(1.9780), tensor(-0.2428), tensor(-2.2996), tensor(2.2934), tensor(1.8420), tensor(2.6462), tensor(2.6676), tensor(1.6914), tensor(2.3421), tensor(0.7478), tensor(2.8279), tensor(2.8369), tensor(2.7621), tensor(2.7103), tensor(0.7498), tensor(2.6162), tensor(2.6887), tensor(2.2048), tensor(0.6727), tensor(2.8496), tensor(-0.0709), tensor(-0.1859), tensor(2.5390), tensor(2.3105), tensor(2.0965), tensor(2.8685), tensor(2.8533), tensor(2.6665), tensor(2.5016), tensor(2.4346), tensor(2.2102), tensor(0.6178), tensor(2.9087), tensor(1.2347), tensor(1.0665), tensor(2.8311), tensor(2.1247), tensor(1.4604), tensor(1.3795), tensor(2.8620), tensor(2.4448), tensor(2.8579), tensor(1.1557), tensor(2.5540), tensor(1.0028), tensor(2.2019), tensor(-2.9352), tensor(2.7749), tensor(2.7207), tensor(2.2407), tensor(2.7960), tensor(2.4849), tensor(2.7375), tensor(2.2563), tensor(-2.0810), tensor(1.9401), tensor(0.0319), tensor(2.5009), tensor(1.0232), tensor(2.8137), tensor(-0.6810), tensor(1.2601), tensor(0.6404), tensor(2.0928), tensor(2.9157), tensor(2.5485), tensor(2.6496), tensor(1.9790), tensor(0.5896), tensor(1.4666), tensor(2.8833), tensor(2.3100), tensor(-2.8322), tensor(1.3664), tensor(-2.8487), tensor(2.6345), tensor(1.8989), tensor(-1.6304), tensor(2.2316), tensor(0.2718), tensor(0.9681), tensor(1.8951), tensor(-2.4437), tensor(2.7762), tensor(2.6940), tensor(2.3556), tensor(1.4471), tensor(2.4787), tensor(-1.2413), tensor(2.6217), tensor(2.7654), tensor(-0.6617), tensor(1.4560), tensor(2.2285), tensor(2.6327), tensor(2.3595), tensor(0.7863), tensor(-0.7158), tensor(2.3423), tensor(2.5786), tensor(-0.9510), tensor(-2.4212), tensor(-0.5973), tensor(-2.8185), tensor(0.3735), tensor(2.6771), tensor(2.8288), tensor(2.7477), tensor(2.7821), tensor(-0.8955), tensor(2.4267), tensor(1.8891), tensor(2.6352), tensor(2.8920), tensor(2.0890), tensor(2.6563), tensor(-0.1665), tensor(2.3793), tensor(-0.3084), tensor(2.5705), tensor(2.1142), tensor(2.8008), tensor(2.9008), tensor(1.6371), tensor(2.0360), tensor(2.6534), tensor(-0.7856), tensor(2.0275), tensor(2.7656), tensor(2.4667), tensor(2.3031), tensor(2.8894), tensor(2.3161), tensor(2.6259), tensor(-0.5895), tensor(2.7557), tensor(1.0866), tensor(2.6737), tensor(2.6201), tensor(-1.9960), tensor(0.5936), tensor(0.2315), tensor(2.7804), tensor(2.6200), tensor(2.6824), tensor(2.5229), tensor(2.6847), tensor(2.8845), tensor(2.3022), tensor(1.4123), tensor(2.2083), tensor(2.8445), tensor(1.4042), tensor(1.9577), tensor(2.8477), tensor(0.7134), tensor(2.0980), tensor(2.8465), tensor(1.9743)]\n"
     ]
    },
    {
     "name": "stderr",
     "output_type": "stream",
     "text": [
      "48it [1:46:58, 135.88s/it]"
     ]
    },
    {
     "name": "stdout",
     "output_type": "stream",
     "text": [
      "[tensor(2.4969), tensor(2.6065), tensor(2.8033), tensor(2.7411), tensor(-1.4195), tensor(2.6013), tensor(2.3749), tensor(2.1886), tensor(1.4546), tensor(2.6807), tensor(1.7589), tensor(2.5855), tensor(2.8493), tensor(2.5813), tensor(2.3020), tensor(2.6532), tensor(2.7138), tensor(2.6383), tensor(2.6078), tensor(2.2776), tensor(2.7618), tensor(2.5136), tensor(2.1819), tensor(2.3687), tensor(1.5658), tensor(1.8544), tensor(2.7068), tensor(1.7199), tensor(0.5085), tensor(2.6617), tensor(2.8757), tensor(0.0477), tensor(1.5281), tensor(2.8662), tensor(-1.1911), tensor(-0.2161), tensor(1.3516), tensor(2.7798), tensor(2.4182), tensor(2.1379), tensor(2.7912), tensor(1.8565), tensor(2.2516), tensor(0.0823), tensor(0.0336), tensor(2.6763), tensor(2.6199), tensor(2.8284), tensor(2.8735), tensor(2.7249), tensor(2.2096), tensor(2.8137), tensor(2.4907), tensor(2.6024), tensor(1.3942), tensor(2.7286), tensor(2.8681), tensor(2.8237), tensor(2.8444), tensor(2.1422), tensor(2.7302), tensor(2.8491), tensor(-0.5193), tensor(2.8655), tensor(2.8801), tensor(2.6394), tensor(2.6769), tensor(1.0890), tensor(-0.0450), tensor(1.2557), tensor(2.7845), tensor(2.1530), tensor(1.6337), tensor(-0.0935), tensor(2.2607), tensor(0.4857), tensor(2.8063), tensor(2.6968), tensor(2.8899), tensor(2.4013), tensor(1.9105), tensor(0.0923), tensor(2.7260), tensor(-1.3060), tensor(-0.1916), tensor(2.0898), tensor(2.7037), tensor(-0.9254), tensor(2.6798), tensor(2.8557), tensor(2.7943), tensor(2.9173), tensor(-1.9813), tensor(2.8371), tensor(2.4340), tensor(2.7804), tensor(1.6705), tensor(0.3988), tensor(2.8132), tensor(1.3846), tensor(2.5577), tensor(1.9434), tensor(0.9573), tensor(2.1304), tensor(2.7847), tensor(2.6071), tensor(2.7210), tensor(2.3659), tensor(2.8673), tensor(2.8465), tensor(2.8269), tensor(2.8735), tensor(2.4246), tensor(2.5139), tensor(2.9286), tensor(2.7740), tensor(2.7614), tensor(2.8840), tensor(2.6974), tensor(2.7423), tensor(0.5712), tensor(-2.9594), tensor(2.1140), tensor(2.6145), tensor(2.7447), tensor(2.4867), tensor(2.5448), tensor(1.8873), tensor(2.8775), tensor(1.5168), tensor(2.6250), tensor(2.8178), tensor(1.3420), tensor(2.7381), tensor(2.1643), tensor(2.7276), tensor(2.5967), tensor(2.2648), tensor(2.3202), tensor(1.3389), tensor(2.7026), tensor(2.5413), tensor(2.2676), tensor(2.8038), tensor(-0.2995), tensor(2.0476), tensor(1.7388), tensor(2.7167), tensor(2.6574), tensor(2.6504), tensor(-0.8328), tensor(2.7937), tensor(-0.7998), tensor(1.2945), tensor(2.7019), tensor(2.2289), tensor(2.7293), tensor(2.4373), tensor(2.8280), tensor(2.8982), tensor(2.5802), tensor(2.5959), tensor(2.9254), tensor(1.0923), tensor(2.1134), tensor(0.7369), tensor(2.7305), tensor(1.5618), tensor(2.6188), tensor(0.0728), tensor(1.4982), tensor(-1.7604), tensor(1.5227), tensor(2.8563), tensor(2.2927), tensor(2.6898), tensor(1.8897), tensor(2.7210), tensor(2.5910), tensor(1.7838), tensor(1.6472), tensor(2.8072), tensor(2.5432), tensor(2.7326), tensor(1.0531), tensor(2.6016), tensor(2.5587), tensor(2.5554), tensor(1.3651), tensor(2.9044), tensor(2.8269), tensor(-2.6426), tensor(2.4228), tensor(-2.9324), tensor(2.0313), tensor(2.5511), tensor(2.7416), tensor(1.5255), tensor(0.1027), tensor(2.7940), tensor(-0.2644), tensor(1.3808), tensor(-0.2413), tensor(2.2663), tensor(2.0154), tensor(1.8168), tensor(1.2759), tensor(-0.9386), tensor(-2.5342), tensor(2.5412), tensor(2.6080), tensor(2.8542), tensor(0.2821), tensor(2.7755), tensor(2.7023), tensor(2.3788), tensor(-1.2296), tensor(2.7692), tensor(1.9176), tensor(-0.1791), tensor(2.8570), tensor(2.6118), tensor(2.0502), tensor(2.7689), tensor(2.6877), tensor(2.6395), tensor(2.7777), tensor(2.8564), tensor(2.8158), tensor(2.8067), tensor(2.8809), tensor(1.4121), tensor(2.1621), tensor(-2.7058), tensor(2.6880), tensor(2.5583), tensor(2.3724), tensor(1.7189), tensor(2.7985), tensor(2.7727), tensor(1.3814), tensor(0.6592), tensor(0.5884), tensor(2.4061), tensor(2.0720), tensor(-2.8427), tensor(2.1516), tensor(0.4667), tensor(2.7173), tensor(2.7695), tensor(2.7776), tensor(2.8529), tensor(-1.6743), tensor(2.5018), tensor(2.7605), tensor(1.5221)]\n"
     ]
    },
    {
     "name": "stderr",
     "output_type": "stream",
     "text": [
      "49it [1:49:19, 137.13s/it]"
     ]
    },
    {
     "name": "stdout",
     "output_type": "stream",
     "text": [
      "[tensor(2.2262), tensor(0.2859), tensor(2.7389), tensor(-1.1815), tensor(1.4371), tensor(-2.5733), tensor(-0.3377), tensor(2.8107), tensor(1.1839), tensor(1.6910), tensor(2.5479), tensor(2.1875), tensor(2.8340), tensor(2.7015), tensor(2.8925), tensor(2.8637), tensor(-2.2090), tensor(2.8601), tensor(1.8979), tensor(2.8756), tensor(0.4254), tensor(2.5347), tensor(0.3340), tensor(2.0533), tensor(1.9945), tensor(2.2358), tensor(2.8135), tensor(2.7076), tensor(2.0261), tensor(2.5340), tensor(1.1490), tensor(2.6549), tensor(0.4694), tensor(2.7569), tensor(1.6980), tensor(2.6363), tensor(2.8713), tensor(2.6484), tensor(1.2294), tensor(0.0140), tensor(0.6726), tensor(1.3071), tensor(1.6449), tensor(2.7472), tensor(-0.0915), tensor(2.7990), tensor(-0.7423), tensor(2.3643), tensor(0.8301), tensor(-1.4613), tensor(2.5482), tensor(-1.9816), tensor(2.3799), tensor(0.8674), tensor(1.4667), tensor(2.4800), tensor(2.7616), tensor(2.7171), tensor(1.3699), tensor(2.9021), tensor(1.7746), tensor(2.8131), tensor(2.7001), tensor(-1.2790), tensor(2.8290), tensor(2.9224), tensor(2.6571), tensor(2.0020), tensor(0.4333), tensor(0.1566), tensor(2.4931), tensor(2.5252), tensor(2.8392), tensor(-0.4901), tensor(-3.0249), tensor(2.4863), tensor(1.5027), tensor(2.6615), tensor(2.6190), tensor(2.5222), tensor(2.7734), tensor(2.7033), tensor(-2.5068), tensor(2.8495), tensor(0.2443), tensor(2.6630), tensor(2.8377), tensor(2.7311), tensor(2.3003), tensor(2.6701), tensor(2.6794), tensor(1.9779), tensor(-1.1895), tensor(2.7146), tensor(2.7679), tensor(1.0207), tensor(2.6283), tensor(2.9442), tensor(2.2615), tensor(2.5805), tensor(2.6868), tensor(-1.3756), tensor(0.8900), tensor(2.6749), tensor(-1.0087), tensor(2.8378), tensor(2.8446), tensor(2.8631), tensor(1.3928), tensor(0.4999), tensor(2.4609), tensor(2.8013), tensor(0.0917), tensor(1.8362), tensor(2.7364), tensor(2.8677), tensor(2.7987), tensor(2.7438), tensor(1.6042), tensor(1.4019), tensor(2.6122), tensor(2.4733), tensor(2.8245), tensor(2.7777), tensor(2.1255), tensor(-1.4992), tensor(0.7732), tensor(2.4319), tensor(2.0877), tensor(2.6785), tensor(-2.8188), tensor(2.3189), tensor(2.8316), tensor(2.7765), tensor(1.5926), tensor(2.8476), tensor(2.5731), tensor(2.8874), tensor(1.6912), tensor(1.2624), tensor(2.6166), tensor(2.8693), tensor(1.8799), tensor(-0.4862), tensor(2.7584), tensor(2.8998), tensor(2.7648), tensor(2.8593), tensor(2.3600), tensor(2.1383), tensor(2.4174), tensor(1.3966), tensor(2.7428), tensor(2.7486), tensor(2.3509), tensor(1.9223), tensor(2.3639), tensor(1.1276), tensor(2.7950), tensor(2.7525), tensor(-0.6226), tensor(2.8582), tensor(-0.1132), tensor(1.7382), tensor(2.8416), tensor(2.8158), tensor(2.6029), tensor(2.7732), tensor(1.4655), tensor(2.4343), tensor(2.7268), tensor(2.8884), tensor(2.8418), tensor(2.3954), tensor(2.2364), tensor(1.9637), tensor(-2.6695), tensor(0.1166), tensor(-1.0193), tensor(2.1411), tensor(2.8985), tensor(2.0082), tensor(0.1075), tensor(2.8520), tensor(1.2008), tensor(-1.4421), tensor(2.7033), tensor(0.7988), tensor(2.2534), tensor(1.1748), tensor(2.7360), tensor(2.2470), tensor(2.8755), tensor(2.3786), tensor(2.7246), tensor(1.7403), tensor(2.7999), tensor(-2.9179), tensor(1.4534), tensor(2.6521), tensor(2.8032), tensor(2.7865), tensor(-0.8985), tensor(2.3197), tensor(2.8007), tensor(1.0556), tensor(2.7531), tensor(2.9377), tensor(2.8117), tensor(2.7640), tensor(2.7718), tensor(2.8725), tensor(1.5162), tensor(2.5711), tensor(2.6185), tensor(0.3726), tensor(0.9500), tensor(0.8775), tensor(2.3323), tensor(2.4255), tensor(-0.6852), tensor(2.7915), tensor(2.2681), tensor(2.6648), tensor(2.9509), tensor(2.8670), tensor(2.6327), tensor(2.1719), tensor(1.5845), tensor(2.7669), tensor(0.7173), tensor(2.7739), tensor(2.9050), tensor(2.2207), tensor(2.8471), tensor(2.8386), tensor(-1.8828), tensor(2.8722), tensor(2.6673), tensor(2.9221), tensor(2.5871), tensor(2.8485), tensor(2.6330), tensor(2.4634), tensor(1.4617), tensor(2.7726), tensor(1.2160), tensor(2.8147), tensor(1.0499), tensor(2.7938), tensor(2.8328), tensor(0.5819), tensor(2.6809), tensor(2.8235), tensor(2.6170), tensor(2.5954)]\n"
     ]
    },
    {
     "name": "stderr",
     "output_type": "stream",
     "text": [
      "50it [1:51:12, 130.01s/it]"
     ]
    },
    {
     "name": "stdout",
     "output_type": "stream",
     "text": [
      "[tensor(1.2210), tensor(2.6283), tensor(2.5367), tensor(-1.5736), tensor(1.1984), tensor(2.7365), tensor(1.3523), tensor(2.4001), tensor(-0.5132), tensor(2.5950), tensor(2.8023), tensor(0.2948), tensor(1.6096), tensor(2.8847), tensor(2.6713), tensor(2.4497), tensor(2.8705), tensor(-2.8924), tensor(1.9341), tensor(1.5467), tensor(2.4824), tensor(2.7942), tensor(2.9234), tensor(1.8553), tensor(2.8856), tensor(2.4825), tensor(2.8230), tensor(2.9321), tensor(2.8169), tensor(2.7787), tensor(0.5174), tensor(1.9850), tensor(0.7291), tensor(2.7184), tensor(-2.3613), tensor(0.2820), tensor(0.4495), tensor(2.5469), tensor(-1.5282), tensor(0.7974), tensor(2.7084), tensor(1.3278), tensor(2.4154), tensor(1.5324), tensor(2.5350), tensor(0.8426), tensor(-1.1519), tensor(2.2180), tensor(1.8515), tensor(-2.7645), tensor(2.5750), tensor(2.2922), tensor(2.7507), tensor(0.4242), tensor(2.7431), tensor(2.5407), tensor(-0.5433), tensor(2.2939), tensor(2.3416), tensor(2.8209), tensor(2.4285), tensor(2.5937), tensor(2.7660), tensor(-1.4407), tensor(2.9248), tensor(2.8829), tensor(0.8845), tensor(0.9974), tensor(1.8535), tensor(2.6140), tensor(0.2670), tensor(1.0240), tensor(2.6140), tensor(2.8381), tensor(2.8061), tensor(0.7419), tensor(1.8818), tensor(2.7570), tensor(0.9441), tensor(2.7476), tensor(2.4439), tensor(2.3459), tensor(0.0977), tensor(2.4862), tensor(1.3946), tensor(2.4035), tensor(2.5592), tensor(2.0559), tensor(0.9448), tensor(-0.8742), tensor(2.1724), tensor(2.7243), tensor(2.7041), tensor(2.6513), tensor(1.7946), tensor(2.4579), tensor(1.8259), tensor(-0.7968), tensor(2.1137), tensor(2.7793), tensor(2.8688), tensor(0.8756), tensor(1.4038), tensor(2.6241), tensor(1.6196), tensor(0.1118), tensor(2.3246), tensor(2.3178), tensor(2.6736), tensor(1.8832), tensor(2.5711), tensor(1.0773), tensor(2.4792), tensor(2.6173), tensor(0.8270), tensor(2.2822), tensor(2.4758), tensor(2.8496), tensor(2.4720), tensor(2.5895), tensor(2.7177), tensor(2.7250), tensor(2.6173), tensor(-0.0385), tensor(2.0981), tensor(2.8482), tensor(0.3826), tensor(2.4286), tensor(2.0198), tensor(1.3825), tensor(2.4131), tensor(1.9538), tensor(-2.1207), tensor(2.3506), tensor(1.2748), tensor(-1.9735), tensor(2.2946), tensor(2.5617), tensor(2.6205), tensor(2.7836), tensor(0.5555), tensor(2.4370), tensor(-0.4188), tensor(2.4366), tensor(-1.1167), tensor(0.3940), tensor(2.6271), tensor(-0.4076), tensor(1.8137), tensor(2.3450), tensor(2.5648), tensor(2.9114), tensor(2.8280), tensor(2.7506), tensor(-0.3218), tensor(2.8374), tensor(0.9623), tensor(1.4006), tensor(2.8703), tensor(2.7826), tensor(2.7582), tensor(2.6256), tensor(1.0582), tensor(2.2616), tensor(2.4756), tensor(2.8302), tensor(2.8999), tensor(2.7342), tensor(2.3500), tensor(2.3404), tensor(2.5951), tensor(2.5789), tensor(2.7370), tensor(2.8611), tensor(0.1218), tensor(2.5742), tensor(2.9403), tensor(2.8271), tensor(2.6813), tensor(2.8704), tensor(2.7252), tensor(0.8753), tensor(0.7832), tensor(-0.9419), tensor(2.6374), tensor(-2.2182), tensor(2.8671), tensor(-0.0338), tensor(2.8155), tensor(2.5987), tensor(2.2952), tensor(2.8562), tensor(2.8092), tensor(2.7646), tensor(2.0576), tensor(2.5496), tensor(2.8058), tensor(2.8189), tensor(2.3752), tensor(-2.3909), tensor(0.4407), tensor(-1.1078), tensor(0.7959), tensor(2.6503), tensor(2.0984), tensor(2.8780), tensor(1.2627), tensor(2.7777), tensor(2.3349), tensor(2.7699), tensor(2.8626), tensor(2.7369), tensor(1.4607), tensor(-0.5271), tensor(2.4394), tensor(0.7346), tensor(2.9123), tensor(2.8015), tensor(2.8203), tensor(2.7470), tensor(1.7150), tensor(2.7921), tensor(2.7859), tensor(2.8594), tensor(1.6430), tensor(2.2952), tensor(2.6501), tensor(2.7058), tensor(2.6863), tensor(-0.3071), tensor(2.1423), tensor(2.2104), tensor(2.7301), tensor(2.7801), tensor(2.0934), tensor(2.8334), tensor(2.8158), tensor(2.4892), tensor(2.2642), tensor(2.7023), tensor(2.8336), tensor(2.8432), tensor(2.8704), tensor(2.5959), tensor(0.7380), tensor(1.1212), tensor(2.5278), tensor(1.3091), tensor(2.2601), tensor(2.7881), tensor(2.5418), tensor(2.7624), tensor(1.4338), tensor(2.2767), tensor(2.8836), tensor(2.7208)]\n"
     ]
    },
    {
     "name": "stderr",
     "output_type": "stream",
     "text": [
      "51it [1:53:09, 125.99s/it]"
     ]
    },
    {
     "name": "stdout",
     "output_type": "stream",
     "text": [
      "[tensor(-2.6044), tensor(2.8678), tensor(2.2973), tensor(-0.6409), tensor(1.5578), tensor(2.0416), tensor(2.8206), tensor(2.0426), tensor(1.8885), tensor(0.7792), tensor(2.0451), tensor(2.8858), tensor(2.8516), tensor(2.9303), tensor(2.0073), tensor(0.5527), tensor(1.2202), tensor(2.7009), tensor(2.8261), tensor(2.8600), tensor(2.8593), tensor(2.4640), tensor(2.8336), tensor(1.2004), tensor(-1.9080), tensor(0.0600), tensor(2.3988), tensor(2.6231), tensor(2.5611), tensor(-2.3385), tensor(2.6382), tensor(1.6716), tensor(2.2042), tensor(1.1508), tensor(2.8404), tensor(2.5538), tensor(2.7731), tensor(1.7941), tensor(2.8413), tensor(2.7619), tensor(2.0362), tensor(2.4656), tensor(2.7647), tensor(2.6703), tensor(2.8379), tensor(1.6505), tensor(-0.4509), tensor(2.8686), tensor(2.8305), tensor(2.4612), tensor(2.6608), tensor(2.4317), tensor(-0.3157), tensor(1.8145), tensor(1.1737), tensor(1.7631), tensor(2.0071), tensor(2.8235), tensor(2.8755), tensor(2.5719), tensor(2.2748), tensor(1.5581), tensor(0.4602), tensor(2.4068), tensor(2.7366), tensor(2.6814), tensor(0.7181), tensor(2.5438), tensor(0.7059), tensor(1.7968), tensor(2.3917), tensor(2.5554), tensor(-0.4578), tensor(0.4511), tensor(2.7050), tensor(-0.2462), tensor(1.8128), tensor(2.8052), tensor(-1.5494), tensor(2.5185), tensor(2.7263), tensor(1.1936), tensor(-2.7287), tensor(2.3692), tensor(2.5135), tensor(2.5033), tensor(2.5031), tensor(1.1514), tensor(2.5139), tensor(1.5814), tensor(2.6661), tensor(2.8815), tensor(2.8995), tensor(2.7523), tensor(1.7803), tensor(2.7362), tensor(2.7299), tensor(2.7807), tensor(-1.6420), tensor(2.5530), tensor(2.6229), tensor(2.5649), tensor(2.4666), tensor(2.8137), tensor(2.7487), tensor(1.9369), tensor(2.8543), tensor(2.5343), tensor(2.0788), tensor(2.7235), tensor(2.0404), tensor(2.4872), tensor(2.3881), tensor(2.0916), tensor(1.4417), tensor(2.5382), tensor(-0.1040), tensor(2.1153), tensor(2.8276), tensor(-0.7616), tensor(1.8089), tensor(2.7520), tensor(2.6202), tensor(2.6393), tensor(2.8044), tensor(1.8808), tensor(1.7880), tensor(2.4035), tensor(1.5228), tensor(1.8348), tensor(2.8286), tensor(2.7663), tensor(0.6152), tensor(2.6941), tensor(1.1249), tensor(-2.6043), tensor(2.9033), tensor(2.2167), tensor(0.2070), tensor(2.0882), tensor(2.4099), tensor(2.8518), tensor(1.2360), tensor(2.8489), tensor(-1.6380), tensor(1.8217), tensor(2.9084), tensor(1.8853), tensor(2.0217), tensor(2.7401), tensor(2.6344), tensor(-0.0454), tensor(2.8574), tensor(2.7209), tensor(2.9008), tensor(2.2410), tensor(2.6695), tensor(1.6107), tensor(2.8787), tensor(-0.3102), tensor(1.8220), tensor(1.1523), tensor(2.7844), tensor(-0.0890), tensor(1.7210), tensor(2.7379), tensor(1.7189), tensor(2.8705), tensor(1.5923), tensor(2.5017), tensor(2.7561), tensor(1.2241), tensor(2.3299), tensor(1.6818), tensor(2.8063), tensor(2.8392), tensor(2.7559), tensor(2.7049), tensor(0.7171), tensor(2.3109), tensor(1.5324), tensor(2.1215), tensor(2.3011), tensor(2.7950), tensor(2.7250), tensor(0.4059), tensor(2.8636), tensor(2.5017), tensor(2.3020), tensor(2.3395), tensor(0.2799), tensor(2.1394), tensor(2.0467), tensor(2.1909), tensor(2.7751), tensor(2.6360), tensor(1.8286), tensor(2.6104), tensor(1.3388), tensor(0.6769), tensor(0.7089), tensor(1.9903), tensor(2.2865), tensor(2.7167), tensor(2.4574), tensor(-1.5007), tensor(2.8262), tensor(2.6015), tensor(2.7267), tensor(2.8375), tensor(2.4498), tensor(1.6488), tensor(2.8045), tensor(2.6236), tensor(2.0519), tensor(1.1052), tensor(2.5731), tensor(2.2192), tensor(2.7215), tensor(2.8581), tensor(2.1138), tensor(1.3206), tensor(2.8105), tensor(2.2594), tensor(2.8783), tensor(2.1682), tensor(-0.5378), tensor(1.2642), tensor(2.6280), tensor(1.5281), tensor(-0.8826), tensor(2.4756), tensor(2.6853), tensor(2.7943), tensor(2.7785), tensor(1.6554), tensor(-2.1250), tensor(2.5656), tensor(2.3785), tensor(-1.8029), tensor(0.5368), tensor(0.0067), tensor(2.6707), tensor(-2.1791), tensor(2.7225), tensor(2.4890), tensor(2.4432), tensor(1.7529), tensor(2.6677), tensor(-0.9765), tensor(0.8031), tensor(1.6012), tensor(2.6685), tensor(2.7159), tensor(2.8515), tensor(2.7859)]\n"
     ]
    },
    {
     "name": "stderr",
     "output_type": "stream",
     "text": [
      "52it [1:55:37, 132.59s/it]"
     ]
    },
    {
     "name": "stdout",
     "output_type": "stream",
     "text": [
      "[tensor(2.3560), tensor(2.3579), tensor(1.1131), tensor(1.7967), tensor(1.9401), tensor(2.6915), tensor(2.7008), tensor(2.4263), tensor(2.5471), tensor(1.2785), tensor(2.7665), tensor(0.8576), tensor(-1.5946), tensor(2.1929), tensor(2.1728), tensor(2.0354), tensor(2.2417), tensor(-0.0536), tensor(2.9005), tensor(2.8622), tensor(2.7142), tensor(0.7584), tensor(2.7281), tensor(2.8119), tensor(2.6720), tensor(2.7488), tensor(2.8333), tensor(0.9609), tensor(2.2065), tensor(2.3882), tensor(1.6205), tensor(2.8297), tensor(2.8474), tensor(-1.7359), tensor(2.6970), tensor(2.2299), tensor(2.3151), tensor(-0.6287), tensor(2.8182), tensor(2.8001), tensor(2.6793), tensor(0.4988), tensor(2.7536), tensor(2.4390), tensor(1.3279), tensor(2.7313), tensor(1.4660), tensor(0.1800), tensor(2.2184), tensor(0.7022), tensor(2.7900), tensor(2.7211), tensor(2.4367), tensor(2.8766), tensor(2.6346), tensor(2.6790), tensor(1.2243), tensor(2.6974), tensor(1.5030), tensor(2.7605), tensor(2.8672), tensor(0.9286), tensor(2.0787), tensor(1.8582), tensor(1.8748), tensor(2.6450), tensor(2.7464), tensor(2.7731), tensor(2.1187), tensor(2.8465), tensor(2.9401), tensor(-2.0723), tensor(2.5140), tensor(2.8325), tensor(2.7352), tensor(2.6354), tensor(2.1035), tensor(1.4754), tensor(1.9132), tensor(2.5149), tensor(2.1915), tensor(2.4587), tensor(2.8814), tensor(1.4048), tensor(2.8492), tensor(1.2259), tensor(1.9187), tensor(2.8063), tensor(2.7186), tensor(1.5550), tensor(2.1930), tensor(2.7076), tensor(2.6774), tensor(2.4368), tensor(2.6157), tensor(1.5684), tensor(2.5600), tensor(1.9594), tensor(-0.9812), tensor(-0.5060), tensor(2.8204), tensor(-0.7421), tensor(2.5604), tensor(0.3929), tensor(-0.3328), tensor(2.7163), tensor(2.3248), tensor(1.3933), tensor(2.8149), tensor(2.3963), tensor(2.6149), tensor(-0.4454), tensor(-1.7180), tensor(2.9124), tensor(2.8273), tensor(1.9054), tensor(2.4899), tensor(-1.0085), tensor(1.6733), tensor(2.8683), tensor(-0.4894), tensor(2.7650), tensor(2.8791), tensor(2.5294), tensor(2.8240), tensor(2.7465), tensor(1.0998), tensor(2.1928), tensor(2.5881), tensor(2.8886), tensor(1.3416), tensor(2.3529), tensor(1.4658), tensor(2.5951), tensor(2.3026), tensor(1.7377), tensor(2.2498), tensor(1.3501), tensor(2.6763), tensor(1.3422), tensor(2.6575), tensor(2.6931), tensor(2.7377), tensor(2.8622), tensor(2.8085), tensor(1.1080), tensor(2.7018), tensor(1.7032), tensor(2.6629), tensor(2.6274), tensor(1.0022), tensor(2.8264), tensor(2.8337), tensor(2.2076), tensor(2.7795), tensor(1.0598), tensor(2.1779), tensor(2.5930), tensor(2.9195), tensor(2.6466), tensor(1.0748), tensor(2.3845), tensor(-1.8559), tensor(2.1850), tensor(-0.1619), tensor(2.7312), tensor(2.3528), tensor(2.7939), tensor(2.2226), tensor(2.4653), tensor(2.0875), tensor(-1.4753), tensor(1.2050), tensor(2.4368), tensor(0.6697), tensor(1.8048), tensor(2.8418), tensor(2.8665), tensor(2.4644), tensor(2.8354), tensor(2.6283), tensor(2.3117), tensor(2.2456), tensor(2.7982), tensor(2.1396), tensor(1.4430), tensor(2.6110), tensor(1.2392), tensor(1.9381), tensor(-0.5181), tensor(1.1914), tensor(1.9973), tensor(-0.2122), tensor(2.9506), tensor(0.7891), tensor(2.6540), tensor(2.8135), tensor(2.8353), tensor(-1.1763), tensor(2.3457), tensor(2.2790), tensor(2.4812), tensor(2.8873), tensor(2.7398), tensor(1.9998), tensor(0.3514), tensor(2.6689), tensor(-1.1676), tensor(1.6214), tensor(2.8717), tensor(2.6389), tensor(2.5762), tensor(2.4209), tensor(2.7336), tensor(2.2340), tensor(2.8889), tensor(2.2225), tensor(2.4384), tensor(2.6993), tensor(0.6332), tensor(-0.2327), tensor(2.7721), tensor(2.7711), tensor(2.6827), tensor(2.9200), tensor(0.3502), tensor(2.5015), tensor(-1.8695), tensor(2.4122), tensor(2.4453), tensor(2.6163), tensor(0.2263), tensor(1.9402), tensor(1.9719), tensor(2.8199), tensor(0.5430), tensor(1.9133), tensor(2.9393), tensor(2.4353), tensor(1.8969), tensor(2.5911), tensor(-2.9766), tensor(2.6527), tensor(2.4918), tensor(2.8387), tensor(2.7602), tensor(2.9105), tensor(2.7052), tensor(2.0785), tensor(2.7462), tensor(0.8376), tensor(2.3692), tensor(2.1827), tensor(2.8990), tensor(1.6832), tensor(2.7256)]\n"
     ]
    },
    {
     "name": "stderr",
     "output_type": "stream",
     "text": [
      "53it [1:57:56, 134.76s/it]"
     ]
    },
    {
     "name": "stdout",
     "output_type": "stream",
     "text": [
      "[tensor(2.0830), tensor(2.6484), tensor(1.9708), tensor(2.6302), tensor(1.6618), tensor(1.0495), tensor(1.8493), tensor(2.8591), tensor(2.4768), tensor(-1.6248), tensor(2.5735), tensor(2.5432), tensor(2.6402), tensor(2.6700), tensor(1.9614), tensor(2.7735), tensor(1.3200), tensor(2.3706), tensor(-0.7190), tensor(0.7159), tensor(2.7166), tensor(2.0551), tensor(2.2532), tensor(2.6975), tensor(2.7024), tensor(2.6731), tensor(2.8606), tensor(2.6361), tensor(0.7801), tensor(2.6575), tensor(2.4785), tensor(0.7646), tensor(1.2269), tensor(0.6525), tensor(2.6251), tensor(1.2370), tensor(-0.4787), tensor(1.1267), tensor(2.6943), tensor(2.3928), tensor(2.7531), tensor(2.8359), tensor(2.7774), tensor(2.8758), tensor(2.7340), tensor(2.7545), tensor(2.1511), tensor(1.6832), tensor(-1.2511), tensor(2.8893), tensor(2.6787), tensor(2.5039), tensor(2.8557), tensor(-0.5104), tensor(1.6768), tensor(2.7854), tensor(2.8989), tensor(2.5503), tensor(1.4436), tensor(1.3268), tensor(2.8213), tensor(2.8392), tensor(1.2868), tensor(0.5741), tensor(2.6675), tensor(2.5585), tensor(-1.5683), tensor(-0.5174), tensor(1.7805), tensor(-1.0345), tensor(0.3401), tensor(-0.7074), tensor(2.5723), tensor(2.7775), tensor(1.7798), tensor(2.3199), tensor(2.6406), tensor(2.8734), tensor(1.4504), tensor(2.8702), tensor(2.6810), tensor(1.6730), tensor(2.7467), tensor(2.6173), tensor(1.1124), tensor(2.1181), tensor(2.9315), tensor(0.8208), tensor(1.1753), tensor(-2.6499), tensor(2.6663), tensor(2.7727), tensor(1.5198), tensor(2.8489), tensor(-2.8766), tensor(2.7771), tensor(0.0173), tensor(2.7639), tensor(2.8767), tensor(2.7431), tensor(2.7023), tensor(1.3160), tensor(2.8808), tensor(2.0854), tensor(2.7015), tensor(2.9014), tensor(1.4129), tensor(2.5087), tensor(2.8635), tensor(2.6262), tensor(1.8308), tensor(2.5601), tensor(0.1748), tensor(2.8731), tensor(2.2575), tensor(1.4345), tensor(2.8576), tensor(2.8418), tensor(2.6664), tensor(-0.6412), tensor(2.4719), tensor(2.7327), tensor(0.5876), tensor(0.8285), tensor(2.3679), tensor(2.3353), tensor(2.4004), tensor(2.6148), tensor(2.6313), tensor(2.0540), tensor(0.8623), tensor(2.7774), tensor(1.7071), tensor(2.5989), tensor(-0.2517), tensor(2.8091), tensor(2.0485), tensor(2.3883), tensor(0.6192), tensor(-1.7545), tensor(2.4062), tensor(2.5736), tensor(2.8120), tensor(2.8547), tensor(2.7337), tensor(1.1916), tensor(2.6578), tensor(2.5992), tensor(1.5382), tensor(2.7622), tensor(2.8067), tensor(2.7841), tensor(-0.8761), tensor(0.3523), tensor(2.4418), tensor(2.5813), tensor(2.5297), tensor(2.8376), tensor(1.9459), tensor(2.2725), tensor(2.8183), tensor(2.5687), tensor(1.1136), tensor(2.6228), tensor(2.8225), tensor(2.8823), tensor(2.9350), tensor(2.7960), tensor(2.9220), tensor(2.6031), tensor(1.9663), tensor(2.3367), tensor(1.9534), tensor(2.8911), tensor(2.5745), tensor(-1.1628), tensor(0.9159), tensor(2.8767), tensor(2.6566), tensor(2.7053), tensor(2.6780), tensor(2.7565), tensor(2.4758), tensor(2.3647), tensor(2.6379), tensor(-2.1776), tensor(2.8410), tensor(2.0080), tensor(2.8689), tensor(2.5332), tensor(2.4639), tensor(0.3324), tensor(2.7760), tensor(0.8118), tensor(-1.6940), tensor(2.8031), tensor(2.8258), tensor(1.6008), tensor(2.5175), tensor(1.8901), tensor(2.8007), tensor(1.8567), tensor(2.7817), tensor(1.6040), tensor(2.8681), tensor(2.8728), tensor(-0.8085), tensor(-1.6037), tensor(2.5610), tensor(1.2884), tensor(2.7645), tensor(2.7008), tensor(1.5088), tensor(2.3613), tensor(2.8271), tensor(1.7027), tensor(2.4858), tensor(2.7048), tensor(2.7028), tensor(2.4681), tensor(2.8310), tensor(1.6079), tensor(2.7586), tensor(1.9072), tensor(-0.6005), tensor(2.2785), tensor(2.2319), tensor(-0.8799), tensor(2.0383), tensor(2.4101), tensor(2.4421), tensor(2.3586), tensor(2.7163), tensor(2.1553), tensor(2.0749), tensor(2.3993), tensor(0.9772), tensor(1.4311), tensor(2.6131), tensor(2.5929), tensor(1.7365), tensor(1.5192), tensor(1.6497), tensor(1.9621), tensor(2.9206), tensor(2.3118), tensor(2.7413), tensor(1.8367), tensor(2.2666), tensor(-0.5917), tensor(2.2461), tensor(2.8127), tensor(2.7818), tensor(1.4214), tensor(2.7856), tensor(2.8615)]\n"
     ]
    },
    {
     "name": "stderr",
     "output_type": "stream",
     "text": [
      "54it [2:00:30, 140.46s/it]"
     ]
    },
    {
     "name": "stdout",
     "output_type": "stream",
     "text": [
      "[tensor(2.8228), tensor(2.2764), tensor(2.9075), tensor(1.2432), tensor(1.8616), tensor(2.8741), tensor(2.1225), tensor(2.0545), tensor(2.9256), tensor(2.8404), tensor(1.5636), tensor(1.0028), tensor(0.7755), tensor(0.2022), tensor(-0.5935), tensor(2.6955), tensor(2.8238), tensor(2.7087), tensor(2.8376), tensor(2.7212), tensor(2.7657), tensor(-1.5702), tensor(2.8351), tensor(1.2814), tensor(2.9165), tensor(2.3140), tensor(2.4268), tensor(2.3919), tensor(2.8227), tensor(2.6322), tensor(2.5479), tensor(1.9443), tensor(2.8641), tensor(-2.2641), tensor(2.8165), tensor(-0.8384), tensor(2.8174), tensor(-0.8553), tensor(2.8276), tensor(1.1697), tensor(2.5604), tensor(-0.7398), tensor(2.3284), tensor(2.6091), tensor(1.8697), tensor(2.7474), tensor(2.8943), tensor(2.0787), tensor(0.3214), tensor(1.6972), tensor(2.2617), tensor(2.4147), tensor(-0.7643), tensor(2.6069), tensor(2.5805), tensor(2.8669), tensor(2.8025), tensor(1.2041), tensor(1.6600), tensor(2.7475), tensor(2.8142), tensor(2.9561), tensor(2.1804), tensor(2.4773), tensor(2.7549), tensor(2.6979), tensor(-1.2781), tensor(1.9708), tensor(2.5210), tensor(2.6029), tensor(2.7403), tensor(1.6502), tensor(2.0478), tensor(2.8835), tensor(2.8397), tensor(1.8444), tensor(2.7685), tensor(2.6202), tensor(1.7684), tensor(0.3142), tensor(2.2901), tensor(2.7998), tensor(2.6733), tensor(-2.9389), tensor(2.8209), tensor(0.9172), tensor(2.8166), tensor(-0.6194), tensor(2.4157), tensor(2.8571), tensor(-1.2511), tensor(2.1103), tensor(2.6772), tensor(2.7296), tensor(0.6342), tensor(2.6996), tensor(2.5851), tensor(0.6708), tensor(2.9196), tensor(2.7895), tensor(2.6589), tensor(0.7073), tensor(0.2077), tensor(2.9106), tensor(2.8390), tensor(2.6951), tensor(2.1264), tensor(1.1836), tensor(2.3605), tensor(0.7288), tensor(2.6644), tensor(2.7255), tensor(2.5795), tensor(1.0966), tensor(2.5747), tensor(2.4769), tensor(2.6673), tensor(2.5779), tensor(1.4831), tensor(0.5720), tensor(-2.6640), tensor(0.0524), tensor(2.2868), tensor(2.5397), tensor(2.6897), tensor(2.6369), tensor(-0.4857), tensor(2.4007), tensor(0.5449), tensor(2.7150), tensor(0.9871), tensor(2.9310), tensor(2.3654), tensor(1.0039), tensor(2.8097), tensor(-1.1840), tensor(1.9683), tensor(2.8133), tensor(2.2546), tensor(2.7970), tensor(2.7637), tensor(0.5505), tensor(2.8687), tensor(2.5961), tensor(1.2140), tensor(2.1608), tensor(0.0557), tensor(2.6665), tensor(2.2255), tensor(2.8616), tensor(2.8634), tensor(2.2052), tensor(1.0607), tensor(2.6685), tensor(2.2574), tensor(2.5482), tensor(2.0830), tensor(2.7126), tensor(0.4413), tensor(2.6433), tensor(1.0836), tensor(2.5351), tensor(2.4979), tensor(2.5983), tensor(-1.7240), tensor(2.3991), tensor(2.6235), tensor(2.8605), tensor(1.1387), tensor(1.1732), tensor(-0.9941), tensor(2.7058), tensor(2.3444), tensor(2.6410), tensor(2.6441), tensor(2.6587), tensor(2.7334), tensor(2.8384), tensor(2.8937), tensor(2.7482), tensor(2.7520), tensor(2.7793), tensor(2.9222), tensor(2.6802), tensor(2.7390), tensor(2.4165), tensor(2.3504), tensor(0.6991), tensor(1.6029), tensor(2.7825), tensor(0.9068), tensor(2.6743), tensor(2.4943), tensor(1.5647), tensor(0.6632), tensor(-1.5175), tensor(1.4334), tensor(-1.3158), tensor(2.0604), tensor(2.8879), tensor(2.6808), tensor(2.7129), tensor(2.8385), tensor(1.8396), tensor(2.8677), tensor(1.4462), tensor(2.3129), tensor(0.8068), tensor(2.8822), tensor(2.6263), tensor(2.8067), tensor(0.6953), tensor(2.9235), tensor(-2.6819), tensor(2.5893), tensor(2.8285), tensor(2.7272), tensor(2.0223), tensor(-0.9620), tensor(1.1897), tensor(2.5278), tensor(2.3427), tensor(2.7196), tensor(0.5535), tensor(-1.0883), tensor(-2.1611), tensor(2.4523), tensor(2.6486), tensor(2.3684), tensor(2.7911), tensor(2.3198), tensor(2.6950), tensor(1.3895), tensor(1.9404), tensor(2.3813), tensor(-0.0436), tensor(2.8020), tensor(2.7261), tensor(2.4300), tensor(1.7101), tensor(2.6965), tensor(2.6797), tensor(2.6758), tensor(2.6112), tensor(2.4320), tensor(0.7292), tensor(-2.4988), tensor(2.2776), tensor(1.4143), tensor(0.7020), tensor(2.7496), tensor(1.7120), tensor(1.5424), tensor(2.8644), tensor(2.7084), tensor(1.4192)]\n"
     ]
    },
    {
     "name": "stderr",
     "output_type": "stream",
     "text": [
      "\u001b[34m\u001b[1mwandb\u001b[0m: \u001b[33mWARNING\u001b[0m A graphql request initiated by the public wandb API timed out (timeout=9 sec). Create a new API with an integer timeout larger than 9, e.g., `api = wandb.Api(timeout=19)` to increase the graphql timeout.\n",
      "55it [2:02:56, 142.07s/it]"
     ]
    },
    {
     "name": "stdout",
     "output_type": "stream",
     "text": [
      "[tensor(2.7655), tensor(0.1453), tensor(0.9243), tensor(2.9218), tensor(2.7654), tensor(2.1742), tensor(2.8552), tensor(2.8561), tensor(2.7882), tensor(2.7454), tensor(2.3817), tensor(2.8518), tensor(2.2324), tensor(2.4879), tensor(2.6115), tensor(-0.0564), tensor(2.5442), tensor(2.7990), tensor(2.7093), tensor(2.6803), tensor(2.5973), tensor(2.7506), tensor(2.8242), tensor(2.1965), tensor(2.9255), tensor(2.8933), tensor(2.5473), tensor(2.3558), tensor(2.1650), tensor(0.1485), tensor(2.8199), tensor(2.7427), tensor(2.6143), tensor(1.5485), tensor(2.7203), tensor(2.8136), tensor(2.8607), tensor(2.9052), tensor(2.8315), tensor(2.8534), tensor(2.1820), tensor(-2.0393), tensor(2.5826), tensor(2.6183), tensor(2.8378), tensor(2.5783), tensor(1.8944), tensor(2.7524), tensor(0.9108), tensor(-1.6885), tensor(2.7445), tensor(2.5497), tensor(0.7540), tensor(1.4204), tensor(2.6254), tensor(2.4513), tensor(2.7113), tensor(2.7342), tensor(1.0819), tensor(1.4412), tensor(2.7087), tensor(2.7016), tensor(-2.2552), tensor(2.4921), tensor(-2.0555), tensor(2.8575), tensor(1.3968), tensor(0.2872), tensor(0.2580), tensor(-0.9736), tensor(2.8564), tensor(2.5305), tensor(2.7691), tensor(2.9083), tensor(0.9557), tensor(1.2017), tensor(-0.2857), tensor(2.6368), tensor(2.6993), tensor(2.6488), tensor(2.0510), tensor(2.7007), tensor(-1.1007), tensor(2.6732), tensor(2.5898), tensor(2.7350), tensor(2.8099), tensor(2.9460), tensor(2.5312), tensor(2.5429), tensor(1.0982), tensor(1.8944), tensor(2.8110), tensor(2.3335), tensor(2.8437), tensor(2.4056), tensor(1.9355), tensor(2.8141), tensor(1.2877), tensor(-0.9895), tensor(2.6550), tensor(2.5128), tensor(0.6558), tensor(2.3545), tensor(2.8138), tensor(2.5825), tensor(2.8153), tensor(-0.2809), tensor(2.8044), tensor(2.8635), tensor(-0.1866), tensor(2.7362), tensor(2.5283), tensor(2.8133), tensor(-0.5626), tensor(2.7699), tensor(2.7826), tensor(2.7147), tensor(2.3220), tensor(2.7113), tensor(2.0675), tensor(2.3224), tensor(2.7696), tensor(1.7402), tensor(2.5306), tensor(2.6786), tensor(1.8597), tensor(1.3856), tensor(2.7982), tensor(2.6867), tensor(2.5173), tensor(1.9529), tensor(0.3176), tensor(2.6127), tensor(2.8341), tensor(2.0167), tensor(2.9075), tensor(-2.8133), tensor(1.9108), tensor(0.4417), tensor(2.6926), tensor(2.8181), tensor(2.6376), tensor(2.7252), tensor(2.7960), tensor(1.8283), tensor(1.0489), tensor(2.8421), tensor(1.9509), tensor(2.6462), tensor(2.2297), tensor(2.5641), tensor(2.1095), tensor(-0.6242), tensor(2.8332), tensor(2.4383), tensor(2.8328), tensor(2.6959), tensor(0.4794), tensor(2.7598), tensor(2.8571), tensor(2.8288), tensor(1.3791), tensor(2.5250), tensor(0.4437), tensor(1.2138), tensor(2.7104), tensor(-0.6515), tensor(2.8913), tensor(2.6254), tensor(2.4777), tensor(2.1296), tensor(-0.6269), tensor(2.3366), tensor(2.5077), tensor(-1.9664), tensor(2.6727), tensor(-1.2807), tensor(2.5621), tensor(2.7574), tensor(2.2585), tensor(2.0397), tensor(2.6198), tensor(-2.5329), tensor(2.7242), tensor(2.6715), tensor(1.2192), tensor(2.7954), tensor(2.2346), tensor(2.8396), tensor(1.8835), tensor(0.7587), tensor(2.0121), tensor(2.8786), tensor(1.0350), tensor(2.2211), tensor(2.6570), tensor(0.3625), tensor(2.6099), tensor(-2.9960), tensor(2.7252), tensor(2.4455), tensor(2.1543), tensor(2.7812), tensor(0.9294), tensor(2.5432), tensor(2.3639), tensor(0.6904), tensor(2.8068), tensor(1.9494), tensor(-2.9101), tensor(2.3222), tensor(2.3411), tensor(2.9179), tensor(1.8633), tensor(2.1771), tensor(2.5753), tensor(1.3642), tensor(2.6091), tensor(2.5645), tensor(-2.4806), tensor(2.7029), tensor(2.0622), tensor(2.7253), tensor(2.4723), tensor(2.7771), tensor(2.6806), tensor(2.8464), tensor(2.7633), tensor(2.7146), tensor(2.1325), tensor(1.9552), tensor(-0.8297), tensor(2.4749), tensor(2.2165), tensor(2.4092), tensor(1.1114), tensor(2.5888), tensor(1.9497), tensor(-0.0070), tensor(2.5884), tensor(2.8934), tensor(1.0863), tensor(2.8839), tensor(-0.2063), tensor(2.3979), tensor(2.4802), tensor(1.4250), tensor(2.8820), tensor(0.0100), tensor(2.9196), tensor(2.3364), tensor(2.2266), tensor(-1.8316), tensor(1.6942), tensor(2.4224)]\n"
     ]
    },
    {
     "name": "stderr",
     "output_type": "stream",
     "text": [
      "56it [2:05:19, 142.44s/it]"
     ]
    },
    {
     "name": "stdout",
     "output_type": "stream",
     "text": [
      "[tensor(2.7375), tensor(0.2017), tensor(2.8370), tensor(2.3176), tensor(2.8776), tensor(2.6868), tensor(2.1525), tensor(2.7810), tensor(2.8227), tensor(1.1004), tensor(0.6688), tensor(2.7603), tensor(2.8568), tensor(-2.3884), tensor(2.6657), tensor(2.1490), tensor(2.4911), tensor(2.2700), tensor(2.2707), tensor(2.4017), tensor(0.1005), tensor(2.3623), tensor(2.3574), tensor(0.3866), tensor(2.6939), tensor(2.7167), tensor(2.7510), tensor(2.5788), tensor(2.8288), tensor(2.7176), tensor(0.9609), tensor(2.8583), tensor(1.9726), tensor(0.6834), tensor(2.8278), tensor(2.5648), tensor(1.3456), tensor(2.1567), tensor(2.5249), tensor(2.3444), tensor(2.2959), tensor(1.3248), tensor(2.2428), tensor(2.0664), tensor(2.4640), tensor(2.8038), tensor(2.6803), tensor(1.3086), tensor(2.7430), tensor(2.6827), tensor(2.9267), tensor(2.2155), tensor(1.5981), tensor(2.5995), tensor(2.6407), tensor(2.2794), tensor(2.7938), tensor(-0.5801), tensor(-2.2538), tensor(2.7079), tensor(2.8818), tensor(-3.0081), tensor(2.7700), tensor(2.9157), tensor(2.6171), tensor(2.6293), tensor(2.6732), tensor(2.8919), tensor(1.3438), tensor(0.8560), tensor(-2.8903), tensor(1.2536), tensor(2.8580), tensor(-1.2791), tensor(2.7305), tensor(1.4991), tensor(2.8818), tensor(2.7359), tensor(2.4009), tensor(2.7840), tensor(2.8484), tensor(2.8276), tensor(2.7623), tensor(1.5215), tensor(2.4256), tensor(0.0185), tensor(2.5149), tensor(2.7131), tensor(2.7494), tensor(2.7795), tensor(2.5927), tensor(2.8559), tensor(2.8827), tensor(2.8719), tensor(0.1157), tensor(2.8450), tensor(2.6256), tensor(1.7377), tensor(0.1437), tensor(1.1350), tensor(2.1315), tensor(2.1607), tensor(2.6397), tensor(2.8548), tensor(-1.4043), tensor(2.9026), tensor(2.7120), tensor(2.5739), tensor(0.4781), tensor(2.8760), tensor(2.4583), tensor(-1.7285), tensor(0.3191), tensor(2.0976), tensor(-1.0835), tensor(1.3387), tensor(2.5892), tensor(2.1905), tensor(2.7028), tensor(2.8852), tensor(2.5895), tensor(1.9024), tensor(2.8829), tensor(2.5520), tensor(2.5668), tensor(2.7066), tensor(-1.5151), tensor(1.3820), tensor(2.5890), tensor(2.8172), tensor(2.5760), tensor(2.7829), tensor(1.0538), tensor(2.8678), tensor(2.7826), tensor(2.8366), tensor(2.2211), tensor(-1.5784), tensor(-2.2017), tensor(2.8181), tensor(2.5936), tensor(2.4746), tensor(2.7688), tensor(2.9153), tensor(2.8637), tensor(-1.4347), tensor(2.3912), tensor(1.9417), tensor(1.5316), tensor(2.8194), tensor(1.4491), tensor(-2.6962), tensor(2.6979), tensor(1.9537), tensor(2.6171), tensor(2.1231), tensor(2.6740), tensor(1.3337), tensor(2.7344), tensor(1.3513), tensor(2.8138), tensor(1.5273), tensor(2.9127), tensor(1.1131), tensor(2.8720), tensor(2.7919), tensor(2.8615), tensor(1.7042), tensor(2.5957), tensor(0.9881), tensor(2.8390), tensor(-0.0082), tensor(1.6044), tensor(2.6378), tensor(2.6825), tensor(1.5884), tensor(2.5023), tensor(0.6506), tensor(2.3331), tensor(2.0705), tensor(2.7162), tensor(2.8672), tensor(2.8226), tensor(2.2204), tensor(-0.3169), tensor(2.7151), tensor(1.7825), tensor(2.5856), tensor(-1.9322), tensor(2.2958), tensor(2.0373), tensor(2.8234), tensor(2.5569), tensor(2.8509), tensor(2.8297), tensor(0.3858), tensor(2.7346), tensor(2.7637), tensor(2.8771), tensor(-2.2683), tensor(2.6045), tensor(2.7021), tensor(2.7482), tensor(2.7811), tensor(2.7428), tensor(2.5995), tensor(2.0341), tensor(2.6472), tensor(2.7030), tensor(2.3357), tensor(2.4232), tensor(2.2735), tensor(2.0621), tensor(2.7579), tensor(2.8905), tensor(2.4959), tensor(0.8910), tensor(2.6606), tensor(-2.2431), tensor(2.7351), tensor(-2.9954), tensor(2.8462), tensor(2.7114), tensor(2.5668), tensor(2.8744), tensor(2.7006), tensor(2.6863), tensor(2.4791), tensor(2.7787), tensor(0.0188), tensor(2.6112), tensor(2.6918), tensor(-0.8130), tensor(-0.1218), tensor(2.3311), tensor(2.8580), tensor(2.8362), tensor(2.3930), tensor(2.8686), tensor(2.8094), tensor(-0.7877), tensor(2.7936), tensor(2.7564), tensor(2.7557), tensor(2.7439), tensor(-1.2361), tensor(2.8872), tensor(1.1143), tensor(2.7627), tensor(0.9772), tensor(-1.0871), tensor(2.0430), tensor(2.5898), tensor(0.9030), tensor(1.3684), tensor(-2.5896)]\n"
     ]
    },
    {
     "name": "stderr",
     "output_type": "stream",
     "text": [
      "57it [2:07:40, 141.95s/it]"
     ]
    },
    {
     "name": "stdout",
     "output_type": "stream",
     "text": [
      "[tensor(2.8765), tensor(2.8143), tensor(2.6942), tensor(1.1656), tensor(2.5653), tensor(2.8612), tensor(2.5955), tensor(2.4918), tensor(2.8356), tensor(-1.2787), tensor(1.6834), tensor(1.2039), tensor(2.9029), tensor(-1.4113), tensor(2.6106), tensor(2.8973), tensor(1.9243), tensor(2.8997), tensor(2.2862), tensor(2.7941), tensor(2.6168), tensor(2.1371), tensor(2.4623), tensor(2.5271), tensor(2.6026), tensor(-1.6170), tensor(2.8044), tensor(-1.1453), tensor(2.7964), tensor(-0.5707), tensor(2.2602), tensor(2.6501), tensor(0.7367), tensor(0.0467), tensor(2.6879), tensor(2.2634), tensor(1.4836), tensor(2.6517), tensor(2.7722), tensor(2.8934), tensor(1.3107), tensor(2.6206), tensor(2.3822), tensor(2.3164), tensor(2.8792), tensor(2.6823), tensor(1.2677), tensor(1.0195), tensor(1.6140), tensor(2.3158), tensor(2.1133), tensor(2.0549), tensor(2.6924), tensor(2.7656), tensor(1.2929), tensor(1.9737), tensor(0.4321), tensor(0.0753), tensor(2.9372), tensor(0.2240), tensor(2.5796), tensor(2.4445), tensor(0.7986), tensor(2.7773), tensor(2.8871), tensor(2.6790), tensor(2.7112), tensor(2.2750), tensor(0.3547), tensor(2.7018), tensor(1.6110), tensor(2.5356), tensor(2.8511), tensor(2.5286), tensor(2.6641), tensor(0.8782), tensor(-0.9442), tensor(0.6660), tensor(2.9503), tensor(0.3830), tensor(1.0366), tensor(-0.2841), tensor(1.3838), tensor(2.7247), tensor(2.4497), tensor(1.7160), tensor(2.8411), tensor(2.8532), tensor(2.7722), tensor(2.4861), tensor(2.8358), tensor(0.0704), tensor(1.0139), tensor(2.4401), tensor(2.2545), tensor(2.9152), tensor(2.0284), tensor(2.7990), tensor(-1.4983), tensor(1.8031), tensor(2.3299), tensor(2.4656), tensor(2.8252), tensor(0.9787), tensor(2.8158), tensor(0.0140), tensor(2.7478), tensor(-0.0767), tensor(1.8011), tensor(2.1251), tensor(2.6680), tensor(2.8282), tensor(2.5773), tensor(0.1020), tensor(2.7911), tensor(2.7988), tensor(2.7444), tensor(2.7836), tensor(1.5990), tensor(2.8683), tensor(2.7370), tensor(2.3519), tensor(1.7008), tensor(2.7150), tensor(2.0424), tensor(2.8597), tensor(2.7987), tensor(2.4087), tensor(2.9061), tensor(1.9476), tensor(1.3989), tensor(2.8695), tensor(1.6507), tensor(1.1855), tensor(1.3369), tensor(2.5798), tensor(2.8382), tensor(2.8917), tensor(2.5078), tensor(2.8701), tensor(1.7151), tensor(2.8689), tensor(1.9067), tensor(1.4936), tensor(-0.2842), tensor(0.6529), tensor(1.6218), tensor(0.3186), tensor(2.8087), tensor(2.8630), tensor(2.3307), tensor(1.6845), tensor(0.9220), tensor(2.7095), tensor(2.8626), tensor(1.1809), tensor(2.3481), tensor(-0.6119), tensor(2.8405), tensor(2.8671), tensor(1.7388), tensor(2.7047), tensor(2.3835), tensor(2.7624), tensor(2.3094), tensor(2.4868), tensor(1.3958), tensor(-1.6797), tensor(0.6600), tensor(2.7921), tensor(1.0490), tensor(2.6178), tensor(2.7920), tensor(2.8791), tensor(2.6989), tensor(2.7197), tensor(2.8656), tensor(2.2386), tensor(2.7372), tensor(2.8233), tensor(1.8919), tensor(2.9017), tensor(0.7819), tensor(2.1548), tensor(-2.2888), tensor(2.5277), tensor(1.2856), tensor(2.5390), tensor(2.6691), tensor(1.9845), tensor(2.8736), tensor(1.4740), tensor(2.7939), tensor(0.6700), tensor(2.5044), tensor(2.9201), tensor(0.7548), tensor(0.0229), tensor(2.7250), tensor(0.7471), tensor(2.2503), tensor(1.8588), tensor(2.2567), tensor(-0.5030), tensor(0.1446), tensor(2.8199), tensor(2.6301), tensor(0.8652), tensor(0.9634), tensor(2.5650), tensor(2.3542), tensor(2.8648), tensor(2.5183), tensor(1.1702), tensor(1.2225), tensor(2.8968), tensor(-0.5369), tensor(2.8530), tensor(2.8480), tensor(2.4581), tensor(0.4325), tensor(2.4774), tensor(2.6882), tensor(2.7509), tensor(2.8157), tensor(0.9467), tensor(2.6756), tensor(0.0766), tensor(2.7685), tensor(2.8420), tensor(2.4312), tensor(-0.5141), tensor(-1.9858), tensor(2.8139), tensor(2.8907), tensor(2.7056), tensor(0.4129), tensor(2.9138), tensor(2.6472), tensor(2.8164), tensor(1.8358), tensor(2.7820), tensor(2.8702), tensor(2.3083), tensor(2.3786), tensor(2.8026), tensor(2.5030), tensor(2.9133), tensor(2.7698), tensor(2.5860), tensor(2.6096), tensor(2.8331), tensor(2.5484), tensor(2.3469), tensor(2.5952), tensor(2.9165)]\n"
     ]
    },
    {
     "name": "stderr",
     "output_type": "stream",
     "text": [
      "58it [2:10:06, 143.29s/it]"
     ]
    },
    {
     "name": "stdout",
     "output_type": "stream",
     "text": [
      "[tensor(2.8701), tensor(2.4869), tensor(1.9731), tensor(1.5852), tensor(1.7760), tensor(2.4047), tensor(2.8741), tensor(2.8138), tensor(2.7138), tensor(2.5291), tensor(2.2902), tensor(2.7966), tensor(0.5490), tensor(-0.8954), tensor(-1.6566), tensor(2.2337), tensor(1.1537), tensor(2.9239), tensor(1.2271), tensor(2.1012), tensor(2.7569), tensor(2.4762), tensor(2.1148), tensor(0.8205), tensor(0.8844), tensor(-1.9741), tensor(2.6367), tensor(2.7493), tensor(0.3059), tensor(1.7364), tensor(2.3185), tensor(0.3997), tensor(2.4126), tensor(1.9614), tensor(2.1494), tensor(0.0910), tensor(2.3490), tensor(1.5199), tensor(2.1358), tensor(2.4859), tensor(2.8305), tensor(2.7260), tensor(2.0199), tensor(-0.4524), tensor(2.7013), tensor(2.4733), tensor(2.8493), tensor(2.1250), tensor(2.9233), tensor(1.5573), tensor(2.5980), tensor(1.9784), tensor(-1.5672), tensor(2.7479), tensor(2.8819), tensor(2.7797), tensor(2.7071), tensor(2.0074), tensor(2.8079), tensor(2.2319), tensor(2.5630), tensor(2.4070), tensor(2.4651), tensor(2.7009), tensor(1.4394), tensor(0.0060), tensor(1.9634), tensor(-0.5223), tensor(2.6491), tensor(2.4015), tensor(-0.9316), tensor(2.8219), tensor(1.5770), tensor(2.2988), tensor(2.8033), tensor(2.5193), tensor(1.6422), tensor(2.6208), tensor(2.4317), tensor(2.6002), tensor(2.3244), tensor(1.5748), tensor(2.7482), tensor(0.7198), tensor(2.5927), tensor(2.5378), tensor(0.9106), tensor(2.8216), tensor(2.6363), tensor(2.3809), tensor(2.8973), tensor(-0.5952), tensor(2.8730), tensor(1.6317), tensor(2.8959), tensor(2.7127), tensor(2.5259), tensor(-0.0698), tensor(2.6720), tensor(2.8126), tensor(1.3419), tensor(2.8352), tensor(2.6229), tensor(1.9365), tensor(1.9005), tensor(2.9344), tensor(2.7889), tensor(2.6824), tensor(2.8288), tensor(2.9440), tensor(2.1462), tensor(2.4918), tensor(0.3307), tensor(2.4824), tensor(1.7189), tensor(2.6972), tensor(2.0314), tensor(2.8029), tensor(2.6546), tensor(1.7053), tensor(0.9064), tensor(2.3897), tensor(2.1253), tensor(-0.1728), tensor(2.6751), tensor(1.6738), tensor(2.8724), tensor(2.8652), tensor(2.5487), tensor(2.0637), tensor(2.9236), tensor(0.8848), tensor(2.8877), tensor(2.4985), tensor(2.7533), tensor(-0.7174), tensor(1.7010), tensor(2.8521), tensor(2.6960), tensor(-0.7568), tensor(0.4964), tensor(2.8132), tensor(2.6642), tensor(1.4056), tensor(1.8649), tensor(2.6623), tensor(2.7809), tensor(1.3685), tensor(2.3924), tensor(2.6652), tensor(1.9276), tensor(2.7841), tensor(2.6593), tensor(2.1066), tensor(2.9394), tensor(2.0534), tensor(-0.0116), tensor(2.2292), tensor(0.8037), tensor(1.4173), tensor(0.4389), tensor(2.4921), tensor(2.4963), tensor(-2.9014), tensor(0.3250), tensor(0.2007), tensor(1.6835), tensor(2.2123), tensor(2.4823), tensor(2.2687), tensor(2.8303), tensor(2.8388), tensor(2.8186), tensor(2.5527), tensor(2.4921), tensor(2.6480), tensor(2.2427), tensor(2.7895), tensor(2.7954), tensor(2.8586), tensor(2.4760), tensor(2.7622), tensor(1.4916), tensor(2.6941), tensor(2.6145), tensor(0.4153), tensor(2.9082), tensor(2.6163), tensor(2.6769), tensor(1.2602), tensor(1.5560), tensor(2.6078), tensor(2.8863), tensor(2.6915), tensor(2.6052), tensor(2.0826), tensor(2.2973), tensor(2.4960), tensor(2.8136), tensor(2.6502), tensor(1.8824), tensor(2.1533), tensor(0.4385), tensor(-0.7562), tensor(1.1232), tensor(2.3523), tensor(2.5539), tensor(2.7564), tensor(1.6030), tensor(2.7160), tensor(2.6152), tensor(2.6395), tensor(2.8522), tensor(-1.7294), tensor(0.9336), tensor(1.7905), tensor(2.8309), tensor(0.2345), tensor(2.7566), tensor(1.9572), tensor(2.7646), tensor(2.5531), tensor(2.4179), tensor(2.7925), tensor(2.6490), tensor(2.7865), tensor(2.8870), tensor(2.5515), tensor(2.6119), tensor(2.7538), tensor(2.6395), tensor(2.6695), tensor(2.8047), tensor(2.8308), tensor(2.7961), tensor(2.8711), tensor(2.7347), tensor(2.2714), tensor(-0.8169), tensor(-1.0420), tensor(2.1204), tensor(2.8010), tensor(2.7656), tensor(2.1492), tensor(2.7439), tensor(1.8996), tensor(2.9205), tensor(0.1496), tensor(2.3875), tensor(2.6146), tensor(2.8991), tensor(-0.7029), tensor(0.4338), tensor(0.3426), tensor(2.8651), tensor(2.7319)]\n"
     ]
    },
    {
     "name": "stderr",
     "output_type": "stream",
     "text": [
      "59it [2:12:02, 135.06s/it]"
     ]
    },
    {
     "name": "stdout",
     "output_type": "stream",
     "text": [
      "[tensor(1.6867), tensor(2.1913), tensor(-1.8333), tensor(2.4285), tensor(2.4002), tensor(2.8949), tensor(-1.7206), tensor(2.6155), tensor(2.7852), tensor(2.8371), tensor(0.2368), tensor(2.8987), tensor(-0.0987), tensor(0.1478), tensor(1.3358), tensor(-0.6178), tensor(2.8178), tensor(2.0467), tensor(2.9037), tensor(2.6166), tensor(2.7679), tensor(-0.1406), tensor(2.5782), tensor(2.2929), tensor(2.1182), tensor(2.7217), tensor(2.5031), tensor(2.6773), tensor(2.2137), tensor(2.8468), tensor(2.1942), tensor(0.0519), tensor(2.8747), tensor(2.6927), tensor(2.9235), tensor(2.7297), tensor(2.5405), tensor(2.7902), tensor(2.7050), tensor(2.0567), tensor(-0.2337), tensor(1.2249), tensor(2.8097), tensor(2.9081), tensor(-2.6863), tensor(1.7955), tensor(0.0539), tensor(2.6436), tensor(2.5418), tensor(2.7007), tensor(2.5689), tensor(2.4237), tensor(2.4450), tensor(2.8347), tensor(2.8297), tensor(2.7825), tensor(2.6383), tensor(2.8164), tensor(2.6847), tensor(2.5688), tensor(1.3875), tensor(2.7330), tensor(2.3163), tensor(2.3936), tensor(2.6207), tensor(2.7786), tensor(2.6037), tensor(2.0021), tensor(1.5439), tensor(2.8603), tensor(2.7031), tensor(2.8380), tensor(2.4673), tensor(2.8399), tensor(2.0010), tensor(2.5469), tensor(-1.2790), tensor(2.6569), tensor(2.8759), tensor(2.2251), tensor(2.9277), tensor(2.7844), tensor(2.4096), tensor(2.9027), tensor(2.4679), tensor(1.3369), tensor(-0.7777), tensor(2.4357), tensor(1.1821), tensor(2.5748), tensor(2.3229), tensor(0.8047), tensor(2.6029), tensor(2.8505), tensor(2.5053), tensor(2.8519), tensor(2.7606), tensor(2.5487), tensor(2.8801), tensor(2.5244), tensor(2.5249), tensor(1.9011), tensor(2.7129), tensor(1.5820), tensor(2.5037), tensor(1.3529), tensor(1.9974), tensor(0.0409), tensor(2.6429), tensor(0.9001), tensor(1.6576), tensor(2.8266), tensor(2.5493), tensor(2.3213), tensor(2.4988), tensor(2.7679), tensor(2.5733), tensor(2.8267), tensor(2.5746), tensor(-0.5633), tensor(1.0356), tensor(2.6182), tensor(1.3108), tensor(2.5317), tensor(2.3519), tensor(2.0196), tensor(-0.8195), tensor(2.2322), tensor(2.8770), tensor(2.5151), tensor(2.6342), tensor(2.1932), tensor(1.8444), tensor(1.5635), tensor(2.7857), tensor(2.7301), tensor(2.8910), tensor(2.4627), tensor(2.8970), tensor(-0.5990), tensor(2.5003), tensor(2.8367), tensor(2.8820), tensor(1.5140), tensor(2.8663), tensor(2.3365), tensor(2.8719), tensor(2.5464), tensor(2.1840), tensor(1.7707), tensor(1.7257), tensor(2.7754), tensor(2.4148), tensor(2.8847), tensor(1.9354), tensor(2.8396), tensor(2.8457), tensor(2.9227), tensor(2.4791), tensor(1.8620), tensor(2.5140), tensor(2.8987), tensor(2.8117), tensor(2.5879), tensor(2.8375), tensor(-2.9716), tensor(2.8824), tensor(-0.6373), tensor(-2.6460), tensor(2.7717), tensor(2.3712), tensor(0.4616), tensor(1.2532), tensor(2.6188), tensor(-0.2289), tensor(2.1085), tensor(2.2594), tensor(2.4331), tensor(2.1184), tensor(2.1759), tensor(2.2831), tensor(2.1383), tensor(0.1359), tensor(-2.4018), tensor(1.9484), tensor(2.2738), tensor(-0.9505), tensor(2.6009), tensor(2.6890), tensor(2.5677), tensor(1.4410), tensor(2.8723), tensor(2.7340), tensor(1.9808), tensor(-0.3805), tensor(0.5714), tensor(2.1321), tensor(0.4424), tensor(2.4397), tensor(2.8737), tensor(2.7822), tensor(2.1639), tensor(0.9944), tensor(2.5498), tensor(-1.9970), tensor(0.0889), tensor(2.7452), tensor(2.9079), tensor(2.8949), tensor(2.8249), tensor(0.0240), tensor(2.8914), tensor(1.0000), tensor(2.8472), tensor(2.8595), tensor(2.8151), tensor(2.4520), tensor(2.7929), tensor(2.4530), tensor(2.8397), tensor(1.5833), tensor(2.4332), tensor(2.4928), tensor(-0.4011), tensor(2.8514), tensor(-1.6183), tensor(2.1326), tensor(2.4890), tensor(2.3260), tensor(2.8322), tensor(2.4888), tensor(2.8721), tensor(2.1753), tensor(1.7380), tensor(2.7714), tensor(2.4668), tensor(2.7773), tensor(2.8256), tensor(2.2699), tensor(2.7313), tensor(0.8887), tensor(0.4810), tensor(2.1420), tensor(1.5662), tensor(2.9345), tensor(-0.7558), tensor(2.7669), tensor(2.1257), tensor(2.7184), tensor(2.7984), tensor(-1.9147), tensor(0.2747), tensor(2.4121), tensor(2.6789), tensor(2.8022), tensor(1.8624)]\n"
     ]
    },
    {
     "name": "stderr",
     "output_type": "stream",
     "text": [
      "60it [2:14:15, 134.49s/it]"
     ]
    },
    {
     "name": "stdout",
     "output_type": "stream",
     "text": [
      "[tensor(2.1474), tensor(2.1249), tensor(0.4937), tensor(-0.5193), tensor(1.5447), tensor(2.9058), tensor(2.4584), tensor(2.7630), tensor(2.6134), tensor(2.8319), tensor(2.8087), tensor(2.0987), tensor(2.6661), tensor(1.8860), tensor(1.6148), tensor(1.6181), tensor(0.3908), tensor(2.8131), tensor(1.8169), tensor(2.4826), tensor(1.5669), tensor(2.2924), tensor(1.1728), tensor(-2.9631), tensor(0.6115), tensor(2.8096), tensor(2.8902), tensor(2.8940), tensor(1.9150), tensor(2.7192), tensor(1.0464), tensor(2.3711), tensor(1.6067), tensor(0.0359), tensor(2.7855), tensor(-1.9821), tensor(2.4188), tensor(0.6610), tensor(1.2779), tensor(2.1043), tensor(-1.7121), tensor(-1.0268), tensor(2.8404), tensor(1.0905), tensor(2.4817), tensor(2.7120), tensor(1.8179), tensor(2.7714), tensor(2.6328), tensor(2.7517), tensor(2.7881), tensor(2.8440), tensor(2.7413), tensor(2.7689), tensor(-2.3965), tensor(2.5102), tensor(2.7381), tensor(2.4970), tensor(1.9512), tensor(2.3557), tensor(0.3435), tensor(-1.2194), tensor(2.8304), tensor(-1.6726), tensor(2.8949), tensor(2.8427), tensor(0.1336), tensor(2.5238), tensor(2.4894), tensor(2.8167), tensor(2.4215), tensor(2.7923), tensor(1.8340), tensor(2.7869), tensor(2.0807), tensor(1.3050), tensor(2.8838), tensor(2.7347), tensor(2.5998), tensor(0.9699), tensor(2.6632), tensor(2.9030), tensor(2.2024), tensor(1.3872), tensor(0.3555), tensor(2.8460), tensor(2.6485), tensor(2.8470), tensor(2.6616), tensor(-1.6022), tensor(2.2921), tensor(2.7525), tensor(2.2922), tensor(2.8345), tensor(0.9775), tensor(2.6812), tensor(2.6057), tensor(2.6583), tensor(2.8144), tensor(2.6815), tensor(-2.5029), tensor(2.8563), tensor(2.5476), tensor(2.7733), tensor(2.4888), tensor(2.8850), tensor(2.4667), tensor(2.5881), tensor(2.6261), tensor(2.8468), tensor(1.4965), tensor(2.8282), tensor(2.3501), tensor(2.6157), tensor(1.3116), tensor(2.4408), tensor(1.9025), tensor(1.0599), tensor(2.2205), tensor(2.6316), tensor(2.0739), tensor(2.5847), tensor(0.3826), tensor(2.2635), tensor(1.8409), tensor(2.8615), tensor(-1.1826), tensor(2.5886), tensor(2.7849), tensor(1.0334), tensor(2.7632), tensor(0.0045), tensor(1.5104), tensor(2.5455), tensor(2.8115), tensor(2.7349), tensor(2.8581), tensor(-1.4254), tensor(0.7150), tensor(2.5905), tensor(2.6409), tensor(2.8324), tensor(2.6603), tensor(2.8790), tensor(1.4689), tensor(2.5968), tensor(1.0237), tensor(2.8943), tensor(0.8190), tensor(2.3435), tensor(-2.7574), tensor(1.7399), tensor(2.6595), tensor(2.8964), tensor(-0.8461), tensor(-2.2872), tensor(-2.9788), tensor(2.6068), tensor(1.1206), tensor(2.5252), tensor(2.0559), tensor(0.6610), tensor(2.8600), tensor(2.7983), tensor(2.6108), tensor(2.4595), tensor(1.6800), tensor(2.6098), tensor(2.8936), tensor(2.2425), tensor(2.5406), tensor(-0.2474), tensor(2.7743), tensor(1.5900), tensor(2.6407), tensor(2.7949), tensor(2.8417), tensor(2.7979), tensor(2.4665), tensor(1.2052), tensor(2.9180), tensor(1.2405), tensor(2.4938), tensor(2.2283), tensor(1.9553), tensor(-2.1929), tensor(2.7069), tensor(-1.3931), tensor(2.5819), tensor(2.8643), tensor(2.4913), tensor(2.7775), tensor(2.4674), tensor(2.5750), tensor(2.3597), tensor(2.7049), tensor(2.8098), tensor(2.5559), tensor(2.7588), tensor(0.2948), tensor(2.5844), tensor(2.7339), tensor(2.9082), tensor(2.6372), tensor(2.4119), tensor(2.0635), tensor(2.9050), tensor(2.5570), tensor(2.8232), tensor(1.5219), tensor(1.6256), tensor(-2.9108), tensor(2.6469), tensor(2.6993), tensor(1.2081), tensor(2.5416), tensor(2.0760), tensor(2.0512), tensor(2.5987), tensor(0.3837), tensor(2.1167), tensor(2.7893), tensor(-0.4093), tensor(2.5306), tensor(2.4170), tensor(2.5438), tensor(2.8604), tensor(2.8739), tensor(1.4562), tensor(2.8848), tensor(0.7593), tensor(2.7622), tensor(2.9143), tensor(2.8937), tensor(2.7992), tensor(2.6282), tensor(2.7840), tensor(2.2551), tensor(-0.7343), tensor(1.3652), tensor(2.6391), tensor(2.3460), tensor(2.8827), tensor(2.6745), tensor(1.3573), tensor(2.6538), tensor(2.9140), tensor(1.3857), tensor(2.7849), tensor(2.6372), tensor(-2.9456), tensor(-0.3799), tensor(2.7203), tensor(2.6280), tensor(2.7968), tensor(2.7859)]\n"
     ]
    },
    {
     "name": "stderr",
     "output_type": "stream",
     "text": [
      "61it [2:16:20, 131.54s/it]"
     ]
    },
    {
     "name": "stdout",
     "output_type": "stream",
     "text": [
      "[tensor(2.2816), tensor(2.7604), tensor(2.6239), tensor(2.7535), tensor(2.8844), tensor(2.8801), tensor(-0.9368), tensor(0.2963), tensor(2.7071), tensor(2.4151), tensor(2.3825), tensor(2.7303), tensor(2.6943), tensor(-1.5255), tensor(2.7701), tensor(2.6573), tensor(2.4442), tensor(2.9156), tensor(2.2008), tensor(1.3102), tensor(2.6619), tensor(2.8559), tensor(-1.1313), tensor(2.5326), tensor(2.3781), tensor(2.7156), tensor(2.7796), tensor(2.7701), tensor(2.8387), tensor(2.3187), tensor(1.3290), tensor(2.5981), tensor(0.6789), tensor(2.1953), tensor(2.6228), tensor(-0.9626), tensor(1.5964), tensor(2.5313), tensor(1.8103), tensor(-0.0901), tensor(2.4852), tensor(2.7213), tensor(0.3158), tensor(2.8777), tensor(2.4662), tensor(2.6338), tensor(1.7958), tensor(2.9000), tensor(2.8525), tensor(2.8215), tensor(-2.0962), tensor(0.7828), tensor(1.7547), tensor(2.0101), tensor(2.7186), tensor(2.8463), tensor(2.7586), tensor(2.5155), tensor(2.8797), tensor(2.7717), tensor(2.6460), tensor(2.7928), tensor(2.8859), tensor(2.6241), tensor(2.7933), tensor(2.7775), tensor(2.8081), tensor(2.7922), tensor(2.7087), tensor(1.9179), tensor(-2.7091), tensor(1.8555), tensor(1.1618), tensor(1.4817), tensor(2.6344), tensor(2.8666), tensor(2.8362), tensor(2.5356), tensor(2.8188), tensor(2.5989), tensor(2.3590), tensor(2.8909), tensor(2.2799), tensor(0.8636), tensor(2.5926), tensor(0.3247), tensor(1.3125), tensor(1.4199), tensor(-1.4084), tensor(2.4867), tensor(2.7719), tensor(2.5942), tensor(2.5864), tensor(2.6698), tensor(2.6965), tensor(2.4582), tensor(1.5968), tensor(2.3073), tensor(2.5093), tensor(1.7685), tensor(2.5989), tensor(2.7070), tensor(2.7419), tensor(2.4785), tensor(2.8184), tensor(2.3004), tensor(-0.8647), tensor(2.5664), tensor(2.5131), tensor(1.0223), tensor(2.2410), tensor(2.9072), tensor(2.8517), tensor(0.6551), tensor(-0.7362), tensor(2.3482), tensor(2.7714), tensor(2.6988), tensor(2.7824), tensor(1.8783), tensor(2.7807), tensor(2.6449), tensor(1.6403), tensor(2.7236), tensor(2.5554), tensor(1.5741), tensor(2.2937), tensor(2.8656), tensor(2.7863), tensor(2.9017), tensor(1.5075), tensor(1.7937), tensor(2.5908), tensor(2.7081), tensor(2.6442), tensor(2.7757), tensor(-0.2130), tensor(1.6396), tensor(2.3346), tensor(-1.5135), tensor(-1.0255), tensor(2.0554), tensor(2.8645), tensor(2.6001), tensor(2.4259), tensor(2.2512), tensor(2.8833), tensor(2.3128), tensor(1.7927), tensor(2.4169), tensor(2.3905), tensor(0.9123), tensor(2.4557), tensor(2.8607), tensor(2.8896), tensor(0.8401), tensor(2.5733), tensor(1.6669), tensor(2.8647), tensor(2.8584), tensor(2.9396), tensor(2.6788), tensor(2.5346), tensor(2.2113), tensor(2.8002), tensor(2.5496), tensor(-0.6651), tensor(2.7037), tensor(2.7897), tensor(2.1395), tensor(-0.6555), tensor(2.4826), tensor(0.0899), tensor(2.6123), tensor(2.9068), tensor(1.5216), tensor(2.8256), tensor(2.7508), tensor(2.3147), tensor(2.6950), tensor(2.2957), tensor(2.5292), tensor(2.5699), tensor(-1.4370), tensor(2.8922), tensor(2.7959), tensor(2.8291), tensor(2.9032), tensor(2.5809), tensor(0.8791), tensor(-0.9117), tensor(2.8614), tensor(2.6796), tensor(2.8488), tensor(2.2595), tensor(2.9014), tensor(2.1746), tensor(2.6528), tensor(1.7796), tensor(-2.2776), tensor(2.6427), tensor(0.4756), tensor(1.9104), tensor(1.6862), tensor(-0.8039), tensor(2.3032), tensor(2.7031), tensor(2.9407), tensor(1.9291), tensor(2.8505), tensor(2.4498), tensor(2.7495), tensor(2.4324), tensor(2.1519), tensor(0.7983), tensor(2.6273), tensor(2.0404), tensor(2.7606), tensor(2.1461), tensor(1.4453), tensor(2.4785), tensor(2.8143), tensor(2.6820), tensor(1.6248), tensor(2.5765), tensor(2.7847), tensor(1.4225), tensor(2.8535), tensor(2.5066), tensor(2.5368), tensor(1.5978), tensor(2.8247), tensor(2.3335), tensor(1.2852), tensor(1.5563), tensor(2.5705), tensor(1.1660), tensor(1.8355), tensor(1.6548), tensor(2.6428), tensor(-2.2494), tensor(0.4345), tensor(2.8872), tensor(1.4057), tensor(2.2346), tensor(2.2314), tensor(2.8741), tensor(2.1622), tensor(2.8352), tensor(0.9789), tensor(0.3664), tensor(2.5988), tensor(0.8178), tensor(1.5617), tensor(-0.1037), tensor(2.8316)]\n"
     ]
    },
    {
     "name": "stderr",
     "output_type": "stream",
     "text": [
      "62it [2:18:33, 131.99s/it]"
     ]
    },
    {
     "name": "stdout",
     "output_type": "stream",
     "text": [
      "[tensor(1.3819), tensor(2.9195), tensor(1.5426), tensor(2.6531), tensor(2.6584), tensor(1.4015), tensor(2.7430), tensor(0.3875), tensor(2.6572), tensor(0.8648), tensor(2.4424), tensor(1.7760), tensor(1.5353), tensor(2.7001), tensor(2.4314), tensor(2.4493), tensor(0.7931), tensor(1.4992), tensor(1.6919), tensor(2.3561), tensor(2.7734), tensor(2.8509), tensor(1.4822), tensor(2.7553), tensor(2.7352), tensor(1.7895), tensor(1.2585), tensor(2.7196), tensor(2.3281), tensor(2.7456), tensor(2.8833), tensor(-2.1347), tensor(2.1193), tensor(2.6840), tensor(2.5673), tensor(2.7995), tensor(2.5000), tensor(2.4726), tensor(2.4639), tensor(2.8628), tensor(-0.6783), tensor(2.7737), tensor(-0.5347), tensor(-1.2865), tensor(2.7950), tensor(2.5615), tensor(-0.2773), tensor(2.6994), tensor(1.0966), tensor(2.6431), tensor(2.9438), tensor(2.8488), tensor(2.4508), tensor(2.6594), tensor(1.0463), tensor(2.7162), tensor(2.5945), tensor(2.9002), tensor(2.7273), tensor(2.5763), tensor(2.8272), tensor(-0.2958), tensor(2.7628), tensor(2.8840), tensor(2.5658), tensor(0.0141), tensor(-2.7866), tensor(2.8865), tensor(2.5176), tensor(2.5067), tensor(2.7552), tensor(0.6198), tensor(2.4599), tensor(2.2014), tensor(0.7756), tensor(2.6264), tensor(2.8296), tensor(2.8425), tensor(2.8167), tensor(2.6806), tensor(1.6796), tensor(1.7121), tensor(2.4708), tensor(2.2965), tensor(2.6020), tensor(2.8688), tensor(1.7458), tensor(2.9065), tensor(2.8697), tensor(2.7099), tensor(2.1730), tensor(2.7483), tensor(1.2493), tensor(2.7865), tensor(-1.0705), tensor(1.8190), tensor(1.8746), tensor(2.5493), tensor(2.5394), tensor(2.7070), tensor(2.0797), tensor(2.2548), tensor(1.3356), tensor(2.5879), tensor(-1.0574), tensor(1.1444), tensor(2.1997), tensor(-1.0554), tensor(2.8138), tensor(2.5752), tensor(2.5615), tensor(0.1627), tensor(2.8065), tensor(2.3598), tensor(2.5845), tensor(2.4640), tensor(1.0495), tensor(2.7081), tensor(2.3869), tensor(2.4497), tensor(2.2119), tensor(-0.0357), tensor(0.8263), tensor(1.6243), tensor(0.5040), tensor(-1.1099), tensor(2.8093), tensor(2.7285), tensor(-1.7959), tensor(2.4465), tensor(1.3051), tensor(2.8557), tensor(2.8265), tensor(2.7541), tensor(2.1533), tensor(2.9005), tensor(1.1948), tensor(1.9637), tensor(2.4730), tensor(2.4067), tensor(2.6993), tensor(1.8651), tensor(2.4061), tensor(2.7768), tensor(2.5719), tensor(2.7605), tensor(2.4734), tensor(1.4107), tensor(-0.1657), tensor(2.8425), tensor(2.5479), tensor(1.8014), tensor(2.8368), tensor(2.5357), tensor(2.8337), tensor(1.5602), tensor(2.4668), tensor(0.5961), tensor(2.4458), tensor(1.7063), tensor(2.7534), tensor(2.2531), tensor(2.6911), tensor(2.7141), tensor(2.8871), tensor(2.8241), tensor(1.3237), tensor(2.8764), tensor(2.4421), tensor(2.7145), tensor(2.3083), tensor(1.5329), tensor(2.7681), tensor(0.4589), tensor(-2.3091), tensor(0.3625), tensor(2.8732), tensor(2.8128), tensor(2.7653), tensor(2.9279), tensor(2.1692), tensor(2.6203), tensor(1.4012), tensor(0.6141), tensor(2.6403), tensor(-0.1171), tensor(0.9082), tensor(2.8425), tensor(-0.8497), tensor(2.5702), tensor(-0.8119), tensor(-2.6749), tensor(0.2049), tensor(2.5438), tensor(2.8017), tensor(2.7502), tensor(2.8511), tensor(0.9838), tensor(2.7994), tensor(0.7913), tensor(2.8197), tensor(2.7516), tensor(2.3908), tensor(2.7729), tensor(2.5893), tensor(2.6527), tensor(1.9577), tensor(2.7966), tensor(2.1050), tensor(2.8567), tensor(2.7120), tensor(2.2974), tensor(2.4932), tensor(2.7743), tensor(2.7418), tensor(2.1780), tensor(1.8324), tensor(2.8743), tensor(2.4802), tensor(-2.7347), tensor(2.9135), tensor(1.8078), tensor(-0.0629), tensor(2.3149), tensor(1.7294), tensor(-1.4296), tensor(0.9243), tensor(2.5289), tensor(2.8208), tensor(2.9133), tensor(2.6872), tensor(2.6111), tensor(2.6900), tensor(2.9047), tensor(2.2435), tensor(2.5147), tensor(2.8517), tensor(2.6259), tensor(2.7575), tensor(2.7289), tensor(2.8635), tensor(2.7712), tensor(-1.8839), tensor(1.3851), tensor(1.9878), tensor(0.3410), tensor(2.8820), tensor(2.5416), tensor(2.5075), tensor(2.8858), tensor(2.7968), tensor(2.7448), tensor(1.4775), tensor(-0.1929), tensor(2.2207), tensor(2.8007)]\n"
     ]
    },
    {
     "name": "stderr",
     "output_type": "stream",
     "text": [
      "63it [2:21:27, 144.57s/it]"
     ]
    },
    {
     "name": "stdout",
     "output_type": "stream",
     "text": [
      "[tensor(1.4332), tensor(1.9554), tensor(2.5360), tensor(-0.3804), tensor(2.5627), tensor(2.3056), tensor(2.6616), tensor(2.5534), tensor(1.5217), tensor(2.7446), tensor(-0.0892), tensor(2.7430), tensor(-0.2616), tensor(2.3318), tensor(2.8233), tensor(2.6209), tensor(2.5313), tensor(2.8175), tensor(2.9149), tensor(2.3264), tensor(2.5368), tensor(2.7858), tensor(0.0601), tensor(2.1559), tensor(2.2359), tensor(2.5727), tensor(2.4384), tensor(2.7843), tensor(2.8440), tensor(2.5662), tensor(2.0935), tensor(2.7254), tensor(2.3962), tensor(2.8538), tensor(2.8653), tensor(2.8394), tensor(-1.3521), tensor(2.0165), tensor(2.8918), tensor(0.7451), tensor(2.2309), tensor(2.9275), tensor(2.7546), tensor(2.9269), tensor(1.3884), tensor(1.8894), tensor(2.7792), tensor(2.2275), tensor(2.3991), tensor(2.8307), tensor(2.5975), tensor(-1.3942), tensor(2.8420), tensor(-0.1482), tensor(2.3905), tensor(0.1981), tensor(2.7590), tensor(2.8940), tensor(2.6859), tensor(-1.1185), tensor(2.3855), tensor(2.8229), tensor(2.3468), tensor(0.0804), tensor(2.8140), tensor(2.1063), tensor(1.3275), tensor(2.7915), tensor(1.7709), tensor(2.4526), tensor(2.8889), tensor(1.4169), tensor(2.9175), tensor(-1.3575), tensor(2.6861), tensor(2.7954), tensor(2.3500), tensor(2.7055), tensor(1.4763), tensor(2.2863), tensor(1.6560), tensor(-1.3743), tensor(2.6595), tensor(2.8725), tensor(1.1296), tensor(2.7104), tensor(2.8563), tensor(2.6127), tensor(2.6855), tensor(2.6249), tensor(1.8133), tensor(2.3586), tensor(0.5928), tensor(2.5023), tensor(2.4535), tensor(2.4723), tensor(2.6903), tensor(0.8263), tensor(2.8757), tensor(2.7946), tensor(2.6573), tensor(2.8351), tensor(2.5597), tensor(2.6465), tensor(2.8718), tensor(1.6721), tensor(2.7358), tensor(2.3336), tensor(2.8598), tensor(2.7928), tensor(1.8189), tensor(2.9014), tensor(2.7974), tensor(1.2544), tensor(2.8689), tensor(2.3074), tensor(2.8542), tensor(-0.9641), tensor(2.9105), tensor(2.8906), tensor(2.8410), tensor(2.5031), tensor(2.5160), tensor(2.5417), tensor(1.8659), tensor(-1.2348), tensor(1.3860), tensor(2.5967), tensor(2.8525), tensor(-0.9607), tensor(2.6955), tensor(1.0932), tensor(1.9873), tensor(2.7795), tensor(2.7771), tensor(2.2066), tensor(2.4169), tensor(1.9539), tensor(0.8924), tensor(0.4798), tensor(2.1744), tensor(2.5622), tensor(2.8601), tensor(-2.3977), tensor(2.7970), tensor(2.8486), tensor(2.6434), tensor(2.7486), tensor(2.4280), tensor(2.8467), tensor(2.7297), tensor(-0.8273), tensor(2.5692), tensor(2.7225), tensor(2.6305), tensor(2.8615), tensor(2.7348), tensor(2.2027), tensor(1.2430), tensor(2.7560), tensor(2.6764), tensor(2.9086), tensor(2.3876), tensor(2.5046), tensor(2.7419), tensor(2.6462), tensor(1.5877), tensor(2.7328), tensor(-0.2275), tensor(2.7438), tensor(2.2829), tensor(2.6419), tensor(2.6807), tensor(2.1479), tensor(2.8158), tensor(2.6221), tensor(2.8458), tensor(1.0302), tensor(0.5047), tensor(1.2649), tensor(1.8617), tensor(2.5938), tensor(-0.6581), tensor(2.4321), tensor(2.6734), tensor(2.8739), tensor(0.0432), tensor(2.7640), tensor(1.3207), tensor(1.6157), tensor(-0.0882), tensor(2.7861), tensor(-1.5129), tensor(2.5109), tensor(2.7416), tensor(1.7076), tensor(2.7361), tensor(2.6349), tensor(2.7268), tensor(2.2391), tensor(2.8380), tensor(0.8991), tensor(2.6302), tensor(1.8246), tensor(2.5560), tensor(-1.3924), tensor(2.9138), tensor(2.6688), tensor(-0.1683), tensor(0.6886), tensor(2.6915), tensor(2.6167), tensor(2.1107), tensor(2.5137), tensor(2.6836), tensor(2.3939), tensor(2.7328), tensor(0.5833), tensor(2.6955), tensor(2.6668), tensor(2.7853), tensor(2.8501), tensor(0.3094), tensor(2.4582), tensor(2.6661), tensor(2.8917), tensor(2.7474), tensor(2.7359), tensor(2.5740), tensor(2.8578), tensor(2.8260), tensor(2.5452), tensor(2.7457), tensor(0.2591), tensor(2.5289), tensor(1.9048), tensor(2.7889), tensor(2.2493), tensor(2.7747), tensor(2.8769), tensor(2.4538), tensor(0.8987), tensor(2.7520), tensor(1.8617), tensor(2.8272), tensor(2.5247), tensor(0.7238), tensor(1.8161), tensor(0.7908), tensor(1.8456), tensor(2.3054), tensor(2.5205), tensor(2.7587), tensor(2.8507), tensor(0.5998), tensor(-0.1199)]\n"
     ]
    },
    {
     "name": "stderr",
     "output_type": "stream",
     "text": [
      "64it [2:23:46, 142.85s/it]"
     ]
    },
    {
     "name": "stdout",
     "output_type": "stream",
     "text": [
      "[tensor(2.7942), tensor(-1.8363), tensor(2.5816), tensor(2.7503), tensor(2.7925), tensor(2.5819), tensor(2.8892), tensor(2.7989), tensor(2.7851), tensor(2.7548), tensor(2.6300), tensor(2.8769), tensor(2.6257), tensor(2.5104), tensor(2.7352), tensor(1.8577), tensor(2.7574), tensor(-0.1600), tensor(-0.7970), tensor(2.5635), tensor(2.8985), tensor(1.9996), tensor(2.4922), tensor(1.0216), tensor(1.7382), tensor(1.5593), tensor(-0.6512), tensor(2.7590), tensor(1.0690), tensor(0.6071), tensor(2.7179), tensor(2.8835), tensor(2.7017), tensor(2.4526), tensor(1.1821), tensor(-2.1268), tensor(2.8699), tensor(0.1103), tensor(2.8333), tensor(1.7581), tensor(2.6898), tensor(2.7108), tensor(2.6898), tensor(2.4530), tensor(2.7827), tensor(2.7419), tensor(2.4536), tensor(2.7893), tensor(-1.3105), tensor(2.8624), tensor(2.8077), tensor(-0.3847), tensor(2.9310), tensor(2.8043), tensor(1.1456), tensor(2.8789), tensor(2.3318), tensor(2.6203), tensor(2.7898), tensor(2.7617), tensor(-0.2820), tensor(2.1554), tensor(1.3247), tensor(2.6808), tensor(2.5765), tensor(2.1010), tensor(2.3990), tensor(2.3962), tensor(-2.7571), tensor(-0.2998), tensor(2.8846), tensor(2.5632), tensor(2.0915), tensor(2.6228), tensor(-1.0717), tensor(2.7729), tensor(-1.5189), tensor(2.9123), tensor(-2.1380), tensor(2.3854), tensor(2.5876), tensor(-0.8323), tensor(2.8839), tensor(1.9289), tensor(2.7488), tensor(1.7271), tensor(2.8682), tensor(2.8655), tensor(2.6729), tensor(2.7791), tensor(2.8172), tensor(1.8734), tensor(2.1715), tensor(2.7820), tensor(2.5921), tensor(2.6327), tensor(-2.7340), tensor(2.7242), tensor(-0.4353), tensor(1.0711), tensor(1.6775), tensor(1.4742), tensor(-0.5477), tensor(2.6223), tensor(2.8101), tensor(2.7817), tensor(0.0887), tensor(2.8186), tensor(2.7286), tensor(2.7981), tensor(2.8971), tensor(2.7942), tensor(1.2060), tensor(2.7310), tensor(-1.9866), tensor(2.2933), tensor(2.7241), tensor(1.1792), tensor(1.8412), tensor(2.8145), tensor(2.6247), tensor(2.2720), tensor(1.9703), tensor(2.4738), tensor(1.4061), tensor(2.8761), tensor(2.8519), tensor(2.1180), tensor(-1.7246), tensor(2.6346), tensor(2.6707), tensor(2.7231), tensor(-0.9845), tensor(-0.0831), tensor(1.3310), tensor(2.5984), tensor(2.5878), tensor(1.3671), tensor(2.5825), tensor(2.6754), tensor(2.8764), tensor(2.4224), tensor(2.4059), tensor(2.5021), tensor(2.3852), tensor(1.8703), tensor(2.7317), tensor(2.2697), tensor(2.5816), tensor(0.9417), tensor(2.7306), tensor(-0.1140), tensor(-1.0250), tensor(2.5672), tensor(1.8135), tensor(2.1476), tensor(0.4987), tensor(2.3779), tensor(2.3658), tensor(-0.9308), tensor(0.2437), tensor(2.9063), tensor(2.7799), tensor(2.7638), tensor(1.0308), tensor(2.5920), tensor(2.5848), tensor(2.8269), tensor(2.6010), tensor(-1.1498), tensor(0.6262), tensor(2.2774), tensor(0.4836), tensor(-0.8641), tensor(1.7413), tensor(0.4119), tensor(2.7455), tensor(2.8724), tensor(2.6568), tensor(2.5261), tensor(2.8807), tensor(1.5954), tensor(2.6269), tensor(2.8193), tensor(1.7685), tensor(2.5069), tensor(2.7934), tensor(2.1787), tensor(2.3245), tensor(2.8379), tensor(2.8626), tensor(2.3169), tensor(2.8516), tensor(2.6401), tensor(2.7782), tensor(2.7381), tensor(-1.9241), tensor(1.1372), tensor(1.7549), tensor(1.9758), tensor(1.9711), tensor(2.4642), tensor(2.6806), tensor(1.1232), tensor(1.2406), tensor(2.6776), tensor(1.7785), tensor(2.6392), tensor(0.1037), tensor(2.6495), tensor(1.6141), tensor(2.7075), tensor(1.5018), tensor(2.5713), tensor(2.6302), tensor(2.4166), tensor(2.5803), tensor(2.7511), tensor(2.4792), tensor(2.9113), tensor(2.6901), tensor(2.9115), tensor(2.7386), tensor(0.1788), tensor(2.6299), tensor(2.2562), tensor(1.2929), tensor(2.7810), tensor(2.2867), tensor(2.8730), tensor(2.5439), tensor(2.6977), tensor(1.9071), tensor(1.8174), tensor(1.9455), tensor(2.7207), tensor(2.8697), tensor(2.8710), tensor(2.8366), tensor(2.9030), tensor(2.8649), tensor(2.0491), tensor(2.7797), tensor(2.4571), tensor(1.8007), tensor(2.0842), tensor(2.4989), tensor(2.2144), tensor(2.4615), tensor(1.7337), tensor(2.8092), tensor(2.8541), tensor(-2.3107), tensor(2.7470), tensor(2.3247), tensor(2.9097)]\n"
     ]
    },
    {
     "name": "stderr",
     "output_type": "stream",
     "text": [
      "65it [2:25:59, 139.90s/it]"
     ]
    },
    {
     "name": "stdout",
     "output_type": "stream",
     "text": [
      "[tensor(2.7648), tensor(2.9030), tensor(2.7571), tensor(2.5477), tensor(2.6922), tensor(2.5060), tensor(2.6978), tensor(2.8009), tensor(2.7165), tensor(-1.4779), tensor(2.5430), tensor(-0.3307), tensor(0.6207), tensor(2.5759), tensor(2.6812), tensor(-0.9571), tensor(2.6314), tensor(2.8632), tensor(2.4336), tensor(2.5868), tensor(0.3192), tensor(-1.2050), tensor(2.0906), tensor(1.3440), tensor(2.5815), tensor(-1.0908), tensor(2.4610), tensor(1.2923), tensor(2.3711), tensor(2.6694), tensor(-1.7035), tensor(1.0337), tensor(1.8708), tensor(2.6626), tensor(2.4996), tensor(2.2725), tensor(1.8006), tensor(0.9710), tensor(2.8354), tensor(1.3369), tensor(2.8682), tensor(1.2612), tensor(1.7167), tensor(2.8397), tensor(1.8327), tensor(2.8858), tensor(2.5283), tensor(2.4365), tensor(2.7202), tensor(-2.7811), tensor(2.6860), tensor(2.8355), tensor(2.5141), tensor(2.4690), tensor(2.3797), tensor(2.8193), tensor(2.6359), tensor(2.1065), tensor(2.9165), tensor(2.8402), tensor(2.7763), tensor(2.4752), tensor(2.8691), tensor(2.6911), tensor(2.7596), tensor(1.6735), tensor(2.7508), tensor(2.5781), tensor(1.6200), tensor(1.0071), tensor(2.6572), tensor(2.8216), tensor(2.8692), tensor(2.7784), tensor(2.6911), tensor(2.6049), tensor(2.5064), tensor(2.7846), tensor(2.8961), tensor(2.6882), tensor(0.0828), tensor(2.8935), tensor(2.5980), tensor(1.1666), tensor(2.9331), tensor(2.0983), tensor(2.7411), tensor(2.8810), tensor(2.6185), tensor(2.8449), tensor(2.7893), tensor(1.6684), tensor(1.4567), tensor(2.3865), tensor(2.0613), tensor(2.7617), tensor(2.7198), tensor(2.8772), tensor(0.3891), tensor(2.8554), tensor(0.3785), tensor(2.6710), tensor(2.5646), tensor(-1.2846), tensor(2.6384), tensor(2.8786), tensor(2.5333), tensor(-0.9256), tensor(0.1202), tensor(2.7657), tensor(-1.1066), tensor(2.2764), tensor(2.5658), tensor(0.6759), tensor(1.9126), tensor(2.2066), tensor(2.8092), tensor(2.0092), tensor(2.6042), tensor(2.6208), tensor(2.2835), tensor(2.6267), tensor(-2.7008), tensor(2.1317), tensor(1.7423), tensor(2.4439), tensor(2.5971), tensor(2.6771), tensor(2.8487), tensor(2.6534), tensor(1.8879), tensor(2.3674), tensor(-0.8300), tensor(-0.6978), tensor(1.3387), tensor(1.0616), tensor(2.1735), tensor(2.8425), tensor(1.0941), tensor(2.8057), tensor(1.2406), tensor(0.3882), tensor(2.7565), tensor(1.9848), tensor(1.5298), tensor(-0.1207), tensor(2.7157), tensor(2.8552), tensor(2.6540), tensor(2.3140), tensor(-1.0371), tensor(2.3643), tensor(2.5276), tensor(2.8306), tensor(0.8484), tensor(2.8824), tensor(1.1834), tensor(2.6866), tensor(2.5512), tensor(2.7981), tensor(0.5252), tensor(2.2645), tensor(2.4483), tensor(2.7746), tensor(2.7473), tensor(2.4490), tensor(2.7556), tensor(2.6547), tensor(2.8259), tensor(2.8693), tensor(2.4136), tensor(2.3409), tensor(2.2377), tensor(1.1853), tensor(1.2214), tensor(2.7790), tensor(2.4298), tensor(1.5098), tensor(2.8771), tensor(2.8950), tensor(2.9144), tensor(2.6883), tensor(2.7035), tensor(-1.8145), tensor(2.8478), tensor(1.7623), tensor(2.5216), tensor(2.8281), tensor(1.3872), tensor(2.5598), tensor(2.8708), tensor(2.8837), tensor(2.8247), tensor(1.4760), tensor(1.9529), tensor(2.8825), tensor(2.6699), tensor(2.9194), tensor(2.6188), tensor(2.8121), tensor(0.4733), tensor(2.5709), tensor(0.3399), tensor(2.8165), tensor(2.5462), tensor(1.3958), tensor(2.4968), tensor(1.0453), tensor(2.3923), tensor(1.4597), tensor(2.6835), tensor(1.4945), tensor(2.2041), tensor(1.7330), tensor(0.0708), tensor(2.9036), tensor(0.7055), tensor(2.6941), tensor(2.5508), tensor(1.8084), tensor(-0.6510), tensor(2.1889), tensor(2.5886), tensor(2.7493), tensor(2.8197), tensor(2.6476), tensor(-0.3744), tensor(1.2391), tensor(2.4569), tensor(2.3100), tensor(2.8228), tensor(2.4678), tensor(1.7750), tensor(2.8266), tensor(2.7533), tensor(2.2787), tensor(2.7813), tensor(2.3405), tensor(2.6035), tensor(2.4991), tensor(2.9036), tensor(2.0379), tensor(2.0550), tensor(2.8047), tensor(2.3039), tensor(-1.7064), tensor(2.8125), tensor(2.9084), tensor(2.8874), tensor(1.8928), tensor(2.5231), tensor(1.1022), tensor(2.2584), tensor(2.9203), tensor(2.7110), tensor(2.8565)]\n"
     ]
    },
    {
     "name": "stderr",
     "output_type": "stream",
     "text": [
      "66it [2:28:28, 142.66s/it]"
     ]
    },
    {
     "name": "stdout",
     "output_type": "stream",
     "text": [
      "[tensor(2.8101), tensor(2.5516), tensor(1.9996), tensor(2.5047), tensor(2.4834), tensor(0.3880), tensor(2.7509), tensor(1.8851), tensor(-1.0290), tensor(2.7357), tensor(2.7376), tensor(2.8313), tensor(2.7272), tensor(2.8034), tensor(2.6770), tensor(2.7200), tensor(2.7021), tensor(2.6536), tensor(0.8157), tensor(1.7068), tensor(2.1674), tensor(2.7956), tensor(2.8243), tensor(2.2926), tensor(0.9258), tensor(-0.2898), tensor(2.8713), tensor(2.8578), tensor(2.5328), tensor(2.6458), tensor(2.6105), tensor(2.0641), tensor(2.6231), tensor(2.6042), tensor(2.1235), tensor(1.6158), tensor(2.5458), tensor(2.5023), tensor(2.1258), tensor(-2.4600), tensor(2.7680), tensor(2.4152), tensor(2.8464), tensor(2.9143), tensor(1.1939), tensor(2.8322), tensor(2.8692), tensor(2.4479), tensor(2.3050), tensor(2.4495), tensor(2.7236), tensor(2.7116), tensor(-1.7978), tensor(1.8436), tensor(2.3992), tensor(-0.0560), tensor(2.7320), tensor(2.7871), tensor(2.0407), tensor(2.5644), tensor(1.7358), tensor(2.7745), tensor(-0.2657), tensor(2.8467), tensor(2.5805), tensor(-2.6984), tensor(2.6655), tensor(-2.4668), tensor(2.7192), tensor(2.8123), tensor(2.8025), tensor(2.6695), tensor(2.8357), tensor(2.2987), tensor(0.6158), tensor(2.6326), tensor(2.9614), tensor(1.4912), tensor(2.7855), tensor(2.1814), tensor(1.4972), tensor(2.6742), tensor(0.5316), tensor(2.3292), tensor(-2.6795), tensor(-1.4394), tensor(2.8446), tensor(-1.5806), tensor(2.7074), tensor(2.3661), tensor(2.5459), tensor(2.5531), tensor(0.9801), tensor(2.1321), tensor(2.8803), tensor(0.9726), tensor(-1.2310), tensor(2.8933), tensor(2.6552), tensor(2.3751), tensor(2.7285), tensor(2.8136), tensor(2.7650), tensor(2.7676), tensor(2.8930), tensor(2.6680), tensor(0.1146), tensor(1.3292), tensor(2.1440), tensor(2.7269), tensor(2.4383), tensor(2.5502), tensor(2.7486), tensor(-1.1436), tensor(0.0967), tensor(2.8599), tensor(1.8411), tensor(-0.3535), tensor(-0.2787), tensor(2.4862), tensor(2.5500), tensor(0.2837), tensor(-1.1405), tensor(2.4746), tensor(2.7925), tensor(2.6847), tensor(1.0770), tensor(2.9246), tensor(2.8071), tensor(2.0351), tensor(2.6138), tensor(2.5930), tensor(2.6546), tensor(2.8713), tensor(2.5617), tensor(2.8369), tensor(2.5932), tensor(0.6750), tensor(2.8443), tensor(2.6606), tensor(2.7821), tensor(2.4992), tensor(2.7781), tensor(2.7472), tensor(2.6116), tensor(2.2944), tensor(2.5546), tensor(2.1363), tensor(1.3436), tensor(1.9811), tensor(2.7676), tensor(2.6298), tensor(-1.6697), tensor(2.0772), tensor(2.5548), tensor(2.6251), tensor(2.8566), tensor(1.0345), tensor(2.6786), tensor(0.4108), tensor(2.0620), tensor(2.8694), tensor(2.9018), tensor(2.4088), tensor(2.2795), tensor(2.8207), tensor(2.8726), tensor(2.2350), tensor(1.9439), tensor(2.3089), tensor(1.6335), tensor(-0.8608), tensor(2.8990), tensor(2.7102), tensor(-0.9882), tensor(2.3493), tensor(-0.1768), tensor(2.6864), tensor(-0.2814), tensor(2.7822), tensor(2.8284), tensor(2.7295), tensor(2.5571), tensor(2.8624), tensor(2.8417), tensor(2.5549), tensor(2.1462), tensor(2.3286), tensor(2.6125), tensor(-1.1957), tensor(0.9471), tensor(2.7417), tensor(2.7714), tensor(2.9062), tensor(2.8144), tensor(-2.0834), tensor(2.8115), tensor(1.7129), tensor(2.8388), tensor(2.6406), tensor(1.8336), tensor(2.8507), tensor(2.4359), tensor(2.4635), tensor(2.4937), tensor(2.7676), tensor(2.8409), tensor(1.5109), tensor(2.7486), tensor(2.8045), tensor(2.4919), tensor(1.9648), tensor(2.5580), tensor(2.6020), tensor(2.8919), tensor(2.8832), tensor(1.8995), tensor(2.1190), tensor(2.1704), tensor(2.7949), tensor(2.7178), tensor(2.8888), tensor(2.6082), tensor(2.7054), tensor(2.9053), tensor(2.6129), tensor(2.7465), tensor(2.7162), tensor(0.0915), tensor(1.0314), tensor(1.0043), tensor(2.8275), tensor(2.6587), tensor(1.1060), tensor(2.5287), tensor(2.6245), tensor(2.7037), tensor(2.8586), tensor(2.7033), tensor(2.8461), tensor(2.7521), tensor(-1.7322), tensor(1.9063), tensor(-0.1835), tensor(-1.9215), tensor(2.4150), tensor(2.3807), tensor(-0.7319), tensor(1.9694), tensor(2.6744), tensor(2.7672), tensor(2.8580), tensor(2.8540), tensor(2.7223), tensor(2.7513), tensor(2.8385)]\n"
     ]
    },
    {
     "name": "stderr",
     "output_type": "stream",
     "text": [
      "67it [2:31:07, 147.68s/it]"
     ]
    },
    {
     "name": "stdout",
     "output_type": "stream",
     "text": [
      "[tensor(2.8009), tensor(1.8848), tensor(1.2698), tensor(2.5031), tensor(1.1931), tensor(2.8206), tensor(2.8236), tensor(2.8244), tensor(2.8722), tensor(2.4752), tensor(-1.9630), tensor(2.7640), tensor(1.9413), tensor(-1.9234), tensor(0.7083), tensor(2.4043), tensor(-1.5659), tensor(2.7043), tensor(1.6402), tensor(0.1473), tensor(2.7160), tensor(2.1771), tensor(2.8534), tensor(2.6415), tensor(2.5904), tensor(2.9136), tensor(1.5945), tensor(2.4144), tensor(2.6147), tensor(1.3714), tensor(0.9950), tensor(2.2214), tensor(1.5322), tensor(2.3494), tensor(2.8643), tensor(1.6314), tensor(2.5990), tensor(2.3064), tensor(2.3170), tensor(0.9951), tensor(2.3353), tensor(2.7340), tensor(2.6304), tensor(1.5553), tensor(2.8312), tensor(2.5879), tensor(2.2939), tensor(2.7415), tensor(2.1055), tensor(2.5566), tensor(2.7397), tensor(2.9097), tensor(2.6512), tensor(2.4967), tensor(1.8622), tensor(1.9116), tensor(2.2786), tensor(2.2690), tensor(2.8963), tensor(2.5093), tensor(-0.0348), tensor(2.5665), tensor(0.5654), tensor(2.1890), tensor(2.9202), tensor(2.5353), tensor(1.7931), tensor(1.6346), tensor(2.2391), tensor(1.1028), tensor(2.2069), tensor(-0.3027), tensor(1.3051), tensor(-1.2848), tensor(2.7001), tensor(2.1350), tensor(2.7666), tensor(2.6501), tensor(2.6792), tensor(2.7599), tensor(2.1636), tensor(2.8369), tensor(1.7321), tensor(2.5687), tensor(-0.4169), tensor(2.9216), tensor(-0.6064), tensor(2.6399), tensor(-0.0858), tensor(2.2916), tensor(2.7872), tensor(2.8013), tensor(-1.6614), tensor(2.7268), tensor(2.5384), tensor(2.7019), tensor(0.5435), tensor(2.1547), tensor(2.4825), tensor(1.5665), tensor(2.5844), tensor(-0.2050), tensor(2.8918), tensor(2.6762), tensor(2.6533), tensor(2.7628), tensor(2.8677), tensor(2.8828), tensor(2.8818), tensor(1.6376), tensor(1.5261), tensor(2.7228), tensor(1.8429), tensor(2.8271), tensor(2.5978), tensor(2.7772), tensor(2.7788), tensor(2.6364), tensor(2.7921), tensor(2.5418), tensor(2.7139), tensor(2.9159), tensor(2.6903), tensor(2.8390), tensor(2.5779), tensor(2.5991), tensor(2.4409), tensor(0.4647), tensor(1.0345), tensor(2.0001), tensor(2.7395), tensor(2.8556), tensor(-2.4283), tensor(1.9085), tensor(-1.5696), tensor(2.5778), tensor(2.8042), tensor(2.6021), tensor(2.1553), tensor(2.8551), tensor(2.7538), tensor(2.8179), tensor(-0.5155), tensor(1.0891), tensor(2.4196), tensor(0.1910), tensor(2.1283), tensor(2.5473), tensor(2.1899), tensor(2.5912), tensor(2.6162), tensor(2.4938), tensor(1.1988), tensor(2.8647), tensor(2.5216), tensor(1.4817), tensor(2.7723), tensor(2.7497), tensor(2.5837), tensor(2.8119), tensor(2.8658), tensor(2.8061), tensor(2.7907), tensor(2.6546), tensor(2.5845), tensor(2.7902), tensor(1.8927), tensor(1.5940), tensor(2.7052), tensor(2.0641), tensor(2.6853), tensor(2.6206), tensor(2.4304), tensor(2.5298), tensor(2.8542), tensor(2.8058), tensor(1.5154), tensor(2.8295), tensor(1.4936), tensor(2.5978), tensor(2.2909), tensor(2.0028), tensor(1.4199), tensor(2.8491), tensor(1.9444), tensor(2.6866), tensor(-0.4422), tensor(2.4217), tensor(1.3780), tensor(2.5843), tensor(2.7622), tensor(2.7344), tensor(-0.9980), tensor(2.7276), tensor(2.6092), tensor(2.1213), tensor(0.1892), tensor(1.8495), tensor(2.8096), tensor(-1.1498), tensor(2.7764), tensor(2.6464), tensor(2.7872), tensor(-0.7992), tensor(-1.5119), tensor(2.8910), tensor(2.4905), tensor(2.7723), tensor(2.3550), tensor(2.8344), tensor(2.7284), tensor(2.7965), tensor(0.2766), tensor(2.7926), tensor(2.8571), tensor(-1.9679), tensor(2.7122), tensor(2.0692), tensor(2.7328), tensor(2.3181), tensor(2.5109), tensor(1.8051), tensor(2.5947), tensor(1.6860), tensor(2.2321), tensor(2.8704), tensor(2.1263), tensor(0.6362), tensor(0.7853), tensor(1.1628), tensor(2.5785), tensor(0.2224), tensor(0.9177), tensor(-0.9010), tensor(2.4753), tensor(-2.0982), tensor(2.8420), tensor(2.6250), tensor(2.3419), tensor(1.8870), tensor(2.7048), tensor(2.7784), tensor(2.7526), tensor(2.7088), tensor(2.8123), tensor(0.5059), tensor(-0.0548), tensor(2.7549), tensor(1.2284), tensor(0.6478), tensor(0.2039), tensor(2.6741), tensor(2.5374), tensor(2.4400), tensor(2.2824), tensor(2.7432)]\n"
     ]
    },
    {
     "name": "stderr",
     "output_type": "stream",
     "text": [
      "68it [2:33:44, 150.24s/it]"
     ]
    },
    {
     "name": "stdout",
     "output_type": "stream",
     "text": [
      "[tensor(-0.6736), tensor(1.1759), tensor(2.3994), tensor(2.3173), tensor(2.6867), tensor(-0.3874), tensor(-2.8795), tensor(2.7688), tensor(2.5095), tensor(2.7181), tensor(0.8148), tensor(-2.0068), tensor(1.9901), tensor(2.3265), tensor(2.7956), tensor(2.3017), tensor(0.4666), tensor(2.1013), tensor(2.6025), tensor(2.8034), tensor(2.6627), tensor(2.5249), tensor(2.3721), tensor(2.3732), tensor(2.9162), tensor(2.2313), tensor(2.7666), tensor(1.5072), tensor(-0.9055), tensor(2.4852), tensor(2.7990), tensor(2.5221), tensor(-0.0979), tensor(2.1310), tensor(2.4552), tensor(2.7866), tensor(1.9685), tensor(1.2107), tensor(2.9157), tensor(2.8545), tensor(-0.2517), tensor(-0.7867), tensor(2.7724), tensor(2.7512), tensor(2.1805), tensor(2.1584), tensor(2.6673), tensor(2.8227), tensor(2.4175), tensor(2.5563), tensor(-0.7917), tensor(2.7884), tensor(2.6853), tensor(2.6954), tensor(2.4840), tensor(2.3573), tensor(-2.9322), tensor(2.8618), tensor(2.5818), tensor(2.0763), tensor(2.5992), tensor(2.7882), tensor(1.7210), tensor(2.5606), tensor(2.7178), tensor(2.7086), tensor(2.6020), tensor(2.8957), tensor(2.7392), tensor(2.7878), tensor(2.9037), tensor(-0.3420), tensor(2.0014), tensor(2.6982), tensor(2.6792), tensor(2.7944), tensor(0.2325), tensor(2.7473), tensor(2.8390), tensor(-2.1195), tensor(2.6336), tensor(2.4855), tensor(2.6768), tensor(2.1614), tensor(-1.3964), tensor(2.8865), tensor(2.0397), tensor(2.5343), tensor(0.7524), tensor(-0.4464), tensor(2.7636), tensor(2.5577), tensor(2.8314), tensor(2.8184), tensor(2.8414), tensor(0.8877), tensor(0.4926), tensor(2.8931), tensor(2.3702), tensor(-1.2490), tensor(0.5780), tensor(0.9458), tensor(2.5079), tensor(1.4531), tensor(-2.2454), tensor(2.8933), tensor(2.7182), tensor(2.8926), tensor(2.6283), tensor(0.0146), tensor(2.9032), tensor(2.7480), tensor(2.9020), tensor(2.7668), tensor(2.8188), tensor(2.2990), tensor(2.7402), tensor(2.6489), tensor(1.9599), tensor(2.9033), tensor(2.4560), tensor(2.8985), tensor(2.6437), tensor(2.8732), tensor(0.1973), tensor(2.5580), tensor(2.6363), tensor(0.4431), tensor(-0.9497), tensor(2.7430), tensor(2.8580), tensor(2.6478), tensor(2.6124), tensor(2.5803), tensor(2.8332), tensor(2.7233), tensor(1.9866), tensor(2.7908), tensor(2.4286), tensor(-0.0647), tensor(2.7575), tensor(2.4280), tensor(2.8583), tensor(2.6825), tensor(1.5288), tensor(2.6743), tensor(2.0095), tensor(2.3995), tensor(2.2130), tensor(2.7890), tensor(2.6526), tensor(2.5253), tensor(-0.2844), tensor(2.3657), tensor(2.2875), tensor(0.3255), tensor(2.5485), tensor(2.4504), tensor(2.8238), tensor(2.8305), tensor(-2.8011), tensor(2.5392), tensor(2.5901), tensor(2.8161), tensor(1.6983), tensor(2.9130), tensor(1.4378), tensor(2.7980), tensor(2.9527), tensor(2.8228), tensor(1.5128), tensor(2.8859), tensor(1.9353), tensor(2.4419), tensor(2.9176), tensor(2.6569), tensor(2.6278), tensor(1.7434), tensor(2.0873), tensor(1.3077), tensor(2.7295), tensor(2.8379), tensor(2.9004), tensor(2.7399), tensor(1.7919), tensor(2.6851), tensor(2.8473), tensor(1.6741), tensor(2.3612), tensor(2.5432), tensor(2.8082), tensor(1.1967), tensor(1.6232), tensor(2.3774), tensor(2.7438), tensor(2.4657), tensor(1.6141), tensor(-0.1454), tensor(1.3834), tensor(2.5681), tensor(1.8797), tensor(2.7363), tensor(2.8909), tensor(-0.8835), tensor(2.0536), tensor(2.3629), tensor(2.8514), tensor(2.3013), tensor(2.4446), tensor(2.8207), tensor(2.1595), tensor(2.7091), tensor(2.8074), tensor(-1.7164), tensor(2.8030), tensor(2.3322), tensor(2.2844), tensor(2.8454), tensor(2.8081), tensor(1.3856), tensor(2.5026), tensor(1.4806), tensor(2.8036), tensor(-2.3792), tensor(0.9354), tensor(2.5748), tensor(-0.6071), tensor(2.5342), tensor(2.6769), tensor(1.4231), tensor(2.6365), tensor(2.4376), tensor(1.9655), tensor(2.6827), tensor(1.7294), tensor(2.6165), tensor(-0.7065), tensor(2.7026), tensor(2.7976), tensor(2.9152), tensor(2.2906), tensor(2.8692), tensor(-0.7253), tensor(2.8302), tensor(0.4365), tensor(2.2443), tensor(2.7186), tensor(2.6813), tensor(2.5785), tensor(0.3350), tensor(1.5279), tensor(-0.9305), tensor(2.4572), tensor(1.3821), tensor(2.8011), tensor(1.5943)]\n"
     ]
    },
    {
     "name": "stderr",
     "output_type": "stream",
     "text": [
      "69it [2:36:26, 153.73s/it]"
     ]
    },
    {
     "name": "stdout",
     "output_type": "stream",
     "text": [
      "[tensor(2.7420), tensor(2.8900), tensor(2.6221), tensor(2.7141), tensor(2.0481), tensor(2.1993), tensor(1.7695), tensor(2.8171), tensor(2.7615), tensor(2.7982), tensor(2.7869), tensor(2.4355), tensor(2.8843), tensor(2.5735), tensor(-0.3023), tensor(1.3777), tensor(2.8024), tensor(2.3550), tensor(2.7096), tensor(1.8022), tensor(2.7206), tensor(2.2813), tensor(2.5645), tensor(2.8526), tensor(1.8041), tensor(2.7439), tensor(2.3187), tensor(2.6321), tensor(2.5741), tensor(2.1873), tensor(0.1327), tensor(2.2848), tensor(2.6041), tensor(2.5136), tensor(2.7812), tensor(2.8482), tensor(2.2897), tensor(2.8906), tensor(2.7861), tensor(2.2406), tensor(2.7868), tensor(2.6708), tensor(2.8545), tensor(2.4296), tensor(2.7753), tensor(2.4569), tensor(2.3702), tensor(2.1856), tensor(0.9019), tensor(2.0732), tensor(2.9235), tensor(2.7181), tensor(2.6277), tensor(2.8171), tensor(2.8719), tensor(2.6240), tensor(2.6926), tensor(-0.0191), tensor(1.4117), tensor(2.6670), tensor(2.4382), tensor(2.6264), tensor(2.0870), tensor(1.6867), tensor(1.5518), tensor(2.4109), tensor(1.4185), tensor(2.5407), tensor(1.6930), tensor(-2.3122), tensor(2.2497), tensor(2.4881), tensor(1.5543), tensor(2.4073), tensor(2.8256), tensor(2.4376), tensor(1.5042), tensor(2.8001), tensor(2.1774), tensor(2.5152), tensor(-2.3448), tensor(2.5849), tensor(1.9337), tensor(2.4571), tensor(2.7835), tensor(-1.2134), tensor(2.8951), tensor(1.1441), tensor(2.5308), tensor(1.7858), tensor(2.4207), tensor(0.3315), tensor(2.4048), tensor(1.9693), tensor(-0.0591), tensor(2.4659), tensor(2.8527), tensor(2.7625), tensor(2.8319), tensor(2.7801), tensor(1.3871), tensor(2.2930), tensor(1.4021), tensor(2.8725), tensor(2.8394), tensor(2.6416), tensor(0.5861), tensor(2.7960), tensor(1.6724), tensor(1.9641), tensor(2.7721), tensor(2.9080), tensor(1.4922), tensor(2.6580), tensor(1.6982), tensor(2.8645), tensor(0.3793), tensor(2.7544), tensor(2.4241), tensor(2.8851), tensor(2.7798), tensor(2.7268), tensor(1.8434), tensor(2.2962), tensor(2.7588), tensor(2.0072), tensor(2.6787), tensor(2.3675), tensor(2.7199), tensor(-3.0553), tensor(0.1749), tensor(2.6844), tensor(2.7195), tensor(1.6924), tensor(2.6786), tensor(2.2582), tensor(2.6336), tensor(2.3291), tensor(2.7285), tensor(2.8107), tensor(2.8809), tensor(-1.9017), tensor(2.8080), tensor(2.5621), tensor(2.6381), tensor(2.6552), tensor(0.1345), tensor(2.5869), tensor(2.9067), tensor(2.5612), tensor(-2.6353), tensor(2.5967), tensor(0.5427), tensor(2.7456), tensor(1.1323), tensor(2.6949), tensor(1.0549), tensor(2.7315), tensor(2.8547), tensor(2.8113), tensor(0.7344), tensor(2.3789), tensor(2.7951), tensor(2.6525), tensor(0.1592), tensor(2.7450), tensor(1.4166), tensor(-1.0941), tensor(2.4647), tensor(2.6363), tensor(1.4994), tensor(2.7606), tensor(2.6549), tensor(2.3755), tensor(2.7118), tensor(2.6517), tensor(-1.7469), tensor(2.7815), tensor(-0.7302), tensor(-1.4593), tensor(2.8620), tensor(2.4608), tensor(2.3629), tensor(2.1468), tensor(2.8152), tensor(2.6773), tensor(1.6934), tensor(2.5615), tensor(2.7611), tensor(0.5624), tensor(-1.4360), tensor(2.6409), tensor(2.8137), tensor(1.0929), tensor(2.6549), tensor(2.8624), tensor(1.1567), tensor(2.4979), tensor(2.0665), tensor(1.8502), tensor(-2.8603), tensor(2.6841), tensor(2.6907), tensor(0.0857), tensor(2.6034), tensor(2.6207), tensor(0.6316), tensor(1.9563), tensor(1.8809), tensor(2.4207), tensor(2.1673), tensor(2.7168), tensor(0.3191), tensor(2.8175), tensor(1.2659), tensor(1.6008), tensor(2.5388), tensor(2.5314), tensor(2.8697), tensor(1.1449), tensor(2.0022), tensor(1.7602), tensor(0.3935), tensor(2.5353), tensor(2.7392), tensor(2.3951), tensor(2.8091), tensor(2.5212), tensor(-0.6067), tensor(-2.2776), tensor(2.8719), tensor(1.7441), tensor(1.1965), tensor(2.7470), tensor(2.7997), tensor(2.7293), tensor(1.3738), tensor(2.1851), tensor(2.7783), tensor(-1.7369), tensor(2.5121), tensor(2.3884), tensor(-1.6028), tensor(-0.4906), tensor(2.3273), tensor(2.8285), tensor(2.6106), tensor(2.6740), tensor(2.4853), tensor(0.5576), tensor(-1.2748), tensor(-0.8471), tensor(2.6181), tensor(2.6092), tensor(2.4514), tensor(1.8570)]\n"
     ]
    },
    {
     "name": "stderr",
     "output_type": "stream",
     "text": [
      "70it [2:38:47, 150.08s/it]"
     ]
    },
    {
     "name": "stdout",
     "output_type": "stream",
     "text": [
      "[tensor(2.5859), tensor(2.2783), tensor(1.9451), tensor(2.7599), tensor(-0.8022), tensor(2.2766), tensor(2.6458), tensor(2.6105), tensor(2.7499), tensor(2.4413), tensor(2.5662), tensor(2.5511), tensor(2.1473), tensor(2.5658), tensor(2.3895), tensor(2.2100), tensor(2.6178), tensor(1.8208), tensor(2.0328), tensor(2.6069), tensor(0.9749), tensor(2.8847), tensor(2.8539), tensor(-0.4059), tensor(-2.5246), tensor(1.4578), tensor(2.2715), tensor(0.5532), tensor(2.6684), tensor(2.3524), tensor(2.8591), tensor(1.2866), tensor(2.8230), tensor(2.6240), tensor(2.6825), tensor(2.4784), tensor(2.7533), tensor(2.5014), tensor(0.6445), tensor(2.7486), tensor(2.8017), tensor(-1.3393), tensor(2.6596), tensor(0.7120), tensor(-1.5801), tensor(2.6225), tensor(1.9588), tensor(-2.8135), tensor(2.8495), tensor(2.8337), tensor(0.4537), tensor(2.6480), tensor(2.5305), tensor(2.9080), tensor(2.8079), tensor(2.8068), tensor(2.8480), tensor(2.5084), tensor(2.1555), tensor(2.1760), tensor(2.5874), tensor(2.5479), tensor(2.2898), tensor(2.4160), tensor(2.2678), tensor(-0.6216), tensor(2.5693), tensor(2.6249), tensor(2.8990), tensor(2.6316), tensor(-0.3569), tensor(2.8013), tensor(2.7136), tensor(2.8377), tensor(2.8422), tensor(2.7696), tensor(2.2632), tensor(1.8614), tensor(2.7879), tensor(2.7903), tensor(-1.9234), tensor(2.7853), tensor(2.5811), tensor(-2.5584), tensor(2.6818), tensor(2.8243), tensor(2.3479), tensor(2.8996), tensor(0.6376), tensor(2.0026), tensor(2.3731), tensor(2.7821), tensor(1.7622), tensor(2.6571), tensor(2.7081), tensor(2.5942), tensor(2.8765), tensor(2.8510), tensor(2.3140), tensor(2.5080), tensor(2.1983), tensor(2.6678), tensor(2.2498), tensor(2.0188), tensor(-2.6845), tensor(2.5853), tensor(-2.7222), tensor(2.7177), tensor(-0.6999), tensor(0.3106), tensor(2.8204), tensor(2.6942), tensor(2.7760), tensor(2.8256), tensor(2.6993), tensor(2.9070), tensor(2.1579), tensor(2.8522), tensor(2.8335), tensor(-0.2162), tensor(2.6976), tensor(2.3733), tensor(2.4881), tensor(2.6784), tensor(2.8658), tensor(2.9026), tensor(1.6993), tensor(0.6933), tensor(2.3852), tensor(-2.9944), tensor(2.3056), tensor(1.7630), tensor(2.7278), tensor(2.8581), tensor(2.5112), tensor(2.8783), tensor(2.0752), tensor(2.9048), tensor(2.2096), tensor(2.6003), tensor(-1.1166), tensor(2.2675), tensor(2.1420), tensor(2.8932), tensor(2.3434), tensor(2.8278), tensor(2.7833), tensor(1.0098), tensor(2.8426), tensor(2.7631), tensor(2.4935), tensor(1.3732), tensor(2.7421), tensor(2.7977), tensor(2.7856), tensor(2.7116), tensor(2.6175), tensor(2.9117), tensor(2.8949), tensor(2.8115), tensor(2.7462), tensor(2.8934), tensor(2.7073), tensor(2.8176), tensor(1.4311), tensor(2.9088), tensor(2.6789), tensor(2.3855), tensor(2.8850), tensor(-3.0611), tensor(2.5333), tensor(2.1714), tensor(2.4752), tensor(0.5004), tensor(2.7415), tensor(1.1612), tensor(2.8325), tensor(2.7881), tensor(2.5249), tensor(-0.6859), tensor(2.7016), tensor(0.0470), tensor(2.8327), tensor(2.8575), tensor(2.4529), tensor(0.1167), tensor(2.6806), tensor(1.1106), tensor(2.7172), tensor(1.9910), tensor(2.8173), tensor(2.5357), tensor(0.6397), tensor(1.2034), tensor(1.5332), tensor(1.3639), tensor(2.5480), tensor(2.6557), tensor(2.7858), tensor(2.7251), tensor(-2.6128), tensor(0.6938), tensor(2.7853), tensor(2.7771), tensor(2.7129), tensor(2.8674), tensor(2.3916), tensor(0.9669), tensor(2.8176), tensor(-2.4815), tensor(2.6554), tensor(2.5631), tensor(2.6609), tensor(2.8260), tensor(1.4693), tensor(2.6505), tensor(2.7830), tensor(-1.1771), tensor(1.8473), tensor(2.6188), tensor(2.7579), tensor(2.4461), tensor(2.8566), tensor(2.3725), tensor(2.7652), tensor(2.7572), tensor(2.5729), tensor(-1.3126), tensor(-0.2551), tensor(2.3535), tensor(2.9017), tensor(0.4955), tensor(1.9178), tensor(2.6903), tensor(2.1897), tensor(2.3657), tensor(1.1797), tensor(1.4492), tensor(1.1126), tensor(2.7928), tensor(2.1144), tensor(2.6769), tensor(-1.6698), tensor(2.9132), tensor(2.2053), tensor(2.8015), tensor(1.2157), tensor(2.3152), tensor(2.7220), tensor(2.8372), tensor(1.5326), tensor(2.7454), tensor(2.8963), tensor(0.9763), tensor(2.6532), tensor(2.4460)]\n"
     ]
    },
    {
     "name": "stderr",
     "output_type": "stream",
     "text": [
      "71it [2:41:01, 145.28s/it]"
     ]
    },
    {
     "name": "stdout",
     "output_type": "stream",
     "text": [
      "[tensor(2.0098), tensor(2.7417), tensor(2.5339), tensor(2.5625), tensor(1.1562), tensor(2.6632), tensor(2.2337), tensor(-0.5266), tensor(2.8749), tensor(2.7127), tensor(2.7081), tensor(2.7736), tensor(2.4437), tensor(-0.3596), tensor(2.0883), tensor(2.4557), tensor(2.6320), tensor(2.6928), tensor(0.4603), tensor(-1.4238), tensor(2.8114), tensor(2.7056), tensor(2.8933), tensor(1.9449), tensor(1.3754), tensor(2.8271), tensor(2.1520), tensor(2.5348), tensor(2.7621), tensor(2.7451), tensor(2.8326), tensor(2.6701), tensor(2.6719), tensor(2.7861), tensor(1.5178), tensor(2.8739), tensor(2.4832), tensor(1.8801), tensor(0.6066), tensor(2.0928), tensor(1.7165), tensor(-2.2921), tensor(2.8321), tensor(-1.0157), tensor(2.8295), tensor(2.7115), tensor(-2.8862), tensor(2.8770), tensor(2.3184), tensor(2.8252), tensor(0.8411), tensor(0.4814), tensor(2.4015), tensor(2.5625), tensor(2.6886), tensor(1.6736), tensor(2.9068), tensor(2.6710), tensor(2.6223), tensor(2.4768), tensor(2.8868), tensor(2.6164), tensor(2.7840), tensor(1.9747), tensor(2.2089), tensor(1.9886), tensor(0.4231), tensor(2.0718), tensor(2.7309), tensor(0.4371), tensor(2.7267), tensor(1.0157), tensor(2.1158), tensor(2.6910), tensor(2.0301), tensor(0.7544), tensor(2.8601), tensor(2.9021), tensor(2.8688), tensor(2.3215), tensor(2.6467), tensor(2.9133), tensor(2.4749), tensor(-0.1700), tensor(2.6561), tensor(0.8770), tensor(2.2640), tensor(2.8170), tensor(2.5688), tensor(2.7135), tensor(1.9670), tensor(2.5557), tensor(2.7760), tensor(1.4554), tensor(2.4983), tensor(2.7708), tensor(2.5533), tensor(2.6904), tensor(2.5194), tensor(1.8156), tensor(2.5511), tensor(2.5849), tensor(2.2187), tensor(2.4998), tensor(1.9683), tensor(-1.9018), tensor(2.6195), tensor(2.6326), tensor(-0.0754), tensor(2.0363), tensor(2.7721), tensor(-1.5052), tensor(2.7268), tensor(0.9258), tensor(2.2846), tensor(2.8183), tensor(2.4497), tensor(2.8499), tensor(2.2809), tensor(2.6743), tensor(2.6814), tensor(2.7112), tensor(1.1813), tensor(2.8071), tensor(2.6323), tensor(2.7329), tensor(2.6185), tensor(2.7114), tensor(1.3009), tensor(2.3700), tensor(2.8870), tensor(2.8751), tensor(2.1773), tensor(1.0978), tensor(2.5179), tensor(2.7627), tensor(2.5977), tensor(0.6033), tensor(2.7395), tensor(2.6148), tensor(2.8081), tensor(2.8161), tensor(1.8257), tensor(2.5846), tensor(1.2017), tensor(2.8647), tensor(-0.6793), tensor(1.1881), tensor(2.3508), tensor(1.8377), tensor(-2.0687), tensor(2.5776), tensor(2.8247), tensor(2.3744), tensor(2.6160), tensor(2.7344), tensor(0.2843), tensor(2.7732), tensor(2.8678), tensor(1.5538), tensor(2.6375), tensor(1.3956), tensor(2.7337), tensor(-1.0236), tensor(2.5499), tensor(1.6107), tensor(2.8438), tensor(-0.9070), tensor(2.7836), tensor(2.3039), tensor(2.8331), tensor(2.0559), tensor(2.1338), tensor(-2.6198), tensor(2.9085), tensor(2.8826), tensor(1.8530), tensor(2.7340), tensor(2.9265), tensor(1.2457), tensor(2.3097), tensor(2.7731), tensor(2.8747), tensor(2.8382), tensor(0.9521), tensor(2.6453), tensor(2.6384), tensor(1.7165), tensor(2.8783), tensor(1.3858), tensor(-1.8936), tensor(2.6312), tensor(2.0408), tensor(2.5658), tensor(-2.0146), tensor(2.8314), tensor(1.4539), tensor(2.6193), tensor(2.8402), tensor(2.8931), tensor(2.6432), tensor(2.6462), tensor(2.8757), tensor(1.5301), tensor(2.8230), tensor(2.7982), tensor(-0.8950), tensor(2.6956), tensor(0.3554), tensor(-2.2815), tensor(0.6044), tensor(-0.0257), tensor(2.6796), tensor(2.8957), tensor(2.5259), tensor(2.8983), tensor(-1.0562), tensor(2.2548), tensor(0.0788), tensor(-0.0506), tensor(-0.2702), tensor(1.2537), tensor(2.6280), tensor(2.7444), tensor(2.4839), tensor(2.6968), tensor(1.2146), tensor(2.5557), tensor(2.3749), tensor(2.5250), tensor(2.7716), tensor(2.5282), tensor(1.4958), tensor(2.1852), tensor(2.7762), tensor(2.2933), tensor(2.2338), tensor(2.8726), tensor(2.7325), tensor(-0.0424), tensor(2.6965), tensor(2.1120), tensor(1.6121), tensor(2.7475), tensor(0.8576), tensor(2.4981), tensor(2.8829), tensor(0.0495), tensor(2.7137), tensor(2.6980), tensor(2.5472), tensor(2.5196), tensor(2.4937), tensor(2.4558), tensor(2.4332), tensor(1.4656)]\n"
     ]
    },
    {
     "name": "stderr",
     "output_type": "stream",
     "text": [
      "72it [2:43:00, 137.46s/it]"
     ]
    },
    {
     "name": "stdout",
     "output_type": "stream",
     "text": [
      "[tensor(-0.1584), tensor(2.8067), tensor(2.8177), tensor(2.7576), tensor(2.6558), tensor(1.8963), tensor(2.6550), tensor(2.4918), tensor(2.2393), tensor(2.7099), tensor(2.2789), tensor(2.6742), tensor(1.5950), tensor(-1.0738), tensor(2.8290), tensor(2.8611), tensor(-0.8457), tensor(-1.1805), tensor(2.4079), tensor(2.6098), tensor(0.7579), tensor(2.8198), tensor(-1.0484), tensor(0.5761), tensor(1.9413), tensor(2.7647), tensor(1.6279), tensor(2.0910), tensor(1.0541), tensor(2.0114), tensor(2.7490), tensor(2.7836), tensor(1.6775), tensor(2.4321), tensor(2.3385), tensor(1.9295), tensor(1.2601), tensor(1.5545), tensor(2.3841), tensor(2.2940), tensor(2.8947), tensor(2.7453), tensor(2.7763), tensor(2.7415), tensor(2.6808), tensor(2.8715), tensor(2.4950), tensor(2.7666), tensor(1.7497), tensor(2.6625), tensor(2.4017), tensor(2.3951), tensor(2.7671), tensor(0.7932), tensor(2.5800), tensor(-1.2889), tensor(2.2976), tensor(2.7865), tensor(2.6245), tensor(2.9365), tensor(2.6230), tensor(2.7003), tensor(1.1704), tensor(2.5987), tensor(2.7781), tensor(2.0984), tensor(2.9135), tensor(2.7194), tensor(0.4683), tensor(2.8892), tensor(-2.4585), tensor(2.8720), tensor(0.1225), tensor(2.2718), tensor(2.7861), tensor(2.7170), tensor(2.5097), tensor(1.3275), tensor(2.6919), tensor(2.8092), tensor(-0.1658), tensor(0.8827), tensor(2.9051), tensor(2.8817), tensor(2.6476), tensor(2.2975), tensor(2.6577), tensor(2.7325), tensor(1.7302), tensor(2.8154), tensor(0.1972), tensor(2.1112), tensor(2.5695), tensor(2.8248), tensor(1.4785), tensor(-0.9393), tensor(2.6903), tensor(2.6691), tensor(2.7638), tensor(1.8368), tensor(2.6623), tensor(1.8999), tensor(2.8627), tensor(2.8096), tensor(-2.5808), tensor(2.3271), tensor(2.4812), tensor(2.7093), tensor(2.2962), tensor(2.6776), tensor(2.6786), tensor(0.9680), tensor(2.6396), tensor(1.8121), tensor(-0.6666), tensor(2.8883), tensor(2.8916), tensor(1.8049), tensor(2.6771), tensor(2.7593), tensor(2.7928), tensor(2.9066), tensor(2.8439), tensor(2.7585), tensor(2.4165), tensor(2.9449), tensor(2.4297), tensor(2.2424), tensor(2.9211), tensor(0.9452), tensor(-0.6614), tensor(1.0306), tensor(2.3457), tensor(2.8608), tensor(2.4929), tensor(0.7667), tensor(1.9285), tensor(2.2723), tensor(2.7680), tensor(1.8937), tensor(2.5903), tensor(2.4197), tensor(-0.4795), tensor(-0.3740), tensor(1.6407), tensor(2.8358), tensor(2.1092), tensor(2.1147), tensor(0.5302), tensor(2.7563), tensor(2.8454), tensor(1.1857), tensor(0.2961), tensor(2.0616), tensor(-0.5227), tensor(1.2117), tensor(2.8294), tensor(1.9628), tensor(2.4876), tensor(1.8476), tensor(2.6538), tensor(1.6653), tensor(2.5418), tensor(2.7622), tensor(2.5730), tensor(2.7138), tensor(2.8236), tensor(1.1037), tensor(2.7957), tensor(2.2152), tensor(2.6505), tensor(2.7866), tensor(2.7995), tensor(2.7493), tensor(0.5951), tensor(-0.1628), tensor(2.7548), tensor(2.8773), tensor(2.7376), tensor(2.5686), tensor(2.6870), tensor(2.7992), tensor(2.7041), tensor(2.6822), tensor(-1.8909), tensor(2.4002), tensor(2.6042), tensor(-0.7238), tensor(2.8245), tensor(2.8590), tensor(2.2797), tensor(2.8759), tensor(1.5942), tensor(1.3578), tensor(2.7862), tensor(1.5478), tensor(1.8162), tensor(2.8932), tensor(2.8555), tensor(1.5981), tensor(2.8327), tensor(0.4499), tensor(2.6260), tensor(2.7640), tensor(2.8060), tensor(1.2022), tensor(1.8742), tensor(2.8557), tensor(-2.3732), tensor(2.8021), tensor(2.7920), tensor(2.3315), tensor(1.7390), tensor(2.3309), tensor(2.3865), tensor(1.9647), tensor(2.2083), tensor(1.1195), tensor(2.2906), tensor(1.7832), tensor(2.9050), tensor(1.5729), tensor(1.1046), tensor(2.5342), tensor(2.5194), tensor(1.9780), tensor(2.7760), tensor(-0.1534), tensor(1.2627), tensor(2.7511), tensor(2.6996), tensor(2.4244), tensor(2.7147), tensor(2.1662), tensor(-1.6192), tensor(0.8501), tensor(2.6140), tensor(2.9098), tensor(-0.5524), tensor(-0.5469), tensor(2.1384), tensor(-1.0623), tensor(2.3029), tensor(2.6793), tensor(1.2895), tensor(2.7303), tensor(2.5235), tensor(2.3850), tensor(2.6409), tensor(2.5955), tensor(0.7207), tensor(2.8939), tensor(2.8854), tensor(2.8093), tensor(0.4581), tensor(2.4879)]\n"
     ]
    },
    {
     "name": "stderr",
     "output_type": "stream",
     "text": [
      "73it [2:45:21, 138.40s/it]"
     ]
    }
   ],
   "source": [
    "import numpy as np\n",
    "output_min_length = 4\n",
    "output_max_length = 16\n",
    "output_length_sampler = LengthSampler(output_min_length, output_max_length)\n",
    "#output_length_sampler() #4-16随机\n",
    "\n",
    "for epoch, batch in tqdm(enumerate(ppo_trainer.dataloader)):\n",
    "    logs, timing = dict(), dict()\n",
    "    t0 = time.time()\n",
    "\n",
    "    query_tensors = batch['input_ids']\n",
    "    \n",
    "    model.gradient_checkpointing_disable()\n",
    "    model.pretrained_model.config.use_cache = True\n",
    "    \n",
    "    #### Get response from gpt2\n",
    "    t = time.time()\n",
    "    response_tensors = []\n",
    "    for query in query_tensors:\n",
    "        gen_len = output_length_sampler()\n",
    "        generation_kwargs[\"max_new_tokens\"] = gen_len\n",
    "        response = ppo_trainer.generate(query, **generation_kwargs)\n",
    "        response_tensors.append(response.squeeze()[-gen_len:])\n",
    "    batch['response'] = [tokenizer.decode(r.squeeze()) for r in response_tensors]\n",
    "    timing['time/get_response'] = time.time() - t\n",
    "\n",
    "    #### Compute sentiment score\n",
    "    t = time.time()\n",
    "    texts = [q + r for q,r in zip(batch['query'], batch['response'])]\n",
    "    pipe_outputs = sentiment_pipe(texts, **sent_kwargs)\n",
    "    rewards = [torch.tensor(output[1][\"score\"]) for output in pipe_outputs] \n",
    "    # print(rewards)\n",
    "    #若一个prompt目前是negative,它的positive score是-0.5，那么加到奖励里面，相当于让它少学这个\n",
    "    timing['time/get_sentiment_preds'] = time.time()-t\n",
    "    \n",
    "    model.gradient_checkpointing_enable()\n",
    "    model.pretrained_model.config.use_cache = False\n",
    "    \n",
    "    #### Run PPO step \n",
    "    t = time.time()\n",
    "    stats = ppo_trainer.step(query_tensors, response_tensors, rewards)\n",
    "    timing['time/PPOoptimization'] = time.time()-t\n",
    "    \n",
    "    # ppo_trainer.log_stats(stats, batch, rewards)\n",
    "    if not isinstance(rewards, torch.Tensor):\n",
    "        rewards = torch.tensor(rewards).to(device)\n",
    "\n",
    "\n",
    "    #### Log everything\n",
    "    timing['time/epoch'] = time.time()-t0\n",
    "    table_rows = [list(r) for r in zip(batch['query'], batch['response'], rewards.cpu().tolist())]\n",
    "    logs.update({'game_log': wandb.Table(columns=['query', 'response', 'reward'], rows=table_rows)})\n",
    "    logs.update(timing)\n",
    "    logs.update(stats)\n",
    "    logs[\"env/reward_mean\"] = torch.mean(rewards).cpu().numpy().item()\n",
    "    logs[\"env/reward_std\"] = torch.std(rewards).cpu().numpy().item()\n",
    "    logs[\"env/reward_dist\"] = rewards.cpu().numpy()\n",
    "    wandb.log(logs)\n"
   ]
  }
 ],
 "metadata": {
  "kernelspec": {
   "display_name": "base",
   "language": "python",
   "name": "python3"
  },
  "language_info": {
   "codemirror_mode": {
    "name": "ipython",
    "version": 3
   },
   "file_extension": ".py",
   "mimetype": "text/x-python",
   "name": "python",
   "nbconvert_exporter": "python",
   "pygments_lexer": "ipython3",
   "version": "3.10.9"
  },
  "orig_nbformat": 4
 },
 "nbformat": 4,
 "nbformat_minor": 2
}
